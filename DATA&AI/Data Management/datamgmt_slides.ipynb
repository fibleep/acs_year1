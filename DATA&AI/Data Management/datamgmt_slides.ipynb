{
 "cells": [
  {
   "cell_type": "code",
   "execution_count": 2,
   "metadata": {
    "collapsed": true
   },
   "outputs": [
    {
     "data": {
      "text/plain": "   id   length  weight\n0   1      173    70.1\n1   2      174    60.3\n2   3      175    57.0\n3   4  Missing    60.0",
      "text/html": "<div>\n<style scoped>\n    .dataframe tbody tr th:only-of-type {\n        vertical-align: middle;\n    }\n\n    .dataframe tbody tr th {\n        vertical-align: top;\n    }\n\n    .dataframe thead th {\n        text-align: right;\n    }\n</style>\n<table border=\"1\" class=\"dataframe\">\n  <thead>\n    <tr style=\"text-align: right;\">\n      <th></th>\n      <th>id</th>\n      <th>length</th>\n      <th>weight</th>\n    </tr>\n  </thead>\n  <tbody>\n    <tr>\n      <th>0</th>\n      <td>1</td>\n      <td>173</td>\n      <td>70.1</td>\n    </tr>\n    <tr>\n      <th>1</th>\n      <td>2</td>\n      <td>174</td>\n      <td>60.3</td>\n    </tr>\n    <tr>\n      <th>2</th>\n      <td>3</td>\n      <td>175</td>\n      <td>57.0</td>\n    </tr>\n    <tr>\n      <th>3</th>\n      <td>4</td>\n      <td>Missing</td>\n      <td>60.0</td>\n    </tr>\n  </tbody>\n</table>\n</div>"
     },
     "execution_count": 2,
     "metadata": {},
     "output_type": "execute_result"
    }
   ],
   "source": [
    "import pandas as pd\n",
    "dfA = pd.read_csv('errorFile3.csv',sep=';')\n",
    "dfA"
   ]
  },
  {
   "cell_type": "code",
   "execution_count": 8,
   "outputs": [
    {
     "name": "stdout",
     "output_type": "stream",
     "text": [
      "  id             Slogan\n",
      "0  1        One for all\n",
      "1  2        All for one\n",
      "2  3       Yes, we can!\n",
      "3  4  Bro's Before Ho's\n",
      "4  5        Wait for it\n"
     ]
    },
    {
     "name": "stderr",
     "output_type": "stream",
     "text": [
      "C:\\Users\\filip\\AppData\\Local\\Temp\\ipykernel_15648\\2105608061.py:14: FutureWarning: The frame.append method is deprecated and will be removed from pandas in a future version. Use pandas.concat instead.\n",
      "  dfB=dfB.append(newRow,ignore_index = True)\n",
      "C:\\Users\\filip\\AppData\\Local\\Temp\\ipykernel_15648\\2105608061.py:14: FutureWarning: The frame.append method is deprecated and will be removed from pandas in a future version. Use pandas.concat instead.\n",
      "  dfB=dfB.append(newRow,ignore_index = True)\n",
      "C:\\Users\\filip\\AppData\\Local\\Temp\\ipykernel_15648\\2105608061.py:11: FutureWarning: The frame.append method is deprecated and will be removed from pandas in a future version. Use pandas.concat instead.\n",
      "  dfB=dfB.append(newRow,ignore_index=True)\n",
      "C:\\Users\\filip\\AppData\\Local\\Temp\\ipykernel_15648\\2105608061.py:14: FutureWarning: The frame.append method is deprecated and will be removed from pandas in a future version. Use pandas.concat instead.\n",
      "  dfB=dfB.append(newRow,ignore_index = True)\n",
      "C:\\Users\\filip\\AppData\\Local\\Temp\\ipykernel_15648\\2105608061.py:14: FutureWarning: The frame.append method is deprecated and will be removed from pandas in a future version. Use pandas.concat instead.\n",
      "  dfB=dfB.append(newRow,ignore_index = True)\n"
     ]
    }
   ],
   "source": [
    "import csv\n",
    "fields = []\n",
    "rows = []\n",
    "with open('errorFile1.csv',newline='') as csvfile:\n",
    "    data = csv.reader(csvfile,delimiter=',')\n",
    "    fields = next(data)\n",
    "    dfB = pd.DataFrame(columns=[fields[0],fields[1]])\n",
    "    for rows in data:\n",
    "        if len(rows)>2:\n",
    "            newRow = {fields[0]:rows[0],fields[1]:rows[1]+','+rows[2]}\n",
    "            dfB=dfB.append(newRow,ignore_index=True)\n",
    "        else:\n",
    "            newRow={fields[0]:rows[0],fields[1]:rows[1]}\n",
    "            dfB=dfB.append(newRow,ignore_index = True)\n",
    "    print(dfB)"
   ],
   "metadata": {
    "collapsed": false,
    "pycharm": {
     "name": "#%%\n"
    }
   }
  },
  {
   "cell_type": "code",
   "execution_count": 11,
   "outputs": [
    {
     "data": {
      "text/plain": "id          int64\nlength     object\nweight    float64\ndtype: object"
     },
     "execution_count": 11,
     "metadata": {},
     "output_type": "execute_result"
    }
   ],
   "source": [
    "dfC = pd.read_csv('errorFile2.csv',sep=';')\n",
    "dfC"
   ],
   "metadata": {
    "collapsed": false,
    "pycharm": {
     "name": "#%%\n"
    }
   }
  },
  {
   "cell_type": "code",
   "execution_count": 12,
   "outputs": [
    {
     "data": {
      "text/plain": "id          int64\nlength     object\nweight    float64\ndtype: object"
     },
     "execution_count": 12,
     "metadata": {},
     "output_type": "execute_result"
    }
   ],
   "source": [
    "dfC.dtypes"
   ],
   "metadata": {
    "collapsed": false,
    "pycharm": {
     "name": "#%%\n"
    }
   }
  },
  {
   "cell_type": "code",
   "execution_count": null,
   "outputs": [],
   "source": [],
   "metadata": {
    "collapsed": false,
    "pycharm": {
     "name": "#%%\n"
    }
   }
  }
 ],
 "metadata": {
  "kernelspec": {
   "display_name": "Python 3",
   "language": "python",
   "name": "python3"
  },
  "language_info": {
   "codemirror_mode": {
    "name": "ipython",
    "version": 2
   },
   "file_extension": ".py",
   "mimetype": "text/x-python",
   "name": "python",
   "nbconvert_exporter": "python",
   "pygments_lexer": "ipython2",
   "version": "2.7.6"
  }
 },
 "nbformat": 4,
 "nbformat_minor": 0
}