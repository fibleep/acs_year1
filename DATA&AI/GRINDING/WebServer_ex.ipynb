{
 "cells": [
  {
   "cell_type": "code",
   "execution_count": 27,
   "metadata": {
    "collapsed": true
   },
   "outputs": [
    {
     "name": "stderr",
     "output_type": "stream",
     "text": [
      "C:\\Users\\filip\\AppData\\Local\\Temp\\ipykernel_27488\\3703492191.py:2: FutureWarning: The error_bad_lines argument has been deprecated and will be removed in a future version. Use on_bad_lines in the future.\n",
      "\n",
      "\n",
      "  web = pd.read_csv('UofS_access_log.csv', header=None, sep=\" \", error_bad_lines=False,encoding_errors='ignore', engine='python',decimal='.')\n",
      "Skipping line 990900: ' ' expected after '\"'\n",
      "Skipping line 993113: ' ' expected after '\"'\n"
     ]
    },
    {
     "data": {
      "text/plain": "                                   0  1  2                      3       4  \\\n0                       202.32.92.47  -  -  [01/Jun/1995:00:00:59  -0600]   \n1            ix-or7-27.ix.netcom.com  -  -  [01/Jun/1995:00:02:51  -0600]   \n2                    ram0.huji.ac.il  -  -  [01/Jun/1995:00:05:44  -0600]   \n3              eagle40.sasknet.sk.ca  -  -  [01/Jun/1995:00:08:06  -0600]   \n4              eagle40.sasknet.sk.ca  -  -  [01/Jun/1995:00:08:19  -0600]   \n...                              ... .. ..                    ...     ...   \n2408618  ix-oly-wa2-11.ix.netcom.com  -  -  [31/Dec/1995:23:57:00  -0600]   \n2408619          freenet.npiec.on.ca  -  -  [31/Dec/1995:23:58:06  -0600]   \n2408620             moondog.usask.ca  -  -  [31/Dec/1995:23:58:29  -0600]   \n2408621             moondog.usask.ca  -  -  [31/Dec/1995:23:58:37  -0600]   \n2408622         ns1.maf.mobile.al.us  -  -  [31/Dec/1995:23:59:28  -0600]   \n\n                                 5    6       7  \n0        GET /~scottp/publish.html  200     271  \n1        GET /~ladd/ostriches.html  200  205908  \n2        GET /~scottp/publish.html  200     271  \n3                     GET /~lowey/  200    1116  \n4            GET /~lowey/kevin.gif  200   49649  \n...                            ...  ...     ...  \n2408618  GET /~scottp/publish.html  200     271  \n2408619     GET /~scottp/free.html  200   23067  \n2408620              GET /HTTP/1.0  200    3890  \n2408621   GET /search.htmlHTTP/1.0  200    1838  \n2408622     GET /~scottp/free.html  200   23067  \n\n[2408623 rows x 8 columns]",
      "text/html": "<div>\n<style scoped>\n    .dataframe tbody tr th:only-of-type {\n        vertical-align: middle;\n    }\n\n    .dataframe tbody tr th {\n        vertical-align: top;\n    }\n\n    .dataframe thead th {\n        text-align: right;\n    }\n</style>\n<table border=\"1\" class=\"dataframe\">\n  <thead>\n    <tr style=\"text-align: right;\">\n      <th></th>\n      <th>0</th>\n      <th>1</th>\n      <th>2</th>\n      <th>3</th>\n      <th>4</th>\n      <th>5</th>\n      <th>6</th>\n      <th>7</th>\n    </tr>\n  </thead>\n  <tbody>\n    <tr>\n      <th>0</th>\n      <td>202.32.92.47</td>\n      <td>-</td>\n      <td>-</td>\n      <td>[01/Jun/1995:00:00:59</td>\n      <td>-0600]</td>\n      <td>GET /~scottp/publish.html</td>\n      <td>200</td>\n      <td>271</td>\n    </tr>\n    <tr>\n      <th>1</th>\n      <td>ix-or7-27.ix.netcom.com</td>\n      <td>-</td>\n      <td>-</td>\n      <td>[01/Jun/1995:00:02:51</td>\n      <td>-0600]</td>\n      <td>GET /~ladd/ostriches.html</td>\n      <td>200</td>\n      <td>205908</td>\n    </tr>\n    <tr>\n      <th>2</th>\n      <td>ram0.huji.ac.il</td>\n      <td>-</td>\n      <td>-</td>\n      <td>[01/Jun/1995:00:05:44</td>\n      <td>-0600]</td>\n      <td>GET /~scottp/publish.html</td>\n      <td>200</td>\n      <td>271</td>\n    </tr>\n    <tr>\n      <th>3</th>\n      <td>eagle40.sasknet.sk.ca</td>\n      <td>-</td>\n      <td>-</td>\n      <td>[01/Jun/1995:00:08:06</td>\n      <td>-0600]</td>\n      <td>GET /~lowey/</td>\n      <td>200</td>\n      <td>1116</td>\n    </tr>\n    <tr>\n      <th>4</th>\n      <td>eagle40.sasknet.sk.ca</td>\n      <td>-</td>\n      <td>-</td>\n      <td>[01/Jun/1995:00:08:19</td>\n      <td>-0600]</td>\n      <td>GET /~lowey/kevin.gif</td>\n      <td>200</td>\n      <td>49649</td>\n    </tr>\n    <tr>\n      <th>...</th>\n      <td>...</td>\n      <td>...</td>\n      <td>...</td>\n      <td>...</td>\n      <td>...</td>\n      <td>...</td>\n      <td>...</td>\n      <td>...</td>\n    </tr>\n    <tr>\n      <th>2408618</th>\n      <td>ix-oly-wa2-11.ix.netcom.com</td>\n      <td>-</td>\n      <td>-</td>\n      <td>[31/Dec/1995:23:57:00</td>\n      <td>-0600]</td>\n      <td>GET /~scottp/publish.html</td>\n      <td>200</td>\n      <td>271</td>\n    </tr>\n    <tr>\n      <th>2408619</th>\n      <td>freenet.npiec.on.ca</td>\n      <td>-</td>\n      <td>-</td>\n      <td>[31/Dec/1995:23:58:06</td>\n      <td>-0600]</td>\n      <td>GET /~scottp/free.html</td>\n      <td>200</td>\n      <td>23067</td>\n    </tr>\n    <tr>\n      <th>2408620</th>\n      <td>moondog.usask.ca</td>\n      <td>-</td>\n      <td>-</td>\n      <td>[31/Dec/1995:23:58:29</td>\n      <td>-0600]</td>\n      <td>GET /HTTP/1.0</td>\n      <td>200</td>\n      <td>3890</td>\n    </tr>\n    <tr>\n      <th>2408621</th>\n      <td>moondog.usask.ca</td>\n      <td>-</td>\n      <td>-</td>\n      <td>[31/Dec/1995:23:58:37</td>\n      <td>-0600]</td>\n      <td>GET /search.htmlHTTP/1.0</td>\n      <td>200</td>\n      <td>1838</td>\n    </tr>\n    <tr>\n      <th>2408622</th>\n      <td>ns1.maf.mobile.al.us</td>\n      <td>-</td>\n      <td>-</td>\n      <td>[31/Dec/1995:23:59:28</td>\n      <td>-0600]</td>\n      <td>GET /~scottp/free.html</td>\n      <td>200</td>\n      <td>23067</td>\n    </tr>\n  </tbody>\n</table>\n<p>2408623 rows × 8 columns</p>\n</div>"
     },
     "execution_count": 27,
     "metadata": {},
     "output_type": "execute_result"
    }
   ],
   "source": [
    "import pandas as pd\n",
    "web = pd.read_csv('UofS_access_log.csv', header=None, sep=\" \", error_bad_lines=False,encoding_errors='ignore', engine='python',decimal='.')\n",
    "web"
   ]
  },
  {
   "cell_type": "code",
   "execution_count": 28,
   "outputs": [
    {
     "data": {
      "text/plain": "                              domain              timestamp  \\\n0                       202.32.92.47  [01/Jun/1995:00:00:59   \n1            ix-or7-27.ix.netcom.com  [01/Jun/1995:00:02:51   \n2                    ram0.huji.ac.il  [01/Jun/1995:00:05:44   \n3              eagle40.sasknet.sk.ca  [01/Jun/1995:00:08:06   \n4              eagle40.sasknet.sk.ca  [01/Jun/1995:00:08:19   \n...                              ...                    ...   \n2408618  ix-oly-wa2-11.ix.netcom.com  [31/Dec/1995:23:57:00   \n2408619          freenet.npiec.on.ca  [31/Dec/1995:23:58:06   \n2408620             moondog.usask.ca  [31/Dec/1995:23:58:29   \n2408621             moondog.usask.ca  [31/Dec/1995:23:58:37   \n2408622         ns1.maf.mobile.al.us  [31/Dec/1995:23:59:28   \n\n                           request  response code response length  \n0        GET /~scottp/publish.html            200             271  \n1        GET /~ladd/ostriches.html            200          205908  \n2        GET /~scottp/publish.html            200             271  \n3                     GET /~lowey/            200            1116  \n4            GET /~lowey/kevin.gif            200           49649  \n...                            ...            ...             ...  \n2408618  GET /~scottp/publish.html            200             271  \n2408619     GET /~scottp/free.html            200           23067  \n2408620              GET /HTTP/1.0            200            3890  \n2408621   GET /search.htmlHTTP/1.0            200            1838  \n2408622     GET /~scottp/free.html            200           23067  \n\n[2408623 rows x 5 columns]",
      "text/html": "<div>\n<style scoped>\n    .dataframe tbody tr th:only-of-type {\n        vertical-align: middle;\n    }\n\n    .dataframe tbody tr th {\n        vertical-align: top;\n    }\n\n    .dataframe thead th {\n        text-align: right;\n    }\n</style>\n<table border=\"1\" class=\"dataframe\">\n  <thead>\n    <tr style=\"text-align: right;\">\n      <th></th>\n      <th>domain</th>\n      <th>timestamp</th>\n      <th>request</th>\n      <th>response code</th>\n      <th>response length</th>\n    </tr>\n  </thead>\n  <tbody>\n    <tr>\n      <th>0</th>\n      <td>202.32.92.47</td>\n      <td>[01/Jun/1995:00:00:59</td>\n      <td>GET /~scottp/publish.html</td>\n      <td>200</td>\n      <td>271</td>\n    </tr>\n    <tr>\n      <th>1</th>\n      <td>ix-or7-27.ix.netcom.com</td>\n      <td>[01/Jun/1995:00:02:51</td>\n      <td>GET /~ladd/ostriches.html</td>\n      <td>200</td>\n      <td>205908</td>\n    </tr>\n    <tr>\n      <th>2</th>\n      <td>ram0.huji.ac.il</td>\n      <td>[01/Jun/1995:00:05:44</td>\n      <td>GET /~scottp/publish.html</td>\n      <td>200</td>\n      <td>271</td>\n    </tr>\n    <tr>\n      <th>3</th>\n      <td>eagle40.sasknet.sk.ca</td>\n      <td>[01/Jun/1995:00:08:06</td>\n      <td>GET /~lowey/</td>\n      <td>200</td>\n      <td>1116</td>\n    </tr>\n    <tr>\n      <th>4</th>\n      <td>eagle40.sasknet.sk.ca</td>\n      <td>[01/Jun/1995:00:08:19</td>\n      <td>GET /~lowey/kevin.gif</td>\n      <td>200</td>\n      <td>49649</td>\n    </tr>\n    <tr>\n      <th>...</th>\n      <td>...</td>\n      <td>...</td>\n      <td>...</td>\n      <td>...</td>\n      <td>...</td>\n    </tr>\n    <tr>\n      <th>2408618</th>\n      <td>ix-oly-wa2-11.ix.netcom.com</td>\n      <td>[31/Dec/1995:23:57:00</td>\n      <td>GET /~scottp/publish.html</td>\n      <td>200</td>\n      <td>271</td>\n    </tr>\n    <tr>\n      <th>2408619</th>\n      <td>freenet.npiec.on.ca</td>\n      <td>[31/Dec/1995:23:58:06</td>\n      <td>GET /~scottp/free.html</td>\n      <td>200</td>\n      <td>23067</td>\n    </tr>\n    <tr>\n      <th>2408620</th>\n      <td>moondog.usask.ca</td>\n      <td>[31/Dec/1995:23:58:29</td>\n      <td>GET /HTTP/1.0</td>\n      <td>200</td>\n      <td>3890</td>\n    </tr>\n    <tr>\n      <th>2408621</th>\n      <td>moondog.usask.ca</td>\n      <td>[31/Dec/1995:23:58:37</td>\n      <td>GET /search.htmlHTTP/1.0</td>\n      <td>200</td>\n      <td>1838</td>\n    </tr>\n    <tr>\n      <th>2408622</th>\n      <td>ns1.maf.mobile.al.us</td>\n      <td>[31/Dec/1995:23:59:28</td>\n      <td>GET /~scottp/free.html</td>\n      <td>200</td>\n      <td>23067</td>\n    </tr>\n  </tbody>\n</table>\n<p>2408623 rows × 5 columns</p>\n</div>"
     },
     "execution_count": 28,
     "metadata": {},
     "output_type": "execute_result"
    }
   ],
   "source": [
    "ws = pd.DataFrame({'domain':web[0],'timestamp':web[3],'request':web[5],'response code':web[6],'response length':web[7]})\n",
    "ws"
   ],
   "metadata": {
    "collapsed": false,
    "pycharm": {
     "name": "#%%\n"
    }
   }
  },
  {
   "cell_type": "markdown",
   "source": [
    "## Q1\n",
    "Which response code is most common? On the basis of which frequencies can you see\n",
    "this?"
   ],
   "metadata": {
    "collapsed": false
   }
  },
  {
   "cell_type": "code",
   "execution_count": 29,
   "outputs": [
    {
     "data": {
      "text/plain": "200    2193516\n302      40716\n304     151634\n400        730\n401         98\n403        406\n404      20962\n500        541\n501         20\nName: response code, dtype: int64"
     },
     "execution_count": 29,
     "metadata": {},
     "output_type": "execute_result"
    }
   ],
   "source": [
    "ws['response code'].value_counts(dropna=False).sort_index()"
   ],
   "metadata": {
    "collapsed": false,
    "pycharm": {
     "name": "#%%\n"
    }
   }
  },
  {
   "cell_type": "markdown",
   "source": [
    "Absolute freq"
   ],
   "metadata": {
    "collapsed": false
   }
  },
  {
   "cell_type": "markdown",
   "source": [
    "## Q2\n",
    "What percentage of the requests contain a response code larger than 200?  Based on\n",
    "which frequencies can you calculate this?"
   ],
   "metadata": {
    "collapsed": false
   }
  },
  {
   "cell_type": "code",
   "execution_count": 30,
   "outputs": [
    {
     "data": {
      "text/plain": "8.930704390018695"
     },
     "execution_count": 30,
     "metadata": {},
     "output_type": "execute_result"
    }
   ],
   "source": [
    "(ws[ws['response code']>200]['response code'].count()/ws['response code'].count())*100"
   ],
   "metadata": {
    "collapsed": false,
    "pycharm": {
     "name": "#%%\n"
    }
   }
  },
  {
   "cell_type": "markdown",
   "source": [
    "code 200 percentage\n"
   ],
   "metadata": {
    "collapsed": false
   }
  },
  {
   "cell_type": "markdown",
   "source": [
    "## Q3\n",
    "How many times does a response code 401 occur?  Based on which frequencies can you\n",
    "see this?  What does this response code mean?"
   ],
   "metadata": {
    "collapsed": false
   }
  },
  {
   "cell_type": "code",
   "execution_count": 31,
   "outputs": [
    {
     "data": {
      "text/plain": "401    98\nName: response code, dtype: int64"
     },
     "execution_count": 31,
     "metadata": {},
     "output_type": "execute_result"
    }
   ],
   "source": [
    "ws[ws['response code']==401]['response code'].value_counts(dropna=False).sort_index()"
   ],
   "metadata": {
    "collapsed": false,
    "pycharm": {
     "name": "#%%\n"
    }
   }
  },
  {
   "cell_type": "markdown",
   "source": [
    "401 is \"Unauthorized\" and means that someone tried to log in\n",
    "with the wrong data"
   ],
   "metadata": {
    "collapsed": false
   }
  },
  {
   "cell_type": "markdown",
   "source": [
    "## Q4\n",
    "Which web pages have a response code 401?"
   ],
   "metadata": {
    "collapsed": false
   }
  },
  {
   "cell_type": "code",
   "execution_count": 32,
   "outputs": [
    {
     "data": {
      "text/plain": "array(['suncap.usask.ca', 'cwis.usask.ca', 'skynet.usask.ca',\n       'mercury115.terraport.net', 'ppp-4.pbmo.net', 's066n213.csun.edu',\n       'louie.csun.edu', 'lithos.usask.ca', 'heidelberg.cle.ab.com',\n       'sask.usask.ca', 'oa-c212-1.sheridanc.on.ca', 'duke.usask.ca',\n       'andora.usask.ca', '198.169.132.92', 'pe4480.usask.ca',\n       'piglet.usask.ca', 'dcs3017.usask.ca', 'manitou1_5.usask.ca',\n       'humulus_lupulus.usask.ca'], dtype=object)"
     },
     "execution_count": 32,
     "metadata": {},
     "output_type": "execute_result"
    }
   ],
   "source": [
    "ws[ws['response code']==401]['domain'].unique()"
   ],
   "metadata": {
    "collapsed": false,
    "pycharm": {
     "name": "#%%\n"
    }
   }
  },
  {
   "cell_type": "markdown",
   "source": [
    "## Q5\n",
    "Which clients (domains) tried to consult a web page without authorization?"
   ],
   "metadata": {
    "collapsed": false
   }
  },
  {
   "cell_type": "code",
   "execution_count": 33,
   "outputs": [
    {
     "data": {
      "text/plain": "array(['suncap.usask.ca', 'cwis.usask.ca', 'skynet.usask.ca',\n       'mercury115.terraport.net', 'ppp-4.pbmo.net', 's066n213.csun.edu',\n       'louie.csun.edu', 'lithos.usask.ca', 'heidelberg.cle.ab.com',\n       'sask.usask.ca', 'oa-c212-1.sheridanc.on.ca', 'duke.usask.ca',\n       'andora.usask.ca', '198.169.132.92', 'pe4480.usask.ca',\n       'piglet.usask.ca', 'dcs3017.usask.ca', 'manitou1_5.usask.ca',\n       'humulus_lupulus.usask.ca'], dtype=object)"
     },
     "execution_count": 33,
     "metadata": {},
     "output_type": "execute_result"
    }
   ],
   "source": [
    "ws[ws['response code']==401]['domain'].unique()"
   ],
   "metadata": {
    "collapsed": false,
    "pycharm": {
     "name": "#%%\n"
    }
   }
  },
  {
   "cell_type": "markdown",
   "source": [
    "## Q6\n",
    "Which client (domain) most often attempted to access an unauthorized web page?"
   ],
   "metadata": {
    "collapsed": false
   }
  },
  {
   "cell_type": "code",
   "execution_count": 34,
   "outputs": [
    {
     "data": {
      "text/plain": "skynet.usask.ca              25\ncwis.usask.ca                20\nduke.usask.ca                17\nmercury115.terraport.net      6\nandora.usask.ca               6\nsuncap.usask.ca               5\nmanitou1_5.usask.ca           3\nppp-4.pbmo.net                2\ns066n213.csun.edu             2\ndcs3017.usask.ca              2\npiglet.usask.ca               2\n198.169.132.92                1\npe4480.usask.ca               1\nsask.usask.ca                 1\noa-c212-1.sheridanc.on.ca     1\nheidelberg.cle.ab.com         1\nlithos.usask.ca               1\nlouie.csun.edu                1\nhumulus_lupulus.usask.ca      1\nName: domain, dtype: int64"
     },
     "execution_count": 34,
     "metadata": {},
     "output_type": "execute_result"
    }
   ],
   "source": [
    "ws[ws['response code']==401]['domain'].value_counts()"
   ],
   "metadata": {
    "collapsed": false,
    "pycharm": {
     "name": "#%%\n"
    }
   }
  },
  {
   "cell_type": "markdown",
   "source": [
    "## Q7\n",
    "Make a pie chart of the response codes that are not equal to 2"
   ],
   "metadata": {
    "collapsed": false
   }
  },
  {
   "cell_type": "code",
   "execution_count": 35,
   "outputs": [
    {
     "data": {
      "text/plain": "<Figure size 432x288 with 1 Axes>",
      "image/png": "[encoded data removed]"
     },
     "metadata": {},
     "output_type": "display_data"
    }
   ],
   "source": [
    "import matplotlib.pyplot as plt\n",
    "values = ws[ws['response code']!=200]['response code'].value_counts()\n",
    "labels = ws[ws['response code']!=200]['response code'].unique()\n",
    "plt.figure()\n",
    "plt.pie(values,labels=labels)\n",
    "plt.show()"
   ],
   "metadata": {
    "collapsed": false,
    "pycharm": {
     "name": "#%%\n"
    }
   }
  },
  {
   "cell_type": "code",
   "execution_count": 36,
   "outputs": [
    {
     "data": {
      "text/plain": "304    151634\n302     40716\n404     20962\n400       730\n500       541\n403       406\n401        98\n501        20\nName: response code, dtype: int64"
     },
     "execution_count": 36,
     "metadata": {},
     "output_type": "execute_result"
    }
   ],
   "source": [
    "ws[ws['response code']!=200]['response code'].value_counts()"
   ],
   "metadata": {
    "collapsed": false,
    "pycharm": {
     "name": "#%%\n"
    }
   }
  },
  {
   "cell_type": "code",
   "execution_count": 37,
   "outputs": [
    {
     "data": {
      "text/plain": "array([304, 302, 404, 400, 500, 403, 501, 401], dtype=int64)"
     },
     "execution_count": 37,
     "metadata": {},
     "output_type": "execute_result"
    }
   ],
   "source": [
    "ws[ws['response code']!=200]['response code'].unique()"
   ],
   "metadata": {
    "collapsed": false,
    "pycharm": {
     "name": "#%%\n"
    }
   }
  },
  {
   "cell_type": "markdown",
   "source": [
    "## Q8\n",
    "Create a bar graph of the same response codes.  Notice the difference in readability\n",
    "between this and the previous image. "
   ],
   "metadata": {
    "collapsed": false
   }
  },
  {
   "cell_type": "code",
   "execution_count": 38,
   "outputs": [
    {
     "data": {
      "text/plain": "<Figure size 432x288 with 1 Axes>",
      "image/png": "[encoded data removed]"
     },
     "metadata": {
      "needs_background": "light"
     },
     "output_type": "display_data"
    }
   ],
   "source": [
    "plt.figure()\n",
    "labels = [str(label) for label in labels]\n",
    "plt.bar(labels,values)\n",
    "plt.show()"
   ],
   "metadata": {
    "collapsed": false,
    "pycharm": {
     "name": "#%%\n"
    }
   }
  },
  {
   "cell_type": "markdown",
   "source": [
    "## Q9\n",
    "Which response code was send most according to the bar chart? What does this\n",
    "response code mean?\n",
    "\n",
    "\n",
    "304\n",
    "This code was sent the most (other than 200).  These are requests from browsers that\n",
    "track previous versions of web pages. \n"
   ],
   "metadata": {
    "collapsed": false
   }
  },
  {
   "cell_type": "markdown",
   "source": [
    "## Q10\n",
    "How big is the longest response that was sent? Which file was sent here?"
   ],
   "metadata": {
    "collapsed": false
   }
  },
  {
   "cell_type": "code",
   "execution_count": null,
   "outputs": [],
   "source": [
    "ws['response length']."
   ],
   "metadata": {
    "collapsed": false,
    "pycharm": {
     "name": "#%%\n",
     "is_executing": true
    }
   }
  },
  {
   "cell_type": "code",
   "execution_count": 40,
   "outputs": [
    {
     "data": {
      "text/plain": "1148286                     POST /cgi-bin/phone.plHTTP/1.0\n1228838                     POST /cgi-bin/phone.plHTTP/1.0\n1273349                     POST /cgi-bin/phone.plHTTP/1.0\n1335642                     POST /cgi-bin/phone.plHTTP/1.0\n1450449                     POST /cgi-bin/phone.plHTTP/1.0\n1742864                     POST /cgi-bin/phone.plHTTP/1.0\n1887398                     POST /cgi-bin/phone.plHTTP/1.0\n1979369                     POST /cgi-bin/phone.plHTTP/1.0\n1979371                     POST /cgi-bin/phone.plHTTP/1.0\n2187996                     POST /cgi-bin/phone.plHTTP/1.0\n2210254    GET /cgi-bin/phone.pl?query=engineeringHTTP/1.0\n2277987                     POST /cgi-bin/phone.plHTTP/1.0\n2278003                     POST /cgi-bin/phone.plHTTP/1.0\nName: request, dtype: object"
     },
     "execution_count": 40,
     "metadata": {},
     "output_type": "execute_result"
    }
   ],
   "source": [
    "ws[ws['response length']==ws['response length'].max()]['request']"
   ],
   "metadata": {
    "collapsed": false,
    "pycharm": {
     "name": "#%%\n"
    }
   }
  },
  {
   "cell_type": "markdown",
   "source": [
    "#### ????????"
   ],
   "metadata": {
    "collapsed": false
   }
  },
  {
   "cell_type": "markdown",
   "source": [
    "## Q11\n",
    "Select all lines where response_length is smaller than 30,000 bytes.  Make classes of\n",
    "the response_length with class width equal to 1000 bytes, where the left border always\n",
    "belongs to the class.  How many responses have a length smaller than 1000 bytes?"
   ],
   "metadata": {
    "collapsed": false
   }
  },
  {
   "cell_type": "code",
   "execution_count": 41,
   "outputs": [
    {
     "ename": "TypeError",
     "evalue": "'<' not supported between instances of 'str' and 'int'",
     "output_type": "error",
     "traceback": [
      "\u001B[1;31m---------------------------------------------------------------------------\u001B[0m",
      "\u001B[1;31mTypeError\u001B[0m                                 Traceback (most recent call last)",
      "Input \u001B[1;32mIn [41]\u001B[0m, in \u001B[0;36m<cell line: 1>\u001B[1;34m()\u001B[0m\n\u001B[1;32m----> 1\u001B[0m q11 \u001B[38;5;241m=\u001B[39m ws[\u001B[43mws\u001B[49m\u001B[43m[\u001B[49m\u001B[38;5;124;43m'\u001B[39;49m\u001B[38;5;124;43mresponse length\u001B[39;49m\u001B[38;5;124;43m'\u001B[39;49m\u001B[43m]\u001B[49m\u001B[38;5;241;43m<\u001B[39;49m\u001B[38;5;241;43m30000\u001B[39;49m][\u001B[38;5;124m'\u001B[39m\u001B[38;5;124mresponse length\u001B[39m\u001B[38;5;124m'\u001B[39m]\n\u001B[0;32m      2\u001B[0m cutpoints\u001B[38;5;241m=\u001B[39m\u001B[38;5;28mrange\u001B[39m(q11\u001B[38;5;241m.\u001B[39mmin(),q11\u001B[38;5;241m.\u001B[39mmax()\u001B[38;5;241m+\u001B[39m\u001B[38;5;241m1000\u001B[39m,\u001B[38;5;241m1000\u001B[39m)\n\u001B[0;32m      3\u001B[0m q11\u001B[38;5;241m=\u001B[39mpd\u001B[38;5;241m.\u001B[39mcut(q11,bins\u001B[38;5;241m=\u001B[39mcutpoints,include_lowest\u001B[38;5;241m=\u001B[39m\u001B[38;5;28;01mTrue\u001B[39;00m)\n",
      "File \u001B[1;32m~\\AppData\\Local\\Packages\\PythonSoftwareFoundation.Python.3.9_qbz5n2kfra8p0\\LocalCache\\local-packages\\Python39\\site-packages\\pandas\\core\\ops\\common.py:70\u001B[0m, in \u001B[0;36m_unpack_zerodim_and_defer.<locals>.new_method\u001B[1;34m(self, other)\u001B[0m\n\u001B[0;32m     66\u001B[0m             \u001B[38;5;28;01mreturn\u001B[39;00m \u001B[38;5;28mNotImplemented\u001B[39m\n\u001B[0;32m     68\u001B[0m other \u001B[38;5;241m=\u001B[39m item_from_zerodim(other)\n\u001B[1;32m---> 70\u001B[0m \u001B[38;5;28;01mreturn\u001B[39;00m \u001B[43mmethod\u001B[49m\u001B[43m(\u001B[49m\u001B[38;5;28;43mself\u001B[39;49m\u001B[43m,\u001B[49m\u001B[43m \u001B[49m\u001B[43mother\u001B[49m\u001B[43m)\u001B[49m\n",
      "File \u001B[1;32m~\\AppData\\Local\\Packages\\PythonSoftwareFoundation.Python.3.9_qbz5n2kfra8p0\\LocalCache\\local-packages\\Python39\\site-packages\\pandas\\core\\arraylike.py:48\u001B[0m, in \u001B[0;36mOpsMixin.__lt__\u001B[1;34m(self, other)\u001B[0m\n\u001B[0;32m     46\u001B[0m \u001B[38;5;129m@unpack_zerodim_and_defer\u001B[39m(\u001B[38;5;124m\"\u001B[39m\u001B[38;5;124m__lt__\u001B[39m\u001B[38;5;124m\"\u001B[39m)\n\u001B[0;32m     47\u001B[0m \u001B[38;5;28;01mdef\u001B[39;00m \u001B[38;5;21m__lt__\u001B[39m(\u001B[38;5;28mself\u001B[39m, other):\n\u001B[1;32m---> 48\u001B[0m     \u001B[38;5;28;01mreturn\u001B[39;00m \u001B[38;5;28;43mself\u001B[39;49m\u001B[38;5;241;43m.\u001B[39;49m\u001B[43m_cmp_method\u001B[49m\u001B[43m(\u001B[49m\u001B[43mother\u001B[49m\u001B[43m,\u001B[49m\u001B[43m \u001B[49m\u001B[43moperator\u001B[49m\u001B[38;5;241;43m.\u001B[39;49m\u001B[43mlt\u001B[49m\u001B[43m)\u001B[49m\n",
      "File \u001B[1;32m~\\AppData\\Local\\Packages\\PythonSoftwareFoundation.Python.3.9_qbz5n2kfra8p0\\LocalCache\\local-packages\\Python39\\site-packages\\pandas\\core\\series.py:5623\u001B[0m, in \u001B[0;36mSeries._cmp_method\u001B[1;34m(self, other, op)\u001B[0m\n\u001B[0;32m   5620\u001B[0m rvalues \u001B[38;5;241m=\u001B[39m extract_array(other, extract_numpy\u001B[38;5;241m=\u001B[39m\u001B[38;5;28;01mTrue\u001B[39;00m, extract_range\u001B[38;5;241m=\u001B[39m\u001B[38;5;28;01mTrue\u001B[39;00m)\n\u001B[0;32m   5622\u001B[0m \u001B[38;5;28;01mwith\u001B[39;00m np\u001B[38;5;241m.\u001B[39merrstate(\u001B[38;5;28mall\u001B[39m\u001B[38;5;241m=\u001B[39m\u001B[38;5;124m\"\u001B[39m\u001B[38;5;124mignore\u001B[39m\u001B[38;5;124m\"\u001B[39m):\n\u001B[1;32m-> 5623\u001B[0m     res_values \u001B[38;5;241m=\u001B[39m \u001B[43mops\u001B[49m\u001B[38;5;241;43m.\u001B[39;49m\u001B[43mcomparison_op\u001B[49m\u001B[43m(\u001B[49m\u001B[43mlvalues\u001B[49m\u001B[43m,\u001B[49m\u001B[43m \u001B[49m\u001B[43mrvalues\u001B[49m\u001B[43m,\u001B[49m\u001B[43m \u001B[49m\u001B[43mop\u001B[49m\u001B[43m)\u001B[49m\n\u001B[0;32m   5625\u001B[0m \u001B[38;5;28;01mreturn\u001B[39;00m \u001B[38;5;28mself\u001B[39m\u001B[38;5;241m.\u001B[39m_construct_result(res_values, name\u001B[38;5;241m=\u001B[39mres_name)\n",
      "File \u001B[1;32m~\\AppData\\Local\\Packages\\PythonSoftwareFoundation.Python.3.9_qbz5n2kfra8p0\\LocalCache\\local-packages\\Python39\\site-packages\\pandas\\core\\ops\\array_ops.py:283\u001B[0m, in \u001B[0;36mcomparison_op\u001B[1;34m(left, right, op)\u001B[0m\n\u001B[0;32m    280\u001B[0m     \u001B[38;5;28;01mreturn\u001B[39;00m invalid_comparison(lvalues, rvalues, op)\n\u001B[0;32m    282\u001B[0m \u001B[38;5;28;01melif\u001B[39;00m is_object_dtype(lvalues\u001B[38;5;241m.\u001B[39mdtype) \u001B[38;5;129;01mor\u001B[39;00m \u001B[38;5;28misinstance\u001B[39m(rvalues, \u001B[38;5;28mstr\u001B[39m):\n\u001B[1;32m--> 283\u001B[0m     res_values \u001B[38;5;241m=\u001B[39m \u001B[43mcomp_method_OBJECT_ARRAY\u001B[49m\u001B[43m(\u001B[49m\u001B[43mop\u001B[49m\u001B[43m,\u001B[49m\u001B[43m \u001B[49m\u001B[43mlvalues\u001B[49m\u001B[43m,\u001B[49m\u001B[43m \u001B[49m\u001B[43mrvalues\u001B[49m\u001B[43m)\u001B[49m\n\u001B[0;32m    285\u001B[0m \u001B[38;5;28;01melse\u001B[39;00m:\n\u001B[0;32m    286\u001B[0m     res_values \u001B[38;5;241m=\u001B[39m _na_arithmetic_op(lvalues, rvalues, op, is_cmp\u001B[38;5;241m=\u001B[39m\u001B[38;5;28;01mTrue\u001B[39;00m)\n",
      "File \u001B[1;32m~\\AppData\\Local\\Packages\\PythonSoftwareFoundation.Python.3.9_qbz5n2kfra8p0\\LocalCache\\local-packages\\Python39\\site-packages\\pandas\\core\\ops\\array_ops.py:73\u001B[0m, in \u001B[0;36mcomp_method_OBJECT_ARRAY\u001B[1;34m(op, x, y)\u001B[0m\n\u001B[0;32m     71\u001B[0m     result \u001B[38;5;241m=\u001B[39m libops\u001B[38;5;241m.\u001B[39mvec_compare(x\u001B[38;5;241m.\u001B[39mravel(), y\u001B[38;5;241m.\u001B[39mravel(), op)\n\u001B[0;32m     72\u001B[0m \u001B[38;5;28;01melse\u001B[39;00m:\n\u001B[1;32m---> 73\u001B[0m     result \u001B[38;5;241m=\u001B[39m \u001B[43mlibops\u001B[49m\u001B[38;5;241;43m.\u001B[39;49m\u001B[43mscalar_compare\u001B[49m\u001B[43m(\u001B[49m\u001B[43mx\u001B[49m\u001B[38;5;241;43m.\u001B[39;49m\u001B[43mravel\u001B[49m\u001B[43m(\u001B[49m\u001B[43m)\u001B[49m\u001B[43m,\u001B[49m\u001B[43m \u001B[49m\u001B[43my\u001B[49m\u001B[43m,\u001B[49m\u001B[43m \u001B[49m\u001B[43mop\u001B[49m\u001B[43m)\u001B[49m\n\u001B[0;32m     74\u001B[0m \u001B[38;5;28;01mreturn\u001B[39;00m result\u001B[38;5;241m.\u001B[39mreshape(x\u001B[38;5;241m.\u001B[39mshape)\n",
      "File \u001B[1;32m~\\AppData\\Local\\Packages\\PythonSoftwareFoundation.Python.3.9_qbz5n2kfra8p0\\LocalCache\\local-packages\\Python39\\site-packages\\pandas\\_libs\\ops.pyx:107\u001B[0m, in \u001B[0;36mpandas._libs.ops.scalar_compare\u001B[1;34m()\u001B[0m\n",
      "\u001B[1;31mTypeError\u001B[0m: '<' not supported between instances of 'str' and 'int'"
     ]
    }
   ],
   "source": [
    "q11 = ws[ws['response length']<30000]['response length']\n",
    "cutpoints=range(q11.min(),q11.max()+1000,1000)\n",
    "q11=pd.cut(q11,bins=cutpoints,include_lowest=True)\n",
    "q11"
   ],
   "metadata": {
    "collapsed": false,
    "pycharm": {
     "name": "#%%\n"
    }
   }
  },
  {
   "cell_type": "code",
   "execution_count": 40,
   "outputs": [],
   "source": [],
   "metadata": {
    "collapsed": false,
    "pycharm": {
     "name": "#%%\n"
    }
   }
  }
 ],
 "metadata": {
  "kernelspec": {
   "display_name": "Python 3",
   "language": "python",
   "name": "python3"
  },
  "language_info": {
   "codemirror_mode": {
    "name": "ipython",
    "version": 2
   },
   "file_extension": ".py",
   "mimetype": "text/x-python",
   "name": "python",
   "nbconvert_exporter": "python",
   "pygments_lexer": "ipython2",
   "version": "2.7.6"
  }
 },
 "nbformat": 4,
 "nbformat_minor": 0
}