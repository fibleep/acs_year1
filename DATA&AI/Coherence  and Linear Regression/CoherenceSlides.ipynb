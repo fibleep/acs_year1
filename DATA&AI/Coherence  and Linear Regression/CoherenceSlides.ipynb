{
 "cells": [
  {
   "cell_type": "code",
   "execution_count": 1,
   "metadata": {
    "collapsed": true
   },
   "outputs": [
    {
     "name": "stdout",
     "output_type": "stream",
     "text": [
      "<class 'pandas.core.frame.DataFrame'>\n",
      "RangeIndex: 2064 entries, 0 to 2063\n",
      "Data columns (total 2 columns):\n",
      " #   Column         Non-Null Count  Dtype\n",
      "---  ------         --------------  -----\n",
      " 0   Salary         2064 non-null   int64\n",
      " 1   # Connections  2064 non-null   int64\n",
      "dtypes: int64(2)\n",
      "memory usage: 32.4 KB\n"
     ]
    },
    {
     "data": {
      "text/plain": "<Figure size 432x288 with 1 Axes>",
      "image/png": "[encoded data removed]"
     },
     "metadata": {
      "needs_background": "light"
     },
     "output_type": "display_data"
    }
   ],
   "source": [
    "import pandas as pd\n",
    "import matplotlib.pyplot as plt\n",
    "from scipy import stats\n",
    "linkedin = pd.read_csv('linkedin.csv',delimiter=',')\n",
    "linkedin.info()\n",
    "plt.figure()\n",
    "plt.scatter(linkedin['# Connections'],linkedin.Salary)\n",
    "plt.show()"
   ]
  },
  {
   "cell_type": "markdown",
   "source": [
    "## CORRELATION COEFFICIENT"
   ],
   "metadata": {
    "collapsed": false
   }
  },
  {
   "cell_type": "code",
   "execution_count": 2,
   "outputs": [
    {
     "data": {
      "text/plain": "        Salary  # Connections\n0     0.736521       0.991610\n1     0.448105       0.059547\n2     0.456230      -0.544176\n3     0.739568       0.663270\n4    -0.582676      -0.205244\n...        ...            ...\n2059  2.598021       1.139893\n2060  2.607161       2.654496\n2061  2.277108       2.643904\n2062  2.437564       2.135506\n2063  2.619347       2.220239\n\n[2064 rows x 2 columns]",
      "text/html": "<div>\n<style scoped>\n    .dataframe tbody tr th:only-of-type {\n        vertical-align: middle;\n    }\n\n    .dataframe tbody tr th {\n        vertical-align: top;\n    }\n\n    .dataframe thead th {\n        text-align: right;\n    }\n</style>\n<table border=\"1\" class=\"dataframe\">\n  <thead>\n    <tr style=\"text-align: right;\">\n      <th></th>\n      <th>Salary</th>\n      <th># Connections</th>\n    </tr>\n  </thead>\n  <tbody>\n    <tr>\n      <th>0</th>\n      <td>0.736521</td>\n      <td>0.991610</td>\n    </tr>\n    <tr>\n      <th>1</th>\n      <td>0.448105</td>\n      <td>0.059547</td>\n    </tr>\n    <tr>\n      <th>2</th>\n      <td>0.456230</td>\n      <td>-0.544176</td>\n    </tr>\n    <tr>\n      <th>3</th>\n      <td>0.739568</td>\n      <td>0.663270</td>\n    </tr>\n    <tr>\n      <th>4</th>\n      <td>-0.582676</td>\n      <td>-0.205244</td>\n    </tr>\n    <tr>\n      <th>...</th>\n      <td>...</td>\n      <td>...</td>\n    </tr>\n    <tr>\n      <th>2059</th>\n      <td>2.598021</td>\n      <td>1.139893</td>\n    </tr>\n    <tr>\n      <th>2060</th>\n      <td>2.607161</td>\n      <td>2.654496</td>\n    </tr>\n    <tr>\n      <th>2061</th>\n      <td>2.277108</td>\n      <td>2.643904</td>\n    </tr>\n    <tr>\n      <th>2062</th>\n      <td>2.437564</td>\n      <td>2.135506</td>\n    </tr>\n    <tr>\n      <th>2063</th>\n      <td>2.619347</td>\n      <td>2.220239</td>\n    </tr>\n  </tbody>\n</table>\n<p>2064 rows × 2 columns</p>\n</div>"
     },
     "execution_count": 2,
     "metadata": {},
     "output_type": "execute_result"
    }
   ],
   "source": [
    "linkedin_scaled = pd.DataFrame(stats.zscore(linkedin))\n",
    "linkedin_scaled"
   ],
   "metadata": {
    "collapsed": false,
    "pycharm": {
     "name": "#%%\n"
    }
   }
  },
  {
   "cell_type": "code",
   "execution_count": 3,
   "outputs": [
    {
     "data": {
      "text/plain": "0.8546038926852264"
     },
     "execution_count": 3,
     "metadata": {},
     "output_type": "execute_result"
    }
   ],
   "source": [
    "cor_pear = (linkedin_scaled['Salary']*linkedin_scaled['# Connections']).mean()\n",
    "cor_pear"
   ],
   "metadata": {
    "collapsed": false,
    "pycharm": {
     "name": "#%%\n"
    }
   }
  },
  {
   "cell_type": "code",
   "execution_count": 4,
   "outputs": [
    {
     "data": {
      "text/plain": "                 Salary  # Connections\nSalary         1.000000       0.854604\n# Connections  0.854604       1.000000",
      "text/html": "<div>\n<style scoped>\n    .dataframe tbody tr th:only-of-type {\n        vertical-align: middle;\n    }\n\n    .dataframe tbody tr th {\n        vertical-align: top;\n    }\n\n    .dataframe thead th {\n        text-align: right;\n    }\n</style>\n<table border=\"1\" class=\"dataframe\">\n  <thead>\n    <tr style=\"text-align: right;\">\n      <th></th>\n      <th>Salary</th>\n      <th># Connections</th>\n    </tr>\n  </thead>\n  <tbody>\n    <tr>\n      <th>Salary</th>\n      <td>1.000000</td>\n      <td>0.854604</td>\n    </tr>\n    <tr>\n      <th># Connections</th>\n      <td>0.854604</td>\n      <td>1.000000</td>\n    </tr>\n  </tbody>\n</table>\n</div>"
     },
     "execution_count": 4,
     "metadata": {},
     "output_type": "execute_result"
    }
   ],
   "source": [
    "#x.cor(y) x,y --> arrays\n",
    "#dataFrame.corr(method='pearson')\n",
    "cor_pear = linkedin['# Connections'].corr(linkedin['Salary'])\n",
    "linkedin.corr(method='pearson')\n",
    "#very strong correlation -> 85%"
   ],
   "metadata": {
    "collapsed": false,
    "pycharm": {
     "name": "#%%\n"
    }
   }
  },
  {
   "cell_type": "markdown",
   "source": [
    "### OTHER TYPES OF CORRS\n",
    "df.corr(method='kendall')   REQUIRES RANK NUMBERS\n",
    "df.corr(method='spearman')"
   ],
   "metadata": {
    "collapsed": false
   }
  },
  {
   "cell_type": "markdown",
   "source": [
    "## LINEAR REGRESSION\n",
    "### y = a+bx"
   ],
   "metadata": {
    "collapsed": false
   }
  },
  {
   "cell_type": "code",
   "execution_count": 5,
   "outputs": [
    {
     "data": {
      "text/plain": "array([  8.91306398, 651.64358457])"
     },
     "execution_count": 5,
     "metadata": {},
     "output_type": "execute_result"
    }
   ],
   "source": [
    "import numpy as np\n",
    "x = linkedin['# Connections']\n",
    "y = linkedin.Salary\n",
    "model = np.polyfit(x,y,1) # calculate b and a\n",
    "model"
   ],
   "metadata": {
    "collapsed": false,
    "pycharm": {
     "name": "#%%\n"
    }
   }
  },
  {
   "cell_type": "code",
   "execution_count": 6,
   "outputs": [
    {
     "data": {
      "text/plain": "<Figure size 432x288 with 1 Axes>",
      "image/png": "[encoded data removed]"
     },
     "metadata": {
      "needs_background": "light"
     },
     "output_type": "display_data"
    }
   ],
   "source": [
    "import math\n",
    "predict = np.poly1d(model)\n",
    "xx = np.arange(x.min(),x.max(),(x.max()-x.min()/100))\n",
    "yy=predict(xx)\n",
    "plt.figure()\n",
    "plt.scatter(x,y)\n",
    "plt.plot(xx,yy,color='red')\n",
    "y_pred=predict(x)\n",
    "se = math.sqrt(((y_pred-y)**2).mean())\n",
    "plt.fill_between(xx,yy-2*se,yy+2*se,color='yellow')\n",
    "plt.show()"
   ],
   "metadata": {
    "collapsed": false,
    "pycharm": {
     "name": "#%%\n"
    }
   }
  },
  {
   "cell_type": "code",
   "execution_count": 7,
   "outputs": [
    {
     "data": {
      "text/plain": "0.26965218660725765"
     },
     "execution_count": 7,
     "metadata": {},
     "output_type": "execute_result"
    }
   ],
   "source": [
    "#linear regression\n",
    "R_squared = 1-(x.corr(y))**2\n",
    "R_squared"
   ],
   "metadata": {
    "collapsed": false,
    "pycharm": {
     "name": "#%%\n"
    }
   }
  },
  {
   "cell_type": "code",
   "execution_count": 8,
   "outputs": [
    {
     "data": {
      "text/plain": "0.73047845883199"
     },
     "execution_count": 8,
     "metadata": {},
     "output_type": "execute_result"
    }
   ],
   "source": [
    "y_pred=predict(x)\n",
    "se = math.sqrt(((y_pred-y)**2).mean())\n",
    "sy=y.std()\n",
    "R_squared=1-(se**2)/(sy**2)\n",
    "R_squared"
   ],
   "metadata": {
    "collapsed": false,
    "pycharm": {
     "name": "#%%\n"
    }
   }
  },
  {
   "cell_type": "code",
   "execution_count": 9,
   "outputs": [
    {
     "data": {
      "text/plain": "se                                                506.155868\nR2                                                  0.735906\npredict    <function general_regression.<locals>.<lambda>...\na                                                 925.463808\nb                                                   6.025736\nc                                                   0.006274\ndtype: object"
     },
     "execution_count": 9,
     "metadata": {},
     "output_type": "execute_result"
    }
   ],
   "source": [
    "def general_regression(x, y, degree=1, exp=False):\n",
    "    data = pd.DataFrame({'x':x,'y':y})\n",
    "    data.reset_index(drop=True, inplace=True)\n",
    "    func=lambda x:x # def func(x): return[x]\n",
    "    inv_func=lambda x:x\n",
    "    if (exp):\n",
    "        func=np.exp\n",
    "        inv_func=np.log\n",
    "    sy = data.y.std()\n",
    "    model = np.polyfit(x, inv_func(y), degree)\n",
    "    line = np.poly1d(model)\n",
    "    predict = lambda x:func(line(x))\n",
    "    data['y_pred'] = pd.Series(predict(x))\n",
    "    se = math.sqrt(((data.y_pred-data.y)**2).mean())\n",
    "    R2 = 1-(se**2)/(sy**2)\n",
    "    result = [se, R2, predict]\n",
    "    index = ['se', 'R2', 'predict']\n",
    "    for i in range(1,len(model)+1):\n",
    "        result = np.append(result, model[-i])\n",
    "        index += chr(i+96) # to obtain the characters a,b,...\n",
    "    result = pd.Series(result)\n",
    "    result.index = index\n",
    "    return result\n",
    "#quadratic\n",
    "general_regression(x,y,2)"
   ],
   "metadata": {
    "collapsed": false,
    "pycharm": {
     "name": "#%%\n"
    }
   }
  },
  {
   "cell_type": "code",
   "execution_count": 10,
   "outputs": [
    {
     "data": {
      "text/plain": "se                                                504.977829\nR2                                                  0.737133\npredict    <function general_regression.<locals>.<lambda>...\na                                                1118.425118\nb                                                   2.600221\nc                                                   0.022656\nd                                                  -0.000022\ndtype: object"
     },
     "execution_count": 10,
     "metadata": {},
     "output_type": "execute_result"
    }
   ],
   "source": [
    "#cubic\n",
    "general_regression(x,y,3)"
   ],
   "metadata": {
    "collapsed": false,
    "pycharm": {
     "name": "#%%\n"
    }
   }
  },
  {
   "cell_type": "code",
   "execution_count": 11,
   "outputs": [
    {
     "data": {
      "text/plain": "se                                                529.452122\nR2                                                  0.711036\npredict    <function general_regression.<locals>.<lambda>...\na                                                   7.008575\nb                                                   0.003554\ndtype: object"
     },
     "execution_count": 11,
     "metadata": {},
     "output_type": "execute_result"
    }
   ],
   "source": [
    "#exponential\n",
    "general_regression(x,y,1,exp=True)"
   ],
   "metadata": {
    "collapsed": false,
    "pycharm": {
     "name": "#%%\n"
    }
   }
  },
  {
   "cell_type": "code",
   "execution_count": 12,
   "outputs": [],
   "source": [
    "#logarithmic\n",
    "#not in the slides ;)))"
   ],
   "metadata": {
    "collapsed": false,
    "pycharm": {
     "name": "#%%\n"
    }
   }
  },
  {
   "cell_type": "code",
   "execution_count": 13,
   "outputs": [
    {
     "data": {
      "text/plain": "<Figure size 432x288 with 1 Axes>",
      "image/png": "[encoded data removed]"
     },
     "metadata": {
      "needs_background": "light"
     },
     "output_type": "display_data"
    }
   ],
   "source": [
    "def plot_regressionline(reg_result, min, max, linecol=\"red\", errorcol=\"#FFFF0080\"):\n",
    "    se = reg_result.se\n",
    "    predict = reg_result.predict\n",
    "    x = np.arange(min, max, (max-min)/100)\n",
    "    y = predict(x)\n",
    "    plt.fill_between(x, y-se, y+se, color=errorcol)\n",
    "    plt.plot(x, y, color=linecol)\n",
    "result = general_regression(x,y,1,exp=True)\n",
    "plt.figure()\n",
    "plt.scatter(x,y)\n",
    "plot_regressionline(result,x.min(),x.max())\n",
    "plt.xlabel('number connections')\n",
    "plt.ylabel('salary(EUR)')\n",
    "plt.show()"
   ],
   "metadata": {
    "collapsed": false,
    "pycharm": {
     "name": "#%%\n"
    }
   }
  },
  {
   "cell_type": "markdown",
   "source": [
    "## STUDENT QUESTIONNAIRE"
   ],
   "metadata": {
    "collapsed": false
   }
  },
  {
   "cell_type": "code",
   "execution_count": 14,
   "outputs": [],
   "source": [
    "sq = pd.read_csv('Questionnaire 21-22.csv',delimiter=';',decimal=',')"
   ],
   "metadata": {
    "collapsed": false,
    "pycharm": {
     "name": "#%%\n"
    }
   }
  },
  {
   "cell_type": "code",
   "execution_count": 14,
   "outputs": [],
   "source": [],
   "metadata": {
    "collapsed": false,
    "pycharm": {
     "name": "#%%\n"
    }
   }
  }
 ],
 "metadata": {
  "kernelspec": {
   "display_name": "Python 3",
   "language": "python",
   "name": "python3"
  },
  "language_info": {
   "codemirror_mode": {
    "name": "ipython",
    "version": 2
   },
   "file_extension": ".py",
   "mimetype": "text/x-python",
   "name": "python",
   "nbconvert_exporter": "python",
   "pygments_lexer": "ipython2",
   "version": "2.7.6"
  }
 },
 "nbformat": 4,
 "nbformat_minor": 0
}