{
 "cells": [
  {
   "cell_type": "code",
   "execution_count": 28,
   "metadata": {
    "collapsed": true
   },
   "outputs": [
    {
     "data": {
      "text/plain": "0    0.15\ndtype: float64"
     },
     "execution_count": 28,
     "metadata": {},
     "output_type": "execute_result"
    }
   ],
   "source": [
    "import pandas as pd\n",
    "sy = pd.read_fwf('solaryield.txt',header=None,decimal='.')\n",
    "sy.min()"
   ]
  },
  {
   "cell_type": "code",
   "execution_count": 29,
   "outputs": [
    {
     "data": {
      "text/plain": "0    15.97\ndtype: float64"
     },
     "execution_count": 29,
     "metadata": {},
     "output_type": "execute_result"
    }
   ],
   "source": [
    "sy.max()"
   ],
   "metadata": {
    "collapsed": false,
    "pycharm": {
     "name": "#%%\n"
    }
   }
  },
  {
   "cell_type": "markdown",
   "source": [
    "Question 1: Determine the frequency per class and show this in a table.\n",
    "Question 2: Plot the frequencies in a diagram (which kind of diagram is appropriate here?)."
   ],
   "metadata": {
    "collapsed": false
   }
  },
  {
   "cell_type": "code",
   "execution_count": 48,
   "outputs": [
    {
     "data": {
      "text/plain": "(-0.001, 1.0]    254\n(1.0, 2.0]       151\n(2.0, 3.0]       114\n(3.0, 4.0]        94\n(4.0, 5.0]        84\n(5.0, 6.0]        95\n(6.0, 7.0]       101\n(7.0, 8.0]       112\n(8.0, 9.0]        81\n(9.0, 10.0]       54\n(10.0, 11.0]      42\n(11.0, 12.0]      30\n(12.0, 13.0]       3\n(13.0, 14.0]       0\n(14.0, 15.0]       0\n(15.0, 16.0]       1\nName: 0, dtype: int64"
     },
     "execution_count": 48,
     "metadata": {},
     "output_type": "execute_result"
    }
   ],
   "source": [
    "cutpoints=range(int(sy.min()),int(sy.max().round(1)+1),1)\n",
    "classes = pd.cut(sy[0], bins=cutpoints,include_lowest=True)\n",
    "classes.value_counts().sort_index()"
   ],
   "metadata": {
    "collapsed": false,
    "pycharm": {
     "name": "#%%\n"
    }
   }
  },
  {
   "cell_type": "code",
   "execution_count": 31,
   "outputs": [
    {
     "data": {
      "text/plain": "<AxesSubplot:>"
     },
     "execution_count": 31,
     "metadata": {},
     "output_type": "execute_result"
    },
    {
     "data": {
      "text/plain": "<Figure size 432x288 with 1 Axes>",
      "image/png": "[encoded data removed]"
     },
     "metadata": {
      "needs_background": "light"
     },
     "output_type": "display_data"
    }
   ],
   "source": [
    "classes.value_counts().sort_index().plot()"
   ],
   "metadata": {
    "collapsed": false,
    "pycharm": {
     "name": "#%%\n"
    }
   }
  },
  {
   "cell_type": "markdown",
   "source": [
    "(a) on most days of the year the daily yield is in the class ...\n",
    "(b) there were ... days with a yield between 3 and 4 KWh.\n",
    "(c) there were ... days with a yield between 2 and 4 KWh.\n",
    "#a -> 0,1\n",
    "#b -> 94\n",
    "#c -> 208"
   ],
   "metadata": {
    "collapsed": false
   }
  },
  {
   "cell_type": "markdown",
   "source": [
    "(d) ...% of days where the yield was between 3 and 4 KWh.\n",
    "(e) ...% of days where the yield was between 2 and 4 KWh.\n",
    "(f) Suppose I measure a yield of 3 KWh on a certain day. What percentile score corresponds to\n",
    "this? Is that a large yield?\n"
   ],
   "metadata": {
    "collapsed": false
   }
  },
  {
   "cell_type": "code",
   "execution_count": null,
   "outputs": [],
   "source": [
    "classes.value_counts().sort_index().cumsum()"
   ],
   "metadata": {
    "collapsed": false,
    "pycharm": {
     "name": "#%%\n",
     "is_executing": true
    }
   }
  },
  {
   "cell_type": "code",
   "execution_count": 31,
   "outputs": [],
   "source": [],
   "metadata": {
    "collapsed": false,
    "pycharm": {
     "name": "#%%\n"
    }
   }
  }
 ],
 "metadata": {
  "kernelspec": {
   "display_name": "Python 3",
   "language": "python",
   "name": "python3"
  },
  "language_info": {
   "codemirror_mode": {
    "name": "ipython",
    "version": 2
   },
   "file_extension": ".py",
   "mimetype": "text/x-python",
   "name": "python",
   "nbconvert_exporter": "python",
   "pygments_lexer": "ipython2",
   "version": "2.7.6"
  }
 },
 "nbformat": 4,
 "nbformat_minor": 0
}