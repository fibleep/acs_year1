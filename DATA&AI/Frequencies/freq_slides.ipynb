{
 "cells": [
  {
   "cell_type": "code",
   "execution_count": 3,
   "metadata": {
    "collapsed": true
   },
   "outputs": [],
   "source": [
    "import pandas as pd\n",
    "laptops = pd.read_csv(\"laptops.csv\",sep=';',decimal=',',header=0)"
   ]
  },
  {
   "cell_type": "code",
   "execution_count": 4,
   "outputs": [
    {
     "name": "stdout",
     "output_type": "stream",
     "text": [
      "<class 'pandas.core.frame.DataFrame'>\n",
      "RangeIndex: 857 entries, 0 to 856\n",
      "Data columns (total 5 columns):\n",
      " #   Column         Non-Null Count  Dtype  \n",
      "---  ------         --------------  -----  \n",
      " 0   cpuGeneration  852 non-null    object \n",
      " 1   cpuType        853 non-null    object \n",
      " 2   RAM            855 non-null    float64\n",
      " 3   diskspace      851 non-null    float64\n",
      " 4   brand          856 non-null    object \n",
      "dtypes: float64(2), object(3)\n",
      "memory usage: 33.6+ KB\n"
     ]
    }
   ],
   "source": [
    "laptops.info()"
   ],
   "metadata": {
    "collapsed": false,
    "pycharm": {
     "name": "#%%\n"
    }
   }
  },
  {
   "cell_type": "code",
   "execution_count": 5,
   "outputs": [],
   "source": [
    "brands = ['Acer','Apple','Asus','Dell','HP','Lenovo','Medion','Toshiba']\n",
    "laptops.brand=pd.Categorical(laptops.brand,categories = brands)"
   ],
   "metadata": {
    "collapsed": false,
    "pycharm": {
     "name": "#%%\n"
    }
   }
  },
  {
   "cell_type": "code",
   "execution_count": 6,
   "outputs": [],
   "source": [
    "cpuGen = ['Sandy Bridge','Ivy Bridge','Haswell','Broadwell','Skylake','Kabylake']\n",
    "laptops['cpuGeneration']=laptops['cpuGeneration'].astype(pd.CategoricalDtype(categories=cpuGen,ordered=True))\n",
    "cpuTypeLevels=['i3','i5','i7']\n",
    "laptops.cpuType=pd.Categorical(laptops.cpuType,ordered=True,categories=cpuTypeLevels)"
   ],
   "metadata": {
    "collapsed": false,
    "pycharm": {
     "name": "#%%\n"
    }
   }
  },
  {
   "cell_type": "code",
   "execution_count": 7,
   "outputs": [],
   "source": [
    "# FREQUENCIES"
   ],
   "metadata": {
    "collapsed": false,
    "pycharm": {
     "name": "#%%\n"
    }
   }
  },
  {
   "cell_type": "code",
   "execution_count": 8,
   "outputs": [
    {
     "data": {
      "text/plain": "i5    556\ni3    213\ni7     84\nName: cpuType, dtype: int64"
     },
     "execution_count": 8,
     "metadata": {},
     "output_type": "execute_result"
    }
   ],
   "source": [
    "laptops.cpuType.value_counts()"
   ],
   "metadata": {
    "collapsed": false,
    "pycharm": {
     "name": "#%%\n"
    }
   }
  },
  {
   "cell_type": "code",
   "execution_count": 9,
   "outputs": [
    {
     "data": {
      "text/plain": "i5     556\ni3     213\ni7      84\nNaN      4\nName: cpuType, dtype: int64"
     },
     "execution_count": 9,
     "metadata": {},
     "output_type": "execute_result"
    }
   ],
   "source": [
    "laptops.cpuType.value_counts(dropna=False)"
   ],
   "metadata": {
    "collapsed": false,
    "pycharm": {
     "name": "#%%\n"
    }
   }
  },
  {
   "cell_type": "code",
   "execution_count": 10,
   "outputs": [
    {
     "data": {
      "text/plain": "i3    213\ni5    556\ni7     84\nName: cpuType, dtype: int64"
     },
     "execution_count": 10,
     "metadata": {},
     "output_type": "execute_result"
    }
   ],
   "source": [
    "laptops.cpuType.value_counts().sort_index() # absolute freqs"
   ],
   "metadata": {
    "collapsed": false,
    "pycharm": {
     "name": "#%%\n"
    }
   }
  },
  {
   "cell_type": "code",
   "execution_count": 11,
   "outputs": [
    {
     "data": {
      "text/plain": "HP         0.227804\nDell       0.188084\nAcer       0.151869\nToshiba    0.151869\nLenovo     0.091121\nApple      0.075935\nAsus       0.075935\nMedion     0.037383\nName: brand, dtype: float64"
     },
     "execution_count": 11,
     "metadata": {},
     "output_type": "execute_result"
    }
   ],
   "source": [
    "laptops.brand.value_counts(normalize=True)"
   ],
   "metadata": {
    "collapsed": false,
    "pycharm": {
     "name": "#%%\n"
    }
   }
  },
  {
   "cell_type": "code",
   "execution_count": 12,
   "outputs": [
    {
     "data": {
      "text/plain": "HP         22.8\nDell       18.8\nAcer       15.2\nToshiba    15.2\nLenovo      9.1\nApple       7.6\nAsus        7.6\nMedion      3.7\nName: brand, dtype: float64"
     },
     "execution_count": 12,
     "metadata": {},
     "output_type": "execute_result"
    }
   ],
   "source": [
    "(laptops.brand.value_counts(normalize=True)*100).round(1) # relative freqs"
   ],
   "metadata": {
    "collapsed": false,
    "pycharm": {
     "name": "#%%\n"
    }
   }
  },
  {
   "cell_type": "code",
   "execution_count": 13,
   "outputs": [
    {
     "data": {
      "text/plain": "Sandy Bridge     63\nIvy Bridge      170\nHaswell         336\nBroadwell       554\nSkylake         709\nKabylake        852\nName: cpuGeneration, dtype: int64"
     },
     "execution_count": 13,
     "metadata": {},
     "output_type": "execute_result"
    }
   ],
   "source": [
    "laptops.cpuGeneration.value_counts().sort_index().cumsum() # absolute cumulative frequency"
   ],
   "metadata": {
    "collapsed": false,
    "pycharm": {
     "name": "#%%\n"
    }
   }
  },
  {
   "cell_type": "code",
   "execution_count": 14,
   "outputs": [
    {
     "data": {
      "text/plain": "Sandy Bridge      7.4\nIvy Bridge       20.0\nHaswell          39.4\nBroadwell        65.0\nSkylake          83.2\nKabylake        100.0\nName: cpuGeneration, dtype: float64"
     },
     "execution_count": 14,
     "metadata": {},
     "output_type": "execute_result"
    }
   ],
   "source": [
    "(laptops.cpuGeneration.value_counts(normalize=True).sort_index().cumsum()*100).round(1) # cumulative percentages"
   ],
   "metadata": {
    "collapsed": false,
    "pycharm": {
     "name": "#%%\n"
    }
   }
  },
  {
   "cell_type": "code",
   "execution_count": 15,
   "outputs": [
    {
     "data": {
      "text/plain": "              abs freq  rel freq:  abs cum freq  rel cum freq\nSandy Bridge        63        7.4            63           7.4\nIvy Bridge         107       12.5           170          19.8\nHaswell            166       19.4           336          39.2\nBroadwell          218       25.4           554          64.6\nSkylake            155       18.1           709          82.7\nKabylake           143       16.7           852          99.4\nNaN                  5        0.6           857         100.0",
      "text/html": "<div>\n<style scoped>\n    .dataframe tbody tr th:only-of-type {\n        vertical-align: middle;\n    }\n\n    .dataframe tbody tr th {\n        vertical-align: top;\n    }\n\n    .dataframe thead th {\n        text-align: right;\n    }\n</style>\n<table border=\"1\" class=\"dataframe\">\n  <thead>\n    <tr style=\"text-align: right;\">\n      <th></th>\n      <th>abs freq</th>\n      <th>rel freq:</th>\n      <th>abs cum freq</th>\n      <th>rel cum freq</th>\n    </tr>\n  </thead>\n  <tbody>\n    <tr>\n      <th>Sandy Bridge</th>\n      <td>63</td>\n      <td>7.4</td>\n      <td>63</td>\n      <td>7.4</td>\n    </tr>\n    <tr>\n      <th>Ivy Bridge</th>\n      <td>107</td>\n      <td>12.5</td>\n      <td>170</td>\n      <td>19.8</td>\n    </tr>\n    <tr>\n      <th>Haswell</th>\n      <td>166</td>\n      <td>19.4</td>\n      <td>336</td>\n      <td>39.2</td>\n    </tr>\n    <tr>\n      <th>Broadwell</th>\n      <td>218</td>\n      <td>25.4</td>\n      <td>554</td>\n      <td>64.6</td>\n    </tr>\n    <tr>\n      <th>Skylake</th>\n      <td>155</td>\n      <td>18.1</td>\n      <td>709</td>\n      <td>82.7</td>\n    </tr>\n    <tr>\n      <th>Kabylake</th>\n      <td>143</td>\n      <td>16.7</td>\n      <td>852</td>\n      <td>99.4</td>\n    </tr>\n    <tr>\n      <th>NaN</th>\n      <td>5</td>\n      <td>0.6</td>\n      <td>857</td>\n      <td>100.0</td>\n    </tr>\n  </tbody>\n</table>\n</div>"
     },
     "execution_count": 15,
     "metadata": {},
     "output_type": "execute_result"
    }
   ],
   "source": [
    "# function that gets a vector as a parameter and puts all frequencies in a table\n",
    "def all_freq(x):\n",
    "    t_abs=x.value_counts(dropna=False).sort_index()\n",
    "    t_rel=(x.value_counts(dropna=False,normalize=True).sort_index()*100).round(1)\n",
    "    t_abs_cum = x.value_counts(dropna=False).sort_index().cumsum()\n",
    "    t_rel_cum = (x.value_counts(dropna=False,normalize=True).sort_index().cumsum()*100).round(1)\n",
    "    return pd.DataFrame({'abs freq':t_abs,'rel freq:':t_rel , 'abs cum freq':t_abs_cum , 'rel cum freq':t_rel_cum})\n",
    "all_freq(laptops.cpuGeneration)"
   ],
   "metadata": {
    "collapsed": false,
    "pycharm": {
     "name": "#%%\n"
    }
   }
  },
  {
   "cell_type": "code",
   "execution_count": 16,
   "outputs": [],
   "source": [
    "# CROSS TABLES\n",
    "# one dimensional table"
   ],
   "metadata": {
    "collapsed": false,
    "pycharm": {
     "name": "#%%\n"
    }
   }
  },
  {
   "cell_type": "code",
   "execution_count": 17,
   "outputs": [
    {
     "data": {
      "text/plain": "i3     213\ni5     556\ni7      84\nNaN      4\nName: cpuType, dtype: int64"
     },
     "execution_count": 17,
     "metadata": {},
     "output_type": "execute_result"
    }
   ],
   "source": [
    "laptops.cpuType.value_counts(dropna=False).sort_index()"
   ],
   "metadata": {
    "collapsed": false,
    "pycharm": {
     "name": "#%%\n"
    }
   }
  },
  {
   "cell_type": "code",
   "execution_count": 18,
   "outputs": [],
   "source": [
    "# multidimensional table"
   ],
   "metadata": {
    "collapsed": false,
    "pycharm": {
     "name": "#%%\n"
    }
   }
  },
  {
   "cell_type": "code",
   "execution_count": 19,
   "outputs": [
    {
     "data": {
      "text/plain": "cpuType   i3   i5  i7  All\nbrand                     \nAcer      39   80  10  129\nApple     16   41   8   65\nAsus      17   43   5   65\nDell      47   98  16  161\nHP        43  132  17  192\nLenovo    15   53  10   78\nMedion     8   22   2   32\nToshiba   27   87  16  130\nAll      212  556  84  852",
      "text/html": "<div>\n<style scoped>\n    .dataframe tbody tr th:only-of-type {\n        vertical-align: middle;\n    }\n\n    .dataframe tbody tr th {\n        vertical-align: top;\n    }\n\n    .dataframe thead th {\n        text-align: right;\n    }\n</style>\n<table border=\"1\" class=\"dataframe\">\n  <thead>\n    <tr style=\"text-align: right;\">\n      <th>cpuType</th>\n      <th>i3</th>\n      <th>i5</th>\n      <th>i7</th>\n      <th>All</th>\n    </tr>\n    <tr>\n      <th>brand</th>\n      <th></th>\n      <th></th>\n      <th></th>\n      <th></th>\n    </tr>\n  </thead>\n  <tbody>\n    <tr>\n      <th>Acer</th>\n      <td>39</td>\n      <td>80</td>\n      <td>10</td>\n      <td>129</td>\n    </tr>\n    <tr>\n      <th>Apple</th>\n      <td>16</td>\n      <td>41</td>\n      <td>8</td>\n      <td>65</td>\n    </tr>\n    <tr>\n      <th>Asus</th>\n      <td>17</td>\n      <td>43</td>\n      <td>5</td>\n      <td>65</td>\n    </tr>\n    <tr>\n      <th>Dell</th>\n      <td>47</td>\n      <td>98</td>\n      <td>16</td>\n      <td>161</td>\n    </tr>\n    <tr>\n      <th>HP</th>\n      <td>43</td>\n      <td>132</td>\n      <td>17</td>\n      <td>192</td>\n    </tr>\n    <tr>\n      <th>Lenovo</th>\n      <td>15</td>\n      <td>53</td>\n      <td>10</td>\n      <td>78</td>\n    </tr>\n    <tr>\n      <th>Medion</th>\n      <td>8</td>\n      <td>22</td>\n      <td>2</td>\n      <td>32</td>\n    </tr>\n    <tr>\n      <th>Toshiba</th>\n      <td>27</td>\n      <td>87</td>\n      <td>16</td>\n      <td>130</td>\n    </tr>\n    <tr>\n      <th>All</th>\n      <td>212</td>\n      <td>556</td>\n      <td>84</td>\n      <td>852</td>\n    </tr>\n  </tbody>\n</table>\n</div>"
     },
     "execution_count": 19,
     "metadata": {},
     "output_type": "execute_result"
    }
   ],
   "source": [
    "pd.crosstab(laptops.brand,laptops.cpuType,margins=True)"
   ],
   "metadata": {
    "collapsed": false,
    "pycharm": {
     "name": "#%%\n"
    }
   }
  },
  {
   "cell_type": "code",
   "execution_count": 20,
   "outputs": [
    {
     "data": {
      "text/plain": "RAM              1.0  2.0  4.0  8.0  16.0  All\nbrand   cpuType                               \nAcer    i3         4    5   14    9     7   39\n        i5         8   15   32   13    12   80\n        i7         3    0    7    0     0   10\nApple   i3         1    4    6    2     3   16\n        i5         1    4   19   12     4   40\n        i7         0    0    3    2     3    8\nAsus    i3         0    3    5    5     4   17\n        i5         2    5   13   12    11   43\n        i7         0    2    1    2     0    5\nDell    i3         4   10   11   14     8   47\n        i5        10   15   34   30     9   98\n        i7         1    2    4    5     4   16\nHP      i3         0    8   20   11     4   43\n        i5        12   16   49   28    27  132\n        i7         4    1    5    6     1   17\nLenovo  i3         0    2    7    5     1   15\n        i5         4   10   21   12     5   52\n        i7         2    2    3    2     1   10\nMedion  i3         1    2    1    2     2    8\n        i5         2    4    8    8     0   22\n        i7         2    0    0    0     0    2\nToshiba i3         3    7   10    4     3   27\n        i5         7   14   37   14    15   87\n        i7         2    3    7    3     1   16\nAll               73  134  317  201   125  850",
      "text/html": "<div>\n<style scoped>\n    .dataframe tbody tr th:only-of-type {\n        vertical-align: middle;\n    }\n\n    .dataframe tbody tr th {\n        vertical-align: top;\n    }\n\n    .dataframe thead th {\n        text-align: right;\n    }\n</style>\n<table border=\"1\" class=\"dataframe\">\n  <thead>\n    <tr style=\"text-align: right;\">\n      <th></th>\n      <th>RAM</th>\n      <th>1.0</th>\n      <th>2.0</th>\n      <th>4.0</th>\n      <th>8.0</th>\n      <th>16.0</th>\n      <th>All</th>\n    </tr>\n    <tr>\n      <th>brand</th>\n      <th>cpuType</th>\n      <th></th>\n      <th></th>\n      <th></th>\n      <th></th>\n      <th></th>\n      <th></th>\n    </tr>\n  </thead>\n  <tbody>\n    <tr>\n      <th rowspan=\"3\" valign=\"top\">Acer</th>\n      <th>i3</th>\n      <td>4</td>\n      <td>5</td>\n      <td>14</td>\n      <td>9</td>\n      <td>7</td>\n      <td>39</td>\n    </tr>\n    <tr>\n      <th>i5</th>\n      <td>8</td>\n      <td>15</td>\n      <td>32</td>\n      <td>13</td>\n      <td>12</td>\n      <td>80</td>\n    </tr>\n    <tr>\n      <th>i7</th>\n      <td>3</td>\n      <td>0</td>\n      <td>7</td>\n      <td>0</td>\n      <td>0</td>\n      <td>10</td>\n    </tr>\n    <tr>\n      <th rowspan=\"3\" valign=\"top\">Apple</th>\n      <th>i3</th>\n      <td>1</td>\n      <td>4</td>\n      <td>6</td>\n      <td>2</td>\n      <td>3</td>\n      <td>16</td>\n    </tr>\n    <tr>\n      <th>i5</th>\n      <td>1</td>\n      <td>4</td>\n      <td>19</td>\n      <td>12</td>\n      <td>4</td>\n      <td>40</td>\n    </tr>\n    <tr>\n      <th>i7</th>\n      <td>0</td>\n      <td>0</td>\n      <td>3</td>\n      <td>2</td>\n      <td>3</td>\n      <td>8</td>\n    </tr>\n    <tr>\n      <th rowspan=\"3\" valign=\"top\">Asus</th>\n      <th>i3</th>\n      <td>0</td>\n      <td>3</td>\n      <td>5</td>\n      <td>5</td>\n      <td>4</td>\n      <td>17</td>\n    </tr>\n    <tr>\n      <th>i5</th>\n      <td>2</td>\n      <td>5</td>\n      <td>13</td>\n      <td>12</td>\n      <td>11</td>\n      <td>43</td>\n    </tr>\n    <tr>\n      <th>i7</th>\n      <td>0</td>\n      <td>2</td>\n      <td>1</td>\n      <td>2</td>\n      <td>0</td>\n      <td>5</td>\n    </tr>\n    <tr>\n      <th rowspan=\"3\" valign=\"top\">Dell</th>\n      <th>i3</th>\n      <td>4</td>\n      <td>10</td>\n      <td>11</td>\n      <td>14</td>\n      <td>8</td>\n      <td>47</td>\n    </tr>\n    <tr>\n      <th>i5</th>\n      <td>10</td>\n      <td>15</td>\n      <td>34</td>\n      <td>30</td>\n      <td>9</td>\n      <td>98</td>\n    </tr>\n    <tr>\n      <th>i7</th>\n      <td>1</td>\n      <td>2</td>\n      <td>4</td>\n      <td>5</td>\n      <td>4</td>\n      <td>16</td>\n    </tr>\n    <tr>\n      <th rowspan=\"3\" valign=\"top\">HP</th>\n      <th>i3</th>\n      <td>0</td>\n      <td>8</td>\n      <td>20</td>\n      <td>11</td>\n      <td>4</td>\n      <td>43</td>\n    </tr>\n    <tr>\n      <th>i5</th>\n      <td>12</td>\n      <td>16</td>\n      <td>49</td>\n      <td>28</td>\n      <td>27</td>\n      <td>132</td>\n    </tr>\n    <tr>\n      <th>i7</th>\n      <td>4</td>\n      <td>1</td>\n      <td>5</td>\n      <td>6</td>\n      <td>1</td>\n      <td>17</td>\n    </tr>\n    <tr>\n      <th rowspan=\"3\" valign=\"top\">Lenovo</th>\n      <th>i3</th>\n      <td>0</td>\n      <td>2</td>\n      <td>7</td>\n      <td>5</td>\n      <td>1</td>\n      <td>15</td>\n    </tr>\n    <tr>\n      <th>i5</th>\n      <td>4</td>\n      <td>10</td>\n      <td>21</td>\n      <td>12</td>\n      <td>5</td>\n      <td>52</td>\n    </tr>\n    <tr>\n      <th>i7</th>\n      <td>2</td>\n      <td>2</td>\n      <td>3</td>\n      <td>2</td>\n      <td>1</td>\n      <td>10</td>\n    </tr>\n    <tr>\n      <th rowspan=\"3\" valign=\"top\">Medion</th>\n      <th>i3</th>\n      <td>1</td>\n      <td>2</td>\n      <td>1</td>\n      <td>2</td>\n      <td>2</td>\n      <td>8</td>\n    </tr>\n    <tr>\n      <th>i5</th>\n      <td>2</td>\n      <td>4</td>\n      <td>8</td>\n      <td>8</td>\n      <td>0</td>\n      <td>22</td>\n    </tr>\n    <tr>\n      <th>i7</th>\n      <td>2</td>\n      <td>0</td>\n      <td>0</td>\n      <td>0</td>\n      <td>0</td>\n      <td>2</td>\n    </tr>\n    <tr>\n      <th rowspan=\"3\" valign=\"top\">Toshiba</th>\n      <th>i3</th>\n      <td>3</td>\n      <td>7</td>\n      <td>10</td>\n      <td>4</td>\n      <td>3</td>\n      <td>27</td>\n    </tr>\n    <tr>\n      <th>i5</th>\n      <td>7</td>\n      <td>14</td>\n      <td>37</td>\n      <td>14</td>\n      <td>15</td>\n      <td>87</td>\n    </tr>\n    <tr>\n      <th>i7</th>\n      <td>2</td>\n      <td>3</td>\n      <td>7</td>\n      <td>3</td>\n      <td>1</td>\n      <td>16</td>\n    </tr>\n    <tr>\n      <th>All</th>\n      <th></th>\n      <td>73</td>\n      <td>134</td>\n      <td>317</td>\n      <td>201</td>\n      <td>125</td>\n      <td>850</td>\n    </tr>\n  </tbody>\n</table>\n</div>"
     },
     "execution_count": 20,
     "metadata": {},
     "output_type": "execute_result"
    }
   ],
   "source": [
    "pd.crosstab([laptops.brand,laptops.cpuType],laptops.RAM,margins=True)"
   ],
   "metadata": {
    "collapsed": false,
    "pycharm": {
     "name": "#%%\n"
    }
   }
  },
  {
   "cell_type": "code",
   "execution_count": 21,
   "outputs": [
    {
     "data": {
      "text/plain": "(0, 100]         29\n(100, 200]       52\n(200, 300]      407\n(300, 400]        0\n(400, 500]      227\n(500, 600]       96\n(600, 700]        0\n(700, 800]        0\n(800, 900]        0\n(900, 1000]      19\n(1000, 1100]     21\nName: diskspace, dtype: int64"
     },
     "execution_count": 21,
     "metadata": {},
     "output_type": "execute_result"
    }
   ],
   "source": [
    "# CLASSES\n",
    "cutpoints = range(0,1200,100)\n",
    "classes = pd.cut(laptops.diskspace, bins=cutpoints)\n",
    "classes.value_counts().sort_index()"
   ],
   "metadata": {
    "collapsed": false,
    "pycharm": {
     "name": "#%%\n"
    }
   }
  },
  {
   "cell_type": "code",
   "execution_count": 22,
   "outputs": [],
   "source": [
    "# CHARTS AND PIES AND PIE CHARTS"
   ],
   "metadata": {
    "collapsed": false,
    "pycharm": {
     "name": "#%%\n"
    }
   }
  },
  {
   "cell_type": "code",
   "execution_count": 23,
   "outputs": [
    {
     "data": {
      "text/plain": "<Figure size 432x288 with 1 Axes>",
      "image/png": "[encoded data removed]"
     },
     "metadata": {},
     "output_type": "display_data"
    }
   ],
   "source": [
    "import matplotlib.pyplot as plt\n",
    "x = laptops.RAM.value_counts().sort_index()\n",
    "lab = ['1GB','2GB','4GB','8GB','16GB']\n",
    "plt.figure()\n",
    "plt.pie(x, labels=lab)\n",
    "plt.title('RAM in laptops')\n",
    "plt.show()"
   ],
   "metadata": {
    "collapsed": false,
    "pycharm": {
     "name": "#%%\n"
    }
   }
  },
  {
   "cell_type": "code",
   "execution_count": 23,
   "outputs": [],
   "source": [
    "# BAR GRAPH"
   ],
   "metadata": {
    "collapsed": false,
    "pycharm": {
     "name": "#%%\n"
    }
   }
  },
  {
   "cell_type": "code",
   "execution_count": 24,
   "outputs": [
    {
     "data": {
      "text/plain": "<Figure size 432x288 with 1 Axes>",
      "image/png": "[encoded data removed]"
     },
     "metadata": {
      "needs_background": "light"
     },
     "output_type": "display_data"
    }
   ],
   "source": [
    "x = laptops.RAM.value_counts().sort_index()\n",
    "lab = ['1GB','2GB','4GB','8GB','16GB']\n",
    "plt.figure()\n",
    "plt.bar(lab,x)\n",
    "plt.title('RAM in laptops')\n",
    "plt.xlabel('RAM memory (GB)')\n",
    "plt.ylabel('Number')\n",
    "plt.show()"
   ],
   "metadata": {
    "collapsed": false,
    "pycharm": {
     "name": "#%%\n"
    }
   }
  },
  {
   "cell_type": "code",
   "execution_count": 25,
   "outputs": [
    {
     "data": {
      "text/plain": "<Figure size 432x288 with 0 Axes>"
     },
     "metadata": {},
     "output_type": "display_data"
    },
    {
     "data": {
      "text/plain": "<Figure size 432x288 with 1 Axes>",
      "image/png": "[encoded data removed]"
     },
     "metadata": {
      "needs_background": "light"
     },
     "output_type": "display_data"
    }
   ],
   "source": [
    "plt.figure()\n",
    "ctC = pd.crosstab([laptops.brand, laptops.cpuType], laptops.RAM, margins=False)\n",
    "ctC.plot.bar(title='RAM in laptops', xlabel='Brand',stacked=True)\n",
    "plt.show()"
   ],
   "metadata": {
    "collapsed": false,
    "pycharm": {
     "name": "#%%\n"
    }
   }
  },
  {
   "cell_type": "code",
   "execution_count": 26,
   "outputs": [],
   "source": [
    "# HISTOGRAM"
   ],
   "metadata": {
    "collapsed": false,
    "pycharm": {
     "name": "#%%\n"
    }
   }
  },
  {
   "cell_type": "code",
   "execution_count": 27,
   "outputs": [
    {
     "data": {
      "text/plain": "<Figure size 432x288 with 1 Axes>",
      "image/png": "[encoded data removed]"
     },
     "metadata": {
      "needs_background": "light"
     },
     "output_type": "display_data"
    }
   ],
   "source": [
    "plt.figure()\n",
    "laptops.RAM.plot.hist(title='RAM in laptops', xlabel = 'Disk space (GB)', ylabel = 'Frequency', stacked=True)\n",
    "plt.show()"
   ],
   "metadata": {
    "collapsed": false,
    "pycharm": {
     "name": "#%%\n"
    }
   }
  },
  {
   "cell_type": "code",
   "execution_count": null,
   "outputs": [],
   "source": [
    "cutpoints = [0,185,375,750,1100]\n",
    "plt.figure()\n",
    "laptops.diskspace.plot.hist(bins=cutpoints, title='Diskspace in laptops', xlabel='Disk space (GB)',ylabel='Frequency',stacked=True)\n",
    "plt.show()"
   ],
   "metadata": {
    "collapsed": false,
    "pycharm": {
     "name": "#%%\n",
     "is_executing": true
    }
   }
  },
  {
   "cell_type": "code",
   "execution_count": null,
   "outputs": [],
   "source": [],
   "metadata": {
    "collapsed": false,
    "pycharm": {
     "name": "#%%\n"
    }
   }
  }
 ],
 "metadata": {
  "kernelspec": {
   "display_name": "Python 3",
   "language": "python",
   "name": "python3"
  },
  "language_info": {
   "codemirror_mode": {
    "name": "ipython",
    "version": 2
   },
   "file_extension": ".py",
   "mimetype": "text/x-python",
   "name": "python",
   "nbconvert_exporter": "python",
   "pygments_lexer": "ipython2",
   "version": "2.7.6"
  }
 },
 "nbformat": 4,
 "nbformat_minor": 0
}