{
 "cells": [
  {
   "cell_type": "code",
   "execution_count": 1,
   "metadata": {
    "collapsed": true,
    "pycharm": {
     "name": "#%%\n"
    }
   },
   "outputs": [],
   "source": [
    "import matplotlib.pyplot as plt\n",
    "import numpy as np\n",
    "import pandas as pd"
   ]
  },
  {
   "cell_type": "markdown",
   "source": [
    "## Distance Functions"
   ],
   "metadata": {
    "collapsed": false,
    "pycharm": {
     "name": "#%% md\n"
    }
   }
  },
  {
   "cell_type": "code",
   "execution_count": 2,
   "outputs": [],
   "source": [
    "def euclidean_distance(x, y) -> float:\n",
    "    \"\"\"\n",
    "    Calculate the Euclidean distance between two vectors.\n",
    "    :param x: x\n",
    "    :param y: y\n",
    "    :return: calculated distance\n",
    "    \"\"\"\n",
    "    return np.sqrt(np.sum((x - y) ** 2))\n",
    "\n",
    "\n",
    "def manhattan_distance(x, y):\n",
    "    \"\"\"\n",
    "    Calculate the Manhattan distance between two vectors.\n",
    "    :param x: x\n",
    "    :param y: y\n",
    "    :return: calculated distance\n",
    "    \"\"\"\n",
    "    return np.sum(np.abs(x - y))"
   ],
   "metadata": {
    "collapsed": false,
    "pycharm": {
     "name": "#%%\n"
    }
   }
  },
  {
   "cell_type": "code",
   "execution_count": 3,
   "outputs": [
    {
     "name": "stdout",
     "output_type": "stream",
     "text": [
      "Euclidean distance is 11.832159566199232\n",
      "Manhattan distance is 22\n"
     ]
    }
   ],
   "source": [
    "import scipy.spatial.distance as dist\n",
    "\n",
    "example = pd.read_csv(\"distance example.csv\")  # points are columns\n",
    "example.index = example.subject.values\n",
    "example = example.drop('subject', axis=1)\n",
    "print('Euclidean distance is', dist.euclidean(example.student1, example.student2))\n",
    "print('Manhattan distance is', dist.cityblock(example.student1, example.student2))"
   ],
   "metadata": {
    "collapsed": false,
    "pycharm": {
     "name": "#%%\n"
    }
   }
  },
  {
   "cell_type": "code",
   "execution_count": 4,
   "outputs": [
    {
     "name": "stdout",
     "output_type": "stream",
     "text": [
      "Standardized Euclidean distance is 2.9066972475455524\n"
     ]
    }
   ],
   "source": [
    "# for standardized euclidean distance:\n",
    "stanDev = [5, 2, 3, 3, 4]\n",
    "exampleZ = pd.DataFrame()\n",
    "exampleZ['student1'] = example.student1 / stanDev\n",
    "exampleZ['student2'] = example.student2 / stanDev\n",
    "exampleZ.index = example.index\n",
    "print('Standardized Euclidean distance is', dist.euclidean(exampleZ.student1, exampleZ.student2))"
   ],
   "metadata": {
    "collapsed": false,
    "pycharm": {
     "name": "#%%\n"
    }
   }
  },
  {
   "cell_type": "code",
   "execution_count": 5,
   "outputs": [
    {
     "name": "stderr",
     "output_type": "stream",
     "text": [
      "C:\\Users\\filip\\AppData\\Local\\Programs\\Python\\Python310\\lib\\site-packages\\sklearn\\neighbors\\_distance_metric.py:10: FutureWarning: sklearn.neighbors.DistanceMetric has been moved to sklearn.metrics.DistanceMetric in 1.0. This import path will be removed in 1.3\n",
      "  warnings.warn(\n"
     ]
    },
    {
     "data": {
      "text/plain": "array([[ 0., 22.],\n       [22.,  0.]])"
     },
     "execution_count": 5,
     "metadata": {},
     "output_type": "execute_result"
    }
   ],
   "source": [
    "exampletrans = example.copy().transpose()  # points are rows\n",
    "from sklearn.neighbors import DistanceMetric\n",
    "\n",
    "dist_obj = DistanceMetric.get_metric('euclidean')\n",
    "dist_obj.pairwise(exampletrans)\n",
    "dist_obj = DistanceMetric.get_metric('manhattan')\n",
    "dist_obj.pairwise(exampletrans)"
   ],
   "metadata": {
    "collapsed": false,
    "pycharm": {
     "name": "#%%\n"
    }
   }
  },
  {
   "cell_type": "code",
   "execution_count": 6,
   "outputs": [
    {
     "data": {
      "text/plain": "array([[ 0.        , 11.83215957],\n       [11.83215957,  0.        ]])"
     },
     "execution_count": 6,
     "metadata": {},
     "output_type": "execute_result"
    }
   ],
   "source": [
    "# for standardized euclidean distance:\n",
    "stanDev = [5, 2, 3, 3, 4]\n",
    "exampletransZ = exampletrans.copy()\n",
    "for i in range(0, exampletransZ.shape[1]):\n",
    "    exampletransZ.iloc[:, i] = exampletransZ.iloc[:, i] / stanDev[i]\n",
    "\n",
    "dist_obj = DistanceMetric.get_metric('euclidean')\n",
    "dist_obj.pairwise(exampletrans)"
   ],
   "metadata": {
    "collapsed": false,
    "pycharm": {
     "name": "#%%\n"
    }
   }
  },
  {
   "cell_type": "code",
   "execution_count": 7,
   "outputs": [
    {
     "data": {
      "text/plain": "array([[ 0., 22.],\n       [22.,  0.]])"
     },
     "execution_count": 7,
     "metadata": {},
     "output_type": "execute_result"
    }
   ],
   "source": [
    "dist_obj = DistanceMetric.get_metric('seuclidean', V=stanDev)\n",
    "exampletrans = example.copy().transpose()  # points are rows\n",
    "from scipy.spatial.distance import cdist\n",
    "\n",
    "cdist(exampletrans, exampletrans)\n",
    "cdist(exampletrans, exampletrans, metric='cityblock')"
   ],
   "metadata": {
    "collapsed": false,
    "pycharm": {
     "name": "#%%\n"
    }
   }
  },
  {
   "cell_type": "code",
   "execution_count": 8,
   "outputs": [
    {
     "data": {
      "text/plain": "array([[0.        , 2.90669725],\n       [2.90669725, 0.        ]])"
     },
     "execution_count": 8,
     "metadata": {},
     "output_type": "execute_result"
    }
   ],
   "source": [
    "# for standardized euclidean distance:\n",
    "stanDev = [5, 2, 3, 3, 4]\n",
    "exampletransZ = exampletrans.copy()\n",
    "for i in range(0, exampletransZ.shape[1]):\n",
    "    exampletransZ.iloc[:, i] = exampletransZ.iloc[:, i] / stanDev[i]\n",
    "\n",
    "cdist(exampletransZ, exampletransZ)"
   ],
   "metadata": {
    "collapsed": false,
    "pycharm": {
     "name": "#%%\n"
    }
   }
  },
  {
   "cell_type": "markdown",
   "source": [
    "## Cluster Analysis"
   ],
   "metadata": {
    "collapsed": false,
    "pycharm": {
     "name": "#%% md\n"
    }
   }
  },
  {
   "cell_type": "markdown",
   "source": [],
   "metadata": {
    "collapsed": false,
    "pycharm": {
     "name": "#%% md\n"
    }
   }
  },
  {
   "cell_type": "code",
   "execution_count": 9,
   "outputs": [
    {
     "name": "stdout",
     "output_type": "stream",
     "text": [
      "Number of iterations required to converge:  3\n",
      "final locations of the centroid\n",
      " [[0.40459558 0.21826799]\n",
      " [1.00385954 1.00227575]\n",
      " [1.21375339 0.10175668]\n",
      " [0.48182607 0.78341128]]\n",
      "lowest SSE value 7.808705977244584\n",
      "cluster labels for each point\n",
      " [3 3 3 3 3 3 3 3 3 3 3 3 3 3 3 3 3 3 3 3 3 3 3 3 3 3 3 3 3 3 3 3 3 3 3 3 3\n",
      " 3 3 3 3 3 3 3 3 3 3 3 3 3 3 3 3 3 3 3 3 3 3 3 3 3 3 3 3 3 3 3 3 3 3 3 3 3\n",
      " 3 3 3 3 3 3 3 3 3 3 3 3 3 3 3 3 3 3 3 3 3 3 3 3 3 3 1 1 1 1 1 1 1 1 1 1 1\n",
      " 1 1 1 1 1 1 1 1 1 1 1 1 1 1 1 1 1 1 1 1 1 1 1 1 1 1 1 1 1 1 1 1 1 1 1 1 1\n",
      " 1 1 1 1 1 1 1 1 1 1 1 1 1 1 1 1 1 1 1 1 1 1 1 1 1 1 1 1 1 1 1 1 1 1 1 1 1\n",
      " 1 1 1 1 1 1 1 1 1 1 1 1 1 1 1 0 0 0 0 0 0 0 0 0 0 0 0 0 0 0 0 0 0 0 0 0 0\n",
      " 0 0 0 0 0 0 0 0 0 0 0 0 0 0 0 0 0 0 0 0 0 0 0 0 0 0 0 0 0 0 0 0 0 0 0 0 0\n",
      " 0 0 0 0 0 0 0 0 0 0 0 0 0 0 0 0 0 0 0 0 0 0 0 0 0 0 0 0 0 0 0 0 0 0 0 0 0\n",
      " 0 0 0 0 2 2 2 2 2 2 2 2 2 2 2 2 2 2 2 2 2 2 2 2 2 2 2 2 2 2 2 2 2 2 2 2 2\n",
      " 2 2 2 2 2 2 2 2 2 2 2 2 2 2 2 2 2 2 2 2 2 2 2 2 2 2 2 2 2 2 2 2 2 2 2 2 2\n",
      " 2 2 2 2 2 2 2 2 2 2 2 2 2 2 2 2 2 2 2 2 2 2 2 2 2 2 2 2 2 2]\n"
     ]
    }
   ],
   "source": [
    "from sklearn.cluster import KMeans\n",
    "\n",
    "clusterExample = pd.read_csv(\"clustering example.csv\")\n",
    "kmeansmodel = KMeans(n_clusters=4)\n",
    "kmeansmodel.fit(clusterExample)\n",
    "print('Number of iterations required to converge: ', kmeansmodel.n_iter_)\n",
    "print('final locations of the centroid\\n', kmeansmodel.cluster_centers_)\n",
    "print('lowest SSE value', kmeansmodel.inertia_)\n",
    "print('cluster labels for each point\\n', kmeansmodel.labels_)"
   ],
   "metadata": {
    "collapsed": false,
    "pycharm": {
     "name": "#%%\n"
    }
   }
  },
  {
   "cell_type": "code",
   "execution_count": 10,
   "outputs": [
    {
     "name": "stderr",
     "output_type": "stream",
     "text": [
      "C:\\Users\\filip\\AppData\\Local\\Programs\\Python\\Python310\\lib\\site-packages\\sklearn\\base.py:450: UserWarning: X does not have valid feature names, but KMeans was fitted with feature names\n",
      "  warnings.warn(\n"
     ]
    },
    {
     "data": {
      "text/plain": "array([2])"
     },
     "execution_count": 10,
     "metadata": {},
     "output_type": "execute_result"
    }
   ],
   "source": [
    "# predict cluster label for a new point\n",
    "kmeansmodel.predict([[1.25, 0.09]])"
   ],
   "metadata": {
    "collapsed": false,
    "pycharm": {
     "name": "#%%\n"
    }
   }
  },
  {
   "cell_type": "code",
   "execution_count": 11,
   "outputs": [
    {
     "name": "stdout",
     "output_type": "stream",
     "text": [
      "[3 3 3 3 3 3 3 3 3 3 3 3 3 3 3 3 3 3 3 3 3 3 3 3 3 3 3 3 3 3 3 3 3 3 3 3 3\n",
      " 3 3 3 3 3 3 3 3 3 3 3 3 3 3 3 3 3 3 3 3 3 3 3 3 3 3 3 3 3 3 3 3 3 3 3 3 3\n",
      " 3 3 3 3 3 3 3 3 3 3 3 3 3 3 3 3 3 3 3 3 3 3 3 3 3 3 1 1 1 1 1 1 1 1 1 1 1\n",
      " 1 1 1 1 1 1 1 1 1 1 1 1 1 1 1 1 1 1 1 1 1 1 1 1 1 1 1 1 1 1 1 1 1 1 1 1 1\n",
      " 1 1 1 1 1 1 1 1 1 1 1 1 1 1 1 1 1 1 1 1 1 1 1 1 1 1 1 1 1 1 1 1 1 1 1 1 1\n",
      " 1 1 1 1 1 1 1 1 1 1 1 1 1 1 1 0 0 0 0 0 0 0 0 0 0 0 0 0 0 0 0 0 0 0 0 0 0\n",
      " 0 0 0 0 0 0 0 0 0 0 0 0 0 0 0 0 0 0 0 0 0 0 0 0 0 0 0 0 0 0 0 0 0 0 0 0 0\n",
      " 0 0 0 0 0 0 0 0 0 0 0 0 0 0 0 0 0 0 0 0 0 0 0 0 0 0 0 0 0 0 0 0 0 0 0 0 0\n",
      " 0 0 0 0 2 2 2 2 2 2 2 2 2 2 2 2 2 2 2 2 2 2 2 2 2 2 2 2 2 2 2 2 2 2 2 2 2\n",
      " 2 2 2 2 2 2 2 2 2 2 2 2 2 2 2 2 2 2 2 2 2 2 2 2 2 2 2 2 2 2 2 2 2 2 2 2 2\n",
      " 2 2 2 2 2 2 2 2 2 2 2 2 2 2 2 2 2 2 2 2 2 2 2 2 2 2 2 2 2 2]\n"
     ]
    }
   ],
   "source": [
    " # print the labels\n",
    "print(kmeansmodel.labels_)"
   ],
   "metadata": {
    "collapsed": false,
    "pycharm": {
     "name": "#%%\n"
    }
   }
  },
  {
   "cell_type": "code",
   "execution_count": 12,
   "outputs": [
    {
     "data": {
      "text/plain": "<Figure size 360x360 with 1 Axes>",
      "image/png": "[encoded data removed]"
     },
     "metadata": {
      "needs_background": "light"
     },
     "output_type": "display_data"
    }
   ],
   "source": [
    "\n",
    "# plot the points and the cluster\n",
    "fig, ax = plt.subplots(figsize=(5, 5))\n",
    "ax.set_xlabel('x')\n",
    "ax.set_ylabel('y')\n",
    "ax.grid(linestyle='--')\n",
    "ax.set_title('K-Means')\n",
    "# put unique labels in labels and retrieve the list of markers\n",
    "labels = set(kmeansmodel.labels_)\n",
    "import matplotlib.markers as m\n",
    "\n",
    "markers = list(m.MarkerStyle.markers.keys())\n",
    "# plot all points in a different color and marker\n",
    "for m, l in zip(markers, labels):\n",
    "    indices = np.where(kmeansmodel.labels_ == l)[0]  # is a tuple => [0]\n",
    "    ax.scatter(clusterExample.loc[indices, 'x'], clusterExample.loc[indices, 'y'], marker=m, s=50)\n",
    "# plot the cluster center in the middle of the clusterplot\n",
    "ax.scatter(kmeansmodel.cluster_centers_[:, 0], kmeansmodel.cluster_centers_[:, 1],\n",
    "\n",
    "           marker=\"o\", c='black', s=100)\n",
    "\n",
    "plt.show()"
   ],
   "metadata": {
    "collapsed": false,
    "pycharm": {
     "name": "#%%\n"
    }
   }
  },
  {
   "cell_type": "markdown",
   "source": [
    "### Hierarchical Clustering"
   ],
   "metadata": {
    "collapsed": false,
    "pycharm": {
     "name": "#%% md\n"
    }
   }
  },
  {
   "cell_type": "code",
   "execution_count": 13,
   "outputs": [
    {
     "name": "stdout",
     "output_type": "stream",
     "text": [
      "number of clusters found 4\n",
      "labels for each point [1 2 1 0 3 2 2 1 0 2]\n"
     ]
    }
   ],
   "source": [
    "from sklearn.cluster import AgglomerativeClustering\n",
    "\n",
    "hcExample = pd.read_csv(\"hclust.csv\")\n",
    "hcExample.index = range(1, hcExample.shape[0] + 1)\n",
    "hcmodel = AgglomerativeClustering(linkage='single',\n",
    "                                  affinity='euclidean', n_clusters=4)\n",
    "hcmodel.fit(hcExample)\n",
    "\n",
    "print('number of clusters found', hcmodel.n_clusters)\n",
    "print('labels for each point', hcmodel.labels_)"
   ],
   "metadata": {
    "collapsed": false,
    "pycharm": {
     "name": "#%%\n"
    }
   }
  },
  {
   "cell_type": "code",
   "execution_count": 14,
   "outputs": [
    {
     "data": {
      "text/plain": "<Figure size 360x360 with 1 Axes>",
      "image/png": "[encoded data removed]"
     },
     "metadata": {
      "needs_background": "light"
     },
     "output_type": "display_data"
    }
   ],
   "source": [
    "# Draw the dendrogram\n",
    "from scipy.cluster.hierarchy import linkage, dendrogram\n",
    "import matplotlib\n",
    "\n",
    "colors = list(matplotlib.colors.cnames.keys())  # 148\n",
    "fig, ax = plt.subplots(nrows=1, ncols=1, figsize=(5, 5))\n",
    "distances = linkage(hcExample, method='single')\n",
    "ax.set_title(\"Dendrogram\")\n",
    "ax.set_xlabel('point')\n",
    "ax.set_ylabel('Euclidian distance')\n",
    "ax.grid(linestyle='--', axis='y')\n",
    "dgram = dendrogram(distances, labels=list(range(1,\n",
    "\n",
    "                                                hcExample.shape[0] + 1)), link_color_func=lambda x: colors[x],\n",
    "                   leaf_font_size=15., ax=ax)\n",
    "plt.show()"
   ],
   "metadata": {
    "collapsed": false,
    "pycharm": {
     "name": "#%%\n"
    }
   }
  },
  {
   "cell_type": "code",
   "execution_count": 15,
   "outputs": [
    {
     "data": {
      "text/plain": "array([[0],\n       [1],\n       [0],\n       [2],\n       [3],\n       [1],\n       [1],\n       [0],\n       [2],\n       [1]])"
     },
     "execution_count": 15,
     "metadata": {},
     "output_type": "execute_result"
    }
   ],
   "source": [
    "# Cut a Tree into Groups of clusters\n",
    "from scipy.cluster.hierarchy import cut_tree, linkage\n",
    "\n",
    "hcExample = pd.read_csv(\"hclust.csv\")\n",
    "hcExample.index = ['point {}'.format(i) for i in range(1,\n",
    "                                                       hcExample.shape[0] + 1)]\n",
    "\n",
    "distances = linkage(hcExample, method='single')\n",
    "cuttree = cut_tree(distances, height=[2.5])\n",
    "cuttree"
   ],
   "metadata": {
    "collapsed": false,
    "pycharm": {
     "name": "#%%\n"
    }
   }
  },
  {
   "cell_type": "markdown",
   "source": [
    "### Density Based Clustering"
   ],
   "metadata": {
    "collapsed": false,
    "pycharm": {
     "name": "#%% md\n"
    }
   }
  },
  {
   "cell_type": "code",
   "execution_count": 16,
   "outputs": [
    {
     "name": "stdout",
     "output_type": "stream",
     "text": [
      "<class 'pandas.core.frame.DataFrame'>\n",
      "RangeIndex: 500 entries, 0 to 499\n",
      "Data columns (total 3 columns):\n",
      " #   Column  Non-Null Count  Dtype  \n",
      "---  ------  --------------  -----  \n",
      " 0   index   500 non-null    int64  \n",
      " 1   X1      500 non-null    float64\n",
      " 2   X2      500 non-null    float64\n",
      "dtypes: float64(2), int64(1)\n",
      "memory usage: 11.8 KB\n"
     ]
    },
    {
     "data": {
      "text/plain": "<Figure size 360x360 with 1 Axes>",
      "image/png": "[encoded data removed]"
     },
     "metadata": {
      "needs_background": "light"
     },
     "output_type": "display_data"
    }
   ],
   "source": [
    " # create dataset\n",
    "from sklearn.datasets import make_moons\n",
    "\n",
    "x1, x2 = make_moons(n_samples=500, noise=0.1)\n",
    "dbExample = pd.DataFrame(x1, x2)\n",
    "dbExample = dbExample.rename(columns={0: \"X1\", 1: \"X2\"})\n",
    "dbExample.reset_index(inplace=True)\n",
    "dbExample.info()\n",
    "# perform density-based clustering\n",
    "from sklearn.cluster import DBSCAN\n",
    "\n",
    "dbModel = DBSCAN(eps=0.2, min_samples=20)\n",
    "dbModel.fit(dbExample)\n",
    "dbModel.labels_\n",
    "# plot all points in a different color and marker\n",
    "fig, ax = plt.subplots(figsize=(5, 5))\n",
    "ax.set_xlabel('x1')\n",
    "ax.set_ylabel('x2')\n",
    "labels = set(dbModel.labels_)\n",
    "markers = list(matplotlib.markers.MarkerStyle.markers.keys())\n",
    "for m, l in zip(markers, labels):\n",
    "    indices = np.where(dbModel.labels_ == l)[0]  # return a tuple therefore [0]\n",
    "    ax.scatter(dbExample.loc[indices, 'X1'], dbExample.loc[indices, 'X2'], marker=m, s=50)\n",
    "plt.show()"
   ],
   "metadata": {
    "collapsed": false,
    "pycharm": {
     "name": "#%%\n"
    }
   }
  },
  {
   "cell_type": "markdown",
   "source": [
    "### Clustering and Decision Trees"
   ],
   "metadata": {
    "collapsed": false,
    "pycharm": {
     "name": "#%% md\n"
    }
   }
  },
  {
   "cell_type": "code",
   "execution_count": 21,
   "outputs": [
    {
     "data": {
      "text/plain": "<Figure size 432x288 with 1 Axes>",
      "image/png": "[encoded data removed]"
     },
     "metadata": {
      "needs_background": "light"
     },
     "output_type": "display_data"
    }
   ],
   "source": [
    "import sklearn.cluster as cluster\n",
    "kmeansmodel = cluster.KMeans(n_clusters=4)\n",
    "kmeansmodel.fit(clusterExample)\n",
    "from sklearn import tree\n",
    "from sklearn.tree import DecisionTreeClassifier\n",
    "classifier = DecisionTreeClassifier(criterion='entropy')\n",
    "classifier.fit(clusterExample, kmeansmodel.labels_)\n",
    "from sklearn import tree\n",
    "from sklearn.tree import DecisionTreeClassifier\n",
    "classifier = DecisionTreeClassifier(criterion='entropy')\n",
    "classifier.fit(clusterExample, kmeansmodel.labels_)\n",
    "tree.plot_tree(classifier, feature_names=['x', 'y'],\n",
    "class_names=['cluster {}'.format(i) for i in\n",
    "np.unique(kmeansmodel.labels_)],filled=True)\n",
    "plt.show()"
   ],
   "metadata": {
    "collapsed": false,
    "pycharm": {
     "name": "#%%\n"
    }
   }
  },
  {
   "cell_type": "code",
   "execution_count": null,
   "outputs": [],
   "source": [],
   "metadata": {
    "collapsed": false,
    "pycharm": {
     "name": "#%%\n"
    }
   }
  }
 ],
 "metadata": {
  "kernelspec": {
   "display_name": "Python 3",
   "language": "python",
   "name": "python3"
  },
  "language_info": {
   "codemirror_mode": {
    "name": "ipython",
    "version": 2
   },
   "file_extension": ".py",
   "mimetype": "text/x-python",
   "name": "python",
   "nbconvert_exporter": "python",
   "pygments_lexer": "ipython2",
   "version": "2.7.6"
  }
 },
 "nbformat": 4,
 "nbformat_minor": 0
}