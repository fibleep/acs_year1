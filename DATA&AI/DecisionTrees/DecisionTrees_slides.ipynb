{
 "cells": [
  {
   "cell_type": "code",
   "execution_count": 57,
   "metadata": {
    "collapsed": true,
    "pycharm": {
     "name": "#%%\n"
    }
   },
   "outputs": [],
   "source": [
    "import matplotlib.pyplot as plt\n",
    "import numpy as np\n",
    "import pandas as pd"
   ]
  },
  {
   "cell_type": "markdown",
   "source": [
    "# ENTROPY\n",
    "• this is a measure of disorder.\n",
    "• Value: between 0 (= order) and 1 (total disorder)"
   ],
   "metadata": {
    "collapsed": false,
    "pycharm": {
     "name": "#%% md\n"
    }
   }
  },
  {
   "cell_type": "code",
   "execution_count": 58,
   "outputs": [],
   "source": [
    "def entropy(column: pd.Series, base=None) -> float:\n",
    "    \"\"\"\n",
    "    Compute the entropy of a pandas Series.\n",
    "    :param column: column passed\n",
    "    :param base: logarithmic base\n",
    "    :return: entropy value\n",
    "    \"\"\"\n",
    "\n",
    "    fracties = column.value_counts(normalize=True, sort=False)\n",
    "    base = 2 if base is None else base\n",
    "    return -(fracties * np.log(fracties) / np.log(base)).sum()"
   ],
   "metadata": {
    "collapsed": false,
    "pycharm": {
     "name": "#%%\n"
    }
   }
  },
  {
   "cell_type": "markdown",
   "source": [
    "# INFORMATION GAIN\n",
    "• Reflects the gain in terms of order\n",
    "• The greater, the less disorder"
   ],
   "metadata": {
    "collapsed": false,
    "pycharm": {
     "name": "#%% md\n"
    }
   }
  },
  {
   "cell_type": "code",
   "execution_count": 59,
   "outputs": [],
   "source": [
    "def information_gain(df: pd.DataFrame, s: str, target: str) -> float:\n",
    "    \"\"\"\n",
    "    Compute the information gain of a data frame.\n",
    "    :param df: data frame\n",
    "    :param s: column to compute the information gain\n",
    "    :param target: target column\n",
    "    :return:\n",
    "    \"\"\"\n",
    "    # calculate entropy of parent table\n",
    "    entropy_parent = entropy(df[target])\n",
    "    child_entropies = []\n",
    "    child_weights = []\n",
    "    # compute entropies of child tables\n",
    "    for (label, p) in df[s].value_counts().items():\n",
    "        child_df = df[df[s] == label]\n",
    "        child_entropies.append(entropy(child_df[target]))\n",
    "        child_weights.append(int(p))\n",
    "    # calculate the difference between parent entropy and weighted child entropies\n",
    "    return entropy_parent - np.average(child_entropies, weights=child_weights)"
   ],
   "metadata": {
    "collapsed": false,
    "pycharm": {
     "name": "#%%\n"
    }
   }
  },
  {
   "cell_type": "markdown",
   "source": [
    "# SPLIT"
   ],
   "metadata": {
    "collapsed": false,
    "pycharm": {
     "name": "#%% md\n"
    }
   }
  },
  {
   "cell_type": "code",
   "execution_count": 60,
   "outputs": [],
   "source": [
    "def best_split(df: pd.DataFrame, target: str) -> (str, float):\n",
    "    \"\"\"\n",
    "    Find the best split of a data frame.\n",
    "    :param df: data frame\n",
    "    :param target:  target column\n",
    "    :return:\n",
    "    \"\"\"\n",
    "    # retrieve all non-target column labels (the features))\n",
    "    features = df.drop(axis=1, labels=target).columns\n",
    "    # calculate the information gains for these features\n",
    "    gains = [information_gain(df, feature, target) for feature in features]\n",
    "    # return column with highest information gain\n",
    "    return features[np.argmax(gains)], max(gains)"
   ],
   "metadata": {
    "collapsed": false,
    "pycharm": {
     "name": "#%%\n"
    }
   }
  },
  {
   "cell_type": "markdown",
   "source": [
    "# EXAMPLES\n",
    "------------------------------------------"
   ],
   "metadata": {
    "collapsed": false,
    "pycharm": {
     "name": "#%% md\n"
    }
   }
  },
  {
   "cell_type": "code",
   "execution_count": 61,
   "outputs": [
    {
     "data": {
      "text/plain": "0.9910760598382221"
     },
     "execution_count": 61,
     "metadata": {},
     "output_type": "execute_result"
    }
   ],
   "source": [
    "simpsons = pd.read_csv(\"The Simpsons.csv\")\n",
    "entropy(simpsons.gender)"
   ],
   "metadata": {
    "collapsed": false,
    "pycharm": {
     "name": "#%%\n"
    }
   }
  },
  {
   "cell_type": "code",
   "execution_count": 62,
   "outputs": [
    {
     "name": "stdout",
     "output_type": "stream",
     "text": [
      "name: 0.9910760598382221\n",
      "hair length: 0.45165906291896163\n",
      "weight: 0.5900048960119098\n",
      "age: 0.07278022578373256\n"
     ]
    }
   ],
   "source": [
    "for label in simpsons.drop(labels='gender', axis=1).columns:\n",
    "    print('{}: {}'.format(label, information_gain(simpsons, label, 'gender')))"
   ],
   "metadata": {
    "collapsed": false,
    "pycharm": {
     "name": "#%%\n"
    }
   }
  },
  {
   "cell_type": "code",
   "execution_count": 63,
   "outputs": [
    {
     "data": {
      "text/plain": "     name hair length weight    age gender\n0   Homer          <3   >160  30-40      M\n1   Marge          >5  <=160  30-40      F\n2    Bart          <3  <=160    <30      M\n3    Lisa          >5  <=160    <30      F\n4  Maggie         3-5  <=160    <30      F\n5     Abe          <3   >160    >40      M\n6   Selma          >5  <=160    >40      F\n7    Otto          >5   >160  30-40      M\n8  Krusty          >5   >160    >40      M",
      "text/html": "<div>\n<style scoped>\n    .dataframe tbody tr th:only-of-type {\n        vertical-align: middle;\n    }\n\n    .dataframe tbody tr th {\n        vertical-align: top;\n    }\n\n    .dataframe thead th {\n        text-align: right;\n    }\n</style>\n<table border=\"1\" class=\"dataframe\">\n  <thead>\n    <tr style=\"text-align: right;\">\n      <th></th>\n      <th>name</th>\n      <th>hair length</th>\n      <th>weight</th>\n      <th>age</th>\n      <th>gender</th>\n    </tr>\n  </thead>\n  <tbody>\n    <tr>\n      <th>0</th>\n      <td>Homer</td>\n      <td>&lt;3</td>\n      <td>&gt;160</td>\n      <td>30-40</td>\n      <td>M</td>\n    </tr>\n    <tr>\n      <th>1</th>\n      <td>Marge</td>\n      <td>&gt;5</td>\n      <td>&lt;=160</td>\n      <td>30-40</td>\n      <td>F</td>\n    </tr>\n    <tr>\n      <th>2</th>\n      <td>Bart</td>\n      <td>&lt;3</td>\n      <td>&lt;=160</td>\n      <td>&lt;30</td>\n      <td>M</td>\n    </tr>\n    <tr>\n      <th>3</th>\n      <td>Lisa</td>\n      <td>&gt;5</td>\n      <td>&lt;=160</td>\n      <td>&lt;30</td>\n      <td>F</td>\n    </tr>\n    <tr>\n      <th>4</th>\n      <td>Maggie</td>\n      <td>3-5</td>\n      <td>&lt;=160</td>\n      <td>&lt;30</td>\n      <td>F</td>\n    </tr>\n    <tr>\n      <th>5</th>\n      <td>Abe</td>\n      <td>&lt;3</td>\n      <td>&gt;160</td>\n      <td>&gt;40</td>\n      <td>M</td>\n    </tr>\n    <tr>\n      <th>6</th>\n      <td>Selma</td>\n      <td>&gt;5</td>\n      <td>&lt;=160</td>\n      <td>&gt;40</td>\n      <td>F</td>\n    </tr>\n    <tr>\n      <th>7</th>\n      <td>Otto</td>\n      <td>&gt;5</td>\n      <td>&gt;160</td>\n      <td>30-40</td>\n      <td>M</td>\n    </tr>\n    <tr>\n      <th>8</th>\n      <td>Krusty</td>\n      <td>&gt;5</td>\n      <td>&gt;160</td>\n      <td>&gt;40</td>\n      <td>M</td>\n    </tr>\n  </tbody>\n</table>\n</div>"
     },
     "execution_count": 63,
     "metadata": {},
     "output_type": "execute_result"
    }
   ],
   "source": [
    "simpsons"
   ],
   "metadata": {
    "collapsed": false,
    "pycharm": {
     "name": "#%%\n"
    }
   }
  },
  {
   "cell_type": "code",
   "execution_count": 64,
   "outputs": [
    {
     "name": "stdout",
     "output_type": "stream",
     "text": [
      "\n",
      "weight <=160\n",
      "|   hair length 3-5: F (1) \n",
      "|   hair length <3: M (1) \n",
      "|   hair length >5: F (3) \n",
      "weight >160: M (4) \n",
      "\n"
     ]
    }
   ],
   "source": [
    "import graphviz\n",
    "import six\n",
    "import sys\n",
    "\n",
    "sys.modules['sklearn.externals.six'] = six\n",
    "from id3 import Id3Estimator, export_graphviz, export_text\n",
    "\n",
    "model = Id3Estimator()\n",
    "# X - FEATURES          Y - TARGET\n",
    "X = simpsons.drop(['name', 'gender'], axis=1).values.tolist()\n",
    "y = simpsons['gender'].values.tolist()\n",
    "model.fit(X, y)\n",
    "print(export_text(model.tree_, feature_names=simpsons.drop(['name', 'gender'], axis=1).columns))"
   ],
   "metadata": {
    "collapsed": false,
    "pycharm": {
     "name": "#%%\n"
    }
   }
  },
  {
   "cell_type": "code",
   "execution_count": 68,
   "outputs": [
    {
     "ename": "TypeError",
     "evalue": "'NoneType' object is not callable",
     "output_type": "error",
     "traceback": [
      "\u001B[1;31m---------------------------------------------------------------------------\u001B[0m",
      "\u001B[1;31mTypeError\u001B[0m                                 Traceback (most recent call last)",
      "File \u001B[1;32m~\\AppData\\Local\\Programs\\Python\\Python310\\lib\\site-packages\\numpy\\core\\getlimits.py:459\u001B[0m, in \u001B[0;36mfinfo.__new__\u001B[1;34m(cls, dtype)\u001B[0m\n\u001B[0;32m    458\u001B[0m \u001B[38;5;28;01mtry\u001B[39;00m:\n\u001B[1;32m--> 459\u001B[0m     dtype \u001B[38;5;241m=\u001B[39m \u001B[43mnumeric\u001B[49m\u001B[38;5;241;43m.\u001B[39;49m\u001B[43mdtype\u001B[49m\u001B[43m(\u001B[49m\u001B[43mdtype\u001B[49m\u001B[43m)\u001B[49m\n\u001B[0;32m    460\u001B[0m \u001B[38;5;28;01mexcept\u001B[39;00m \u001B[38;5;167;01mTypeError\u001B[39;00m:\n\u001B[0;32m    461\u001B[0m     \u001B[38;5;66;03m# In case a float instance was given\u001B[39;00m\n",
      "\u001B[1;31mTypeError\u001B[0m: 'NoneType' object is not callable",
      "\nDuring handling of the above exception, another exception occurred:\n",
      "\u001B[1;31mTypeError\u001B[0m                                 Traceback (most recent call last)",
      "Input \u001B[1;32mIn [68]\u001B[0m, in \u001B[0;36m<cell line: 9>\u001B[1;34m()\u001B[0m\n\u001B[0;32m      7\u001B[0m img \u001B[38;5;241m=\u001B[39m plt\u001B[38;5;241m.\u001B[39mimread(\u001B[38;5;124m'\u001B[39m\u001B[38;5;124mtree.png\u001B[39m\u001B[38;5;124m'\u001B[39m)\n\u001B[0;32m      8\u001B[0m plt\u001B[38;5;241m.\u001B[39mfigure(figsize\u001B[38;5;241m=\u001B[39m(\u001B[38;5;241m20\u001B[39m, \u001B[38;5;241m20\u001B[39m))\n\u001B[1;32m----> 9\u001B[0m \u001B[43mplt\u001B[49m\u001B[38;5;241;43m.\u001B[39;49m\u001B[43mimshow\u001B[49m\u001B[43m(\u001B[49m\u001B[43mimg\u001B[49m\u001B[43m)\u001B[49m\n\u001B[0;32m     10\u001B[0m plt\u001B[38;5;241m.\u001B[39mshow()\n",
      "File \u001B[1;32m~\\AppData\\Local\\Programs\\Python\\Python310\\lib\\site-packages\\matplotlib\\_api\\deprecation.py:459\u001B[0m, in \u001B[0;36mmake_keyword_only.<locals>.wrapper\u001B[1;34m(*args, **kwargs)\u001B[0m\n\u001B[0;32m    453\u001B[0m \u001B[38;5;28;01mif\u001B[39;00m \u001B[38;5;28mlen\u001B[39m(args) \u001B[38;5;241m>\u001B[39m name_idx:\n\u001B[0;32m    454\u001B[0m     warn_deprecated(\n\u001B[0;32m    455\u001B[0m         since, message\u001B[38;5;241m=\u001B[39m\u001B[38;5;124m\"\u001B[39m\u001B[38;5;124mPassing the \u001B[39m\u001B[38;5;132;01m%(name)s\u001B[39;00m\u001B[38;5;124m \u001B[39m\u001B[38;5;132;01m%(obj_type)s\u001B[39;00m\u001B[38;5;124m \u001B[39m\u001B[38;5;124m\"\u001B[39m\n\u001B[0;32m    456\u001B[0m         \u001B[38;5;124m\"\u001B[39m\u001B[38;5;124mpositionally is deprecated since Matplotlib \u001B[39m\u001B[38;5;132;01m%(since)s\u001B[39;00m\u001B[38;5;124m; the \u001B[39m\u001B[38;5;124m\"\u001B[39m\n\u001B[0;32m    457\u001B[0m         \u001B[38;5;124m\"\u001B[39m\u001B[38;5;124mparameter will become keyword-only \u001B[39m\u001B[38;5;132;01m%(removal)s\u001B[39;00m\u001B[38;5;124m.\u001B[39m\u001B[38;5;124m\"\u001B[39m,\n\u001B[0;32m    458\u001B[0m         name\u001B[38;5;241m=\u001B[39mname, obj_type\u001B[38;5;241m=\u001B[39m\u001B[38;5;124mf\u001B[39m\u001B[38;5;124m\"\u001B[39m\u001B[38;5;124mparameter of \u001B[39m\u001B[38;5;132;01m{\u001B[39;00mfunc\u001B[38;5;241m.\u001B[39m\u001B[38;5;18m__name__\u001B[39m\u001B[38;5;132;01m}\u001B[39;00m\u001B[38;5;124m()\u001B[39m\u001B[38;5;124m\"\u001B[39m)\n\u001B[1;32m--> 459\u001B[0m \u001B[38;5;28;01mreturn\u001B[39;00m func(\u001B[38;5;241m*\u001B[39margs, \u001B[38;5;241m*\u001B[39m\u001B[38;5;241m*\u001B[39mkwargs)\n",
      "File \u001B[1;32m~\\AppData\\Local\\Programs\\Python\\Python310\\lib\\site-packages\\matplotlib\\pyplot.py:2652\u001B[0m, in \u001B[0;36mimshow\u001B[1;34m(X, cmap, norm, aspect, interpolation, alpha, vmin, vmax, origin, extent, interpolation_stage, filternorm, filterrad, resample, url, data, **kwargs)\u001B[0m\n\u001B[0;32m   2646\u001B[0m \u001B[38;5;129m@_copy_docstring_and_deprecators\u001B[39m(Axes\u001B[38;5;241m.\u001B[39mimshow)\n\u001B[0;32m   2647\u001B[0m \u001B[38;5;28;01mdef\u001B[39;00m \u001B[38;5;21mimshow\u001B[39m(\n\u001B[0;32m   2648\u001B[0m         X, cmap\u001B[38;5;241m=\u001B[39m\u001B[38;5;28;01mNone\u001B[39;00m, norm\u001B[38;5;241m=\u001B[39m\u001B[38;5;28;01mNone\u001B[39;00m, aspect\u001B[38;5;241m=\u001B[39m\u001B[38;5;28;01mNone\u001B[39;00m, interpolation\u001B[38;5;241m=\u001B[39m\u001B[38;5;28;01mNone\u001B[39;00m,\n\u001B[0;32m   2649\u001B[0m         alpha\u001B[38;5;241m=\u001B[39m\u001B[38;5;28;01mNone\u001B[39;00m, vmin\u001B[38;5;241m=\u001B[39m\u001B[38;5;28;01mNone\u001B[39;00m, vmax\u001B[38;5;241m=\u001B[39m\u001B[38;5;28;01mNone\u001B[39;00m, origin\u001B[38;5;241m=\u001B[39m\u001B[38;5;28;01mNone\u001B[39;00m, extent\u001B[38;5;241m=\u001B[39m\u001B[38;5;28;01mNone\u001B[39;00m, \u001B[38;5;241m*\u001B[39m,\n\u001B[0;32m   2650\u001B[0m         interpolation_stage\u001B[38;5;241m=\u001B[39m\u001B[38;5;28;01mNone\u001B[39;00m, filternorm\u001B[38;5;241m=\u001B[39m\u001B[38;5;28;01mTrue\u001B[39;00m, filterrad\u001B[38;5;241m=\u001B[39m\u001B[38;5;241m4.0\u001B[39m,\n\u001B[0;32m   2651\u001B[0m         resample\u001B[38;5;241m=\u001B[39m\u001B[38;5;28;01mNone\u001B[39;00m, url\u001B[38;5;241m=\u001B[39m\u001B[38;5;28;01mNone\u001B[39;00m, data\u001B[38;5;241m=\u001B[39m\u001B[38;5;28;01mNone\u001B[39;00m, \u001B[38;5;241m*\u001B[39m\u001B[38;5;241m*\u001B[39mkwargs):\n\u001B[1;32m-> 2652\u001B[0m     __ret \u001B[38;5;241m=\u001B[39m gca()\u001B[38;5;241m.\u001B[39mimshow(\n\u001B[0;32m   2653\u001B[0m         X, cmap\u001B[38;5;241m=\u001B[39mcmap, norm\u001B[38;5;241m=\u001B[39mnorm, aspect\u001B[38;5;241m=\u001B[39maspect,\n\u001B[0;32m   2654\u001B[0m         interpolation\u001B[38;5;241m=\u001B[39minterpolation, alpha\u001B[38;5;241m=\u001B[39malpha, vmin\u001B[38;5;241m=\u001B[39mvmin,\n\u001B[0;32m   2655\u001B[0m         vmax\u001B[38;5;241m=\u001B[39mvmax, origin\u001B[38;5;241m=\u001B[39morigin, extent\u001B[38;5;241m=\u001B[39mextent,\n\u001B[0;32m   2656\u001B[0m         interpolation_stage\u001B[38;5;241m=\u001B[39minterpolation_stage,\n\u001B[0;32m   2657\u001B[0m         filternorm\u001B[38;5;241m=\u001B[39mfilternorm, filterrad\u001B[38;5;241m=\u001B[39mfilterrad, resample\u001B[38;5;241m=\u001B[39mresample,\n\u001B[0;32m   2658\u001B[0m         url\u001B[38;5;241m=\u001B[39murl, \u001B[38;5;241m*\u001B[39m\u001B[38;5;241m*\u001B[39m({\u001B[38;5;124m\"\u001B[39m\u001B[38;5;124mdata\u001B[39m\u001B[38;5;124m\"\u001B[39m: data} \u001B[38;5;28;01mif\u001B[39;00m data \u001B[38;5;129;01mis\u001B[39;00m \u001B[38;5;129;01mnot\u001B[39;00m \u001B[38;5;28;01mNone\u001B[39;00m \u001B[38;5;28;01melse\u001B[39;00m {}),\n\u001B[0;32m   2659\u001B[0m         \u001B[38;5;241m*\u001B[39m\u001B[38;5;241m*\u001B[39mkwargs)\n\u001B[0;32m   2660\u001B[0m     sci(__ret)\n\u001B[0;32m   2661\u001B[0m     \u001B[38;5;28;01mreturn\u001B[39;00m __ret\n",
      "File \u001B[1;32m~\\AppData\\Local\\Programs\\Python\\Python310\\lib\\site-packages\\matplotlib\\_api\\deprecation.py:459\u001B[0m, in \u001B[0;36mmake_keyword_only.<locals>.wrapper\u001B[1;34m(*args, **kwargs)\u001B[0m\n\u001B[0;32m    453\u001B[0m \u001B[38;5;28;01mif\u001B[39;00m \u001B[38;5;28mlen\u001B[39m(args) \u001B[38;5;241m>\u001B[39m name_idx:\n\u001B[0;32m    454\u001B[0m     warn_deprecated(\n\u001B[0;32m    455\u001B[0m         since, message\u001B[38;5;241m=\u001B[39m\u001B[38;5;124m\"\u001B[39m\u001B[38;5;124mPassing the \u001B[39m\u001B[38;5;132;01m%(name)s\u001B[39;00m\u001B[38;5;124m \u001B[39m\u001B[38;5;132;01m%(obj_type)s\u001B[39;00m\u001B[38;5;124m \u001B[39m\u001B[38;5;124m\"\u001B[39m\n\u001B[0;32m    456\u001B[0m         \u001B[38;5;124m\"\u001B[39m\u001B[38;5;124mpositionally is deprecated since Matplotlib \u001B[39m\u001B[38;5;132;01m%(since)s\u001B[39;00m\u001B[38;5;124m; the \u001B[39m\u001B[38;5;124m\"\u001B[39m\n\u001B[0;32m    457\u001B[0m         \u001B[38;5;124m\"\u001B[39m\u001B[38;5;124mparameter will become keyword-only \u001B[39m\u001B[38;5;132;01m%(removal)s\u001B[39;00m\u001B[38;5;124m.\u001B[39m\u001B[38;5;124m\"\u001B[39m,\n\u001B[0;32m    458\u001B[0m         name\u001B[38;5;241m=\u001B[39mname, obj_type\u001B[38;5;241m=\u001B[39m\u001B[38;5;124mf\u001B[39m\u001B[38;5;124m\"\u001B[39m\u001B[38;5;124mparameter of \u001B[39m\u001B[38;5;132;01m{\u001B[39;00mfunc\u001B[38;5;241m.\u001B[39m\u001B[38;5;18m__name__\u001B[39m\u001B[38;5;132;01m}\u001B[39;00m\u001B[38;5;124m()\u001B[39m\u001B[38;5;124m\"\u001B[39m)\n\u001B[1;32m--> 459\u001B[0m \u001B[38;5;28;01mreturn\u001B[39;00m func(\u001B[38;5;241m*\u001B[39margs, \u001B[38;5;241m*\u001B[39m\u001B[38;5;241m*\u001B[39mkwargs)\n",
      "File \u001B[1;32m~\\AppData\\Local\\Programs\\Python\\Python310\\lib\\site-packages\\matplotlib\\__init__.py:1412\u001B[0m, in \u001B[0;36m_preprocess_data.<locals>.inner\u001B[1;34m(ax, data, *args, **kwargs)\u001B[0m\n\u001B[0;32m   1409\u001B[0m \u001B[38;5;129m@functools\u001B[39m\u001B[38;5;241m.\u001B[39mwraps(func)\n\u001B[0;32m   1410\u001B[0m \u001B[38;5;28;01mdef\u001B[39;00m \u001B[38;5;21minner\u001B[39m(ax, \u001B[38;5;241m*\u001B[39margs, data\u001B[38;5;241m=\u001B[39m\u001B[38;5;28;01mNone\u001B[39;00m, \u001B[38;5;241m*\u001B[39m\u001B[38;5;241m*\u001B[39mkwargs):\n\u001B[0;32m   1411\u001B[0m     \u001B[38;5;28;01mif\u001B[39;00m data \u001B[38;5;129;01mis\u001B[39;00m \u001B[38;5;28;01mNone\u001B[39;00m:\n\u001B[1;32m-> 1412\u001B[0m         \u001B[38;5;28;01mreturn\u001B[39;00m func(ax, \u001B[38;5;241m*\u001B[39m\u001B[38;5;28mmap\u001B[39m(sanitize_sequence, args), \u001B[38;5;241m*\u001B[39m\u001B[38;5;241m*\u001B[39mkwargs)\n\u001B[0;32m   1414\u001B[0m     bound \u001B[38;5;241m=\u001B[39m new_sig\u001B[38;5;241m.\u001B[39mbind(ax, \u001B[38;5;241m*\u001B[39margs, \u001B[38;5;241m*\u001B[39m\u001B[38;5;241m*\u001B[39mkwargs)\n\u001B[0;32m   1415\u001B[0m     auto_label \u001B[38;5;241m=\u001B[39m (bound\u001B[38;5;241m.\u001B[39marguments\u001B[38;5;241m.\u001B[39mget(label_namer)\n\u001B[0;32m   1416\u001B[0m                   \u001B[38;5;129;01mor\u001B[39;00m bound\u001B[38;5;241m.\u001B[39mkwargs\u001B[38;5;241m.\u001B[39mget(label_namer))\n",
      "File \u001B[1;32m~\\AppData\\Local\\Programs\\Python\\Python310\\lib\\site-packages\\matplotlib\\axes\\_axes.py:5491\u001B[0m, in \u001B[0;36mAxes.imshow\u001B[1;34m(self, X, cmap, norm, aspect, interpolation, alpha, vmin, vmax, origin, extent, interpolation_stage, filternorm, filterrad, resample, url, **kwargs)\u001B[0m\n\u001B[0;32m   5487\u001B[0m im\u001B[38;5;241m.\u001B[39mset_url(url)\n\u001B[0;32m   5489\u001B[0m \u001B[38;5;66;03m# update ax.dataLim, and, if autoscaling, set viewLim\u001B[39;00m\n\u001B[0;32m   5490\u001B[0m \u001B[38;5;66;03m# to tightly fit the image, regardless of dataLim.\u001B[39;00m\n\u001B[1;32m-> 5491\u001B[0m \u001B[43mim\u001B[49m\u001B[38;5;241;43m.\u001B[39;49m\u001B[43mset_extent\u001B[49m\u001B[43m(\u001B[49m\u001B[43mim\u001B[49m\u001B[38;5;241;43m.\u001B[39;49m\u001B[43mget_extent\u001B[49m\u001B[43m(\u001B[49m\u001B[43m)\u001B[49m\u001B[43m)\u001B[49m\n\u001B[0;32m   5493\u001B[0m \u001B[38;5;28mself\u001B[39m\u001B[38;5;241m.\u001B[39madd_image(im)\n\u001B[0;32m   5494\u001B[0m \u001B[38;5;28;01mreturn\u001B[39;00m im\n",
      "File \u001B[1;32m~\\AppData\\Local\\Programs\\Python\\Python310\\lib\\site-packages\\matplotlib\\image.py:986\u001B[0m, in \u001B[0;36mAxesImage.set_extent\u001B[1;34m(self, extent)\u001B[0m\n\u001B[0;32m    984\u001B[0m \u001B[38;5;28mself\u001B[39m\u001B[38;5;241m.\u001B[39msticky_edges\u001B[38;5;241m.\u001B[39my[:] \u001B[38;5;241m=\u001B[39m [ymin, ymax]\n\u001B[0;32m    985\u001B[0m \u001B[38;5;28;01mif\u001B[39;00m \u001B[38;5;28mself\u001B[39m\u001B[38;5;241m.\u001B[39maxes\u001B[38;5;241m.\u001B[39m_autoscaleXon:\n\u001B[1;32m--> 986\u001B[0m     \u001B[38;5;28;43mself\u001B[39;49m\u001B[38;5;241;43m.\u001B[39;49m\u001B[43maxes\u001B[49m\u001B[38;5;241;43m.\u001B[39;49m\u001B[43mset_xlim\u001B[49m\u001B[43m(\u001B[49m\u001B[43m(\u001B[49m\u001B[43mxmin\u001B[49m\u001B[43m,\u001B[49m\u001B[43m \u001B[49m\u001B[43mxmax\u001B[49m\u001B[43m)\u001B[49m\u001B[43m,\u001B[49m\u001B[43m \u001B[49m\u001B[43mauto\u001B[49m\u001B[38;5;241;43m=\u001B[39;49m\u001B[38;5;28;43;01mNone\u001B[39;49;00m\u001B[43m)\u001B[49m\n\u001B[0;32m    987\u001B[0m \u001B[38;5;28;01mif\u001B[39;00m \u001B[38;5;28mself\u001B[39m\u001B[38;5;241m.\u001B[39maxes\u001B[38;5;241m.\u001B[39m_autoscaleYon:\n\u001B[0;32m    988\u001B[0m     \u001B[38;5;28mself\u001B[39m\u001B[38;5;241m.\u001B[39maxes\u001B[38;5;241m.\u001B[39mset_ylim((ymin, ymax), auto\u001B[38;5;241m=\u001B[39m\u001B[38;5;28;01mNone\u001B[39;00m)\n",
      "File \u001B[1;32m~\\AppData\\Local\\Programs\\Python\\Python310\\lib\\site-packages\\matplotlib\\axes\\_base.py:3730\u001B[0m, in \u001B[0;36m_AxesBase.set_xlim\u001B[1;34m(self, left, right, emit, auto, xmin, xmax)\u001B[0m\n\u001B[0;32m   3726\u001B[0m     _api\u001B[38;5;241m.\u001B[39mwarn_external(\n\u001B[0;32m   3727\u001B[0m         \u001B[38;5;124mf\u001B[39m\u001B[38;5;124m\"\u001B[39m\u001B[38;5;124mAttempting to set identical left == right == \u001B[39m\u001B[38;5;132;01m{\u001B[39;00mleft\u001B[38;5;132;01m}\u001B[39;00m\u001B[38;5;124m results \u001B[39m\u001B[38;5;124m\"\u001B[39m\n\u001B[0;32m   3728\u001B[0m         \u001B[38;5;124mf\u001B[39m\u001B[38;5;124m\"\u001B[39m\u001B[38;5;124min singular transformations; automatically expanding.\u001B[39m\u001B[38;5;124m\"\u001B[39m)\n\u001B[0;32m   3729\u001B[0m reverse \u001B[38;5;241m=\u001B[39m left \u001B[38;5;241m>\u001B[39m right\n\u001B[1;32m-> 3730\u001B[0m left, right \u001B[38;5;241m=\u001B[39m \u001B[38;5;28;43mself\u001B[39;49m\u001B[38;5;241;43m.\u001B[39;49m\u001B[43mxaxis\u001B[49m\u001B[38;5;241;43m.\u001B[39;49m\u001B[43mget_major_locator\u001B[49m\u001B[43m(\u001B[49m\u001B[43m)\u001B[49m\u001B[38;5;241;43m.\u001B[39;49m\u001B[43mnonsingular\u001B[49m\u001B[43m(\u001B[49m\u001B[43mleft\u001B[49m\u001B[43m,\u001B[49m\u001B[43m \u001B[49m\u001B[43mright\u001B[49m\u001B[43m)\u001B[49m\n\u001B[0;32m   3731\u001B[0m left, right \u001B[38;5;241m=\u001B[39m \u001B[38;5;28mself\u001B[39m\u001B[38;5;241m.\u001B[39mxaxis\u001B[38;5;241m.\u001B[39mlimit_range_for_scale(left, right)\n\u001B[0;32m   3732\u001B[0m \u001B[38;5;66;03m# cast to bool to avoid bad interaction between python 3.8 and np.bool_\u001B[39;00m\n",
      "File \u001B[1;32m~\\AppData\\Local\\Programs\\Python\\Python310\\lib\\site-packages\\matplotlib\\ticker.py:1655\u001B[0m, in \u001B[0;36mLocator.nonsingular\u001B[1;34m(self, v0, v1)\u001B[0m\n\u001B[0;32m   1641\u001B[0m \u001B[38;5;28;01mdef\u001B[39;00m \u001B[38;5;21mnonsingular\u001B[39m(\u001B[38;5;28mself\u001B[39m, v0, v1):\n\u001B[0;32m   1642\u001B[0m     \u001B[38;5;124;03m\"\"\"\u001B[39;00m\n\u001B[0;32m   1643\u001B[0m \u001B[38;5;124;03m    Adjust a range as needed to avoid singularities.\u001B[39;00m\n\u001B[0;32m   1644\u001B[0m \n\u001B[1;32m   (...)\u001B[0m\n\u001B[0;32m   1653\u001B[0m \u001B[38;5;124;03m    - Otherwise, ``(v0, v1)`` is returned without modification.\u001B[39;00m\n\u001B[0;32m   1654\u001B[0m \u001B[38;5;124;03m    \"\"\"\u001B[39;00m\n\u001B[1;32m-> 1655\u001B[0m     \u001B[38;5;28;01mreturn\u001B[39;00m \u001B[43mmtransforms\u001B[49m\u001B[38;5;241;43m.\u001B[39;49m\u001B[43mnonsingular\u001B[49m\u001B[43m(\u001B[49m\u001B[43mv0\u001B[49m\u001B[43m,\u001B[49m\u001B[43m \u001B[49m\u001B[43mv1\u001B[49m\u001B[43m,\u001B[49m\u001B[43m \u001B[49m\u001B[43mexpander\u001B[49m\u001B[38;5;241;43m=\u001B[39;49m\u001B[38;5;241;43m.05\u001B[39;49m\u001B[43m)\u001B[49m\n",
      "File \u001B[1;32m~\\AppData\\Local\\Programs\\Python\\Python310\\lib\\site-packages\\matplotlib\\transforms.py:2880\u001B[0m, in \u001B[0;36mnonsingular\u001B[1;34m(vmin, vmax, expander, tiny, increasing)\u001B[0m\n\u001B[0;32m   2877\u001B[0m vmin, vmax \u001B[38;5;241m=\u001B[39m \u001B[38;5;28mmap\u001B[39m(\u001B[38;5;28mfloat\u001B[39m, [vmin, vmax])\n\u001B[0;32m   2879\u001B[0m maxabsvalue \u001B[38;5;241m=\u001B[39m \u001B[38;5;28mmax\u001B[39m(\u001B[38;5;28mabs\u001B[39m(vmin), \u001B[38;5;28mabs\u001B[39m(vmax))\n\u001B[1;32m-> 2880\u001B[0m \u001B[38;5;28;01mif\u001B[39;00m maxabsvalue \u001B[38;5;241m<\u001B[39m (\u001B[38;5;241m1e6\u001B[39m \u001B[38;5;241m/\u001B[39m tiny) \u001B[38;5;241m*\u001B[39m \u001B[43mnp\u001B[49m\u001B[38;5;241;43m.\u001B[39;49m\u001B[43mfinfo\u001B[49m\u001B[43m(\u001B[49m\u001B[38;5;28;43mfloat\u001B[39;49m\u001B[43m)\u001B[49m\u001B[38;5;241m.\u001B[39mtiny:\n\u001B[0;32m   2881\u001B[0m     vmin \u001B[38;5;241m=\u001B[39m \u001B[38;5;241m-\u001B[39mexpander\n\u001B[0;32m   2882\u001B[0m     vmax \u001B[38;5;241m=\u001B[39m expander\n",
      "File \u001B[1;32m~\\AppData\\Local\\Programs\\Python\\Python310\\lib\\site-packages\\numpy\\core\\getlimits.py:462\u001B[0m, in \u001B[0;36mfinfo.__new__\u001B[1;34m(cls, dtype)\u001B[0m\n\u001B[0;32m    459\u001B[0m     dtype \u001B[38;5;241m=\u001B[39m numeric\u001B[38;5;241m.\u001B[39mdtype(dtype)\n\u001B[0;32m    460\u001B[0m \u001B[38;5;28;01mexcept\u001B[39;00m \u001B[38;5;167;01mTypeError\u001B[39;00m:\n\u001B[0;32m    461\u001B[0m     \u001B[38;5;66;03m# In case a float instance was given\u001B[39;00m\n\u001B[1;32m--> 462\u001B[0m     dtype \u001B[38;5;241m=\u001B[39m \u001B[43mnumeric\u001B[49m\u001B[38;5;241;43m.\u001B[39;49m\u001B[43mdtype\u001B[49m\u001B[43m(\u001B[49m\u001B[38;5;28;43mtype\u001B[39;49m\u001B[43m(\u001B[49m\u001B[43mdtype\u001B[49m\u001B[43m)\u001B[49m\u001B[43m)\u001B[49m\n\u001B[0;32m    464\u001B[0m obj \u001B[38;5;241m=\u001B[39m \u001B[38;5;28mcls\u001B[39m\u001B[38;5;241m.\u001B[39m_finfo_cache\u001B[38;5;241m.\u001B[39mget(dtype, \u001B[38;5;28;01mNone\u001B[39;00m)\n\u001B[0;32m    465\u001B[0m \u001B[38;5;28;01mif\u001B[39;00m obj \u001B[38;5;129;01mis\u001B[39;00m \u001B[38;5;129;01mnot\u001B[39;00m \u001B[38;5;28;01mNone\u001B[39;00m:\n",
      "\u001B[1;31mTypeError\u001B[0m: 'NoneType' object is not callable"
     ]
    },
    {
     "ename": "TypeError",
     "evalue": "'NoneType' object is not callable",
     "output_type": "error",
     "traceback": [
      "\u001B[1;31m---------------------------------------------------------------------------\u001B[0m",
      "\u001B[1;31mTypeError\u001B[0m                                 Traceback (most recent call last)",
      "File \u001B[1;32m~\\AppData\\Local\\Programs\\Python\\Python310\\lib\\site-packages\\numpy\\core\\getlimits.py:459\u001B[0m, in \u001B[0;36mfinfo.__new__\u001B[1;34m(cls, dtype)\u001B[0m\n\u001B[0;32m    458\u001B[0m \u001B[38;5;28;01mtry\u001B[39;00m:\n\u001B[1;32m--> 459\u001B[0m     dtype \u001B[38;5;241m=\u001B[39m \u001B[43mnumeric\u001B[49m\u001B[38;5;241;43m.\u001B[39;49m\u001B[43mdtype\u001B[49m\u001B[43m(\u001B[49m\u001B[43mdtype\u001B[49m\u001B[43m)\u001B[49m\n\u001B[0;32m    460\u001B[0m \u001B[38;5;28;01mexcept\u001B[39;00m \u001B[38;5;167;01mTypeError\u001B[39;00m:\n\u001B[0;32m    461\u001B[0m     \u001B[38;5;66;03m# In case a float instance was given\u001B[39;00m\n",
      "\u001B[1;31mTypeError\u001B[0m: 'NoneType' object is not callable",
      "\nDuring handling of the above exception, another exception occurred:\n",
      "\u001B[1;31mTypeError\u001B[0m                                 Traceback (most recent call last)",
      "File \u001B[1;32m~\\AppData\\Local\\Programs\\Python\\Python310\\lib\\site-packages\\matplotlib_inline\\backend_inline.py:43\u001B[0m, in \u001B[0;36mshow\u001B[1;34m(close, block)\u001B[0m\n\u001B[0;32m     39\u001B[0m \u001B[38;5;28;01mtry\u001B[39;00m:\n\u001B[0;32m     40\u001B[0m     \u001B[38;5;28;01mfor\u001B[39;00m figure_manager \u001B[38;5;129;01min\u001B[39;00m Gcf\u001B[38;5;241m.\u001B[39mget_all_fig_managers():\n\u001B[0;32m     41\u001B[0m         display(\n\u001B[0;32m     42\u001B[0m             figure_manager\u001B[38;5;241m.\u001B[39mcanvas\u001B[38;5;241m.\u001B[39mfigure,\n\u001B[1;32m---> 43\u001B[0m             metadata\u001B[38;5;241m=\u001B[39m\u001B[43m_fetch_figure_metadata\u001B[49m\u001B[43m(\u001B[49m\u001B[43mfigure_manager\u001B[49m\u001B[38;5;241;43m.\u001B[39;49m\u001B[43mcanvas\u001B[49m\u001B[38;5;241;43m.\u001B[39;49m\u001B[43mfigure\u001B[49m\u001B[43m)\u001B[49m\n\u001B[0;32m     44\u001B[0m         )\n\u001B[0;32m     45\u001B[0m \u001B[38;5;28;01mfinally\u001B[39;00m:\n\u001B[0;32m     46\u001B[0m     show\u001B[38;5;241m.\u001B[39m_to_draw \u001B[38;5;241m=\u001B[39m []\n",
      "File \u001B[1;32m~\\AppData\\Local\\Programs\\Python\\Python310\\lib\\site-packages\\matplotlib_inline\\backend_inline.py:231\u001B[0m, in \u001B[0;36m_fetch_figure_metadata\u001B[1;34m(fig)\u001B[0m\n\u001B[0;32m    228\u001B[0m \u001B[38;5;66;03m# determine if a background is needed for legibility\u001B[39;00m\n\u001B[0;32m    229\u001B[0m \u001B[38;5;28;01mif\u001B[39;00m _is_transparent(fig\u001B[38;5;241m.\u001B[39mget_facecolor()):\n\u001B[0;32m    230\u001B[0m     \u001B[38;5;66;03m# the background is transparent\u001B[39;00m\n\u001B[1;32m--> 231\u001B[0m     ticksLight \u001B[38;5;241m=\u001B[39m _is_light([label\u001B[38;5;241m.\u001B[39mget_color()\n\u001B[0;32m    232\u001B[0m                             \u001B[38;5;28;01mfor\u001B[39;00m axes \u001B[38;5;129;01min\u001B[39;00m fig\u001B[38;5;241m.\u001B[39maxes\n\u001B[0;32m    233\u001B[0m                             \u001B[38;5;28;01mfor\u001B[39;00m axis \u001B[38;5;129;01min\u001B[39;00m (axes\u001B[38;5;241m.\u001B[39mxaxis, axes\u001B[38;5;241m.\u001B[39myaxis)\n\u001B[0;32m    234\u001B[0m                             \u001B[38;5;28;01mfor\u001B[39;00m label \u001B[38;5;129;01min\u001B[39;00m axis\u001B[38;5;241m.\u001B[39mget_ticklabels()])\n\u001B[0;32m    235\u001B[0m     \u001B[38;5;28;01mif\u001B[39;00m ticksLight\u001B[38;5;241m.\u001B[39msize \u001B[38;5;129;01mand\u001B[39;00m (ticksLight \u001B[38;5;241m==\u001B[39m ticksLight[\u001B[38;5;241m0\u001B[39m])\u001B[38;5;241m.\u001B[39mall():\n\u001B[0;32m    236\u001B[0m         \u001B[38;5;66;03m# there are one or more tick labels, all with the same lightness\u001B[39;00m\n\u001B[0;32m    237\u001B[0m         \u001B[38;5;28;01mreturn\u001B[39;00m {\u001B[38;5;124m'\u001B[39m\u001B[38;5;124mneeds_background\u001B[39m\u001B[38;5;124m'\u001B[39m: \u001B[38;5;124m'\u001B[39m\u001B[38;5;124mdark\u001B[39m\u001B[38;5;124m'\u001B[39m \u001B[38;5;28;01mif\u001B[39;00m ticksLight[\u001B[38;5;241m0\u001B[39m] \u001B[38;5;28;01melse\u001B[39;00m \u001B[38;5;124m'\u001B[39m\u001B[38;5;124mlight\u001B[39m\u001B[38;5;124m'\u001B[39m}\n",
      "File \u001B[1;32m~\\AppData\\Local\\Programs\\Python\\Python310\\lib\\site-packages\\matplotlib_inline\\backend_inline.py:234\u001B[0m, in \u001B[0;36m<listcomp>\u001B[1;34m(.0)\u001B[0m\n\u001B[0;32m    228\u001B[0m \u001B[38;5;66;03m# determine if a background is needed for legibility\u001B[39;00m\n\u001B[0;32m    229\u001B[0m \u001B[38;5;28;01mif\u001B[39;00m _is_transparent(fig\u001B[38;5;241m.\u001B[39mget_facecolor()):\n\u001B[0;32m    230\u001B[0m     \u001B[38;5;66;03m# the background is transparent\u001B[39;00m\n\u001B[0;32m    231\u001B[0m     ticksLight \u001B[38;5;241m=\u001B[39m _is_light([label\u001B[38;5;241m.\u001B[39mget_color()\n\u001B[0;32m    232\u001B[0m                             \u001B[38;5;28;01mfor\u001B[39;00m axes \u001B[38;5;129;01min\u001B[39;00m fig\u001B[38;5;241m.\u001B[39maxes\n\u001B[0;32m    233\u001B[0m                             \u001B[38;5;28;01mfor\u001B[39;00m axis \u001B[38;5;129;01min\u001B[39;00m (axes\u001B[38;5;241m.\u001B[39mxaxis, axes\u001B[38;5;241m.\u001B[39myaxis)\n\u001B[1;32m--> 234\u001B[0m                             \u001B[38;5;28;01mfor\u001B[39;00m label \u001B[38;5;129;01min\u001B[39;00m \u001B[43maxis\u001B[49m\u001B[38;5;241;43m.\u001B[39;49m\u001B[43mget_ticklabels\u001B[49m\u001B[43m(\u001B[49m\u001B[43m)\u001B[49m])\n\u001B[0;32m    235\u001B[0m     \u001B[38;5;28;01mif\u001B[39;00m ticksLight\u001B[38;5;241m.\u001B[39msize \u001B[38;5;129;01mand\u001B[39;00m (ticksLight \u001B[38;5;241m==\u001B[39m ticksLight[\u001B[38;5;241m0\u001B[39m])\u001B[38;5;241m.\u001B[39mall():\n\u001B[0;32m    236\u001B[0m         \u001B[38;5;66;03m# there are one or more tick labels, all with the same lightness\u001B[39;00m\n\u001B[0;32m    237\u001B[0m         \u001B[38;5;28;01mreturn\u001B[39;00m {\u001B[38;5;124m'\u001B[39m\u001B[38;5;124mneeds_background\u001B[39m\u001B[38;5;124m'\u001B[39m: \u001B[38;5;124m'\u001B[39m\u001B[38;5;124mdark\u001B[39m\u001B[38;5;124m'\u001B[39m \u001B[38;5;28;01mif\u001B[39;00m ticksLight[\u001B[38;5;241m0\u001B[39m] \u001B[38;5;28;01melse\u001B[39;00m \u001B[38;5;124m'\u001B[39m\u001B[38;5;124mlight\u001B[39m\u001B[38;5;124m'\u001B[39m}\n",
      "File \u001B[1;32m~\\AppData\\Local\\Programs\\Python\\Python310\\lib\\site-packages\\matplotlib\\axis.py:1249\u001B[0m, in \u001B[0;36mAxis.get_ticklabels\u001B[1;34m(self, minor, which)\u001B[0m\n\u001B[0;32m   1247\u001B[0m \u001B[38;5;28;01mif\u001B[39;00m minor:\n\u001B[0;32m   1248\u001B[0m     \u001B[38;5;28;01mreturn\u001B[39;00m \u001B[38;5;28mself\u001B[39m\u001B[38;5;241m.\u001B[39mget_minorticklabels()\n\u001B[1;32m-> 1249\u001B[0m \u001B[38;5;28;01mreturn\u001B[39;00m \u001B[38;5;28;43mself\u001B[39;49m\u001B[38;5;241;43m.\u001B[39;49m\u001B[43mget_majorticklabels\u001B[49m\u001B[43m(\u001B[49m\u001B[43m)\u001B[49m\n",
      "File \u001B[1;32m~\\AppData\\Local\\Programs\\Python\\Python310\\lib\\site-packages\\matplotlib\\axis.py:1201\u001B[0m, in \u001B[0;36mAxis.get_majorticklabels\u001B[1;34m(self)\u001B[0m\n\u001B[0;32m   1199\u001B[0m \u001B[38;5;28;01mdef\u001B[39;00m \u001B[38;5;21mget_majorticklabels\u001B[39m(\u001B[38;5;28mself\u001B[39m):\n\u001B[0;32m   1200\u001B[0m     \u001B[38;5;124;03m\"\"\"Return this Axis' major tick labels, as a list of `~.text.Text`.\"\"\"\u001B[39;00m\n\u001B[1;32m-> 1201\u001B[0m     ticks \u001B[38;5;241m=\u001B[39m \u001B[38;5;28;43mself\u001B[39;49m\u001B[38;5;241;43m.\u001B[39;49m\u001B[43mget_major_ticks\u001B[49m\u001B[43m(\u001B[49m\u001B[43m)\u001B[49m\n\u001B[0;32m   1202\u001B[0m     labels1 \u001B[38;5;241m=\u001B[39m [tick\u001B[38;5;241m.\u001B[39mlabel1 \u001B[38;5;28;01mfor\u001B[39;00m tick \u001B[38;5;129;01min\u001B[39;00m ticks \u001B[38;5;28;01mif\u001B[39;00m tick\u001B[38;5;241m.\u001B[39mlabel1\u001B[38;5;241m.\u001B[39mget_visible()]\n\u001B[0;32m   1203\u001B[0m     labels2 \u001B[38;5;241m=\u001B[39m [tick\u001B[38;5;241m.\u001B[39mlabel2 \u001B[38;5;28;01mfor\u001B[39;00m tick \u001B[38;5;129;01min\u001B[39;00m ticks \u001B[38;5;28;01mif\u001B[39;00m tick\u001B[38;5;241m.\u001B[39mlabel2\u001B[38;5;241m.\u001B[39mget_visible()]\n",
      "File \u001B[1;32m~\\AppData\\Local\\Programs\\Python\\Python310\\lib\\site-packages\\matplotlib\\axis.py:1371\u001B[0m, in \u001B[0;36mAxis.get_major_ticks\u001B[1;34m(self, numticks)\u001B[0m\n\u001B[0;32m   1369\u001B[0m \u001B[38;5;124mr\u001B[39m\u001B[38;5;124;03m\"\"\"Return the list of major `.Tick`\\s.\"\"\"\u001B[39;00m\n\u001B[0;32m   1370\u001B[0m \u001B[38;5;28;01mif\u001B[39;00m numticks \u001B[38;5;129;01mis\u001B[39;00m \u001B[38;5;28;01mNone\u001B[39;00m:\n\u001B[1;32m-> 1371\u001B[0m     numticks \u001B[38;5;241m=\u001B[39m \u001B[38;5;28mlen\u001B[39m(\u001B[38;5;28;43mself\u001B[39;49m\u001B[38;5;241;43m.\u001B[39;49m\u001B[43mget_majorticklocs\u001B[49m\u001B[43m(\u001B[49m\u001B[43m)\u001B[49m)\n\u001B[0;32m   1373\u001B[0m \u001B[38;5;28;01mwhile\u001B[39;00m \u001B[38;5;28mlen\u001B[39m(\u001B[38;5;28mself\u001B[39m\u001B[38;5;241m.\u001B[39mmajorTicks) \u001B[38;5;241m<\u001B[39m numticks:\n\u001B[0;32m   1374\u001B[0m     \u001B[38;5;66;03m# Update the new tick label properties from the old.\u001B[39;00m\n\u001B[0;32m   1375\u001B[0m     tick \u001B[38;5;241m=\u001B[39m \u001B[38;5;28mself\u001B[39m\u001B[38;5;241m.\u001B[39m_get_tick(major\u001B[38;5;241m=\u001B[39m\u001B[38;5;28;01mTrue\u001B[39;00m)\n",
      "File \u001B[1;32m~\\AppData\\Local\\Programs\\Python\\Python310\\lib\\site-packages\\matplotlib\\axis.py:1277\u001B[0m, in \u001B[0;36mAxis.get_majorticklocs\u001B[1;34m(self)\u001B[0m\n\u001B[0;32m   1275\u001B[0m \u001B[38;5;28;01mdef\u001B[39;00m \u001B[38;5;21mget_majorticklocs\u001B[39m(\u001B[38;5;28mself\u001B[39m):\n\u001B[0;32m   1276\u001B[0m     \u001B[38;5;124;03m\"\"\"Return this Axis' major tick locations in data coordinates.\"\"\"\u001B[39;00m\n\u001B[1;32m-> 1277\u001B[0m     \u001B[38;5;28;01mreturn\u001B[39;00m \u001B[38;5;28;43mself\u001B[39;49m\u001B[38;5;241;43m.\u001B[39;49m\u001B[43mmajor\u001B[49m\u001B[38;5;241;43m.\u001B[39;49m\u001B[43mlocator\u001B[49m\u001B[43m(\u001B[49m\u001B[43m)\u001B[49m\n",
      "File \u001B[1;32m~\\AppData\\Local\\Programs\\Python\\Python310\\lib\\site-packages\\matplotlib\\ticker.py:2115\u001B[0m, in \u001B[0;36mMaxNLocator.__call__\u001B[1;34m(self)\u001B[0m\n\u001B[0;32m   2113\u001B[0m \u001B[38;5;28;01mdef\u001B[39;00m \u001B[38;5;21m__call__\u001B[39m(\u001B[38;5;28mself\u001B[39m):\n\u001B[0;32m   2114\u001B[0m     vmin, vmax \u001B[38;5;241m=\u001B[39m \u001B[38;5;28mself\u001B[39m\u001B[38;5;241m.\u001B[39maxis\u001B[38;5;241m.\u001B[39mget_view_interval()\n\u001B[1;32m-> 2115\u001B[0m     \u001B[38;5;28;01mreturn\u001B[39;00m \u001B[38;5;28;43mself\u001B[39;49m\u001B[38;5;241;43m.\u001B[39;49m\u001B[43mtick_values\u001B[49m\u001B[43m(\u001B[49m\u001B[43mvmin\u001B[49m\u001B[43m,\u001B[49m\u001B[43m \u001B[49m\u001B[43mvmax\u001B[49m\u001B[43m)\u001B[49m\n",
      "File \u001B[1;32m~\\AppData\\Local\\Programs\\Python\\Python310\\lib\\site-packages\\matplotlib\\ticker.py:2121\u001B[0m, in \u001B[0;36mMaxNLocator.tick_values\u001B[1;34m(self, vmin, vmax)\u001B[0m\n\u001B[0;32m   2119\u001B[0m     vmax \u001B[38;5;241m=\u001B[39m \u001B[38;5;28mmax\u001B[39m(\u001B[38;5;28mabs\u001B[39m(vmin), \u001B[38;5;28mabs\u001B[39m(vmax))\n\u001B[0;32m   2120\u001B[0m     vmin \u001B[38;5;241m=\u001B[39m \u001B[38;5;241m-\u001B[39mvmax\n\u001B[1;32m-> 2121\u001B[0m vmin, vmax \u001B[38;5;241m=\u001B[39m \u001B[43mmtransforms\u001B[49m\u001B[38;5;241;43m.\u001B[39;49m\u001B[43mnonsingular\u001B[49m\u001B[43m(\u001B[49m\n\u001B[0;32m   2122\u001B[0m \u001B[43m    \u001B[49m\u001B[43mvmin\u001B[49m\u001B[43m,\u001B[49m\u001B[43m \u001B[49m\u001B[43mvmax\u001B[49m\u001B[43m,\u001B[49m\u001B[43m \u001B[49m\u001B[43mexpander\u001B[49m\u001B[38;5;241;43m=\u001B[39;49m\u001B[38;5;241;43m1e-13\u001B[39;49m\u001B[43m,\u001B[49m\u001B[43m \u001B[49m\u001B[43mtiny\u001B[49m\u001B[38;5;241;43m=\u001B[39;49m\u001B[38;5;241;43m1e-14\u001B[39;49m\u001B[43m)\u001B[49m\n\u001B[0;32m   2123\u001B[0m locs \u001B[38;5;241m=\u001B[39m \u001B[38;5;28mself\u001B[39m\u001B[38;5;241m.\u001B[39m_raw_ticks(vmin, vmax)\n\u001B[0;32m   2125\u001B[0m prune \u001B[38;5;241m=\u001B[39m \u001B[38;5;28mself\u001B[39m\u001B[38;5;241m.\u001B[39m_prune\n",
      "File \u001B[1;32m~\\AppData\\Local\\Programs\\Python\\Python310\\lib\\site-packages\\matplotlib\\transforms.py:2880\u001B[0m, in \u001B[0;36mnonsingular\u001B[1;34m(vmin, vmax, expander, tiny, increasing)\u001B[0m\n\u001B[0;32m   2877\u001B[0m vmin, vmax \u001B[38;5;241m=\u001B[39m \u001B[38;5;28mmap\u001B[39m(\u001B[38;5;28mfloat\u001B[39m, [vmin, vmax])\n\u001B[0;32m   2879\u001B[0m maxabsvalue \u001B[38;5;241m=\u001B[39m \u001B[38;5;28mmax\u001B[39m(\u001B[38;5;28mabs\u001B[39m(vmin), \u001B[38;5;28mabs\u001B[39m(vmax))\n\u001B[1;32m-> 2880\u001B[0m \u001B[38;5;28;01mif\u001B[39;00m maxabsvalue \u001B[38;5;241m<\u001B[39m (\u001B[38;5;241m1e6\u001B[39m \u001B[38;5;241m/\u001B[39m tiny) \u001B[38;5;241m*\u001B[39m \u001B[43mnp\u001B[49m\u001B[38;5;241;43m.\u001B[39;49m\u001B[43mfinfo\u001B[49m\u001B[43m(\u001B[49m\u001B[38;5;28;43mfloat\u001B[39;49m\u001B[43m)\u001B[49m\u001B[38;5;241m.\u001B[39mtiny:\n\u001B[0;32m   2881\u001B[0m     vmin \u001B[38;5;241m=\u001B[39m \u001B[38;5;241m-\u001B[39mexpander\n\u001B[0;32m   2882\u001B[0m     vmax \u001B[38;5;241m=\u001B[39m expander\n",
      "File \u001B[1;32m~\\AppData\\Local\\Programs\\Python\\Python310\\lib\\site-packages\\numpy\\core\\getlimits.py:462\u001B[0m, in \u001B[0;36mfinfo.__new__\u001B[1;34m(cls, dtype)\u001B[0m\n\u001B[0;32m    459\u001B[0m     dtype \u001B[38;5;241m=\u001B[39m numeric\u001B[38;5;241m.\u001B[39mdtype(dtype)\n\u001B[0;32m    460\u001B[0m \u001B[38;5;28;01mexcept\u001B[39;00m \u001B[38;5;167;01mTypeError\u001B[39;00m:\n\u001B[0;32m    461\u001B[0m     \u001B[38;5;66;03m# In case a float instance was given\u001B[39;00m\n\u001B[1;32m--> 462\u001B[0m     dtype \u001B[38;5;241m=\u001B[39m \u001B[43mnumeric\u001B[49m\u001B[38;5;241;43m.\u001B[39;49m\u001B[43mdtype\u001B[49m\u001B[43m(\u001B[49m\u001B[38;5;28;43mtype\u001B[39;49m\u001B[43m(\u001B[49m\u001B[43mdtype\u001B[49m\u001B[43m)\u001B[49m\u001B[43m)\u001B[49m\n\u001B[0;32m    464\u001B[0m obj \u001B[38;5;241m=\u001B[39m \u001B[38;5;28mcls\u001B[39m\u001B[38;5;241m.\u001B[39m_finfo_cache\u001B[38;5;241m.\u001B[39mget(dtype, \u001B[38;5;28;01mNone\u001B[39;00m)\n\u001B[0;32m    465\u001B[0m \u001B[38;5;28;01mif\u001B[39;00m obj \u001B[38;5;129;01mis\u001B[39;00m \u001B[38;5;129;01mnot\u001B[39;00m \u001B[38;5;28;01mNone\u001B[39;00m:\n",
      "\u001B[1;31mTypeError\u001B[0m: 'NoneType' object is not callable"
     ]
    }
   ],
   "source": [
    "# export decision tree to disk\n",
    "export_graphviz(model.tree_, 'tree.dot', feature_names=\n",
    "simpsons.drop(['name', 'gender'], axis=1).columns)\n",
    "# visualize decision tree\n",
    "graphviz.Source.from_file('tree.dot')\n",
    "!dot -Tpng tree.dot -o tree.png\n",
    "img = plt.imread('tree.png')\n",
    "plt.figure(figsize=(20, 20))\n",
    "plt.imshow(img)\n",
    "plt.show()"
   ],
   "metadata": {
    "collapsed": false,
    "pycharm": {
     "name": "#%%\n"
    }
   }
  },
  {
   "cell_type": "code",
   "execution_count": 66,
   "outputs": [
    {
     "data": {
      "text/plain": "100.0"
     },
     "execution_count": 66,
     "metadata": {},
     "output_type": "execute_result"
    }
   ],
   "source": [
    " # what about Comic? How to predict the Gender?\n",
    "\n",
    "Z = np.array([['>5', '>160', '30-40']])  # features of Comic\n",
    "model.predict(Z)\n",
    "# predict – check if all persons fall into the right catagory\n",
    "model.predict(X)\n",
    "#% of test cases that are correctly classified\n",
    "100 * (model.predict(X) == simpsons.gender).count() / len(X)"
   ],
   "metadata": {
    "collapsed": false,
    "pycharm": {
     "name": "#%%\n"
    }
   }
  },
  {
   "cell_type": "code",
   "execution_count": 67,
   "outputs": [
    {
     "data": {
      "text/plain": "[Text(0.6, 0.8333333333333334, 'weight <= 165.0\\nentropy = 0.991\\nsamples = 9\\nvalue = [4, 5]\\nclass = cluster M'),\n Text(0.4, 0.5, 'hair length <= 3.0\\nentropy = 0.722\\nsamples = 5\\nvalue = [4, 1]\\nclass = cluster F'),\n Text(0.2, 0.16666666666666666, 'entropy = 0.0\\nsamples = 1\\nvalue = [0, 1]\\nclass = cluster M'),\n Text(0.6, 0.16666666666666666, 'entropy = 0.0\\nsamples = 4\\nvalue = [4, 0]\\nclass = cluster F'),\n Text(0.8, 0.5, 'entropy = 0.0\\nsamples = 4\\nvalue = [0, 4]\\nclass = cluster M')]"
     },
     "execution_count": 67,
     "metadata": {},
     "output_type": "execute_result"
    },
    {
     "data": {
      "text/plain": "<Figure size 432x288 with 1 Axes>",
      "image/png": "[encoded data removed]"
     },
     "metadata": {
      "needs_background": "light"
     },
     "output_type": "display_data"
    }
   ],
   "source": [
    "from sklearn import tree\n",
    "from sklearn.tree import DecisionTreeClassifier\n",
    "\n",
    "simpsons = pd.read_csv(\"The Simpsons original.csv\")\n",
    "classifier = DecisionTreeClassifier(criterion='entropy')\n",
    "classifier.fit(simpsons.drop(['gender', 'name'], axis=1), simpsons['gender'])\n",
    "tree.plot_tree(classifier, feature_names=simpsons.drop(['gender', 'name'], axis=1).columns.values,\n",
    "               class_names=['cluster {}'.format(i)\n",
    "                            for i in np.unique(simpsons['gender'])], filled=True)"
   ],
   "metadata": {
    "collapsed": false,
    "pycharm": {
     "name": "#%%\n"
    }
   }
  }
 ],
 "metadata": {
  "kernelspec": {
   "display_name": "Python 3",
   "language": "python",
   "name": "python3"
  },
  "language_info": {
   "codemirror_mode": {
    "name": "ipython",
    "version": 2
   },
   "file_extension": ".py",
   "mimetype": "text/x-python",
   "name": "python",
   "nbconvert_exporter": "python",
   "pygments_lexer": "ipython2",
   "version": "2.7.6"
  }
 },
 "nbformat": 4,
 "nbformat_minor": 0
}