{
 "cells": [
  {
   "cell_type": "markdown",
   "source": [
    "## Question 1.  Social Media and Study Results\n",
    "\n",
    "We  want  to  investigate  whether  there  is  a  link  between  the  use  of  social  media  and  the  performance  of\n",
    "students.  We  ask  1064  students  how  many  hours  they  spend  on  average  per  day  using  social  media.    By\n",
    "social media we  mean Facebook, YouTube, blogs, Twitter,  MySpace and LinkedIn.  We also check the final\n",
    "score  of  these  students  at  the  end  of  the  year.  The  result  of  this  survey  can  be  found  in  the  file\n",
    "\"socialMediaVsPoints.csv\".\n",
    "\n",
    "a. Load the file.  Ensure that the number of hours is read as numbers.  Remove the rows with an\n",
    "unknown value.  Now remove the rows with outliers. How many rows are left?\n",
    "b. Make a histogram of the hours and the points separately.\n",
    "c. What is the average number of hours a student spends on social media?\n",
    "d. What is the standard deviation of the number of hours?  What does this mean?\n",
    "e. What is the average score of the students?\n",
    "f. What is the standard deviation of the score?\n",
    "g. Make a scatterplot of the 2 variables.  What correlation do you expect?\n",
    "h. Calculate the correlation between the 2 variables.  Do this also via the Z-scores (Pearson).  What did\n",
    "you decide?\n",
    "i. Which rank correlation coefficient do you find according to Kendall?  What does this value mean?\n",
    "j. Does it make sense to determine a regression line here?  Why yes/no?  Determine the regression\n",
    "line if it makes sense."
   ],
   "metadata": {
    "collapsed": false
   }
  },
  {
   "cell_type": "code",
   "execution_count": 1,
   "outputs": [
    {
     "data": {
      "text/plain": "      hours  points\n0      0.70      15\n1      0.68      18\n2      1.50      14\n3      2.40       6\n4      0.00      18\n...     ...     ...\n1059   2.64      15\n1060   1.58      11\n1061   1.53      18\n1062   0.80      16\n1063   1.04      17\n\n[1064 rows x 2 columns]",
      "text/html": "<div>\n<style scoped>\n    .dataframe tbody tr th:only-of-type {\n        vertical-align: middle;\n    }\n\n    .dataframe tbody tr th {\n        vertical-align: top;\n    }\n\n    .dataframe thead th {\n        text-align: right;\n    }\n</style>\n<table border=\"1\" class=\"dataframe\">\n  <thead>\n    <tr style=\"text-align: right;\">\n      <th></th>\n      <th>hours</th>\n      <th>points</th>\n    </tr>\n  </thead>\n  <tbody>\n    <tr>\n      <th>0</th>\n      <td>0.70</td>\n      <td>15</td>\n    </tr>\n    <tr>\n      <th>1</th>\n      <td>0.68</td>\n      <td>18</td>\n    </tr>\n    <tr>\n      <th>2</th>\n      <td>1.50</td>\n      <td>14</td>\n    </tr>\n    <tr>\n      <th>3</th>\n      <td>2.40</td>\n      <td>6</td>\n    </tr>\n    <tr>\n      <th>4</th>\n      <td>0.00</td>\n      <td>18</td>\n    </tr>\n    <tr>\n      <th>...</th>\n      <td>...</td>\n      <td>...</td>\n    </tr>\n    <tr>\n      <th>1059</th>\n      <td>2.64</td>\n      <td>15</td>\n    </tr>\n    <tr>\n      <th>1060</th>\n      <td>1.58</td>\n      <td>11</td>\n    </tr>\n    <tr>\n      <th>1061</th>\n      <td>1.53</td>\n      <td>18</td>\n    </tr>\n    <tr>\n      <th>1062</th>\n      <td>0.80</td>\n      <td>16</td>\n    </tr>\n    <tr>\n      <th>1063</th>\n      <td>1.04</td>\n      <td>17</td>\n    </tr>\n  </tbody>\n</table>\n<p>1064 rows × 2 columns</p>\n</div>"
     },
     "execution_count": 1,
     "metadata": {},
     "output_type": "execute_result"
    }
   ],
   "source": [
    "import pandas as pd\n",
    "sm = pd.read_csv('socialMediaVsPoints.csv',delimiter=',',decimal='.',na_values=\"unknown\")\n",
    "sm"
   ],
   "metadata": {
    "collapsed": false,
    "pycharm": {
     "name": "#%%\n"
    }
   }
  },
  {
   "cell_type": "code",
   "execution_count": 2,
   "outputs": [
    {
     "data": {
      "text/plain": "      hours  points\n0      0.70      15\n1      0.68      18\n2      1.50      14\n3      2.40       6\n4      0.00      18\n...     ...     ...\n1059   2.64      15\n1060   1.58      11\n1061   1.53      18\n1062   0.80      16\n1063   1.04      17\n\n[1063 rows x 2 columns]",
      "text/html": "<div>\n<style scoped>\n    .dataframe tbody tr th:only-of-type {\n        vertical-align: middle;\n    }\n\n    .dataframe tbody tr th {\n        vertical-align: top;\n    }\n\n    .dataframe thead th {\n        text-align: right;\n    }\n</style>\n<table border=\"1\" class=\"dataframe\">\n  <thead>\n    <tr style=\"text-align: right;\">\n      <th></th>\n      <th>hours</th>\n      <th>points</th>\n    </tr>\n  </thead>\n  <tbody>\n    <tr>\n      <th>0</th>\n      <td>0.70</td>\n      <td>15</td>\n    </tr>\n    <tr>\n      <th>1</th>\n      <td>0.68</td>\n      <td>18</td>\n    </tr>\n    <tr>\n      <th>2</th>\n      <td>1.50</td>\n      <td>14</td>\n    </tr>\n    <tr>\n      <th>3</th>\n      <td>2.40</td>\n      <td>6</td>\n    </tr>\n    <tr>\n      <th>4</th>\n      <td>0.00</td>\n      <td>18</td>\n    </tr>\n    <tr>\n      <th>...</th>\n      <td>...</td>\n      <td>...</td>\n    </tr>\n    <tr>\n      <th>1059</th>\n      <td>2.64</td>\n      <td>15</td>\n    </tr>\n    <tr>\n      <th>1060</th>\n      <td>1.58</td>\n      <td>11</td>\n    </tr>\n    <tr>\n      <th>1061</th>\n      <td>1.53</td>\n      <td>18</td>\n    </tr>\n    <tr>\n      <th>1062</th>\n      <td>0.80</td>\n      <td>16</td>\n    </tr>\n    <tr>\n      <th>1063</th>\n      <td>1.04</td>\n      <td>17</td>\n    </tr>\n  </tbody>\n</table>\n<p>1063 rows × 2 columns</p>\n</div>"
     },
     "execution_count": 2,
     "metadata": {},
     "output_type": "execute_result"
    }
   ],
   "source": [
    "sm=sm.dropna()\n",
    "sm"
   ],
   "metadata": {
    "collapsed": false,
    "pycharm": {
     "name": "#%%\n"
    }
   }
  },
  {
   "cell_type": "code",
   "execution_count": 3,
   "metadata": {
    "collapsed": true
   },
   "outputs": [
    {
     "data": {
      "text/plain": "      hours  points\n0      0.70    15.0\n1      0.68    18.0\n2      1.50    14.0\n3      2.40     6.0\n4      0.00    18.0\n...     ...     ...\n1059   2.64    15.0\n1060   1.58    11.0\n1061   1.53    18.0\n1062   0.80    16.0\n1063   1.04    17.0\n\n[1058 rows x 2 columns]",
      "text/html": "<div>\n<style scoped>\n    .dataframe tbody tr th:only-of-type {\n        vertical-align: middle;\n    }\n\n    .dataframe tbody tr th {\n        vertical-align: top;\n    }\n\n    .dataframe thead th {\n        text-align: right;\n    }\n</style>\n<table border=\"1\" class=\"dataframe\">\n  <thead>\n    <tr style=\"text-align: right;\">\n      <th></th>\n      <th>hours</th>\n      <th>points</th>\n    </tr>\n  </thead>\n  <tbody>\n    <tr>\n      <th>0</th>\n      <td>0.70</td>\n      <td>15.0</td>\n    </tr>\n    <tr>\n      <th>1</th>\n      <td>0.68</td>\n      <td>18.0</td>\n    </tr>\n    <tr>\n      <th>2</th>\n      <td>1.50</td>\n      <td>14.0</td>\n    </tr>\n    <tr>\n      <th>3</th>\n      <td>2.40</td>\n      <td>6.0</td>\n    </tr>\n    <tr>\n      <th>4</th>\n      <td>0.00</td>\n      <td>18.0</td>\n    </tr>\n    <tr>\n      <th>...</th>\n      <td>...</td>\n      <td>...</td>\n    </tr>\n    <tr>\n      <th>1059</th>\n      <td>2.64</td>\n      <td>15.0</td>\n    </tr>\n    <tr>\n      <th>1060</th>\n      <td>1.58</td>\n      <td>11.0</td>\n    </tr>\n    <tr>\n      <th>1061</th>\n      <td>1.53</td>\n      <td>18.0</td>\n    </tr>\n    <tr>\n      <th>1062</th>\n      <td>0.80</td>\n      <td>16.0</td>\n    </tr>\n    <tr>\n      <th>1063</th>\n      <td>1.04</td>\n      <td>17.0</td>\n    </tr>\n  </tbody>\n</table>\n<p>1058 rows × 2 columns</p>\n</div>"
     },
     "execution_count": 3,
     "metadata": {},
     "output_type": "execute_result"
    }
   ],
   "source": [
    "import numpy as np\n",
    "def remove_outliers(data):\n",
    "    Q1 = data.quantile(0.25)\n",
    "    Q3 = data.quantile(0.75)\n",
    "    I = Q3 - Q1\n",
    "    low = Q1 - 1.5 * I\n",
    "    high = Q3 + 1.5 * I\n",
    "    return data[data.between(low,high)]\n",
    "smn=pd.DataFrame()\n",
    "smn['hours']=remove_outliers(sm['hours'])\n",
    "smn['points']=remove_outliers(sm['points'])\n",
    "smn"
   ]
  },
  {
   "cell_type": "code",
   "execution_count": 4,
   "outputs": [
    {
     "data": {
      "text/plain": "<Figure size 432x288 with 1 Axes>",
      "image/png": "[encoded data removed]"
     },
     "metadata": {
      "needs_background": "light"
     },
     "output_type": "display_data"
    }
   ],
   "source": [
    "import matplotlib.pyplot as plt\n",
    "plt.figure()\n",
    "smn['hours'].plot.hist()\n",
    "plt.show()"
   ],
   "metadata": {
    "collapsed": false,
    "pycharm": {
     "name": "#%%\n"
    }
   }
  },
  {
   "cell_type": "code",
   "execution_count": 5,
   "outputs": [
    {
     "data": {
      "text/plain": "<Figure size 432x288 with 1 Axes>",
      "image/png": "[encoded data removed]"
     },
     "metadata": {
      "needs_background": "light"
     },
     "output_type": "display_data"
    }
   ],
   "source": [
    "plt.figure()\n",
    "smn['points'].plot.hist()\n",
    "plt.show()"
   ],
   "metadata": {
    "collapsed": false,
    "pycharm": {
     "name": "#%%\n"
    }
   }
  },
  {
   "cell_type": "code",
   "execution_count": 6,
   "outputs": [
    {
     "data": {
      "text/plain": "1.264111531190925"
     },
     "execution_count": 6,
     "metadata": {},
     "output_type": "execute_result"
    }
   ],
   "source": [
    "smn['hours'].mean()"
   ],
   "metadata": {
    "collapsed": false,
    "pycharm": {
     "name": "#%%\n"
    }
   }
  },
  {
   "cell_type": "code",
   "execution_count": 7,
   "outputs": [
    {
     "data": {
      "text/plain": "0.7578589912098026"
     },
     "execution_count": 7,
     "metadata": {},
     "output_type": "execute_result"
    }
   ],
   "source": [
    "smn['hours'].std()"
   ],
   "metadata": {
    "collapsed": false,
    "pycharm": {
     "name": "#%%\n"
    }
   }
  },
  {
   "cell_type": "code",
   "execution_count": 8,
   "outputs": [
    {
     "data": {
      "text/plain": "10.8125"
     },
     "execution_count": 8,
     "metadata": {},
     "output_type": "execute_result"
    }
   ],
   "source": [
    "smn['points'].mean()"
   ],
   "metadata": {
    "collapsed": false,
    "pycharm": {
     "name": "#%%\n"
    }
   }
  },
  {
   "cell_type": "code",
   "execution_count": 9,
   "outputs": [
    {
     "data": {
      "text/plain": "4.495903875614754"
     },
     "execution_count": 9,
     "metadata": {},
     "output_type": "execute_result"
    }
   ],
   "source": [
    "smn['points'].std()"
   ],
   "metadata": {
    "collapsed": false,
    "pycharm": {
     "name": "#%%\n"
    }
   }
  },
  {
   "cell_type": "code",
   "execution_count": 10,
   "outputs": [
    {
     "data": {
      "text/plain": "<Figure size 432x288 with 1 Axes>",
      "image/png": "[encoded data removed]"
     },
     "metadata": {
      "needs_background": "light"
     },
     "output_type": "display_data"
    }
   ],
   "source": [
    "plt.figure()\n",
    "plt.scatter(smn['hours'],smn['points'])\n",
    "plt.show()"
   ],
   "metadata": {
    "collapsed": false,
    "pycharm": {
     "name": "#%%\n"
    }
   }
  },
  {
   "cell_type": "code",
   "execution_count": 11,
   "outputs": [
    {
     "data": {
      "text/plain": "           hours    points\nhours   1.000000 -0.014669\npoints -0.014669  1.000000",
      "text/html": "<div>\n<style scoped>\n    .dataframe tbody tr th:only-of-type {\n        vertical-align: middle;\n    }\n\n    .dataframe tbody tr th {\n        vertical-align: top;\n    }\n\n    .dataframe thead th {\n        text-align: right;\n    }\n</style>\n<table border=\"1\" class=\"dataframe\">\n  <thead>\n    <tr style=\"text-align: right;\">\n      <th></th>\n      <th>hours</th>\n      <th>points</th>\n    </tr>\n  </thead>\n  <tbody>\n    <tr>\n      <th>hours</th>\n      <td>1.000000</td>\n      <td>-0.014669</td>\n    </tr>\n    <tr>\n      <th>points</th>\n      <td>-0.014669</td>\n      <td>1.000000</td>\n    </tr>\n  </tbody>\n</table>\n</div>"
     },
     "execution_count": 11,
     "metadata": {},
     "output_type": "execute_result"
    }
   ],
   "source": [
    "smn.corr(method='pearson')"
   ],
   "metadata": {
    "collapsed": false,
    "pycharm": {
     "name": "#%%\n"
    }
   }
  },
  {
   "cell_type": "code",
   "execution_count": 12,
   "outputs": [
    {
     "data": {
      "text/plain": "-0.014669282578565855"
     },
     "execution_count": 12,
     "metadata": {},
     "output_type": "execute_result"
    }
   ],
   "source": [
    "smn['hours'].corr(smn['points'])"
   ],
   "metadata": {
    "collapsed": false,
    "pycharm": {
     "name": "#%%\n"
    }
   }
  },
  {
   "cell_type": "code",
   "execution_count": 13,
   "outputs": [
    {
     "data": {
      "text/plain": "           hours    points\nhours   1.000000 -0.006172\npoints -0.006172  1.000000",
      "text/html": "<div>\n<style scoped>\n    .dataframe tbody tr th:only-of-type {\n        vertical-align: middle;\n    }\n\n    .dataframe tbody tr th {\n        vertical-align: top;\n    }\n\n    .dataframe thead th {\n        text-align: right;\n    }\n</style>\n<table border=\"1\" class=\"dataframe\">\n  <thead>\n    <tr style=\"text-align: right;\">\n      <th></th>\n      <th>hours</th>\n      <th>points</th>\n    </tr>\n  </thead>\n  <tbody>\n    <tr>\n      <th>hours</th>\n      <td>1.000000</td>\n      <td>-0.006172</td>\n    </tr>\n    <tr>\n      <th>points</th>\n      <td>-0.006172</td>\n      <td>1.000000</td>\n    </tr>\n  </tbody>\n</table>\n</div>"
     },
     "execution_count": 13,
     "metadata": {},
     "output_type": "execute_result"
    }
   ],
   "source": [
    "smn.corr(method='kendall')"
   ],
   "metadata": {
    "collapsed": false,
    "pycharm": {
     "name": "#%%\n"
    }
   }
  },
  {
   "cell_type": "markdown",
   "source": [
    "no correlation\n",
    "## QUESTION 2\n",
    "Batteries for smartphones are manufactured in a factory.  The demand for these batteries varies considerably.\n",
    "One suspects that if demand (and therefore production) increases, the percentage of exploding batteries also\n",
    "increases (and thus: the quality drops due to the working pressure).  One wants to verify this.\n",
    "\n",
    "A  measurement  is  made.    Every  day  the  number  of  batteries  produced  is  tracked.    If  a  defective  battery  is\n",
    "returned  (or  one  explodes),  it  is  verified  on  which  day  it  was  produced.    The  data  can  be  found  in  the  file\n",
    "\"batteries.csv\". The first column shows how many batteries were produced and the second column shows how\n",
    "many batteries were defective.\n",
    "\n",
    "a. Load the file.  There are lines with more than 2 values.  See what Python does with them when you\n",
    "load the values.  Remove this line from the data.  There are outliers in the column Defect and\n",
    "remove these.  How many rows do you have left now?\n",
    "b. Make a scatterplot of the two variables.  Is there a linear correlation?\n",
    "c. What correlation do you find with Kendall's method?\n",
    "d. We are actually not interested in the absolute number of defective batteries, but we are interested in\n",
    "the percentage.  So divide the number of defective batteries by the number of batteries produced.\n",
    "What is the average percentage of defective batteries?\n",
    "e. Make a scatterplot with the percentage of defective batteries.  Can you see the difference with the\n",
    "previous graph?\n",
    "f. Now calculate the correlation between the number of batteries produced and the percentage of\n",
    "defective batteries.  What do you decide?\n",
    "g. What is the value of R²?  What does it mean?\n",
    "h. Draw the regression line on the scatterplot.  What are the values for the slope and intercept?\n",
    "i. What is the standard estimated error?  What does this mean?\n",
    "j. If production would be increased to 8000 batteries/day, how many defective batteries would you\n",
    "expect then?\n",
    "k. How many batteries can the factory produce per day so that there is no more than 1 percent defect?"
   ],
   "metadata": {
    "collapsed": false
   }
  },
  {
   "cell_type": "code",
   "execution_count": 14,
   "outputs": [
    {
     "data": {
      "text/plain": "    #Produced  #Defects\n0        1489        21\n1        2162        34\n2        2472        47\n3        3116        77\n4        4724       227\n..        ...       ...\n91       1959        23\n92       1464         9\n93       2368        23\n94       2873        36\n95       2827        67\n\n[96 rows x 2 columns]",
      "text/html": "<div>\n<style scoped>\n    .dataframe tbody tr th:only-of-type {\n        vertical-align: middle;\n    }\n\n    .dataframe tbody tr th {\n        vertical-align: top;\n    }\n\n    .dataframe thead th {\n        text-align: right;\n    }\n</style>\n<table border=\"1\" class=\"dataframe\">\n  <thead>\n    <tr style=\"text-align: right;\">\n      <th></th>\n      <th>#Produced</th>\n      <th>#Defects</th>\n    </tr>\n  </thead>\n  <tbody>\n    <tr>\n      <th>0</th>\n      <td>1489</td>\n      <td>21</td>\n    </tr>\n    <tr>\n      <th>1</th>\n      <td>2162</td>\n      <td>34</td>\n    </tr>\n    <tr>\n      <th>2</th>\n      <td>2472</td>\n      <td>47</td>\n    </tr>\n    <tr>\n      <th>3</th>\n      <td>3116</td>\n      <td>77</td>\n    </tr>\n    <tr>\n      <th>4</th>\n      <td>4724</td>\n      <td>227</td>\n    </tr>\n    <tr>\n      <th>...</th>\n      <td>...</td>\n      <td>...</td>\n    </tr>\n    <tr>\n      <th>91</th>\n      <td>1959</td>\n      <td>23</td>\n    </tr>\n    <tr>\n      <th>92</th>\n      <td>1464</td>\n      <td>9</td>\n    </tr>\n    <tr>\n      <th>93</th>\n      <td>2368</td>\n      <td>23</td>\n    </tr>\n    <tr>\n      <th>94</th>\n      <td>2873</td>\n      <td>36</td>\n    </tr>\n    <tr>\n      <th>95</th>\n      <td>2827</td>\n      <td>67</td>\n    </tr>\n  </tbody>\n</table>\n<p>96 rows × 2 columns</p>\n</div>"
     },
     "execution_count": 14,
     "metadata": {},
     "output_type": "execute_result"
    }
   ],
   "source": [
    "import numpy as np\n",
    "bt = pd.read_csv('batteries.csv',delimiter=',',na_values=np.nan)\n",
    "bt"
   ],
   "metadata": {
    "collapsed": false,
    "pycharm": {
     "name": "#%%\n"
    }
   }
  },
  {
   "cell_type": "code",
   "execution_count": 15,
   "outputs": [
    {
     "data": {
      "text/plain": "    #Produced  #Defects\n0        1489      21.0\n1        2162      34.0\n2        2472      47.0\n3        3116      77.0\n5        1367      12.0\n..        ...       ...\n91       1959      23.0\n92       1464       9.0\n93       2368      23.0\n94       2873      36.0\n95       2827      67.0\n\n[93 rows x 2 columns]",
      "text/html": "<div>\n<style scoped>\n    .dataframe tbody tr th:only-of-type {\n        vertical-align: middle;\n    }\n\n    .dataframe tbody tr th {\n        vertical-align: top;\n    }\n\n    .dataframe thead th {\n        text-align: right;\n    }\n</style>\n<table border=\"1\" class=\"dataframe\">\n  <thead>\n    <tr style=\"text-align: right;\">\n      <th></th>\n      <th>#Produced</th>\n      <th>#Defects</th>\n    </tr>\n  </thead>\n  <tbody>\n    <tr>\n      <th>0</th>\n      <td>1489</td>\n      <td>21.0</td>\n    </tr>\n    <tr>\n      <th>1</th>\n      <td>2162</td>\n      <td>34.0</td>\n    </tr>\n    <tr>\n      <th>2</th>\n      <td>2472</td>\n      <td>47.0</td>\n    </tr>\n    <tr>\n      <th>3</th>\n      <td>3116</td>\n      <td>77.0</td>\n    </tr>\n    <tr>\n      <th>5</th>\n      <td>1367</td>\n      <td>12.0</td>\n    </tr>\n    <tr>\n      <th>...</th>\n      <td>...</td>\n      <td>...</td>\n    </tr>\n    <tr>\n      <th>91</th>\n      <td>1959</td>\n      <td>23.0</td>\n    </tr>\n    <tr>\n      <th>92</th>\n      <td>1464</td>\n      <td>9.0</td>\n    </tr>\n    <tr>\n      <th>93</th>\n      <td>2368</td>\n      <td>23.0</td>\n    </tr>\n    <tr>\n      <th>94</th>\n      <td>2873</td>\n      <td>36.0</td>\n    </tr>\n    <tr>\n      <th>95</th>\n      <td>2827</td>\n      <td>67.0</td>\n    </tr>\n  </tbody>\n</table>\n<p>93 rows × 2 columns</p>\n</div>"
     },
     "execution_count": 15,
     "metadata": {},
     "output_type": "execute_result"
    }
   ],
   "source": [
    "bt['#Defects']=remove_outliers(bt['#Defects'])\n",
    "bt['#Defects']=pd.to_numeric(bt['#Defects'])\n",
    "bt=bt.dropna()\n",
    "bt"
   ],
   "metadata": {
    "collapsed": false,
    "pycharm": {
     "name": "#%%\n"
    }
   }
  },
  {
   "cell_type": "code",
   "execution_count": 16,
   "outputs": [
    {
     "data": {
      "text/plain": "<Figure size 432x288 with 1 Axes>",
      "image/png": "[encoded data removed]"
     },
     "metadata": {
      "needs_background": "light"
     },
     "output_type": "display_data"
    }
   ],
   "source": [
    "plt.figure()\n",
    "plt.scatter(bt['#Produced'],bt['#Defects'])\n",
    "plt.show()"
   ],
   "metadata": {
    "collapsed": false,
    "pycharm": {
     "name": "#%%\n"
    }
   }
  },
  {
   "cell_type": "code",
   "execution_count": 17,
   "outputs": [
    {
     "data": {
      "text/plain": "           #Produced  #Defects\n#Produced   1.000000  0.814006\n#Defects    0.814006  1.000000",
      "text/html": "<div>\n<style scoped>\n    .dataframe tbody tr th:only-of-type {\n        vertical-align: middle;\n    }\n\n    .dataframe tbody tr th {\n        vertical-align: top;\n    }\n\n    .dataframe thead th {\n        text-align: right;\n    }\n</style>\n<table border=\"1\" class=\"dataframe\">\n  <thead>\n    <tr style=\"text-align: right;\">\n      <th></th>\n      <th>#Produced</th>\n      <th>#Defects</th>\n    </tr>\n  </thead>\n  <tbody>\n    <tr>\n      <th>#Produced</th>\n      <td>1.000000</td>\n      <td>0.814006</td>\n    </tr>\n    <tr>\n      <th>#Defects</th>\n      <td>0.814006</td>\n      <td>1.000000</td>\n    </tr>\n  </tbody>\n</table>\n</div>"
     },
     "execution_count": 17,
     "metadata": {},
     "output_type": "execute_result"
    }
   ],
   "source": [
    "bt.corr(method='kendall')"
   ],
   "metadata": {
    "collapsed": false,
    "pycharm": {
     "name": "#%%\n"
    }
   }
  },
  {
   "cell_type": "code",
   "execution_count": 18,
   "outputs": [
    {
     "data": {
      "text/plain": "49.86936834955852"
     },
     "execution_count": 18,
     "metadata": {},
     "output_type": "execute_result"
    }
   ],
   "source": [
    "bt['#Produced'].sum()/bt['#Defects'].sum()"
   ],
   "metadata": {
    "collapsed": false,
    "pycharm": {
     "name": "#%%\n"
    }
   }
  },
  {
   "cell_type": "code",
   "execution_count": 19,
   "outputs": [
    {
     "name": "stderr",
     "output_type": "stream",
     "text": [
      "C:\\Users\\filip\\AppData\\Local\\Temp/ipykernel_14500/3700630677.py:2: SettingWithCopyWarning: \n",
      "A value is trying to be set on a copy of a slice from a DataFrame.\n",
      "Try using .loc[row_indexer,col_indexer] = value instead\n",
      "\n",
      "See the caveats in the documentation: https://pandas.pydata.org/pandas-docs/stable/user_guide/indexing.html#returning-a-view-versus-a-copy\n",
      "  btp['percentage']=(btp['#Defects']/btp['#Produced']) *100\n"
     ]
    },
    {
     "data": {
      "text/plain": "<Figure size 432x288 with 1 Axes>",
      "image/png": "[encoded data removed]"
     },
     "metadata": {
      "needs_background": "light"
     },
     "output_type": "display_data"
    },
    {
     "data": {
      "text/plain": "    #Produced  #Defects  percentage\n0        1489      21.0    1.410343\n1        2162      34.0    1.572618\n2        2472      47.0    1.901294\n3        3116      77.0    2.471117\n5        1367      12.0    0.877835\n..        ...       ...         ...\n91       1959      23.0    1.174068\n92       1464       9.0    0.614754\n93       2368      23.0    0.971284\n94       2873      36.0    1.253046\n95       2827      67.0    2.370004\n\n[93 rows x 3 columns]",
      "text/html": "<div>\n<style scoped>\n    .dataframe tbody tr th:only-of-type {\n        vertical-align: middle;\n    }\n\n    .dataframe tbody tr th {\n        vertical-align: top;\n    }\n\n    .dataframe thead th {\n        text-align: right;\n    }\n</style>\n<table border=\"1\" class=\"dataframe\">\n  <thead>\n    <tr style=\"text-align: right;\">\n      <th></th>\n      <th>#Produced</th>\n      <th>#Defects</th>\n      <th>percentage</th>\n    </tr>\n  </thead>\n  <tbody>\n    <tr>\n      <th>0</th>\n      <td>1489</td>\n      <td>21.0</td>\n      <td>1.410343</td>\n    </tr>\n    <tr>\n      <th>1</th>\n      <td>2162</td>\n      <td>34.0</td>\n      <td>1.572618</td>\n    </tr>\n    <tr>\n      <th>2</th>\n      <td>2472</td>\n      <td>47.0</td>\n      <td>1.901294</td>\n    </tr>\n    <tr>\n      <th>3</th>\n      <td>3116</td>\n      <td>77.0</td>\n      <td>2.471117</td>\n    </tr>\n    <tr>\n      <th>5</th>\n      <td>1367</td>\n      <td>12.0</td>\n      <td>0.877835</td>\n    </tr>\n    <tr>\n      <th>...</th>\n      <td>...</td>\n      <td>...</td>\n      <td>...</td>\n    </tr>\n    <tr>\n      <th>91</th>\n      <td>1959</td>\n      <td>23.0</td>\n      <td>1.174068</td>\n    </tr>\n    <tr>\n      <th>92</th>\n      <td>1464</td>\n      <td>9.0</td>\n      <td>0.614754</td>\n    </tr>\n    <tr>\n      <th>93</th>\n      <td>2368</td>\n      <td>23.0</td>\n      <td>0.971284</td>\n    </tr>\n    <tr>\n      <th>94</th>\n      <td>2873</td>\n      <td>36.0</td>\n      <td>1.253046</td>\n    </tr>\n    <tr>\n      <th>95</th>\n      <td>2827</td>\n      <td>67.0</td>\n      <td>2.370004</td>\n    </tr>\n  </tbody>\n</table>\n<p>93 rows × 3 columns</p>\n</div>"
     },
     "execution_count": 19,
     "metadata": {},
     "output_type": "execute_result"
    }
   ],
   "source": [
    "btp=bt\n",
    "btp['percentage']=(btp['#Defects']/btp['#Produced']) *100\n",
    "plt.figure()\n",
    "plt.scatter(btp['#Produced'],btp['percentage'])\n",
    "plt.show()\n",
    "btp"
   ],
   "metadata": {
    "collapsed": false,
    "pycharm": {
     "name": "#%%\n"
    }
   }
  },
  {
   "cell_type": "code",
   "execution_count": 20,
   "outputs": [
    {
     "data": {
      "text/plain": "0.8503092015597009"
     },
     "execution_count": 20,
     "metadata": {},
     "output_type": "execute_result"
    }
   ],
   "source": [
    "btp['#Produced'].corr(btp['percentage'])"
   ],
   "metadata": {
    "collapsed": false,
    "pycharm": {
     "name": "#%%\n"
    }
   }
  },
  {
   "cell_type": "code",
   "execution_count": 21,
   "outputs": [
    {
     "data": {
      "text/plain": "se                                                  0.449347\nR2                                                  0.726004\npredict    <function general_regression.<locals>.<lambda>...\na                                                  -0.055872\nb                                                   0.000744\ndtype: object"
     },
     "execution_count": 21,
     "metadata": {},
     "output_type": "execute_result"
    }
   ],
   "source": [
    "import math\n",
    "def general_regression(x, y, degree=1, exp=False):\n",
    "    data = pd.DataFrame({'x':x,'y':y})\n",
    "    data.reset_index(drop=True, inplace=True)\n",
    "    func=lambda x:x # def func(x): return[x]\n",
    "    inv_func=lambda x:x\n",
    "    if (exp):\n",
    "        func=np.exp\n",
    "        inv_func=np.log\n",
    "    sy = data.y.std()\n",
    "    model = np.polyfit(x, inv_func(y), degree)\n",
    "    line = np.poly1d(model)\n",
    "    predict = lambda x:func(line(x))\n",
    "    data['y_pred'] = pd.Series(predict(x))\n",
    "    se = math.sqrt(((data.y_pred-data.y)**2).mean())\n",
    "    R2 = 1-(se**2)/(sy**2)\n",
    "    result = [se, R2, predict]\n",
    "    index = ['se', 'R2', 'predict']\n",
    "    for i in range(1,len(model)+1):\n",
    "        result = np.append(result, model[-i])\n",
    "        index += chr(i+96) # to obtain the characters a,b,...\n",
    "    result = pd.Series(result)\n",
    "    result.index = index\n",
    "    return result\n",
    "general_regression(btp['#Produced'],btp['percentage'],1)"
   ],
   "metadata": {
    "collapsed": false,
    "pycharm": {
     "name": "#%%\n"
    }
   }
  },
  {
   "cell_type": "code",
   "execution_count": 22,
   "outputs": [
    {
     "data": {
      "text/plain": "<Figure size 432x288 with 1 Axes>",
      "image/png": "[encoded data removed]"
     },
     "metadata": {
      "needs_background": "light"
     },
     "output_type": "display_data"
    }
   ],
   "source": [
    "\n",
    "def linear_regression(x: pd.Series, y: pd.Series) -> list:\n",
    "    model = np.polyfit(x, y, 1)\n",
    "    predict = np.poly1d(model)\n",
    "    xx = np.arange(x.min(), x.max(), (x.max() - x.min()) / 100)\n",
    "    yy = predict(xx)\n",
    "    y_pred = predict(x)\n",
    "    se = math.sqrt(((y_pred - y) ** 2).mean())\n",
    "    return [xx, yy, se]\n",
    "def draw_linear_regression_scatter_plot(x: pd.Series, y: pd.Series, x_label: str, y_label: str, title: str) -> None:\n",
    "    xx, yy, se = linear_regression(x, y)\n",
    "    plt.scatter(x, y, alpha=0.2)\n",
    "    plt.plot(xx, yy, color='red')\n",
    "    plt.xlabel(x_label)\n",
    "    plt.ylabel(y_label)\n",
    "    plt.title(title)\n",
    "    plt.fill_between(xx, yy - 2 * se, yy + 2 * se, color='#FFFF0020')\n",
    "    plt.show()\n",
    "\n",
    "draw_linear_regression_scatter_plot(btp['#Produced'],btp['percentage'],\"produced\",\"percentage\",\"QH\")"
   ],
   "metadata": {
    "collapsed": false,
    "pycharm": {
     "name": "#%%\n"
    }
   }
  },
  {
   "cell_type": "code",
   "execution_count": 23,
   "outputs": [
    {
     "data": {
      "text/plain": "0.4493474606782796"
     },
     "execution_count": 23,
     "metadata": {},
     "output_type": "execute_result"
    }
   ],
   "source": [
    "general_regression(btp['#Produced'],btp['percentage'],1).se"
   ],
   "metadata": {
    "collapsed": false,
    "pycharm": {
     "name": "#%%\n"
    }
   }
  },
  {
   "cell_type": "code",
   "execution_count": 24,
   "outputs": [
    {
     "data": {
      "text/plain": "    #Produced  #Defects  percentage\n0        1489      21.0    1.410343\n1        2162      34.0    1.572618\n2        2472      47.0    1.901294\n3        3116      77.0    2.471117\n7        2755      43.0    1.560799\n..        ...       ...         ...\n84       3009      42.0    1.395813\n87       1439      19.0    1.320361\n91       1959      23.0    1.174068\n94       2873      36.0    1.253046\n95       2827      67.0    2.370004\n\n[71 rows x 3 columns]",
      "text/html": "<div>\n<style scoped>\n    .dataframe tbody tr th:only-of-type {\n        vertical-align: middle;\n    }\n\n    .dataframe tbody tr th {\n        vertical-align: top;\n    }\n\n    .dataframe thead th {\n        text-align: right;\n    }\n</style>\n<table border=\"1\" class=\"dataframe\">\n  <thead>\n    <tr style=\"text-align: right;\">\n      <th></th>\n      <th>#Produced</th>\n      <th>#Defects</th>\n      <th>percentage</th>\n    </tr>\n  </thead>\n  <tbody>\n    <tr>\n      <th>0</th>\n      <td>1489</td>\n      <td>21.0</td>\n      <td>1.410343</td>\n    </tr>\n    <tr>\n      <th>1</th>\n      <td>2162</td>\n      <td>34.0</td>\n      <td>1.572618</td>\n    </tr>\n    <tr>\n      <th>2</th>\n      <td>2472</td>\n      <td>47.0</td>\n      <td>1.901294</td>\n    </tr>\n    <tr>\n      <th>3</th>\n      <td>3116</td>\n      <td>77.0</td>\n      <td>2.471117</td>\n    </tr>\n    <tr>\n      <th>7</th>\n      <td>2755</td>\n      <td>43.0</td>\n      <td>1.560799</td>\n    </tr>\n    <tr>\n      <th>...</th>\n      <td>...</td>\n      <td>...</td>\n      <td>...</td>\n    </tr>\n    <tr>\n      <th>84</th>\n      <td>3009</td>\n      <td>42.0</td>\n      <td>1.395813</td>\n    </tr>\n    <tr>\n      <th>87</th>\n      <td>1439</td>\n      <td>19.0</td>\n      <td>1.320361</td>\n    </tr>\n    <tr>\n      <th>91</th>\n      <td>1959</td>\n      <td>23.0</td>\n      <td>1.174068</td>\n    </tr>\n    <tr>\n      <th>94</th>\n      <td>2873</td>\n      <td>36.0</td>\n      <td>1.253046</td>\n    </tr>\n    <tr>\n      <th>95</th>\n      <td>2827</td>\n      <td>67.0</td>\n      <td>2.370004</td>\n    </tr>\n  </tbody>\n</table>\n<p>71 rows × 3 columns</p>\n</div>"
     },
     "execution_count": 24,
     "metadata": {},
     "output_type": "execute_result"
    }
   ],
   "source": [
    "#5%?\n",
    "btp[btp['percentage']>1]\n",
    "#1880?"
   ],
   "metadata": {
    "collapsed": false,
    "pycharm": {
     "name": "#%%\n"
    }
   }
  },
  {
   "cell_type": "markdown",
   "source": [
    "## Question 3  Stress and Weather Conditions\n",
    "\n",
    "In this study we wonder what influence the weather has on the feeling of stress.  We asked a number of people\n",
    "to write down their feelings of stress every day.  With these data (see the file stress.csv) we noted the average\n",
    "temperature, humidity and amount of rainfall on that day.\n",
    "\n",
    "a. Load the data.  Which columns contain NA values? Delete the rows with NA values.  Remove the\n",
    "rows with extreme outliers during rainfall.  The humidity should not exceed 100. Remove the rows\n",
    "where this is the case. How many rows do you have left?\n",
    "b. Which measurement level do the columns have?\n",
    "c. What is the average temperature, humidity and railfall?\n",
    "d. Find the correlation between stress and temperature.  Which method should you use? Which value\n",
    "do you find?  What does it mean?\n",
    "e. Find the correlation between stress and humidity.  What value do you find?  What does it mean?\n",
    "f. Find the correlation between stress and rainfall.  What value do you find?  What does it mean?\n",
    "g. Which factors play a role in the feeling of stress"
   ],
   "metadata": {
    "collapsed": false,
    "pycharm": {
     "name": "#%% md\n"
    }
   }
  },
  {
   "cell_type": "code",
   "execution_count": 25,
   "outputs": [
    {
     "data": {
      "text/plain": "               stress  temp  rainfall  humidity\n0              normal  18.3       2.5      72.0\n1     mildly stressed   7.4       2.7      69.0\n2     mildly stressed  12.6       2.5      76.0\n3              normal  14.1       2.3      73.0\n4     mildly stressed  12.8       3.1      85.0\n...               ...   ...       ...       ...\n1090         stressed   3.1       1.6      87.0\n1091  mildly stressed  11.0       2.5      95.0\n1092  mildly stressed   7.3       2.4      83.0\n1093  mildly stressed   4.6       2.1      79.0\n1094  mildly stressed  12.0       2.7      74.0\n\n[1092 rows x 4 columns]",
      "text/html": "<div>\n<style scoped>\n    .dataframe tbody tr th:only-of-type {\n        vertical-align: middle;\n    }\n\n    .dataframe tbody tr th {\n        vertical-align: top;\n    }\n\n    .dataframe thead th {\n        text-align: right;\n    }\n</style>\n<table border=\"1\" class=\"dataframe\">\n  <thead>\n    <tr style=\"text-align: right;\">\n      <th></th>\n      <th>stress</th>\n      <th>temp</th>\n      <th>rainfall</th>\n      <th>humidity</th>\n    </tr>\n  </thead>\n  <tbody>\n    <tr>\n      <th>0</th>\n      <td>normal</td>\n      <td>18.3</td>\n      <td>2.5</td>\n      <td>72.0</td>\n    </tr>\n    <tr>\n      <th>1</th>\n      <td>mildly stressed</td>\n      <td>7.4</td>\n      <td>2.7</td>\n      <td>69.0</td>\n    </tr>\n    <tr>\n      <th>2</th>\n      <td>mildly stressed</td>\n      <td>12.6</td>\n      <td>2.5</td>\n      <td>76.0</td>\n    </tr>\n    <tr>\n      <th>3</th>\n      <td>normal</td>\n      <td>14.1</td>\n      <td>2.3</td>\n      <td>73.0</td>\n    </tr>\n    <tr>\n      <th>4</th>\n      <td>mildly stressed</td>\n      <td>12.8</td>\n      <td>3.1</td>\n      <td>85.0</td>\n    </tr>\n    <tr>\n      <th>...</th>\n      <td>...</td>\n      <td>...</td>\n      <td>...</td>\n      <td>...</td>\n    </tr>\n    <tr>\n      <th>1090</th>\n      <td>stressed</td>\n      <td>3.1</td>\n      <td>1.6</td>\n      <td>87.0</td>\n    </tr>\n    <tr>\n      <th>1091</th>\n      <td>mildly stressed</td>\n      <td>11.0</td>\n      <td>2.5</td>\n      <td>95.0</td>\n    </tr>\n    <tr>\n      <th>1092</th>\n      <td>mildly stressed</td>\n      <td>7.3</td>\n      <td>2.4</td>\n      <td>83.0</td>\n    </tr>\n    <tr>\n      <th>1093</th>\n      <td>mildly stressed</td>\n      <td>4.6</td>\n      <td>2.1</td>\n      <td>79.0</td>\n    </tr>\n    <tr>\n      <th>1094</th>\n      <td>mildly stressed</td>\n      <td>12.0</td>\n      <td>2.7</td>\n      <td>74.0</td>\n    </tr>\n  </tbody>\n</table>\n<p>1092 rows × 4 columns</p>\n</div>"
     },
     "execution_count": 25,
     "metadata": {},
     "output_type": "execute_result"
    }
   ],
   "source": [
    "stress = pd.read_csv('stress.csv',delimiter='\\t',decimal=',')\n",
    "stress=stress.dropna()\n",
    "stress"
   ],
   "metadata": {
    "collapsed": false,
    "pycharm": {
     "name": "#%%\n"
    }
   }
  },
  {
   "cell_type": "code",
   "execution_count": 26,
   "outputs": [
    {
     "data": {
      "text/plain": "               stress  temp  rainfall  humidity\n0              normal  18.3       2.5      72.0\n1     mildly stressed   7.4       2.7      69.0\n2     mildly stressed  12.6       2.5      76.0\n3              normal  14.1       2.3      73.0\n4     mildly stressed  12.8       3.1      85.0\n...               ...   ...       ...       ...\n1090         stressed   3.1       1.6      87.0\n1091  mildly stressed  11.0       2.5      95.0\n1092  mildly stressed   7.3       2.4      83.0\n1093  mildly stressed   4.6       2.1      79.0\n1094  mildly stressed  12.0       2.7      74.0\n\n[1091 rows x 4 columns]",
      "text/html": "<div>\n<style scoped>\n    .dataframe tbody tr th:only-of-type {\n        vertical-align: middle;\n    }\n\n    .dataframe tbody tr th {\n        vertical-align: top;\n    }\n\n    .dataframe thead th {\n        text-align: right;\n    }\n</style>\n<table border=\"1\" class=\"dataframe\">\n  <thead>\n    <tr style=\"text-align: right;\">\n      <th></th>\n      <th>stress</th>\n      <th>temp</th>\n      <th>rainfall</th>\n      <th>humidity</th>\n    </tr>\n  </thead>\n  <tbody>\n    <tr>\n      <th>0</th>\n      <td>normal</td>\n      <td>18.3</td>\n      <td>2.5</td>\n      <td>72.0</td>\n    </tr>\n    <tr>\n      <th>1</th>\n      <td>mildly stressed</td>\n      <td>7.4</td>\n      <td>2.7</td>\n      <td>69.0</td>\n    </tr>\n    <tr>\n      <th>2</th>\n      <td>mildly stressed</td>\n      <td>12.6</td>\n      <td>2.5</td>\n      <td>76.0</td>\n    </tr>\n    <tr>\n      <th>3</th>\n      <td>normal</td>\n      <td>14.1</td>\n      <td>2.3</td>\n      <td>73.0</td>\n    </tr>\n    <tr>\n      <th>4</th>\n      <td>mildly stressed</td>\n      <td>12.8</td>\n      <td>3.1</td>\n      <td>85.0</td>\n    </tr>\n    <tr>\n      <th>...</th>\n      <td>...</td>\n      <td>...</td>\n      <td>...</td>\n      <td>...</td>\n    </tr>\n    <tr>\n      <th>1090</th>\n      <td>stressed</td>\n      <td>3.1</td>\n      <td>1.6</td>\n      <td>87.0</td>\n    </tr>\n    <tr>\n      <th>1091</th>\n      <td>mildly stressed</td>\n      <td>11.0</td>\n      <td>2.5</td>\n      <td>95.0</td>\n    </tr>\n    <tr>\n      <th>1092</th>\n      <td>mildly stressed</td>\n      <td>7.3</td>\n      <td>2.4</td>\n      <td>83.0</td>\n    </tr>\n    <tr>\n      <th>1093</th>\n      <td>mildly stressed</td>\n      <td>4.6</td>\n      <td>2.1</td>\n      <td>79.0</td>\n    </tr>\n    <tr>\n      <th>1094</th>\n      <td>mildly stressed</td>\n      <td>12.0</td>\n      <td>2.7</td>\n      <td>74.0</td>\n    </tr>\n  </tbody>\n</table>\n<p>1091 rows × 4 columns</p>\n</div>"
     },
     "execution_count": 26,
     "metadata": {},
     "output_type": "execute_result"
    }
   ],
   "source": [
    "def remove_extreme_outliers(data):\n",
    "    Q1 = data.quantile(0.25)\n",
    "    Q3 = data.quantile(0.75)\n",
    "    I = Q3 - Q1\n",
    "    low = Q1 - 3 * I\n",
    "    high = Q3 + 3 * I\n",
    "    return data[data.between(low,high)]\n",
    "temp = pd.DataFrame()\n",
    "temp['rainfall']=remove_extreme_outliers(stress['rainfall'])\n",
    "stress['rainfall']=temp\n",
    "stress=stress[stress['humidity']<=100]\n",
    "stress"
   ],
   "metadata": {
    "collapsed": false,
    "pycharm": {
     "name": "#%%\n"
    }
   }
  },
  {
   "cell_type": "markdown",
   "source": [
    "stress -> ordinal\n",
    "temp -> interval\n",
    "rainfall -> ratio\n",
    "humidity -> ratio"
   ],
   "metadata": {
    "collapsed": false
   }
  },
  {
   "cell_type": "code",
   "execution_count": 27,
   "outputs": [
    {
     "data": {
      "text/plain": "10.319431714023837"
     },
     "execution_count": 27,
     "metadata": {},
     "output_type": "execute_result"
    }
   ],
   "source": [
    "stress['temp'].mean()"
   ],
   "metadata": {
    "collapsed": false,
    "pycharm": {
     "name": "#%%\n"
    }
   }
  },
  {
   "cell_type": "code",
   "execution_count": 28,
   "outputs": [
    {
     "data": {
      "text/plain": "2.3707339449541265"
     },
     "execution_count": 28,
     "metadata": {},
     "output_type": "execute_result"
    }
   ],
   "source": [
    "stress['rainfall'].mean()"
   ],
   "metadata": {
    "collapsed": false,
    "pycharm": {
     "name": "#%%\n"
    }
   }
  },
  {
   "cell_type": "code",
   "execution_count": 29,
   "outputs": [
    {
     "data": {
      "text/plain": "79.8698441796517"
     },
     "execution_count": 29,
     "metadata": {},
     "output_type": "execute_result"
    }
   ],
   "source": [
    "stress['humidity'].mean()"
   ],
   "metadata": {
    "collapsed": false,
    "pycharm": {
     "name": "#%%\n"
    }
   }
  },
  {
   "cell_type": "code",
   "execution_count": 30,
   "outputs": [
    {
     "data": {
      "text/plain": "0.020712132477663885"
     },
     "execution_count": 30,
     "metadata": {},
     "output_type": "execute_result"
    }
   ],
   "source": [
    "stress['temp'].corr(stress['stress'],method='kendall')"
   ],
   "metadata": {
    "collapsed": false,
    "pycharm": {
     "name": "#%%\n"
    }
   }
  },
  {
   "cell_type": "code",
   "execution_count": 31,
   "outputs": [
    {
     "data": {
      "text/plain": "-0.029220240982506505"
     },
     "execution_count": 31,
     "metadata": {},
     "output_type": "execute_result"
    }
   ],
   "source": [
    "stress['humidity'].corr(stress['stress'],method='kendall')"
   ],
   "metadata": {
    "collapsed": false,
    "pycharm": {
     "name": "#%%\n"
    }
   }
  },
  {
   "cell_type": "code",
   "execution_count": 32,
   "outputs": [
    {
     "data": {
      "text/plain": "0.009480900491528603"
     },
     "execution_count": 32,
     "metadata": {},
     "output_type": "execute_result"
    }
   ],
   "source": [
    "stress['rainfall'].corr(stress['stress'],method='kendall')"
   ],
   "metadata": {
    "collapsed": false,
    "pycharm": {
     "name": "#%%\n"
    }
   }
  },
  {
   "cell_type": "code",
   "execution_count": 33,
   "outputs": [
    {
     "data": {
      "text/plain": "<Figure size 432x288 with 1 Axes>",
      "image/png": "[encoded data removed]"
     },
     "metadata": {
      "needs_background": "light"
     },
     "output_type": "display_data"
    }
   ],
   "source": [
    "plt.figure()\n",
    "plt.scatter(stress['stress'],stress['temp'])\n",
    "plt.show()"
   ],
   "metadata": {
    "collapsed": false,
    "pycharm": {
     "name": "#%%\n"
    }
   }
  },
  {
   "cell_type": "markdown",
   "source": [
    "\n",
    "## Question 4  When to Charge My Smartphone?\n",
    "\n",
    "We know that the battery charge of a smartphone drops sharply when you use it a lot.  Now we want to map\n",
    "this out.  We have a number of test specimens fully charged and give them to people who use smartphones.\n",
    "When the battery charge reaches 20%, the people note the number of hours of standby and the number of\n",
    "hours used.  You can find these data in \"smartphones.csv\".\n",
    "\n",
    "a. Load the data.  How many rows are there?\n",
    "b. Calculate per device the total number of hours it was on up to 20% (hours used and standby hours).\n",
    "How many hours do you find for the first device?\n",
    "c. We are now looking for a link between the number of hours the smartphone was used and the total\n",
    "number of hours until the battery was at 20%.  First make a scatterplot of these 2 variables.  What do\n",
    "you see?\n",
    "d. Calculate the correlation according to Pearson and Kendall.  What do these values say?\n",
    "e. Draw the regression line on the scatterplot.  What are the values for the slope and intercept?\n",
    "f. What is the value of R²?  What is the meaning?\n",
    "g. What is the standard estimation error?  What does it mean?\n",
    "h. If someone needs a smartphone for 3 hours, how long will it take before the smartphone needs to be\n",
    "charged?\n",
    "i. Suppose you are looking for a link between the percentage of use and the total time before you need\n",
    "to charge.  Find the right variables and create a scatterplot.  What do you see?  Can you use linear\n",
    "regression for this?  Why or why not?  Which regression model is best in this case?  What is the final\n",
    "formula for the model?"
   ],
   "metadata": {
    "collapsed": false
   }
  },
  {
   "cell_type": "code",
   "execution_count": 34,
   "outputs": [
    {
     "data": {
      "text/plain": "       usage    standby\n0   2.883495  93.622233\n1   7.009684  25.832790\n2   0.966821  75.322096\n3   4.579412  63.088735\n4   1.903283  94.866359\n..       ...        ...\n95  4.635983  70.667516\n96  5.428050  70.520763\n97  4.206757  61.587526\n98  4.151233  82.306191\n99  2.886201  78.094185\n\n[100 rows x 2 columns]",
      "text/html": "<div>\n<style scoped>\n    .dataframe tbody tr th:only-of-type {\n        vertical-align: middle;\n    }\n\n    .dataframe tbody tr th {\n        vertical-align: top;\n    }\n\n    .dataframe thead th {\n        text-align: right;\n    }\n</style>\n<table border=\"1\" class=\"dataframe\">\n  <thead>\n    <tr style=\"text-align: right;\">\n      <th></th>\n      <th>usage</th>\n      <th>standby</th>\n    </tr>\n  </thead>\n  <tbody>\n    <tr>\n      <th>0</th>\n      <td>2.883495</td>\n      <td>93.622233</td>\n    </tr>\n    <tr>\n      <th>1</th>\n      <td>7.009684</td>\n      <td>25.832790</td>\n    </tr>\n    <tr>\n      <th>2</th>\n      <td>0.966821</td>\n      <td>75.322096</td>\n    </tr>\n    <tr>\n      <th>3</th>\n      <td>4.579412</td>\n      <td>63.088735</td>\n    </tr>\n    <tr>\n      <th>4</th>\n      <td>1.903283</td>\n      <td>94.866359</td>\n    </tr>\n    <tr>\n      <th>...</th>\n      <td>...</td>\n      <td>...</td>\n    </tr>\n    <tr>\n      <th>95</th>\n      <td>4.635983</td>\n      <td>70.667516</td>\n    </tr>\n    <tr>\n      <th>96</th>\n      <td>5.428050</td>\n      <td>70.520763</td>\n    </tr>\n    <tr>\n      <th>97</th>\n      <td>4.206757</td>\n      <td>61.587526</td>\n    </tr>\n    <tr>\n      <th>98</th>\n      <td>4.151233</td>\n      <td>82.306191</td>\n    </tr>\n    <tr>\n      <th>99</th>\n      <td>2.886201</td>\n      <td>78.094185</td>\n    </tr>\n  </tbody>\n</table>\n<p>100 rows × 2 columns</p>\n</div>"
     },
     "execution_count": 34,
     "metadata": {},
     "output_type": "execute_result"
    }
   ],
   "source": [
    "sp = pd.read_csv('smartphones.csv',delimiter=',',decimal='.')\n",
    "sp"
   ],
   "metadata": {
    "collapsed": false,
    "pycharm": {
     "name": "#%%\n"
    }
   }
  },
  {
   "cell_type": "code",
   "execution_count": 35,
   "outputs": [
    {
     "data": {
      "text/plain": "0     96.505727\n1     32.842474\n2     76.288917\n3     67.668147\n4     96.769642\n        ...    \n95    75.303499\n96    75.948813\n97    65.794284\n98    86.457424\n99    80.980386\nLength: 100, dtype: float64"
     },
     "execution_count": 35,
     "metadata": {},
     "output_type": "execute_result"
    }
   ],
   "source": [
    "sp.usage+sp.standby"
   ],
   "metadata": {
    "collapsed": false,
    "pycharm": {
     "name": "#%%\n"
    }
   }
  },
  {
   "cell_type": "code",
   "execution_count": 40,
   "outputs": [
    {
     "data": {
      "text/plain": "<Figure size 432x288 with 1 Axes>",
      "image/png": "[encoded data removed]"
     },
     "metadata": {
      "needs_background": "light"
     },
     "output_type": "display_data"
    }
   ],
   "source": [
    "spn=sp\n",
    "spn['total']=spn.usage+spn.standby\n",
    "plt.figure()\n",
    "plt.scatter(spn.usage,spn.total)\n",
    "plt.show()"
   ],
   "metadata": {
    "collapsed": false,
    "pycharm": {
     "name": "#%%\n"
    }
   }
  },
  {
   "cell_type": "code",
   "execution_count": 41,
   "outputs": [
    {
     "data": {
      "text/plain": "            usage   standby     total\nusage    1.000000 -0.726291 -0.696947\nstandby -0.726291  1.000000  0.999127\ntotal   -0.696947  0.999127  1.000000",
      "text/html": "<div>\n<style scoped>\n    .dataframe tbody tr th:only-of-type {\n        vertical-align: middle;\n    }\n\n    .dataframe tbody tr th {\n        vertical-align: top;\n    }\n\n    .dataframe thead th {\n        text-align: right;\n    }\n</style>\n<table border=\"1\" class=\"dataframe\">\n  <thead>\n    <tr style=\"text-align: right;\">\n      <th></th>\n      <th>usage</th>\n      <th>standby</th>\n      <th>total</th>\n    </tr>\n  </thead>\n  <tbody>\n    <tr>\n      <th>usage</th>\n      <td>1.000000</td>\n      <td>-0.726291</td>\n      <td>-0.696947</td>\n    </tr>\n    <tr>\n      <th>standby</th>\n      <td>-0.726291</td>\n      <td>1.000000</td>\n      <td>0.999127</td>\n    </tr>\n    <tr>\n      <th>total</th>\n      <td>-0.696947</td>\n      <td>0.999127</td>\n      <td>1.000000</td>\n    </tr>\n  </tbody>\n</table>\n</div>"
     },
     "execution_count": 41,
     "metadata": {},
     "output_type": "execute_result"
    }
   ],
   "source": [
    "sp.corr(method='pearson')"
   ],
   "metadata": {
    "collapsed": false,
    "pycharm": {
     "name": "#%%\n"
    }
   }
  },
  {
   "cell_type": "code",
   "execution_count": 42,
   "outputs": [
    {
     "data": {
      "text/plain": "            usage   standby     total\nusage    1.000000 -0.541010 -0.517576\nstandby -0.541010  1.000000  0.976566\ntotal   -0.517576  0.976566  1.000000",
      "text/html": "<div>\n<style scoped>\n    .dataframe tbody tr th:only-of-type {\n        vertical-align: middle;\n    }\n\n    .dataframe tbody tr th {\n        vertical-align: top;\n    }\n\n    .dataframe thead th {\n        text-align: right;\n    }\n</style>\n<table border=\"1\" class=\"dataframe\">\n  <thead>\n    <tr style=\"text-align: right;\">\n      <th></th>\n      <th>usage</th>\n      <th>standby</th>\n      <th>total</th>\n    </tr>\n  </thead>\n  <tbody>\n    <tr>\n      <th>usage</th>\n      <td>1.000000</td>\n      <td>-0.541010</td>\n      <td>-0.517576</td>\n    </tr>\n    <tr>\n      <th>standby</th>\n      <td>-0.541010</td>\n      <td>1.000000</td>\n      <td>0.976566</td>\n    </tr>\n    <tr>\n      <th>total</th>\n      <td>-0.517576</td>\n      <td>0.976566</td>\n      <td>1.000000</td>\n    </tr>\n  </tbody>\n</table>\n</div>"
     },
     "execution_count": 42,
     "metadata": {},
     "output_type": "execute_result"
    }
   ],
   "source": [
    "sp.corr(method='kendall')"
   ],
   "metadata": {
    "collapsed": false,
    "pycharm": {
     "name": "#%%\n"
    }
   }
  },
  {
   "cell_type": "code",
   "execution_count": 44,
   "outputs": [
    {
     "data": {
      "text/plain": "<Figure size 432x288 with 1 Axes>",
      "image/png": "[encoded data removed]"
     },
     "metadata": {
      "needs_background": "light"
     },
     "output_type": "display_data"
    }
   ],
   "source": [
    "draw_linear_regression_scatter_plot(sp.usage,sp.standby,\"usage\",\"standby\",\"phone usage\")"
   ],
   "metadata": {
    "collapsed": false,
    "pycharm": {
     "name": "#%%\n"
    }
   }
  },
  {
   "cell_type": "code",
   "execution_count": 45,
   "outputs": [
    {
     "data": {
      "text/plain": "se                                                 21.419936\nR2                                                  0.532223\npredict    <function general_regression.<locals>.<lambda>...\na                                                 120.258782\nb                                                 -12.470289\ndtype: object"
     },
     "execution_count": 45,
     "metadata": {},
     "output_type": "execute_result"
    }
   ],
   "source": [
    "general_regression(sp.usage,sp.standby,1)"
   ],
   "metadata": {
    "collapsed": false,
    "pycharm": {
     "name": "#%%\n"
    }
   }
  },
  {
   "cell_type": "markdown",
   "source": [
    "R2->0.53\n",
    "se->21.42"
   ],
   "metadata": {
    "collapsed": false
   }
  },
  {
   "cell_type": "code",
   "execution_count": null,
   "outputs": [],
   "source": [],
   "metadata": {
    "collapsed": false,
    "pycharm": {
     "name": "#%%\n"
    }
   }
  }
 ],
 "metadata": {
  "kernelspec": {
   "display_name": "Python 3",
   "language": "python",
   "name": "python3"
  },
  "language_info": {
   "codemirror_mode": {
    "name": "ipython",
    "version": 2
   },
   "file_extension": ".py",
   "mimetype": "text/x-python",
   "name": "python",
   "nbconvert_exporter": "python",
   "pygments_lexer": "ipython2",
   "version": "2.7.6"
  }
 },
 "nbformat": 4,
 "nbformat_minor": 0
}