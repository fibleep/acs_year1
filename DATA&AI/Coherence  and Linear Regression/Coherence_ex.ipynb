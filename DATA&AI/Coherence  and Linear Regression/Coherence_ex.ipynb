{
 "cells": [
  {
   "cell_type": "markdown",
   "source": [
    "## Question 1.  Social Media and Study Results\n",
    "\n",
    "We  want  to  investigate  whether  there  is  a  link  between  the  use  of  social  media  and  the  performance  of\n",
    "students.  We  ask  1064  students  how  many  hours  they  spend  on  average  per  day  using  social  media.    By\n",
    "social media we  mean Facebook, YouTube, blogs, Twitter,  MySpace and LinkedIn.  We also check the final\n",
    "score  of  these  students  at  the  end  of  the  year.  The  result  of  this  survey  can  be  found  in  the  file\n",
    "\"socialMediaVsPoints.csv\".\n",
    "\n",
    "a. Load the file.  Ensure that the number of hours is read as numbers.  Remove the rows with an\n",
    "unknown value.  Now remove the rows with outliers. How many rows are left?\n",
    "b. Make a histogram of the hours and the points separately.\n",
    "c. What is the average number of hours a student spends on social media?\n",
    "d. What is the standard deviation of the number of hours?  What does this mean?\n",
    "e. What is the average score of the students?\n",
    "f. What is the standard deviation of the score?\n",
    "g. Make a scatterplot of the 2 variables.  What correlation do you expect?\n",
    "h. Calculate the correlation between the 2 variables.  Do this also via the Z-scores (Pearson).  What did\n",
    "you decide?\n",
    "i. Which rank correlation coefficient do you find according to Kendall?  What does this value mean?\n",
    "j. Does it make sense to determine a regression line here?  Why yes/no?  Determine the regression\n",
    "line if it makes sense."
   ],
   "metadata": {
    "collapsed": false
   }
  },
  {
   "cell_type": "code",
   "execution_count": 67,
   "outputs": [
    {
     "data": {
      "text/plain": "      hours  points\n0      0.70      15\n1      0.68      18\n2      1.50      14\n3      2.40       6\n4      0.00      18\n...     ...     ...\n1059   2.64      15\n1060   1.58      11\n1061   1.53      18\n1062   0.80      16\n1063   1.04      17\n\n[1064 rows x 2 columns]",
      "text/html": "<div>\n<style scoped>\n    .dataframe tbody tr th:only-of-type {\n        vertical-align: middle;\n    }\n\n    .dataframe tbody tr th {\n        vertical-align: top;\n    }\n\n    .dataframe thead th {\n        text-align: right;\n    }\n</style>\n<table border=\"1\" class=\"dataframe\">\n  <thead>\n    <tr style=\"text-align: right;\">\n      <th></th>\n      <th>hours</th>\n      <th>points</th>\n    </tr>\n  </thead>\n  <tbody>\n    <tr>\n      <th>0</th>\n      <td>0.70</td>\n      <td>15</td>\n    </tr>\n    <tr>\n      <th>1</th>\n      <td>0.68</td>\n      <td>18</td>\n    </tr>\n    <tr>\n      <th>2</th>\n      <td>1.50</td>\n      <td>14</td>\n    </tr>\n    <tr>\n      <th>3</th>\n      <td>2.40</td>\n      <td>6</td>\n    </tr>\n    <tr>\n      <th>4</th>\n      <td>0.00</td>\n      <td>18</td>\n    </tr>\n    <tr>\n      <th>...</th>\n      <td>...</td>\n      <td>...</td>\n    </tr>\n    <tr>\n      <th>1059</th>\n      <td>2.64</td>\n      <td>15</td>\n    </tr>\n    <tr>\n      <th>1060</th>\n      <td>1.58</td>\n      <td>11</td>\n    </tr>\n    <tr>\n      <th>1061</th>\n      <td>1.53</td>\n      <td>18</td>\n    </tr>\n    <tr>\n      <th>1062</th>\n      <td>0.80</td>\n      <td>16</td>\n    </tr>\n    <tr>\n      <th>1063</th>\n      <td>1.04</td>\n      <td>17</td>\n    </tr>\n  </tbody>\n</table>\n<p>1064 rows × 2 columns</p>\n</div>"
     },
     "execution_count": 67,
     "metadata": {},
     "output_type": "execute_result"
    }
   ],
   "source": [
    "import pandas as pd\n",
    "sm = pd.read_csv('socialMediaVsPoints.csv',delimiter=',',decimal='.',na_values=\"unknown\")\n",
    "sm"
   ],
   "metadata": {
    "collapsed": false,
    "pycharm": {
     "name": "#%%\n"
    }
   }
  },
  {
   "cell_type": "code",
   "execution_count": 68,
   "outputs": [
    {
     "data": {
      "text/plain": "      hours  points\n0      0.70      15\n1      0.68      18\n2      1.50      14\n3      2.40       6\n4      0.00      18\n...     ...     ...\n1059   2.64      15\n1060   1.58      11\n1061   1.53      18\n1062   0.80      16\n1063   1.04      17\n\n[1063 rows x 2 columns]",
      "text/html": "<div>\n<style scoped>\n    .dataframe tbody tr th:only-of-type {\n        vertical-align: middle;\n    }\n\n    .dataframe tbody tr th {\n        vertical-align: top;\n    }\n\n    .dataframe thead th {\n        text-align: right;\n    }\n</style>\n<table border=\"1\" class=\"dataframe\">\n  <thead>\n    <tr style=\"text-align: right;\">\n      <th></th>\n      <th>hours</th>\n      <th>points</th>\n    </tr>\n  </thead>\n  <tbody>\n    <tr>\n      <th>0</th>\n      <td>0.70</td>\n      <td>15</td>\n    </tr>\n    <tr>\n      <th>1</th>\n      <td>0.68</td>\n      <td>18</td>\n    </tr>\n    <tr>\n      <th>2</th>\n      <td>1.50</td>\n      <td>14</td>\n    </tr>\n    <tr>\n      <th>3</th>\n      <td>2.40</td>\n      <td>6</td>\n    </tr>\n    <tr>\n      <th>4</th>\n      <td>0.00</td>\n      <td>18</td>\n    </tr>\n    <tr>\n      <th>...</th>\n      <td>...</td>\n      <td>...</td>\n    </tr>\n    <tr>\n      <th>1059</th>\n      <td>2.64</td>\n      <td>15</td>\n    </tr>\n    <tr>\n      <th>1060</th>\n      <td>1.58</td>\n      <td>11</td>\n    </tr>\n    <tr>\n      <th>1061</th>\n      <td>1.53</td>\n      <td>18</td>\n    </tr>\n    <tr>\n      <th>1062</th>\n      <td>0.80</td>\n      <td>16</td>\n    </tr>\n    <tr>\n      <th>1063</th>\n      <td>1.04</td>\n      <td>17</td>\n    </tr>\n  </tbody>\n</table>\n<p>1063 rows × 2 columns</p>\n</div>"
     },
     "execution_count": 68,
     "metadata": {},
     "output_type": "execute_result"
    }
   ],
   "source": [
    "sm=sm.dropna()\n",
    "sm"
   ],
   "metadata": {
    "collapsed": false,
    "pycharm": {
     "name": "#%%\n"
    }
   }
  },
  {
   "cell_type": "code",
   "execution_count": 69,
   "metadata": {
    "collapsed": true
   },
   "outputs": [
    {
     "data": {
      "text/plain": "      hours  points\n0      0.70    15.0\n1      0.68    18.0\n2      1.50    14.0\n3      2.40     6.0\n4      0.00    18.0\n...     ...     ...\n1059   2.64    15.0\n1060   1.58    11.0\n1061   1.53    18.0\n1062   0.80    16.0\n1063   1.04    17.0\n\n[1058 rows x 2 columns]",
      "text/html": "<div>\n<style scoped>\n    .dataframe tbody tr th:only-of-type {\n        vertical-align: middle;\n    }\n\n    .dataframe tbody tr th {\n        vertical-align: top;\n    }\n\n    .dataframe thead th {\n        text-align: right;\n    }\n</style>\n<table border=\"1\" class=\"dataframe\">\n  <thead>\n    <tr style=\"text-align: right;\">\n      <th></th>\n      <th>hours</th>\n      <th>points</th>\n    </tr>\n  </thead>\n  <tbody>\n    <tr>\n      <th>0</th>\n      <td>0.70</td>\n      <td>15.0</td>\n    </tr>\n    <tr>\n      <th>1</th>\n      <td>0.68</td>\n      <td>18.0</td>\n    </tr>\n    <tr>\n      <th>2</th>\n      <td>1.50</td>\n      <td>14.0</td>\n    </tr>\n    <tr>\n      <th>3</th>\n      <td>2.40</td>\n      <td>6.0</td>\n    </tr>\n    <tr>\n      <th>4</th>\n      <td>0.00</td>\n      <td>18.0</td>\n    </tr>\n    <tr>\n      <th>...</th>\n      <td>...</td>\n      <td>...</td>\n    </tr>\n    <tr>\n      <th>1059</th>\n      <td>2.64</td>\n      <td>15.0</td>\n    </tr>\n    <tr>\n      <th>1060</th>\n      <td>1.58</td>\n      <td>11.0</td>\n    </tr>\n    <tr>\n      <th>1061</th>\n      <td>1.53</td>\n      <td>18.0</td>\n    </tr>\n    <tr>\n      <th>1062</th>\n      <td>0.80</td>\n      <td>16.0</td>\n    </tr>\n    <tr>\n      <th>1063</th>\n      <td>1.04</td>\n      <td>17.0</td>\n    </tr>\n  </tbody>\n</table>\n<p>1058 rows × 2 columns</p>\n</div>"
     },
     "execution_count": 69,
     "metadata": {},
     "output_type": "execute_result"
    }
   ],
   "source": [
    "import numpy as np\n",
    "def remove_outliers(data):\n",
    "    Q1 = data.quantile(0.25)\n",
    "    Q3 = data.quantile(0.75)\n",
    "    I = Q3 - Q1\n",
    "    low = Q1 - 1.5 * I\n",
    "    high = Q3 + 1.5 * I\n",
    "    return data[data.between(low,high)]\n",
    "smn=pd.DataFrame()\n",
    "smn['hours']=remove_outliers(sm['hours'])\n",
    "smn['points']=remove_outliers(sm['points'])\n",
    "smn"
   ]
  },
  {
   "cell_type": "code",
   "execution_count": 70,
   "outputs": [
    {
     "data": {
      "text/plain": "<Figure size 432x288 with 1 Axes>",
      "image/png": "[encoded data removed]"
     },
     "metadata": {
      "needs_background": "light"
     },
     "output_type": "display_data"
    }
   ],
   "source": [
    "import matplotlib.pyplot as plt\n",
    "plt.figure()\n",
    "smn['hours'].plot.hist()\n",
    "plt.show()"
   ],
   "metadata": {
    "collapsed": false,
    "pycharm": {
     "name": "#%%\n"
    }
   }
  },
  {
   "cell_type": "code",
   "execution_count": 71,
   "outputs": [
    {
     "data": {
      "text/plain": "<Figure size 432x288 with 1 Axes>",
      "image/png": "[encoded data removed]"
     },
     "metadata": {
      "needs_background": "light"
     },
     "output_type": "display_data"
    }
   ],
   "source": [
    "plt.figure()\n",
    "smn['points'].plot.hist()\n",
    "plt.show()"
   ],
   "metadata": {
    "collapsed": false,
    "pycharm": {
     "name": "#%%\n"
    }
   }
  },
  {
   "cell_type": "code",
   "execution_count": 72,
   "outputs": [
    {
     "data": {
      "text/plain": "1.264111531190925"
     },
     "execution_count": 72,
     "metadata": {},
     "output_type": "execute_result"
    }
   ],
   "source": [
    "smn['hours'].mean()"
   ],
   "metadata": {
    "collapsed": false,
    "pycharm": {
     "name": "#%%\n"
    }
   }
  },
  {
   "cell_type": "code",
   "execution_count": 73,
   "outputs": [
    {
     "data": {
      "text/plain": "0.7578589912098026"
     },
     "execution_count": 73,
     "metadata": {},
     "output_type": "execute_result"
    }
   ],
   "source": [
    "smn['hours'].std()"
   ],
   "metadata": {
    "collapsed": false,
    "pycharm": {
     "name": "#%%\n"
    }
   }
  },
  {
   "cell_type": "code",
   "execution_count": 74,
   "outputs": [
    {
     "data": {
      "text/plain": "10.8125"
     },
     "execution_count": 74,
     "metadata": {},
     "output_type": "execute_result"
    }
   ],
   "source": [
    "smn['points'].mean()"
   ],
   "metadata": {
    "collapsed": false,
    "pycharm": {
     "name": "#%%\n"
    }
   }
  },
  {
   "cell_type": "code",
   "execution_count": 75,
   "outputs": [
    {
     "data": {
      "text/plain": "4.495903875614754"
     },
     "execution_count": 75,
     "metadata": {},
     "output_type": "execute_result"
    }
   ],
   "source": [
    "smn['points'].std()"
   ],
   "metadata": {
    "collapsed": false,
    "pycharm": {
     "name": "#%%\n"
    }
   }
  },
  {
   "cell_type": "code",
   "execution_count": 76,
   "outputs": [
    {
     "data": {
      "text/plain": "<Figure size 432x288 with 1 Axes>",
      "image/png": "[encoded data removed]"
     },
     "metadata": {
      "needs_background": "light"
     },
     "output_type": "display_data"
    }
   ],
   "source": [
    "plt.figure()\n",
    "plt.scatter(smn['hours'],smn['points'])\n",
    "plt.show()"
   ],
   "metadata": {
    "collapsed": false,
    "pycharm": {
     "name": "#%%\n"
    }
   }
  },
  {
   "cell_type": "code",
   "execution_count": 77,
   "outputs": [
    {
     "data": {
      "text/plain": "           hours    points\nhours   1.000000 -0.014669\npoints -0.014669  1.000000",
      "text/html": "<div>\n<style scoped>\n    .dataframe tbody tr th:only-of-type {\n        vertical-align: middle;\n    }\n\n    .dataframe tbody tr th {\n        vertical-align: top;\n    }\n\n    .dataframe thead th {\n        text-align: right;\n    }\n</style>\n<table border=\"1\" class=\"dataframe\">\n  <thead>\n    <tr style=\"text-align: right;\">\n      <th></th>\n      <th>hours</th>\n      <th>points</th>\n    </tr>\n  </thead>\n  <tbody>\n    <tr>\n      <th>hours</th>\n      <td>1.000000</td>\n      <td>-0.014669</td>\n    </tr>\n    <tr>\n      <th>points</th>\n      <td>-0.014669</td>\n      <td>1.000000</td>\n    </tr>\n  </tbody>\n</table>\n</div>"
     },
     "execution_count": 77,
     "metadata": {},
     "output_type": "execute_result"
    }
   ],
   "source": [
    "smn.corr(method='pearson')"
   ],
   "metadata": {
    "collapsed": false,
    "pycharm": {
     "name": "#%%\n"
    }
   }
  },
  {
   "cell_type": "code",
   "execution_count": 78,
   "outputs": [
    {
     "data": {
      "text/plain": "-0.014669282578565855"
     },
     "execution_count": 78,
     "metadata": {},
     "output_type": "execute_result"
    }
   ],
   "source": [
    "smn['hours'].corr(smn['points'])"
   ],
   "metadata": {
    "collapsed": false,
    "pycharm": {
     "name": "#%%\n"
    }
   }
  },
  {
   "cell_type": "code",
   "execution_count": 79,
   "outputs": [
    {
     "data": {
      "text/plain": "           hours    points\nhours   1.000000 -0.006172\npoints -0.006172  1.000000",
      "text/html": "<div>\n<style scoped>\n    .dataframe tbody tr th:only-of-type {\n        vertical-align: middle;\n    }\n\n    .dataframe tbody tr th {\n        vertical-align: top;\n    }\n\n    .dataframe thead th {\n        text-align: right;\n    }\n</style>\n<table border=\"1\" class=\"dataframe\">\n  <thead>\n    <tr style=\"text-align: right;\">\n      <th></th>\n      <th>hours</th>\n      <th>points</th>\n    </tr>\n  </thead>\n  <tbody>\n    <tr>\n      <th>hours</th>\n      <td>1.000000</td>\n      <td>-0.006172</td>\n    </tr>\n    <tr>\n      <th>points</th>\n      <td>-0.006172</td>\n      <td>1.000000</td>\n    </tr>\n  </tbody>\n</table>\n</div>"
     },
     "execution_count": 79,
     "metadata": {},
     "output_type": "execute_result"
    }
   ],
   "source": [
    "smn.corr(method='kendall')"
   ],
   "metadata": {
    "collapsed": false,
    "pycharm": {
     "name": "#%%\n"
    }
   }
  },
  {
   "cell_type": "markdown",
   "source": [
    "no correlation\n",
    "## QUESTION 2\n",
    "Batteries for smartphones are manufactured in a factory.  The demand for these batteries varies considerably.\n",
    "One suspects that if demand (and therefore production) increases, the percentage of exploding batteries also\n",
    "increases (and thus: the quality drops due to the working pressure).  One wants to verify this.\n",
    "\n",
    "A  measurement  is  made.    Every  day  the  number  of  batteries  produced  is  tracked.    If  a  defective  battery  is\n",
    "returned  (or  one  explodes),  it  is  verified  on  which  day  it  was  produced.    The  data  can  be  found  in  the  file\n",
    "\"batteries.csv\". The first column shows how many batteries were produced and the second column shows how\n",
    "many batteries were defective.\n",
    "\n",
    "a. Load the file.  There are lines with more than 2 values.  See what Python does with them when you\n",
    "load the values.  Remove this line from the data.  There are outliers in the column Defect and\n",
    "remove these.  How many rows do you have left now?\n",
    "b. Make a scatterplot of the two variables.  Is there a linear correlation?\n",
    "c. What correlation do you find with Kendall's method?\n",
    "d. We are actually not interested in the absolute number of defective batteries, but we are interested in\n",
    "the percentage.  So divide the number of defective batteries by the number of batteries produced.\n",
    "What is the average percentage of defective batteries?\n",
    "e. Make a scatterplot with the percentage of defective batteries.  Can you see the difference with the\n",
    "previous graph?\n",
    "f. Now calculate the correlation between the number of batteries produced and the percentage of\n",
    "defective batteries.  What do you decide?\n",
    "g. What is the value of R²?  What does it mean?\n",
    "h. Draw the regression line on the scatterplot.  What are the values for the slope and intercept?\n",
    "i. What is the standard estimated error?  What does this mean?\n",
    "j. If production would be increased to 8000 batteries/day, how many defective batteries would you\n",
    "expect then?\n",
    "k. How many batteries can the factory produce per day so that there is no more than 1 percent defect?"
   ],
   "metadata": {
    "collapsed": false
   }
  },
  {
   "cell_type": "code",
   "execution_count": 80,
   "outputs": [
    {
     "data": {
      "text/plain": "    #Produced  #Defects\n0        1489        21\n1        2162        34\n2        2472        47\n3        3116        77\n4        4724       227\n..        ...       ...\n91       1959        23\n92       1464         9\n93       2368        23\n94       2873        36\n95       2827        67\n\n[96 rows x 2 columns]",
      "text/html": "<div>\n<style scoped>\n    .dataframe tbody tr th:only-of-type {\n        vertical-align: middle;\n    }\n\n    .dataframe tbody tr th {\n        vertical-align: top;\n    }\n\n    .dataframe thead th {\n        text-align: right;\n    }\n</style>\n<table border=\"1\" class=\"dataframe\">\n  <thead>\n    <tr style=\"text-align: right;\">\n      <th></th>\n      <th>#Produced</th>\n      <th>#Defects</th>\n    </tr>\n  </thead>\n  <tbody>\n    <tr>\n      <th>0</th>\n      <td>1489</td>\n      <td>21</td>\n    </tr>\n    <tr>\n      <th>1</th>\n      <td>2162</td>\n      <td>34</td>\n    </tr>\n    <tr>\n      <th>2</th>\n      <td>2472</td>\n      <td>47</td>\n    </tr>\n    <tr>\n      <th>3</th>\n      <td>3116</td>\n      <td>77</td>\n    </tr>\n    <tr>\n      <th>4</th>\n      <td>4724</td>\n      <td>227</td>\n    </tr>\n    <tr>\n      <th>...</th>\n      <td>...</td>\n      <td>...</td>\n    </tr>\n    <tr>\n      <th>91</th>\n      <td>1959</td>\n      <td>23</td>\n    </tr>\n    <tr>\n      <th>92</th>\n      <td>1464</td>\n      <td>9</td>\n    </tr>\n    <tr>\n      <th>93</th>\n      <td>2368</td>\n      <td>23</td>\n    </tr>\n    <tr>\n      <th>94</th>\n      <td>2873</td>\n      <td>36</td>\n    </tr>\n    <tr>\n      <th>95</th>\n      <td>2827</td>\n      <td>67</td>\n    </tr>\n  </tbody>\n</table>\n<p>96 rows × 2 columns</p>\n</div>"
     },
     "execution_count": 80,
     "metadata": {},
     "output_type": "execute_result"
    }
   ],
   "source": [
    "import numpy as np\n",
    "bt = pd.read_csv('batteries.csv',delimiter=',',na_values=np.nan)\n",
    "bt"
   ],
   "metadata": {
    "collapsed": false,
    "pycharm": {
     "name": "#%%\n"
    }
   }
  },
  {
   "cell_type": "code",
   "execution_count": 81,
   "outputs": [
    {
     "data": {
      "text/plain": "    #Produced  #Defects\n0        1489      21.0\n1        2162      34.0\n2        2472      47.0\n3        3116      77.0\n5        1367      12.0\n..        ...       ...\n91       1959      23.0\n92       1464       9.0\n93       2368      23.0\n94       2873      36.0\n95       2827      67.0\n\n[93 rows x 2 columns]",
      "text/html": "<div>\n<style scoped>\n    .dataframe tbody tr th:only-of-type {\n        vertical-align: middle;\n    }\n\n    .dataframe tbody tr th {\n        vertical-align: top;\n    }\n\n    .dataframe thead th {\n        text-align: right;\n    }\n</style>\n<table border=\"1\" class=\"dataframe\">\n  <thead>\n    <tr style=\"text-align: right;\">\n      <th></th>\n      <th>#Produced</th>\n      <th>#Defects</th>\n    </tr>\n  </thead>\n  <tbody>\n    <tr>\n      <th>0</th>\n      <td>1489</td>\n      <td>21.0</td>\n    </tr>\n    <tr>\n      <th>1</th>\n      <td>2162</td>\n      <td>34.0</td>\n    </tr>\n    <tr>\n      <th>2</th>\n      <td>2472</td>\n      <td>47.0</td>\n    </tr>\n    <tr>\n      <th>3</th>\n      <td>3116</td>\n      <td>77.0</td>\n    </tr>\n    <tr>\n      <th>5</th>\n      <td>1367</td>\n      <td>12.0</td>\n    </tr>\n    <tr>\n      <th>...</th>\n      <td>...</td>\n      <td>...</td>\n    </tr>\n    <tr>\n      <th>91</th>\n      <td>1959</td>\n      <td>23.0</td>\n    </tr>\n    <tr>\n      <th>92</th>\n      <td>1464</td>\n      <td>9.0</td>\n    </tr>\n    <tr>\n      <th>93</th>\n      <td>2368</td>\n      <td>23.0</td>\n    </tr>\n    <tr>\n      <th>94</th>\n      <td>2873</td>\n      <td>36.0</td>\n    </tr>\n    <tr>\n      <th>95</th>\n      <td>2827</td>\n      <td>67.0</td>\n    </tr>\n  </tbody>\n</table>\n<p>93 rows × 2 columns</p>\n</div>"
     },
     "execution_count": 81,
     "metadata": {},
     "output_type": "execute_result"
    }
   ],
   "source": [
    "bt['#Defects']=remove_outliers(bt['#Defects'])\n",
    "bt['#Defects']=pd.to_numeric(bt['#Defects'])\n",
    "bt=bt.dropna()\n",
    "bt"
   ],
   "metadata": {
    "collapsed": false,
    "pycharm": {
     "name": "#%%\n"
    }
   }
  },
  {
   "cell_type": "code",
   "execution_count": 82,
   "outputs": [
    {
     "data": {
      "text/plain": "<Figure size 432x288 with 1 Axes>",
      "image/png": "[encoded data removed]"
     },
     "metadata": {
      "needs_background": "light"
     },
     "output_type": "display_data"
    }
   ],
   "source": [
    "plt.figure()\n",
    "plt.scatter(bt['#Produced'],bt['#Defects'])\n",
    "plt.show()"
   ],
   "metadata": {
    "collapsed": false,
    "pycharm": {
     "name": "#%%\n"
    }
   }
  },
  {
   "cell_type": "code",
   "execution_count": 83,
   "outputs": [
    {
     "data": {
      "text/plain": "           #Produced  #Defects\n#Produced   1.000000  0.814006\n#Defects    0.814006  1.000000",
      "text/html": "<div>\n<style scoped>\n    .dataframe tbody tr th:only-of-type {\n        vertical-align: middle;\n    }\n\n    .dataframe tbody tr th {\n        vertical-align: top;\n    }\n\n    .dataframe thead th {\n        text-align: right;\n    }\n</style>\n<table border=\"1\" class=\"dataframe\">\n  <thead>\n    <tr style=\"text-align: right;\">\n      <th></th>\n      <th>#Produced</th>\n      <th>#Defects</th>\n    </tr>\n  </thead>\n  <tbody>\n    <tr>\n      <th>#Produced</th>\n      <td>1.000000</td>\n      <td>0.814006</td>\n    </tr>\n    <tr>\n      <th>#Defects</th>\n      <td>0.814006</td>\n      <td>1.000000</td>\n    </tr>\n  </tbody>\n</table>\n</div>"
     },
     "execution_count": 83,
     "metadata": {},
     "output_type": "execute_result"
    }
   ],
   "source": [
    "bt.corr(method='kendall')"
   ],
   "metadata": {
    "collapsed": false,
    "pycharm": {
     "name": "#%%\n"
    }
   }
  },
  {
   "cell_type": "code",
   "execution_count": 84,
   "outputs": [
    {
     "data": {
      "text/plain": "49.86936834955852"
     },
     "execution_count": 84,
     "metadata": {},
     "output_type": "execute_result"
    }
   ],
   "source": [
    "bt['#Produced'].sum()/bt['#Defects'].sum()"
   ],
   "metadata": {
    "collapsed": false,
    "pycharm": {
     "name": "#%%\n"
    }
   }
  },
  {
   "cell_type": "code",
   "execution_count": 85,
   "outputs": [
    {
     "name": "stderr",
     "output_type": "stream",
     "text": [
      "C:\\Users\\filip\\AppData\\Local\\Temp/ipykernel_14176/3700630677.py:2: SettingWithCopyWarning: \n",
      "A value is trying to be set on a copy of a slice from a DataFrame.\n",
      "Try using .loc[row_indexer,col_indexer] = value instead\n",
      "\n",
      "See the caveats in the documentation: https://pandas.pydata.org/pandas-docs/stable/user_guide/indexing.html#returning-a-view-versus-a-copy\n",
      "  btp['percentage']=(btp['#Defects']/btp['#Produced']) *100\n"
     ]
    },
    {
     "data": {
      "text/plain": "<Figure size 432x288 with 1 Axes>",
      "image/png": "[encoded data removed]"
     },
     "metadata": {
      "needs_background": "light"
     },
     "output_type": "display_data"
    },
    {
     "data": {
      "text/plain": "    #Produced  #Defects  percentage\n0        1489      21.0    1.410343\n1        2162      34.0    1.572618\n2        2472      47.0    1.901294\n3        3116      77.0    2.471117\n5        1367      12.0    0.877835\n..        ...       ...         ...\n91       1959      23.0    1.174068\n92       1464       9.0    0.614754\n93       2368      23.0    0.971284\n94       2873      36.0    1.253046\n95       2827      67.0    2.370004\n\n[93 rows x 3 columns]",
      "text/html": "<div>\n<style scoped>\n    .dataframe tbody tr th:only-of-type {\n        vertical-align: middle;\n    }\n\n    .dataframe tbody tr th {\n        vertical-align: top;\n    }\n\n    .dataframe thead th {\n        text-align: right;\n    }\n</style>\n<table border=\"1\" class=\"dataframe\">\n  <thead>\n    <tr style=\"text-align: right;\">\n      <th></th>\n      <th>#Produced</th>\n      <th>#Defects</th>\n      <th>percentage</th>\n    </tr>\n  </thead>\n  <tbody>\n    <tr>\n      <th>0</th>\n      <td>1489</td>\n      <td>21.0</td>\n      <td>1.410343</td>\n    </tr>\n    <tr>\n      <th>1</th>\n      <td>2162</td>\n      <td>34.0</td>\n      <td>1.572618</td>\n    </tr>\n    <tr>\n      <th>2</th>\n      <td>2472</td>\n      <td>47.0</td>\n      <td>1.901294</td>\n    </tr>\n    <tr>\n      <th>3</th>\n      <td>3116</td>\n      <td>77.0</td>\n      <td>2.471117</td>\n    </tr>\n    <tr>\n      <th>5</th>\n      <td>1367</td>\n      <td>12.0</td>\n      <td>0.877835</td>\n    </tr>\n    <tr>\n      <th>...</th>\n      <td>...</td>\n      <td>...</td>\n      <td>...</td>\n    </tr>\n    <tr>\n      <th>91</th>\n      <td>1959</td>\n      <td>23.0</td>\n      <td>1.174068</td>\n    </tr>\n    <tr>\n      <th>92</th>\n      <td>1464</td>\n      <td>9.0</td>\n      <td>0.614754</td>\n    </tr>\n    <tr>\n      <th>93</th>\n      <td>2368</td>\n      <td>23.0</td>\n      <td>0.971284</td>\n    </tr>\n    <tr>\n      <th>94</th>\n      <td>2873</td>\n      <td>36.0</td>\n      <td>1.253046</td>\n    </tr>\n    <tr>\n      <th>95</th>\n      <td>2827</td>\n      <td>67.0</td>\n      <td>2.370004</td>\n    </tr>\n  </tbody>\n</table>\n<p>93 rows × 3 columns</p>\n</div>"
     },
     "execution_count": 85,
     "metadata": {},
     "output_type": "execute_result"
    }
   ],
   "source": [
    "btp=bt\n",
    "btp['percentage']=(btp['#Defects']/btp['#Produced']) *100\n",
    "plt.figure()\n",
    "plt.scatter(btp['#Produced'],btp['percentage'])\n",
    "plt.show()\n",
    "btp"
   ],
   "metadata": {
    "collapsed": false,
    "pycharm": {
     "name": "#%%\n"
    }
   }
  },
  {
   "cell_type": "code",
   "execution_count": 86,
   "outputs": [
    {
     "data": {
      "text/plain": "0.8503092015597009"
     },
     "execution_count": 86,
     "metadata": {},
     "output_type": "execute_result"
    }
   ],
   "source": [
    "btp['#Produced'].corr(btp['percentage'])"
   ],
   "metadata": {
    "collapsed": false,
    "pycharm": {
     "name": "#%%\n"
    }
   }
  },
  {
   "cell_type": "code",
   "execution_count": 87,
   "outputs": [
    {
     "data": {
      "text/plain": "se                                                  0.449347\nR2                                                  0.726004\npredict    <function general_regression.<locals>.<lambda>...\na                                                  -0.055872\nb                                                   0.000744\ndtype: object"
     },
     "execution_count": 87,
     "metadata": {},
     "output_type": "execute_result"
    }
   ],
   "source": [
    "import math\n",
    "def general_regression(x, y, degree=1, exp=False):\n",
    "    data = pd.DataFrame({'x':x,'y':y})\n",
    "    data.reset_index(drop=True, inplace=True)\n",
    "    func=lambda x:x # def func(x): return[x]\n",
    "    inv_func=lambda x:x\n",
    "    if (exp):\n",
    "        func=np.exp\n",
    "        inv_func=np.log\n",
    "    sy = data.y.std()\n",
    "    model = np.polyfit(x, inv_func(y), degree)\n",
    "    line = np.poly1d(model)\n",
    "    predict = lambda x:func(line(x))\n",
    "    data['y_pred'] = pd.Series(predict(x))\n",
    "    se = math.sqrt(((data.y_pred-data.y)**2).mean())\n",
    "    R2 = 1-(se**2)/(sy**2)\n",
    "    result = [se, R2, predict]\n",
    "    index = ['se', 'R2', 'predict']\n",
    "    for i in range(1,len(model)+1):\n",
    "        result = np.append(result, model[-i])\n",
    "        index += chr(i+96) # to obtain the characters a,b,...\n",
    "    result = pd.Series(result)\n",
    "    result.index = index\n",
    "    return result\n",
    "general_regression(btp['#Produced'],btp['percentage'],1)"
   ],
   "metadata": {
    "collapsed": false,
    "pycharm": {
     "name": "#%%\n"
    }
   }
  },
  {
   "cell_type": "code",
   "execution_count": 88,
   "outputs": [
    {
     "data": {
      "text/plain": "<Figure size 432x288 with 1 Axes>",
      "image/png": "[encoded data removed]"
     },
     "metadata": {
      "needs_background": "light"
     },
     "output_type": "display_data"
    }
   ],
   "source": [
    "\n",
    "def linear_regression(x: pd.Series, y: pd.Series) -> list:\n",
    "    model = np.polyfit(x, y, 1)\n",
    "    predict = np.poly1d(model)\n",
    "    xx = np.arange(x.min(), x.max(), (x.max() - x.min()) / 100)\n",
    "    yy = predict(xx)\n",
    "    y_pred = predict(x)\n",
    "    se = math.sqrt(((y_pred - y) ** 2).mean())\n",
    "    return [xx, yy, se]\n",
    "def draw_linear_regression_scatter_plot(x: pd.Series, y: pd.Series, x_label: str, y_label: str, title: str) -> None:\n",
    "    xx, yy, se = linear_regression(x, y)\n",
    "    plt.scatter(x, y, alpha=0.2)\n",
    "    plt.plot(xx, yy, color='red')\n",
    "    plt.xlabel(x_label)\n",
    "    plt.ylabel(y_label)\n",
    "    plt.title(title)\n",
    "    plt.fill_between(xx, yy - 2 * se, yy + 2 * se, color='#FFFF0020')\n",
    "    plt.show()\n",
    "\n",
    "draw_linear_regression_scatter_plot(btp['#Produced'],btp['percentage'],\"produced\",\"percentage\",\"QH\")"
   ],
   "metadata": {
    "collapsed": false,
    "pycharm": {
     "name": "#%%\n"
    }
   }
  },
  {
   "cell_type": "code",
   "execution_count": 89,
   "outputs": [
    {
     "data": {
      "text/plain": "0.4493474606782796"
     },
     "execution_count": 89,
     "metadata": {},
     "output_type": "execute_result"
    }
   ],
   "source": [
    "general_regression(btp['#Produced'],btp['percentage'],1).se"
   ],
   "metadata": {
    "collapsed": false,
    "pycharm": {
     "name": "#%%\n"
    }
   }
  },
  {
   "cell_type": "code",
   "execution_count": 90,
   "outputs": [
    {
     "data": {
      "text/plain": "    #Produced  #Defects  percentage\n0        1489      21.0    1.410343\n1        2162      34.0    1.572618\n2        2472      47.0    1.901294\n3        3116      77.0    2.471117\n7        2755      43.0    1.560799\n..        ...       ...         ...\n84       3009      42.0    1.395813\n87       1439      19.0    1.320361\n91       1959      23.0    1.174068\n94       2873      36.0    1.253046\n95       2827      67.0    2.370004\n\n[71 rows x 3 columns]",
      "text/html": "<div>\n<style scoped>\n    .dataframe tbody tr th:only-of-type {\n        vertical-align: middle;\n    }\n\n    .dataframe tbody tr th {\n        vertical-align: top;\n    }\n\n    .dataframe thead th {\n        text-align: right;\n    }\n</style>\n<table border=\"1\" class=\"dataframe\">\n  <thead>\n    <tr style=\"text-align: right;\">\n      <th></th>\n      <th>#Produced</th>\n      <th>#Defects</th>\n      <th>percentage</th>\n    </tr>\n  </thead>\n  <tbody>\n    <tr>\n      <th>0</th>\n      <td>1489</td>\n      <td>21.0</td>\n      <td>1.410343</td>\n    </tr>\n    <tr>\n      <th>1</th>\n      <td>2162</td>\n      <td>34.0</td>\n      <td>1.572618</td>\n    </tr>\n    <tr>\n      <th>2</th>\n      <td>2472</td>\n      <td>47.0</td>\n      <td>1.901294</td>\n    </tr>\n    <tr>\n      <th>3</th>\n      <td>3116</td>\n      <td>77.0</td>\n      <td>2.471117</td>\n    </tr>\n    <tr>\n      <th>7</th>\n      <td>2755</td>\n      <td>43.0</td>\n      <td>1.560799</td>\n    </tr>\n    <tr>\n      <th>...</th>\n      <td>...</td>\n      <td>...</td>\n      <td>...</td>\n    </tr>\n    <tr>\n      <th>84</th>\n      <td>3009</td>\n      <td>42.0</td>\n      <td>1.395813</td>\n    </tr>\n    <tr>\n      <th>87</th>\n      <td>1439</td>\n      <td>19.0</td>\n      <td>1.320361</td>\n    </tr>\n    <tr>\n      <th>91</th>\n      <td>1959</td>\n      <td>23.0</td>\n      <td>1.174068</td>\n    </tr>\n    <tr>\n      <th>94</th>\n      <td>2873</td>\n      <td>36.0</td>\n      <td>1.253046</td>\n    </tr>\n    <tr>\n      <th>95</th>\n      <td>2827</td>\n      <td>67.0</td>\n      <td>2.370004</td>\n    </tr>\n  </tbody>\n</table>\n<p>71 rows × 3 columns</p>\n</div>"
     },
     "execution_count": 90,
     "metadata": {},
     "output_type": "execute_result"
    }
   ],
   "source": [
    "#5%?\n",
    "btp[btp['percentage']>1]\n",
    "#1880?"
   ],
   "metadata": {
    "collapsed": false,
    "pycharm": {
     "name": "#%%\n"
    }
   }
  }
 ],
 "metadata": {
  "kernelspec": {
   "display_name": "Python 3",
   "language": "python",
   "name": "python3"
  },
  "language_info": {
   "codemirror_mode": {
    "name": "ipython",
    "version": 2
   },
   "file_extension": ".py",
   "mimetype": "text/x-python",
   "name": "python",
   "nbconvert_exporter": "python",
   "pygments_lexer": "ipython2",
   "version": "2.7.6"
  }
 },
 "nbformat": 4,
 "nbformat_minor": 0
}