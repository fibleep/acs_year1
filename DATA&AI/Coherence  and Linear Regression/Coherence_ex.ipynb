{
 "cells": [
  {
   "cell_type": "markdown",
   "source": [
    "## Question 1.  Social Media and Study Results\n",
    "\n",
    "We  want  to  investigate  whether  there  is  a  link  between  the  use  of  social  media  and  the  performance  of\n",
    "students.  We  ask  1064  students  how  many  hours  they  spend  on  average  per  day  using  social  media.    By\n",
    "social media we  mean Facebook, YouTube, blogs, Twitter,  MySpace and LinkedIn.  We also check the final\n",
    "score  of  these  students  at  the  end  of  the  year.  The  result  of  this  survey  can  be  found  in  the  file\n",
    "\"socialMediaVsPoints.csv\".\n",
    "\n",
    "a. Load the file.  Ensure that the number of hours is read as numbers.  Remove the rows with an\n",
    "unknown value.  Now remove the rows with outliers. How many rows are left?\n",
    "b. Make a histogram of the hours and the points separately.\n",
    "c. What is the average number of hours a student spends on social media?\n",
    "d. What is the standard deviation of the number of hours?  What does this mean?\n",
    "e. What is the average score of the students?\n",
    "f. What is the standard deviation of the score?\n",
    "g. Make a scatterplot of the 2 variables.  What correlation do you expect?\n",
    "h. Calculate the correlation between the 2 variables.  Do this also via the Z-scores (Pearson).  What did\n",
    "you decide?\n",
    "i. Which rank correlation coefficient do you find according to Kendall?  What does this value mean?\n",
    "j. Does it make sense to determine a regression line here?  Why yes/no?  Determine the regression\n",
    "line if it makes sense."
   ],
   "metadata": {
    "collapsed": false
   }
  },
  {
   "cell_type": "code",
   "execution_count": 38,
   "outputs": [
    {
     "data": {
      "text/plain": "      hours  points\n0      0.70    15.0\n1      0.68    18.0\n2      1.50    14.0\n3      2.40     6.0\n5      1.95    18.0\n...     ...     ...\n1059   2.64    15.0\n1060   1.58    11.0\n1061   1.53    18.0\n1062   0.80    16.0\n1063   1.04    17.0\n\n[1050 rows x 2 columns]",
      "text/html": "<div>\n<style scoped>\n    .dataframe tbody tr th:only-of-type {\n        vertical-align: middle;\n    }\n\n    .dataframe tbody tr th {\n        vertical-align: top;\n    }\n\n    .dataframe thead th {\n        text-align: right;\n    }\n</style>\n<table border=\"1\" class=\"dataframe\">\n  <thead>\n    <tr style=\"text-align: right;\">\n      <th></th>\n      <th>hours</th>\n      <th>points</th>\n    </tr>\n  </thead>\n  <tbody>\n    <tr>\n      <th>0</th>\n      <td>0.70</td>\n      <td>15.0</td>\n    </tr>\n    <tr>\n      <th>1</th>\n      <td>0.68</td>\n      <td>18.0</td>\n    </tr>\n    <tr>\n      <th>2</th>\n      <td>1.50</td>\n      <td>14.0</td>\n    </tr>\n    <tr>\n      <th>3</th>\n      <td>2.40</td>\n      <td>6.0</td>\n    </tr>\n    <tr>\n      <th>5</th>\n      <td>1.95</td>\n      <td>18.0</td>\n    </tr>\n    <tr>\n      <th>...</th>\n      <td>...</td>\n      <td>...</td>\n    </tr>\n    <tr>\n      <th>1059</th>\n      <td>2.64</td>\n      <td>15.0</td>\n    </tr>\n    <tr>\n      <th>1060</th>\n      <td>1.58</td>\n      <td>11.0</td>\n    </tr>\n    <tr>\n      <th>1061</th>\n      <td>1.53</td>\n      <td>18.0</td>\n    </tr>\n    <tr>\n      <th>1062</th>\n      <td>0.80</td>\n      <td>16.0</td>\n    </tr>\n    <tr>\n      <th>1063</th>\n      <td>1.04</td>\n      <td>17.0</td>\n    </tr>\n  </tbody>\n</table>\n<p>1050 rows × 2 columns</p>\n</div>"
     },
     "execution_count": 38,
     "metadata": {},
     "output_type": "execute_result"
    }
   ],
   "source": [
    "import pandas as pd\n",
    "sm = pd.read_csv('socialMediaVsPoints.csv',delimiter=',',decimal='.',na_values=0)\n",
    "sm=sm.dropna()\n",
    "sm['hours']=pd.to_numeric(sm['hours'])\n",
    "sm"
   ],
   "metadata": {
    "collapsed": false,
    "pycharm": {
     "name": "#%%\n"
    }
   }
  },
  {
   "cell_type": "code",
   "execution_count": 39,
   "metadata": {
    "collapsed": true
   },
   "outputs": [],
   "source": [
    "import numpy as np\n",
    "def remove_outliers(data):\n",
    "    Q1 = data.quantile(0.25)\n",
    "    Q3 = data.quantile(0.75)\n",
    "    I = Q3 - Q1\n",
    "    low = Q1 - 1.5 * I\n",
    "    high = Q3 + 1.5 * I\n",
    "    return data[data.between(low,high)]\n",
    "sm['hours'],sm['points']=remove_outliers(sm['hours']),remove_outliers(sm['points'])"
   ]
  },
  {
   "cell_type": "code",
   "execution_count": 40,
   "outputs": [
    {
     "data": {
      "text/plain": "<Figure size 432x288 with 1 Axes>",
      "image/png": "[encoded data removed]"
     },
     "metadata": {
      "needs_background": "light"
     },
     "output_type": "display_data"
    }
   ],
   "source": [
    "import matplotlib.pyplot as plt\n",
    "plt.figure()\n",
    "sm['hours'].plot.hist()\n",
    "plt.show()"
   ],
   "metadata": {
    "collapsed": false,
    "pycharm": {
     "name": "#%%\n"
    }
   }
  },
  {
   "cell_type": "code",
   "execution_count": 41,
   "outputs": [
    {
     "data": {
      "text/plain": "<Figure size 432x288 with 1 Axes>",
      "image/png": "[encoded data removed]"
     },
     "metadata": {
      "needs_background": "light"
     },
     "output_type": "display_data"
    }
   ],
   "source": [
    "plt.figure()\n",
    "sm['points'].plot.hist()\n",
    "plt.show()"
   ],
   "metadata": {
    "collapsed": false,
    "pycharm": {
     "name": "#%%\n"
    }
   }
  },
  {
   "cell_type": "code",
   "execution_count": 42,
   "outputs": [
    {
     "data": {
      "text/plain": "1.2650239234449754"
     },
     "execution_count": 42,
     "metadata": {},
     "output_type": "execute_result"
    }
   ],
   "source": [
    "sm['hours'].mean()"
   ],
   "metadata": {
    "collapsed": false,
    "pycharm": {
     "name": "#%%\n"
    }
   }
  },
  {
   "cell_type": "code",
   "execution_count": 43,
   "outputs": [
    {
     "data": {
      "text/plain": "0.7532422412134056"
     },
     "execution_count": 43,
     "metadata": {},
     "output_type": "execute_result"
    }
   ],
   "source": [
    "sm['hours'].std()"
   ],
   "metadata": {
    "collapsed": false,
    "pycharm": {
     "name": "#%%\n"
    }
   }
  },
  {
   "cell_type": "code",
   "execution_count": 44,
   "outputs": [
    {
     "data": {
      "text/plain": "10.935114503816793"
     },
     "execution_count": 44,
     "metadata": {},
     "output_type": "execute_result"
    }
   ],
   "source": [
    "sm['points'].mean()"
   ],
   "metadata": {
    "collapsed": false,
    "pycharm": {
     "name": "#%%\n"
    }
   }
  },
  {
   "cell_type": "code",
   "execution_count": 45,
   "outputs": [
    {
     "data": {
      "text/plain": "4.38887929840294"
     },
     "execution_count": 45,
     "metadata": {},
     "output_type": "execute_result"
    }
   ],
   "source": [
    "sm['points'].std()"
   ],
   "metadata": {
    "collapsed": false,
    "pycharm": {
     "name": "#%%\n"
    }
   }
  },
  {
   "cell_type": "code",
   "execution_count": 46,
   "outputs": [
    {
     "data": {
      "text/plain": "<Figure size 432x288 with 1 Axes>",
      "image/png": "[encoded data removed]"
     },
     "metadata": {
      "needs_background": "light"
     },
     "output_type": "display_data"
    }
   ],
   "source": [
    "plt.figure()\n",
    "plt.scatter(sm['hours'],sm['points'])\n",
    "plt.show()"
   ],
   "metadata": {
    "collapsed": false,
    "pycharm": {
     "name": "#%%\n"
    }
   }
  },
  {
   "cell_type": "code",
   "execution_count": 47,
   "outputs": [
    {
     "data": {
      "text/plain": "           hours    points\nhours   1.000000 -0.008443\npoints -0.008443  1.000000",
      "text/html": "<div>\n<style scoped>\n    .dataframe tbody tr th:only-of-type {\n        vertical-align: middle;\n    }\n\n    .dataframe tbody tr th {\n        vertical-align: top;\n    }\n\n    .dataframe thead th {\n        text-align: right;\n    }\n</style>\n<table border=\"1\" class=\"dataframe\">\n  <thead>\n    <tr style=\"text-align: right;\">\n      <th></th>\n      <th>hours</th>\n      <th>points</th>\n    </tr>\n  </thead>\n  <tbody>\n    <tr>\n      <th>hours</th>\n      <td>1.000000</td>\n      <td>-0.008443</td>\n    </tr>\n    <tr>\n      <th>points</th>\n      <td>-0.008443</td>\n      <td>1.000000</td>\n    </tr>\n  </tbody>\n</table>\n</div>"
     },
     "execution_count": 47,
     "metadata": {},
     "output_type": "execute_result"
    }
   ],
   "source": [
    "sm.corr(method='pearson')"
   ],
   "metadata": {
    "collapsed": false,
    "pycharm": {
     "name": "#%%\n"
    }
   }
  },
  {
   "cell_type": "code",
   "execution_count": 48,
   "outputs": [
    {
     "data": {
      "text/plain": "-0.008442786060627205"
     },
     "execution_count": 48,
     "metadata": {},
     "output_type": "execute_result"
    }
   ],
   "source": [
    "sm['hours'].corr(sm['points'])"
   ],
   "metadata": {
    "collapsed": false,
    "pycharm": {
     "name": "#%%\n"
    }
   }
  },
  {
   "cell_type": "code",
   "execution_count": 49,
   "outputs": [
    {
     "data": {
      "text/plain": "           hours    points\nhours   1.000000 -0.004416\npoints -0.004416  1.000000",
      "text/html": "<div>\n<style scoped>\n    .dataframe tbody tr th:only-of-type {\n        vertical-align: middle;\n    }\n\n    .dataframe tbody tr th {\n        vertical-align: top;\n    }\n\n    .dataframe thead th {\n        text-align: right;\n    }\n</style>\n<table border=\"1\" class=\"dataframe\">\n  <thead>\n    <tr style=\"text-align: right;\">\n      <th></th>\n      <th>hours</th>\n      <th>points</th>\n    </tr>\n  </thead>\n  <tbody>\n    <tr>\n      <th>hours</th>\n      <td>1.000000</td>\n      <td>-0.004416</td>\n    </tr>\n    <tr>\n      <th>points</th>\n      <td>-0.004416</td>\n      <td>1.000000</td>\n    </tr>\n  </tbody>\n</table>\n</div>"
     },
     "execution_count": 49,
     "metadata": {},
     "output_type": "execute_result"
    }
   ],
   "source": [
    "sm.corr(method='kendall')"
   ],
   "metadata": {
    "collapsed": false,
    "pycharm": {
     "name": "#%%\n"
    }
   }
  },
  {
   "cell_type": "markdown",
   "source": [
    "no correlation\n",
    "## QUESTION 2\n",
    "Batteries for smartphones are manufactured in a factory.  The demand for these batteries varies considerably.\n",
    "One suspects that if demand (and therefore production) increases, the percentage of exploding batteries also\n",
    "increases (and thus: the quality drops due to the working pressure).  One wants to verify this.\n",
    "\n",
    "A  measurement  is  made.    Every  day  the  number  of  batteries  produced  is  tracked.    If  a  defective  battery  is\n",
    "returned  (or  one  explodes),  it  is  verified  on  which  day  it  was  produced.    The  data  can  be  found  in  the  file\n",
    "\"batteries.csv\". The first column shows how many batteries were produced and the second column shows how\n",
    "many batteries were defective.\n",
    "\n",
    "a. Load the file.  There are lines with more than 2 values.  See what Python does with them when you\n",
    "load the values.  Remove this line from the data.  There are outliers in the column Defect and\n",
    "remove these.  How many rows do you have left now?\n",
    "b. Make a scatterplot of the two variables.  Is there a linear correlation?\n",
    "c. What correlation do you find with Kendall's method?\n",
    "d. We are actually not interested in the absolute number of defective batteries, but we are interested in\n",
    "the percentage.  So divide the number of defective batteries by the number of batteries produced.\n",
    "What is the average percentage of defective batteries?\n",
    "e. Make a scatterplot with the percentage of defective batteries.  Can you see the difference with the\n",
    "previous graph?\n",
    "f. Now calculate the correlation between the number of batteries produced and the percentage of\n",
    "defective batteries.  What do you decide?\n",
    "g. What is the value of R²?  What does it mean?\n",
    "h. Draw the regression line on the scatterplot.  What are the values for the slope and intercept?\n",
    "i. What is the standard estimated error?  What does this mean?\n",
    "j. If production would be increased to 8000 batteries/day, how many defective batteries would you\n",
    "expect then?\n",
    "k. How many batteries can the factory produce per day so that there is no more than 1 percent defect?"
   ],
   "metadata": {
    "collapsed": false
   }
  },
  {
   "cell_type": "code",
   "execution_count": null,
   "outputs": [],
   "source": [
    "bt = pd.read_csv('batteries.csv',delimiter=',')\n",
    "bt['#Defects']=pd.to_numeric(bt['#Defects'])\n",
    "bt=bt.dropna()\n",
    "bt"
   ],
   "metadata": {
    "collapsed": false,
    "pycharm": {
     "name": "#%%\n",
     "is_executing": true
    }
   }
  },
  {
   "cell_type": "code",
   "execution_count": 51,
   "outputs": [
    {
     "data": {
      "text/plain": "    #Produced  #Defects\n0        1489      21.0\n1        2162      34.0\n2        2472      47.0\n3        3116      77.0\n4        4724       NaN\n..        ...       ...\n92       1959      23.0\n93       1464       9.0\n94       2368      23.0\n95       2873      36.0\n96       2827      67.0\n\n[97 rows x 2 columns]",
      "text/html": "<div>\n<style scoped>\n    .dataframe tbody tr th:only-of-type {\n        vertical-align: middle;\n    }\n\n    .dataframe tbody tr th {\n        vertical-align: top;\n    }\n\n    .dataframe thead th {\n        text-align: right;\n    }\n</style>\n<table border=\"1\" class=\"dataframe\">\n  <thead>\n    <tr style=\"text-align: right;\">\n      <th></th>\n      <th>#Produced</th>\n      <th>#Defects</th>\n    </tr>\n  </thead>\n  <tbody>\n    <tr>\n      <th>0</th>\n      <td>1489</td>\n      <td>21.0</td>\n    </tr>\n    <tr>\n      <th>1</th>\n      <td>2162</td>\n      <td>34.0</td>\n    </tr>\n    <tr>\n      <th>2</th>\n      <td>2472</td>\n      <td>47.0</td>\n    </tr>\n    <tr>\n      <th>3</th>\n      <td>3116</td>\n      <td>77.0</td>\n    </tr>\n    <tr>\n      <th>4</th>\n      <td>4724</td>\n      <td>NaN</td>\n    </tr>\n    <tr>\n      <th>...</th>\n      <td>...</td>\n      <td>...</td>\n    </tr>\n    <tr>\n      <th>92</th>\n      <td>1959</td>\n      <td>23.0</td>\n    </tr>\n    <tr>\n      <th>93</th>\n      <td>1464</td>\n      <td>9.0</td>\n    </tr>\n    <tr>\n      <th>94</th>\n      <td>2368</td>\n      <td>23.0</td>\n    </tr>\n    <tr>\n      <th>95</th>\n      <td>2873</td>\n      <td>36.0</td>\n    </tr>\n    <tr>\n      <th>96</th>\n      <td>2827</td>\n      <td>67.0</td>\n    </tr>\n  </tbody>\n</table>\n<p>97 rows × 2 columns</p>\n</div>"
     },
     "execution_count": 51,
     "metadata": {},
     "output_type": "execute_result"
    }
   ],
   "source": [
    "bt['#Defects']=remove_outliers(bt['#Defects'])\n",
    "bt"
   ],
   "metadata": {
    "collapsed": false,
    "pycharm": {
     "name": "#%%\n"
    }
   }
  },
  {
   "cell_type": "code",
   "execution_count": 51,
   "outputs": [],
   "source": [],
   "metadata": {
    "collapsed": false,
    "pycharm": {
     "name": "#%%\n"
    }
   }
  }
 ],
 "metadata": {
  "kernelspec": {
   "display_name": "Python 3",
   "language": "python",
   "name": "python3"
  },
  "language_info": {
   "codemirror_mode": {
    "name": "ipython",
    "version": 2
   },
   "file_extension": ".py",
   "mimetype": "text/x-python",
   "name": "python",
   "nbconvert_exporter": "python",
   "pygments_lexer": "ipython2",
   "version": "2.7.6"
  }
 },
 "nbformat": 4,
 "nbformat_minor": 0
}