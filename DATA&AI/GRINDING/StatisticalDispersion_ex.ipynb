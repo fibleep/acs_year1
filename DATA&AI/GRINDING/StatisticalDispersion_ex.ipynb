{
 "cells": [
  {
   "cell_type": "code",
   "execution_count": 1,
   "metadata": {
    "collapsed": true
   },
   "outputs": [],
   "source": [
    "import pandas\n",
    "import pandas as pd\n",
    "import numpy as np"
   ]
  },
  {
   "cell_type": "markdown",
   "source": [
    "## Q1\n",
    "During the test on central tendencies, the following results were noted in the frequency table:\n",
    "\n",
    "score 17 18 19 20 21 22 23 24\n",
    "f 5 6 17 23 32 10 10 7\n",
    "\n",
    "a. What is the range of this test?\n",
    "b. What is the value of the interquartile distance?\n",
    "c. What does this interquartile distance mean?\n",
    "d. Draw a box plot\n",
    "e. What's special about this box plot?  Why is this so?\n",
    "f. What is the standard deviation (4 significant figures)?"
   ],
   "metadata": {
    "collapsed": false
   }
  },
  {
   "cell_type": "code",
   "execution_count": 2,
   "outputs": [
    {
     "data": {
      "text/plain": "7"
     },
     "execution_count": 2,
     "metadata": {},
     "output_type": "execute_result"
    }
   ],
   "source": [
    "#a\n",
    "score = [17,18,19,20,21,22,23,24]\n",
    "f = [5,6,17,23,32,10,10,7]\n",
    "q1 = np.array([score,f])\n",
    "q1[0].max()-q1[0].min()"
   ],
   "metadata": {
    "collapsed": false,
    "pycharm": {
     "name": "#%%\n"
    }
   }
  },
  {
   "cell_type": "code",
   "execution_count": 3,
   "outputs": [
    {
     "data": {
      "text/plain": "1.75"
     },
     "execution_count": 3,
     "metadata": {},
     "output_type": "execute_result"
    }
   ],
   "source": [
    "#b\n",
    "from scipy import stats\n",
    "def extend_array(array: np.array):\n",
    "    long_boy=[]\n",
    "    for x,f in zip(array[0],array[1]):\n",
    "        i=0\n",
    "        while i<f:\n",
    "            long_boy.append(x)\n",
    "            i=i+1\n",
    "    return long_boy\n",
    "stats.iqr(extend_array(q1))"
   ],
   "metadata": {
    "collapsed": false,
    "pycharm": {
     "name": "#%%\n"
    }
   }
  },
  {
   "cell_type": "markdown",
   "source": [
    "c\n",
    "If you omit the 25% lowest values and the 25% highest values, then the range is equal\n",
    "to 1.75"
   ],
   "metadata": {
    "collapsed": false
   }
  },
  {
   "cell_type": "code",
   "execution_count": 4,
   "outputs": [
    {
     "data": {
      "text/plain": "<Figure size 432x288 with 1 Axes>",
      "image/png": "[encoded data removed]"
     },
     "metadata": {
      "needs_background": "light"
     },
     "output_type": "display_data"
    }
   ],
   "source": [
    "#d\n",
    "import matplotlib.pyplot as plt\n",
    "plt.figure()\n",
    "q1d=pd.DataFrame(data=extend_array(q1))\n",
    "q1d.boxplot()\n",
    "plt.show()"
   ],
   "metadata": {
    "collapsed": false,
    "pycharm": {
     "name": "#%%\n"
    }
   }
  },
  {
   "cell_type": "markdown",
   "source": [
    "#e\n",
    "The median is equal to the third quartile (21)."
   ],
   "metadata": {
    "collapsed": false
   }
  },
  {
   "cell_type": "code",
   "execution_count": 5,
   "outputs": [
    {
     "data": {
      "text/plain": "0    1.714482\ndtype: float64"
     },
     "execution_count": 5,
     "metadata": {},
     "output_type": "execute_result"
    }
   ],
   "source": [
    "#f\n",
    "q1d.std()\n",
    "# numpy array doesnt work apparently????\n",
    "# use dataframe"
   ],
   "metadata": {
    "collapsed": false,
    "pycharm": {
     "name": "#%%\n"
    }
   }
  },
  {
   "cell_type": "markdown",
   "source": [
    "## Q2\n",
    "The scores of the English class are as follows:\n",
    "\n",
    "score 22 24 26 30 32 35\n",
    "f 1 2 4 6 3 4\n",
    "\n",
    "Answer the following questions with 4 significant digits:\n",
    "\n",
    "a. What is the mean on the test?\n",
    "b. What is the variance?\n",
    "c. What is the standard deviation?\n",
    "d. What is the z-score for 22?"
   ],
   "metadata": {
    "collapsed": false
   }
  },
  {
   "cell_type": "code",
   "execution_count": 6,
   "outputs": [
    {
     "data": {
      "text/plain": "{'mean': 29.5, 'mode': [30], 'median': [30, 30]}"
     },
     "execution_count": 6,
     "metadata": {},
     "output_type": "execute_result"
    }
   ],
   "source": [
    "#a\n",
    "score = [22,24,26,30,32,35]\n",
    "f = [1,2,4,6,3,4]\n",
    "q2 = np.array([score,f])\n",
    "def np_stats(array: np.array):\n",
    "    total_frequencies = array[0] * array[1]\n",
    "    mean = (total_frequencies.sum() / array[1].sum()).round(4)\n",
    "    mode = array[0][array[1]==array[1].max()]\n",
    "    median_pos = array[1].sum()/2\n",
    "    pos_ceil=np.ceil(median_pos)\n",
    "    pos_floor=np.floor(median_pos)\n",
    "    all_nums=[]\n",
    "    for x,f in zip(array[0],array[1]):\n",
    "        i=0\n",
    "        while i<f:\n",
    "            all_nums.append(x)\n",
    "            i=i+1\n",
    "    if median_pos%2!=0:\n",
    "        median = all_nums[int(median_pos)]\n",
    "    else:\n",
    "         median = [all_nums[int(pos_floor)],all_nums[int(pos_ceil)]]\n",
    "    result={'mean':mean,'mode':mode.tolist(),'median':median}\n",
    "    return result\n",
    "np_stats(q2)"
   ],
   "metadata": {
    "collapsed": false,
    "pycharm": {
     "name": "#%%\n"
    }
   }
  },
  {
   "cell_type": "code",
   "execution_count": 7,
   "outputs": [
    {
     "data": {
      "text/plain": "0    16.157895\ndtype: float64"
     },
     "execution_count": 7,
     "metadata": {},
     "output_type": "execute_result"
    }
   ],
   "source": [
    "#b\n",
    "q2b = pd.DataFrame(data=extend_array(q2))\n",
    "q2b.var()"
   ],
   "metadata": {
    "collapsed": false,
    "pycharm": {
     "name": "#%%\n"
    }
   }
  },
  {
   "cell_type": "code",
   "execution_count": 8,
   "outputs": [
    {
     "data": {
      "text/plain": "0    4.019688\ndtype: float64"
     },
     "execution_count": 8,
     "metadata": {},
     "output_type": "execute_result"
    }
   ],
   "source": [
    "#c\n",
    "q2b.std()"
   ],
   "metadata": {
    "collapsed": false,
    "pycharm": {
     "name": "#%%\n"
    }
   }
  },
  {
   "cell_type": "code",
   "execution_count": 9,
   "outputs": [
    {
     "data": {
      "text/plain": "     0    zscore\n0   22 -1.865816\n1   24 -1.368265\n2   24 -1.368265\n3   26 -0.870714\n4   26 -0.870714\n5   26 -0.870714\n6   26 -0.870714\n7   30  0.124388\n8   30  0.124388\n9   30  0.124388\n10  30  0.124388\n11  30  0.124388\n12  30  0.124388\n13  32  0.621939\n14  32  0.621939\n15  32  0.621939\n16  35  1.368265\n17  35  1.368265\n18  35  1.368265\n19  35  1.368265",
      "text/html": "<div>\n<style scoped>\n    .dataframe tbody tr th:only-of-type {\n        vertical-align: middle;\n    }\n\n    .dataframe tbody tr th {\n        vertical-align: top;\n    }\n\n    .dataframe thead th {\n        text-align: right;\n    }\n</style>\n<table border=\"1\" class=\"dataframe\">\n  <thead>\n    <tr style=\"text-align: right;\">\n      <th></th>\n      <th>0</th>\n      <th>zscore</th>\n    </tr>\n  </thead>\n  <tbody>\n    <tr>\n      <th>0</th>\n      <td>22</td>\n      <td>-1.865816</td>\n    </tr>\n    <tr>\n      <th>1</th>\n      <td>24</td>\n      <td>-1.368265</td>\n    </tr>\n    <tr>\n      <th>2</th>\n      <td>24</td>\n      <td>-1.368265</td>\n    </tr>\n    <tr>\n      <th>3</th>\n      <td>26</td>\n      <td>-0.870714</td>\n    </tr>\n    <tr>\n      <th>4</th>\n      <td>26</td>\n      <td>-0.870714</td>\n    </tr>\n    <tr>\n      <th>5</th>\n      <td>26</td>\n      <td>-0.870714</td>\n    </tr>\n    <tr>\n      <th>6</th>\n      <td>26</td>\n      <td>-0.870714</td>\n    </tr>\n    <tr>\n      <th>7</th>\n      <td>30</td>\n      <td>0.124388</td>\n    </tr>\n    <tr>\n      <th>8</th>\n      <td>30</td>\n      <td>0.124388</td>\n    </tr>\n    <tr>\n      <th>9</th>\n      <td>30</td>\n      <td>0.124388</td>\n    </tr>\n    <tr>\n      <th>10</th>\n      <td>30</td>\n      <td>0.124388</td>\n    </tr>\n    <tr>\n      <th>11</th>\n      <td>30</td>\n      <td>0.124388</td>\n    </tr>\n    <tr>\n      <th>12</th>\n      <td>30</td>\n      <td>0.124388</td>\n    </tr>\n    <tr>\n      <th>13</th>\n      <td>32</td>\n      <td>0.621939</td>\n    </tr>\n    <tr>\n      <th>14</th>\n      <td>32</td>\n      <td>0.621939</td>\n    </tr>\n    <tr>\n      <th>15</th>\n      <td>32</td>\n      <td>0.621939</td>\n    </tr>\n    <tr>\n      <th>16</th>\n      <td>35</td>\n      <td>1.368265</td>\n    </tr>\n    <tr>\n      <th>17</th>\n      <td>35</td>\n      <td>1.368265</td>\n    </tr>\n    <tr>\n      <th>18</th>\n      <td>35</td>\n      <td>1.368265</td>\n    </tr>\n    <tr>\n      <th>19</th>\n      <td>35</td>\n      <td>1.368265</td>\n    </tr>\n  </tbody>\n</table>\n</div>"
     },
     "execution_count": 9,
     "metadata": {},
     "output_type": "execute_result"
    }
   ],
   "source": [
    "#d\n",
    "q2b['zscore']=(q2b - q2b.mean())/q2b.std()\n",
    "q2b"
   ],
   "metadata": {
    "collapsed": false,
    "pycharm": {
     "name": "#%%\n"
    }
   }
  },
  {
   "cell_type": "markdown",
   "source": [
    "## Q3\n",
    "For a frequency distribution the mean is equal to 7 and the standard deviation is equal to 2.3.\n",
    "There appears to be an input error in the scores, a 6 should have been a 5. After recovery, we\n",
    "recalculate. What do we know about the standard deviation?\n",
    "\n",
    "a. smaller than 2.3\n",
    "b. equal to 2.3\n",
    "c. greater than 2.3 <<<<\n",
    "d. impossible to know"
   ],
   "metadata": {
    "collapsed": false
   }
  },
  {
   "cell_type": "markdown",
   "source": [
    "## Q4\n",
    "The mean of a variable (X) is 20, the median 18, the variance 6 and the interquartile distance\n",
    "4. To all scores 10 is added.\n",
    "\n",
    "a. What is the new mean? x -> x+10\n",
    "b. What is the new median? x -> 28\n",
    "c. What is the new variance? x -> x\n",
    "d. What is the new interquartile distance? x -> x"
   ],
   "metadata": {
    "collapsed": false
   }
  },
  {
   "cell_type": "markdown",
   "source": [
    "## Q5\n",
    "From a frequency distribution, all scores are divided by 4. What do we know about the\n",
    "standard deviation of these new scores?\n",
    "\n",
    "a. equal to that of the original score\n",
    "b. 2x as small as the original score\n",
    "c. 4x as small as the original score <<<\n",
    "d. 16x as small as the original score"
   ],
   "metadata": {
    "collapsed": false
   }
  },
  {
   "cell_type": "markdown",
   "source": [
    "## Q6\n",
    "The average age of this class is 20 years old with a standard deviation of 2. Within 20 years\n",
    "there will be a reunion.  Everyone is still alive and present.\n",
    "How big is the mean and the standard deviation over 20 years?\n",
    "\n",
    "1. 40 and 2 years <<<\n",
    "2. 40 and 4 years\n",
    "3. 40 and 1 year\n",
    "4. impossible to know, there are too little data"
   ],
   "metadata": {
    "collapsed": false
   }
  },
  {
   "cell_type": "markdown",
   "source": [
    "## Q7\n",
    "The distribution of scores has a mean of 8 with a standard deviation of 2. We want to transform\n",
    "the scores in such a way that the mean equals 10 and the standard deviation equals 4. What\n",
    "should we do with all the scores?\n",
    "\n",
    "a. multiply by 2\n",
    "b. increase by 2\n",
    "c. multiply by 2 and then increase by 2\n",
    "d. increase by 2 and then multiply by 2\n",
    "e. multiply by 2 and then reduce by 6 <<<"
   ],
   "metadata": {
    "collapsed": false
   }
  },
  {
   "cell_type": "markdown",
   "source": [
    "## Q8\n",
    "Load the file \"UofS_access_log\" (see exercises on frequencies).\n",
    "\n",
    "a. Create a histogram of the number of bytes sent, with a class interval of 10000 bytes.\n",
    "What do you see?  Why is this?\n",
    "b. Make a new histogram with all messages up to 13,000 bytes long (with a class interval\n",
    "of 1000 bytes).  Make sure the left border always belongs to the interval.\n",
    "c. What is the mode of this?\n",
    "d. What is the mean number of bytes sent (4 significant figures)?\n",
    "e. What is the standard deviation of the number of bytes sent?  (4 significant figures)\n",
    "What does this mean?\n",
    "f. What are the quartiles of the number of bytes sent?\n",
    "g. What is the meaning of the third quartile?\n",
    "h. What is the interquartile distance of the number of bytes sent?  What does this mean?\n",
    "i. Make a box plot of the number of bytes sent.  How do you interpret this graph?\n",
    "j. How many outliers are there?  What is the minimum of these outliers?\n",
    "k. Remove the outliers and make a box plot again (outliers are created here, but look for\n",
    "an option at box plot not to draw them)."
   ],
   "metadata": {
    "collapsed": false
   }
  },
  {
   "cell_type": "code",
   "execution_count": 10,
   "outputs": [
    {
     "name": "stderr",
     "output_type": "stream",
     "text": [
      "D:\\school_progs\\anaconda\\lib\\site-packages\\IPython\\core\\interactiveshell.py:3444: FutureWarning: The error_bad_lines argument has been deprecated and will be removed in a future version.\n",
      "\n",
      "\n",
      "  exec(code_obj, self.user_global_ns, self.user_ns)\n",
      "Skipping line 19818: ' ' expected after '\"'\n"
     ]
    },
    {
     "data": {
      "text/plain": "                            domain              timestamp  \\\n0              cad49.cadvision.com  [01/Jun/1995:00:53:19   \n1                    130.89.250.24  [01/Jun/1995:02:45:12   \n2                    130.54.25.198  [01/Jun/1995:03:29:56   \n3                     148.81.17.41  [01/Jun/1995:04:02:17   \n4      anumsun6.univ-st-etienne.fr  [01/Jun/1995:04:40:30   \n...                            ...                    ...   \n48166                duke.usask.ca  [31/Dec/1995:23:07:50   \n48167                sask.usask.ca  [31/Dec/1995:23:16:16   \n48168                  144.92.13.6  [31/Dec/1995:23:25:53   \n48169            ccc055.canuck.com  [31/Dec/1995:23:32:35   \n48170      double-tree.ericsson.se  [31/Dec/1995:23:44:25   \n\n                                             request  response code  \\\n0            GET /~lowey/webville/icons/blank_32.gif            200   \n1            GET /~lowey/webville/icons/south_32.gif            200   \n2      GET /~macphed/finite/fe_resources/node92.html            200   \n3               GET /~friesend/tolkien/rootpage.html            200   \n4      GET /~macphed/finite/fe_resources/node58.html            200   \n...                                              ...            ...   \n48166           GET /images/comments_50.gif HTTP/1.0            200   \n48167                                 GET / HTTP/1.0            200   \n48168                  GET /~ladd/virginia_pisu.html            200   \n48169               GET /mlookup/white.html HTTP/1.0            200   \n48170                       GET /~scottp/calgary.txt            200   \n\n       response length  \n0                  167  \n1                  210  \n2                 1668  \n3                  461  \n4                 1707  \n...                ...  \n48166              388  \n48167             3856  \n48168              915  \n48169              728  \n48170            24744  \n\n[48171 rows x 5 columns]",
      "text/html": "<div>\n<style scoped>\n    .dataframe tbody tr th:only-of-type {\n        vertical-align: middle;\n    }\n\n    .dataframe tbody tr th {\n        vertical-align: top;\n    }\n\n    .dataframe thead th {\n        text-align: right;\n    }\n</style>\n<table border=\"1\" class=\"dataframe\">\n  <thead>\n    <tr style=\"text-align: right;\">\n      <th></th>\n      <th>domain</th>\n      <th>timestamp</th>\n      <th>request</th>\n      <th>response code</th>\n      <th>response length</th>\n    </tr>\n  </thead>\n  <tbody>\n    <tr>\n      <th>0</th>\n      <td>cad49.cadvision.com</td>\n      <td>[01/Jun/1995:00:53:19</td>\n      <td>GET /~lowey/webville/icons/blank_32.gif</td>\n      <td>200</td>\n      <td>167</td>\n    </tr>\n    <tr>\n      <th>1</th>\n      <td>130.89.250.24</td>\n      <td>[01/Jun/1995:02:45:12</td>\n      <td>GET /~lowey/webville/icons/south_32.gif</td>\n      <td>200</td>\n      <td>210</td>\n    </tr>\n    <tr>\n      <th>2</th>\n      <td>130.54.25.198</td>\n      <td>[01/Jun/1995:03:29:56</td>\n      <td>GET /~macphed/finite/fe_resources/node92.html</td>\n      <td>200</td>\n      <td>1668</td>\n    </tr>\n    <tr>\n      <th>3</th>\n      <td>148.81.17.41</td>\n      <td>[01/Jun/1995:04:02:17</td>\n      <td>GET /~friesend/tolkien/rootpage.html</td>\n      <td>200</td>\n      <td>461</td>\n    </tr>\n    <tr>\n      <th>4</th>\n      <td>anumsun6.univ-st-etienne.fr</td>\n      <td>[01/Jun/1995:04:40:30</td>\n      <td>GET /~macphed/finite/fe_resources/node58.html</td>\n      <td>200</td>\n      <td>1707</td>\n    </tr>\n    <tr>\n      <th>...</th>\n      <td>...</td>\n      <td>...</td>\n      <td>...</td>\n      <td>...</td>\n      <td>...</td>\n    </tr>\n    <tr>\n      <th>48166</th>\n      <td>duke.usask.ca</td>\n      <td>[31/Dec/1995:23:07:50</td>\n      <td>GET /images/comments_50.gif HTTP/1.0</td>\n      <td>200</td>\n      <td>388</td>\n    </tr>\n    <tr>\n      <th>48167</th>\n      <td>sask.usask.ca</td>\n      <td>[31/Dec/1995:23:16:16</td>\n      <td>GET / HTTP/1.0</td>\n      <td>200</td>\n      <td>3856</td>\n    </tr>\n    <tr>\n      <th>48168</th>\n      <td>144.92.13.6</td>\n      <td>[31/Dec/1995:23:25:53</td>\n      <td>GET /~ladd/virginia_pisu.html</td>\n      <td>200</td>\n      <td>915</td>\n    </tr>\n    <tr>\n      <th>48169</th>\n      <td>ccc055.canuck.com</td>\n      <td>[31/Dec/1995:23:32:35</td>\n      <td>GET /mlookup/white.html HTTP/1.0</td>\n      <td>200</td>\n      <td>728</td>\n    </tr>\n    <tr>\n      <th>48170</th>\n      <td>double-tree.ericsson.se</td>\n      <td>[31/Dec/1995:23:44:25</td>\n      <td>GET /~scottp/calgary.txt</td>\n      <td>200</td>\n      <td>24744</td>\n    </tr>\n  </tbody>\n</table>\n<p>48171 rows × 5 columns</p>\n</div>"
     },
     "execution_count": 10,
     "metadata": {},
     "output_type": "execute_result"
    }
   ],
   "source": [
    "web = pd.read_csv('UofS_access_log_small.csv', header=None, sep=\" \", error_bad_lines=False,encoding_errors='ignore', engine='python',decimal='.')\n",
    "ws = pd.DataFrame({'domain':web[0],'timestamp':web[3],'request':web[5],'response code':web[6],'response length':web[7]})\n",
    "ws['response length']=ws.loc[:,'response length'].replace(to_replace=\"-\",value=0,limit=None)\n",
    "ws['response length']=pd.to_numeric(ws['response length'])\n",
    "\n",
    "ws"
   ],
   "metadata": {
    "collapsed": false,
    "pycharm": {
     "name": "#%%\n"
    }
   }
  },
  {
   "cell_type": "code",
   "execution_count": 11,
   "outputs": [
    {
     "data": {
      "text/plain": "<Figure size 432x288 with 1 Axes>",
      "image/png": "[encoded data removed]"
     },
     "metadata": {
      "needs_background": "light"
     },
     "output_type": "display_data"
    }
   ],
   "source": [
    "#a\n",
    "cutpoints = range(0,ws['response length'].max()+1000,10000)\n",
    "plt.figure()\n",
    "ws['response length'].plot.hist(title=\"pain\",bins=cutpoints)\n",
    "plt.show()\n",
    "#??????"
   ],
   "metadata": {
    "collapsed": false,
    "pycharm": {
     "name": "#%%\n"
    }
   }
  },
  {
   "cell_type": "code",
   "execution_count": 12,
   "outputs": [
    {
     "data": {
      "text/plain": "<Figure size 432x288 with 1 Axes>",
      "image/png": "[encoded data removed]"
     },
     "metadata": {
      "needs_background": "light"
     },
     "output_type": "display_data"
    }
   ],
   "source": [
    "#b\n",
    "cutpoints = range(0,(ws[ws['response length']<13000]['response length']).max()+1000,1000)\n",
    "plt.figure()\n",
    "(ws[ws['response length']<13000]['response length']).plot.hist(bins=cutpoints)\n",
    "plt.show()"
   ],
   "metadata": {
    "collapsed": false,
    "pycharm": {
     "name": "#%%\n"
    }
   }
  },
  {
   "cell_type": "code",
   "execution_count": 13,
   "outputs": [
    {
     "data": {
      "text/plain": "0    (-0.001, 1000.0]\nName: response length, dtype: category\nCategories (13, interval[float64, right]): [(-0.001, 1000.0] < (1000.0, 2000.0] < (2000.0, 3000.0] < (3000.0, 4000.0] ... (9000.0, 10000.0] < (10000.0, 11000.0] < (11000.0, 12000.0] < (12000.0, 13000.0]]"
     },
     "execution_count": 13,
     "metadata": {},
     "output_type": "execute_result"
    }
   ],
   "source": [
    "#c\n",
    "ws_class = pd.cut(ws[ws['response length']<13000]['response length'],bins=cutpoints,include_lowest=True)\n",
    "ws_class.mode()"
   ],
   "metadata": {
    "collapsed": false,
    "pycharm": {
     "name": "#%%\n"
    }
   }
  },
  {
   "cell_type": "code",
   "execution_count": 14,
   "outputs": [
    {
     "data": {
      "text/plain": "5391.91"
     },
     "execution_count": 14,
     "metadata": {},
     "output_type": "execute_result"
    }
   ],
   "source": [
    "#d\n",
    "round(ws['response length'].mean(),2)"
   ],
   "metadata": {
    "collapsed": false,
    "pycharm": {
     "name": "#%%\n"
    }
   }
  },
  {
   "cell_type": "code",
   "execution_count": 15,
   "outputs": [
    {
     "data": {
      "text/plain": "21181.997583223805"
     },
     "execution_count": 15,
     "metadata": {},
     "output_type": "execute_result"
    }
   ],
   "source": [
    "#e\n",
    "ws['response length'].std()"
   ],
   "metadata": {
    "collapsed": false,
    "pycharm": {
     "name": "#%%\n"
    }
   }
  },
  {
   "cell_type": "code",
   "execution_count": 16,
   "outputs": [
    {
     "data": {
      "text/plain": "0.25     461.0\n0.50    1714.0\n0.75    3442.0\nName: response length, dtype: float64"
     },
     "execution_count": 16,
     "metadata": {},
     "output_type": "execute_result"
    }
   ],
   "source": [
    "#f\n",
    "ws['response length'].quantile(q=(0.25,0.5,0.75))"
   ],
   "metadata": {
    "collapsed": false,
    "pycharm": {
     "name": "#%%\n"
    }
   }
  },
  {
   "cell_type": "code",
   "execution_count": 17,
   "outputs": [],
   "source": [
    "#g\n",
    "#75% of the requests have a number of sent bytes smaller than 3455 bytes"
   ],
   "metadata": {
    "collapsed": false,
    "pycharm": {
     "name": "#%%\n"
    }
   }
  },
  {
   "cell_type": "code",
   "execution_count": 18,
   "outputs": [
    {
     "data": {
      "text/plain": "2981.0"
     },
     "execution_count": 18,
     "metadata": {},
     "output_type": "execute_result"
    }
   ],
   "source": [
    "#h\n",
    "stats.iqr(ws['response length'])"
   ],
   "metadata": {
    "collapsed": false,
    "pycharm": {
     "name": "#%%\n"
    }
   }
  },
  {
   "cell_type": "code",
   "execution_count": 19,
   "outputs": [
    {
     "data": {
      "text/plain": "<Figure size 432x288 with 1 Axes>",
      "image/png": "[encoded data removed]"
     },
     "metadata": {
      "needs_background": "light"
     },
     "output_type": "display_data"
    }
   ],
   "source": [
    "#i\n",
    "# import matplotlib.pyplot as plt\n",
    "# plt.figure()\n",
    "# q1d=pd.DataFrame(data=extend_array(q1))\n",
    "# q1d.boxplot()\n",
    "# plt.show()\n",
    "plt.figure()\n",
    "pd.DataFrame(ws['response length']).boxplot()\n",
    "plt.show()"
   ],
   "metadata": {
    "collapsed": false,
    "pycharm": {
     "name": "#%%\n"
    }
   }
  },
  {
   "cell_type": "code",
   "execution_count": 20,
   "outputs": [
    {
     "data": {
      "text/plain": "5457"
     },
     "execution_count": 20,
     "metadata": {},
     "output_type": "execute_result"
    }
   ],
   "source": [
    "#j\n",
    "def get_outliers(data):\n",
    "    Q1 = data.quantile(0.25)\n",
    "    Q3 = data.quantile(0.75)\n",
    "    I = Q3 - Q1\n",
    "    low = Q1 - 1.5 * I\n",
    "    high = Q3 + 1.5 * I\n",
    "    return data[~data.between(low,high)]\n",
    "get_outliers(ws['response length']).count()"
   ],
   "metadata": {
    "collapsed": false,
    "pycharm": {
     "name": "#%%\n"
    }
   }
  },
  {
   "cell_type": "code",
   "execution_count": 21,
   "outputs": [
    {
     "data": {
      "text/plain": "7930"
     },
     "execution_count": 21,
     "metadata": {},
     "output_type": "execute_result"
    }
   ],
   "source": [
    "get_outliers(ws['response length']).min()"
   ],
   "metadata": {
    "collapsed": false,
    "pycharm": {
     "name": "#%%\n"
    }
   }
  },
  {
   "cell_type": "code",
   "execution_count": 23,
   "outputs": [
    {
     "data": {
      "text/plain": "<Figure size 432x288 with 1 Axes>",
      "image/png": "[encoded data removed]"
     },
     "metadata": {
      "needs_background": "light"
     },
     "output_type": "display_data"
    }
   ],
   "source": [
    "def remove_outliers(data):\n",
    "    Q1 = data.quantile(0.25)\n",
    "    Q3 = data.quantile(0.75)\n",
    "    I = Q3 - Q1\n",
    "    low = Q1 - 1.5 * I\n",
    "    high = Q3 + 1.5 * I\n",
    "    return data[data.between(low,high)]\n",
    "plt.figure()\n",
    "pd.DataFrame(remove_outliers(ws['response length'])).boxplot(showfliers=False)\n",
    "plt.show()"
   ],
   "metadata": {
    "collapsed": false,
    "pycharm": {
     "name": "#%%\n"
    }
   }
  },
  {
   "cell_type": "code",
   "execution_count": 22,
   "outputs": [],
   "source": [],
   "metadata": {
    "collapsed": false,
    "pycharm": {
     "name": "#%%\n"
    }
   }
  }
 ],
 "metadata": {
  "kernelspec": {
   "display_name": "Python 3",
   "language": "python",
   "name": "python3"
  },
  "language_info": {
   "codemirror_mode": {
    "name": "ipython",
    "version": 2
   },
   "file_extension": ".py",
   "mimetype": "text/x-python",
   "name": "python",
   "nbconvert_exporter": "python",
   "pygments_lexer": "ipython2",
   "version": "2.7.6"
  }
 },
 "nbformat": 4,
 "nbformat_minor": 0
}