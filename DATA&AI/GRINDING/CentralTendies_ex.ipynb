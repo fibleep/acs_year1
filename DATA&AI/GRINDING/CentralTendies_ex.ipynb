{
 "cells": [
  {
   "cell_type": "markdown",
   "source": [
    "## Q1"
   ],
   "metadata": {
    "collapsed": false
   }
  },
  {
   "cell_type": "code",
   "execution_count": 2,
   "metadata": {
    "collapsed": true
   },
   "outputs": [
    {
     "data": {
      "text/plain": "                    area  avr sync speed  \\\n0        City of Bristol             9.9   \n1      City of Edinburgh            10.1   \n2        Southend-on-Sea             9.3   \n3    West Dunbartonshire             9.5   \n4     Liverpool District             9.5   \n..                   ...             ...   \n195               Armagh             5.3   \n196                Omagh             5.5   \n197            Fermanagh             4.3   \n198            Dungannon             4.7   \n199            Cookstown             4.4   \n\n     percentage of houses broadband less than 2Mbit/s   \\\n0                                                  4.5   \n1                                                  4.5   \n2                                                  5.8   \n3                                                  6.5   \n4                                                  6.6   \n..                                                 ...   \n195                                               30.2   \n196                                               31.9   \n197                                               32.9   \n198                                               33.2   \n199                                               35.9   \n\n     percentage superfast internet (>24Mbit/s)  \\\n0                                           90   \n1                                           82   \n2                                           77   \n3                                           89   \n4                                           77   \n..                                         ...   \n195                                         94   \n196                                         99   \n197                                         96   \n198                                         97   \n199                                         98   \n\n     percentage that has broadband compared to houses  \n0                                                  71  \n1                                                  69  \n2                                                  68  \n3                                                  61  \n4                                                  59  \n..                                                ...  \n195                                                58  \n196                                                56  \n197                                                60  \n198                                                57  \n199                                                57  \n\n[200 rows x 5 columns]",
      "text/html": "<div>\n<style scoped>\n    .dataframe tbody tr th:only-of-type {\n        vertical-align: middle;\n    }\n\n    .dataframe tbody tr th {\n        vertical-align: top;\n    }\n\n    .dataframe thead th {\n        text-align: right;\n    }\n</style>\n<table border=\"1\" class=\"dataframe\">\n  <thead>\n    <tr style=\"text-align: right;\">\n      <th></th>\n      <th>area</th>\n      <th>avr sync speed</th>\n      <th>percentage of houses broadband less than 2Mbit/s</th>\n      <th>percentage superfast internet (&gt;24Mbit/s)</th>\n      <th>percentage that has broadband compared to houses</th>\n    </tr>\n  </thead>\n  <tbody>\n    <tr>\n      <th>0</th>\n      <td>City of Bristol</td>\n      <td>9.9</td>\n      <td>4.5</td>\n      <td>90</td>\n      <td>71</td>\n    </tr>\n    <tr>\n      <th>1</th>\n      <td>City of Edinburgh</td>\n      <td>10.1</td>\n      <td>4.5</td>\n      <td>82</td>\n      <td>69</td>\n    </tr>\n    <tr>\n      <th>2</th>\n      <td>Southend-on-Sea</td>\n      <td>9.3</td>\n      <td>5.8</td>\n      <td>77</td>\n      <td>68</td>\n    </tr>\n    <tr>\n      <th>3</th>\n      <td>West Dunbartonshire</td>\n      <td>9.5</td>\n      <td>6.5</td>\n      <td>89</td>\n      <td>61</td>\n    </tr>\n    <tr>\n      <th>4</th>\n      <td>Liverpool District</td>\n      <td>9.5</td>\n      <td>6.6</td>\n      <td>77</td>\n      <td>59</td>\n    </tr>\n    <tr>\n      <th>...</th>\n      <td>...</td>\n      <td>...</td>\n      <td>...</td>\n      <td>...</td>\n      <td>...</td>\n    </tr>\n    <tr>\n      <th>195</th>\n      <td>Armagh</td>\n      <td>5.3</td>\n      <td>30.2</td>\n      <td>94</td>\n      <td>58</td>\n    </tr>\n    <tr>\n      <th>196</th>\n      <td>Omagh</td>\n      <td>5.5</td>\n      <td>31.9</td>\n      <td>99</td>\n      <td>56</td>\n    </tr>\n    <tr>\n      <th>197</th>\n      <td>Fermanagh</td>\n      <td>4.3</td>\n      <td>32.9</td>\n      <td>96</td>\n      <td>60</td>\n    </tr>\n    <tr>\n      <th>198</th>\n      <td>Dungannon</td>\n      <td>4.7</td>\n      <td>33.2</td>\n      <td>97</td>\n      <td>57</td>\n    </tr>\n    <tr>\n      <th>199</th>\n      <td>Cookstown</td>\n      <td>4.4</td>\n      <td>35.9</td>\n      <td>98</td>\n      <td>57</td>\n    </tr>\n  </tbody>\n</table>\n<p>200 rows × 5 columns</p>\n</div>"
     },
     "execution_count": 2,
     "metadata": {},
     "output_type": "execute_result"
    }
   ],
   "source": [
    "import pandas as pd\n",
    "bb = pd.read_csv('broadband.csv',delimiter=',',decimal=',')\n",
    "bb"
   ]
  },
  {
   "cell_type": "code",
   "execution_count": 3,
   "outputs": [
    {
     "data": {
      "text/plain": "                    area  avr sync speed  \\\n0        City of Bristol             9.9   \n1      City of Edinburgh            10.1   \n2        Southend-on-Sea             9.3   \n3    West Dunbartonshire             9.5   \n4     Liverpool District             9.5   \n..                   ...             ...   \n195               Armagh             5.3   \n196                Omagh             5.5   \n197            Fermanagh             4.3   \n198            Dungannon             4.7   \n199            Cookstown             4.4   \n\n     percentage of houses broadband less than 2Mbit/s   \\\n0                                                  4.5   \n1                                                  4.5   \n2                                                  5.8   \n3                                                  6.5   \n4                                                  6.6   \n..                                                 ...   \n195                                               30.2   \n196                                               31.9   \n197                                               32.9   \n198                                               33.2   \n199                                               35.9   \n\n     percentage superfast internet (>24Mbit/s)  \\\n0                                           90   \n1                                           82   \n2                                           77   \n3                                           89   \n4                                           77   \n..                                         ...   \n195                                         94   \n196                                         99   \n197                                         96   \n198                                         97   \n199                                         98   \n\n     percentage that has broadband compared to houses  sync_sp_round  \n0                                                  71           10.0  \n1                                                  69           10.0  \n2                                                  68            9.0  \n3                                                  61           10.0  \n4                                                  59           10.0  \n..                                                ...            ...  \n195                                                58            5.0  \n196                                                56            6.0  \n197                                                60            4.0  \n198                                                57            5.0  \n199                                                57            4.0  \n\n[200 rows x 6 columns]",
      "text/html": "<div>\n<style scoped>\n    .dataframe tbody tr th:only-of-type {\n        vertical-align: middle;\n    }\n\n    .dataframe tbody tr th {\n        vertical-align: top;\n    }\n\n    .dataframe thead th {\n        text-align: right;\n    }\n</style>\n<table border=\"1\" class=\"dataframe\">\n  <thead>\n    <tr style=\"text-align: right;\">\n      <th></th>\n      <th>area</th>\n      <th>avr sync speed</th>\n      <th>percentage of houses broadband less than 2Mbit/s</th>\n      <th>percentage superfast internet (&gt;24Mbit/s)</th>\n      <th>percentage that has broadband compared to houses</th>\n      <th>sync_sp_round</th>\n    </tr>\n  </thead>\n  <tbody>\n    <tr>\n      <th>0</th>\n      <td>City of Bristol</td>\n      <td>9.9</td>\n      <td>4.5</td>\n      <td>90</td>\n      <td>71</td>\n      <td>10.0</td>\n    </tr>\n    <tr>\n      <th>1</th>\n      <td>City of Edinburgh</td>\n      <td>10.1</td>\n      <td>4.5</td>\n      <td>82</td>\n      <td>69</td>\n      <td>10.0</td>\n    </tr>\n    <tr>\n      <th>2</th>\n      <td>Southend-on-Sea</td>\n      <td>9.3</td>\n      <td>5.8</td>\n      <td>77</td>\n      <td>68</td>\n      <td>9.0</td>\n    </tr>\n    <tr>\n      <th>3</th>\n      <td>West Dunbartonshire</td>\n      <td>9.5</td>\n      <td>6.5</td>\n      <td>89</td>\n      <td>61</td>\n      <td>10.0</td>\n    </tr>\n    <tr>\n      <th>4</th>\n      <td>Liverpool District</td>\n      <td>9.5</td>\n      <td>6.6</td>\n      <td>77</td>\n      <td>59</td>\n      <td>10.0</td>\n    </tr>\n    <tr>\n      <th>...</th>\n      <td>...</td>\n      <td>...</td>\n      <td>...</td>\n      <td>...</td>\n      <td>...</td>\n      <td>...</td>\n    </tr>\n    <tr>\n      <th>195</th>\n      <td>Armagh</td>\n      <td>5.3</td>\n      <td>30.2</td>\n      <td>94</td>\n      <td>58</td>\n      <td>5.0</td>\n    </tr>\n    <tr>\n      <th>196</th>\n      <td>Omagh</td>\n      <td>5.5</td>\n      <td>31.9</td>\n      <td>99</td>\n      <td>56</td>\n      <td>6.0</td>\n    </tr>\n    <tr>\n      <th>197</th>\n      <td>Fermanagh</td>\n      <td>4.3</td>\n      <td>32.9</td>\n      <td>96</td>\n      <td>60</td>\n      <td>4.0</td>\n    </tr>\n    <tr>\n      <th>198</th>\n      <td>Dungannon</td>\n      <td>4.7</td>\n      <td>33.2</td>\n      <td>97</td>\n      <td>57</td>\n      <td>5.0</td>\n    </tr>\n    <tr>\n      <th>199</th>\n      <td>Cookstown</td>\n      <td>4.4</td>\n      <td>35.9</td>\n      <td>98</td>\n      <td>57</td>\n      <td>4.0</td>\n    </tr>\n  </tbody>\n</table>\n<p>200 rows × 6 columns</p>\n</div>"
     },
     "execution_count": 3,
     "metadata": {},
     "output_type": "execute_result"
    }
   ],
   "source": [
    "bb['sync_sp_round']=bb['avr sync speed'].round(0)\n",
    "bb"
   ],
   "metadata": {
    "collapsed": false,
    "pycharm": {
     "name": "#%%\n"
    }
   }
  },
  {
   "cell_type": "code",
   "execution_count": 4,
   "outputs": [
    {
     "data": {
      "text/plain": "   mode   mean  median\n0   6.0  7.085     7.0",
      "text/html": "<div>\n<style scoped>\n    .dataframe tbody tr th:only-of-type {\n        vertical-align: middle;\n    }\n\n    .dataframe tbody tr th {\n        vertical-align: top;\n    }\n\n    .dataframe thead th {\n        text-align: right;\n    }\n</style>\n<table border=\"1\" class=\"dataframe\">\n  <thead>\n    <tr style=\"text-align: right;\">\n      <th></th>\n      <th>mode</th>\n      <th>mean</th>\n      <th>median</th>\n    </tr>\n  </thead>\n  <tbody>\n    <tr>\n      <th>0</th>\n      <td>6.0</td>\n      <td>7.085</td>\n      <td>7.0</td>\n    </tr>\n  </tbody>\n</table>\n</div>"
     },
     "execution_count": 4,
     "metadata": {},
     "output_type": "execute_result"
    }
   ],
   "source": [
    "def stats(x):\n",
    "    result = pd.DataFrame()\n",
    "    result['mode']=x.mode()\n",
    "    result['mean']=x.mean()\n",
    "    result['median']=x.median()\n",
    "    return result\n",
    "stats(bb['sync_sp_round'])"
   ],
   "metadata": {
    "collapsed": false,
    "pycharm": {
     "name": "#%%\n"
    }
   }
  },
  {
   "cell_type": "code",
   "execution_count": 5,
   "outputs": [
    {
     "data": {
      "text/plain": "[3.0, 11.0]"
     },
     "execution_count": 5,
     "metadata": {},
     "output_type": "execute_result"
    }
   ],
   "source": [
    "def get_outliers(data):\n",
    "    Q1 = data.quantile(0.25)\n",
    "    Q3 = data.quantile(0.75)\n",
    "    I = Q3 - Q1\n",
    "    low = Q1 - 1.5 * I\n",
    "    high = Q3 + 1.5 * I\n",
    "    return[data[~data.between(low,high)]]\n",
    "\n",
    "def get_outlier_border(data):\n",
    "    Q1 = data.quantile(0.25)\n",
    "    Q3 = data.quantile(0.75)\n",
    "    I = Q3 - Q1\n",
    "    low = Q1 - 1.5 * I\n",
    "    high = Q3 + 1.5 * I\n",
    "    return [low,high]\n",
    "\n",
    "def get_extreme_outliers(data):\n",
    "    Q1 = data.quantile(0.25)\n",
    "    Q3 = data.quantile(0.75)\n",
    "    I = Q3 - Q1\n",
    "    low = Q1 - 3 * I\n",
    "    high = Q3 + 3 * I\n",
    "    return[data[~data.between(low,high)]]\n",
    "get_outlier_border(bb['sync_sp_round'])"
   ],
   "metadata": {
    "collapsed": false,
    "pycharm": {
     "name": "#%%\n"
    }
   }
  },
  {
   "cell_type": "code",
   "execution_count": 6,
   "outputs": [
    {
     "data": {
      "text/plain": "   mode   mean  median\n0   6.0  7.085     7.0",
      "text/html": "<div>\n<style scoped>\n    .dataframe tbody tr th:only-of-type {\n        vertical-align: middle;\n    }\n\n    .dataframe tbody tr th {\n        vertical-align: top;\n    }\n\n    .dataframe thead th {\n        text-align: right;\n    }\n</style>\n<table border=\"1\" class=\"dataframe\">\n  <thead>\n    <tr style=\"text-align: right;\">\n      <th></th>\n      <th>mode</th>\n      <th>mean</th>\n      <th>median</th>\n    </tr>\n  </thead>\n  <tbody>\n    <tr>\n      <th>0</th>\n      <td>6.0</td>\n      <td>7.085</td>\n      <td>7.0</td>\n    </tr>\n  </tbody>\n</table>\n</div>"
     },
     "execution_count": 6,
     "metadata": {},
     "output_type": "execute_result"
    }
   ],
   "source": [
    "stats(bb[bb['sync_sp_round'].between(3.0,11.0)]['sync_sp_round'])"
   ],
   "metadata": {
    "collapsed": false,
    "pycharm": {
     "name": "#%%\n"
    }
   }
  },
  {
   "cell_type": "markdown",
   "source": [
    "## Q2"
   ],
   "metadata": {
    "collapsed": false
   }
  },
  {
   "cell_type": "code",
   "execution_count": 7,
   "outputs": [
    {
     "data": {
      "text/plain": "16.351000000000003"
     },
     "execution_count": 7,
     "metadata": {},
     "output_type": "execute_result"
    }
   ],
   "source": [
    "bb['percentage of houses broadband less than 2Mbit/s '].mean()"
   ],
   "metadata": {
    "collapsed": false,
    "pycharm": {
     "name": "#%%\n"
    }
   }
  },
  {
   "cell_type": "code",
   "execution_count": 8,
   "outputs": [
    {
     "data": {
      "text/plain": "15.7"
     },
     "execution_count": 8,
     "metadata": {},
     "output_type": "execute_result"
    }
   ],
   "source": [
    "bb['percentage of houses broadband less than 2Mbit/s '].median()"
   ],
   "metadata": {
    "collapsed": false,
    "pycharm": {
     "name": "#%%\n"
    }
   }
  },
  {
   "cell_type": "code",
   "execution_count": 16,
   "outputs": [
    {
     "data": {
      "text/plain": "0    (13.064, 15.918]\nName: percentage of houses broadband less than 2Mbit/s , dtype: category\nCategories (11, interval[float64, right]): [(4.469, 7.355] < (7.355, 10.209] < (10.209, 13.064] < (13.064, 15.918] ... (24.482, 27.336] < (27.336, 30.191] < (30.191, 33.045] < (33.045, 35.9]]"
     },
     "execution_count": 16,
     "metadata": {},
     "output_type": "execute_result"
    }
   ],
   "source": [
    "import math\n",
    "def sturges_formula(series: pd.Series(dtype=object)):\n",
    "    return round(1 + math.log2(len(series)))\n",
    "classes = sturges_formula(bb['percentage of houses broadband less than 2Mbit/s '])\n",
    "q2c = pd.cut(bb['percentage of houses broadband less than 2Mbit/s '],bins=classes+2)\n",
    "q2c.mode()\n",
    "# SUS"
   ],
   "metadata": {
    "collapsed": false,
    "pycharm": {
     "name": "#%%\n"
    }
   }
  },
  {
   "cell_type": "markdown",
   "source": [
    "## Q3"
   ],
   "metadata": {
    "collapsed": false
   }
  },
  {
   "cell_type": "markdown",
   "source": [
    "In a study we measure the extent to which children have a language deficiency. Both the mean\n",
    "and the median can be calculated with the data. Which measurement level was -at least- used\n",
    "here?\n",
    "1. nominal scale\n",
    "2. ordinal scale\n",
    "3. interval scale <<<<\n",
    "4. there is too little information to determine this\n"
   ],
   "metadata": {
    "collapsed": false
   }
  },
  {
   "cell_type": "markdown",
   "source": [
    "## Q4\n",
    "When reading a series of scores an error was made. The lowest value should be 21 instead of\n",
    "11.  After  correction  this  is  still  the  lowest  value.  Which  center  size  has  been  changed  by  the\n",
    "correction?\n",
    "1. mode\n",
    "2. median\n",
    "3. mean <<<<<<\n",
    "4. median and average"
   ],
   "metadata": {
    "collapsed": false
   }
  },
  {
   "cell_type": "markdown",
   "source": [
    "## Q5"
   ],
   "metadata": {
    "collapsed": false
   }
  },
  {
   "cell_type": "code",
   "execution_count": 176,
   "outputs": [
    {
     "data": {
      "text/plain": "22.92"
     },
     "execution_count": 176,
     "metadata": {},
     "output_type": "execute_result"
    }
   ],
   "source": [
    "import numpy as np\n",
    "score = [20,21,25,26]\n",
    "f = [4,2,3,3]\n",
    "np.average(score,weights=f).round(2)\n",
    "# def calc_vector_avg(array: np.array) -> float:\n",
    "#     total_frequencies = array[0] * array[1]\n",
    "#     return (total_frequencies.sum() / array[1].sum()).round(4)"
   ],
   "metadata": {
    "collapsed": false,
    "pycharm": {
     "name": "#%%\n"
    }
   }
  },
  {
   "cell_type": "markdown",
   "source": [
    "## Q6\n",
    "We have the following scores: 3, 6, 9, 22, 9, 5, 8, 21, 9, 5, 3, 8, 9. To which central tendency\n",
    "is the score 9 equal?\n",
    "\n",
    "1. the mean\n",
    "2. the median\n",
    "3. the mode\n",
    "4. the mean and mode <<<<\n",
    "5. the mean, median and mode"
   ],
   "metadata": {
    "collapsed": false
   }
  },
  {
   "cell_type": "markdown",
   "source": [
    "## Q7"
   ],
   "metadata": {
    "collapsed": false
   }
  },
  {
   "cell_type": "code",
   "execution_count": 140,
   "outputs": [
    {
     "data": {
      "text/plain": "{'mean': 10.175, 'mode': [8], 'median': [9, 9]}"
     },
     "execution_count": 140,
     "metadata": {},
     "output_type": "execute_result"
    }
   ],
   "source": [
    "x = [3,4,6,7,8,9,10,11,12,14,16,17,20]\n",
    "f = [1,1,4,3,8,5,1,4,2,7,1,2,1]\n",
    "q7 = np.array([x,f])\n",
    "def np_stats(array: np.array):\n",
    "    total_frequencies = array[0] * array[1]\n",
    "    mean = (total_frequencies.sum() / array[1].sum()).round(4)\n",
    "    mode = array[0][array[1]==array[1].max()]\n",
    "    median_pos = array[1].sum()/2\n",
    "    pos_ceil=np.ceil(median_pos)\n",
    "    pos_floor=np.floor(median_pos)\n",
    "    all_nums=[]\n",
    "    for x,f in zip(array[0],array[1]):\n",
    "        i=0\n",
    "        while i<f:\n",
    "            all_nums.append(x)\n",
    "            i=i+1\n",
    "    if median_pos%2!=0:\n",
    "        median = all_nums[int(median_pos)]\n",
    "    else:\n",
    "         median = [all_nums[int(pos_floor)],all_nums[int(pos_ceil)]]\n",
    "    result={'mean':mean,'mode':mode.tolist(),'median':median}\n",
    "    return result\n",
    "np_stats(q7)"
   ],
   "metadata": {
    "collapsed": false,
    "pycharm": {
     "name": "#%%\n"
    }
   }
  },
  {
   "cell_type": "markdown",
   "source": [
    "## Q8"
   ],
   "metadata": {
    "collapsed": false
   }
  },
  {
   "cell_type": "code",
   "execution_count": 165,
   "outputs": [
    {
     "data": {
      "text/plain": "ModeResult(mode=array(['10'], dtype='<U11'), count=array([2]))"
     },
     "execution_count": 165,
     "metadata": {},
     "output_type": "execute_result"
    }
   ],
   "source": [
    "nr_children = [\"1\",\"2\",\"3\",\"4\",\"5\",\"6\",\">=7\"]\n",
    "antw = [60,55,30,20,10,5,10]\n",
    "limb = [65,60,35,20,10,5,5]\n",
    "q8 = np.array([nr_children,antw,limb])\n",
    "stats.mode(q8[1])"
   ],
   "metadata": {
    "collapsed": false,
    "pycharm": {
     "name": "#%%\n"
    }
   }
  },
  {
   "cell_type": "code",
   "execution_count": 166,
   "outputs": [
    {
     "data": {
      "text/plain": "ModeResult(mode=array(['5'], dtype='<U11'), count=array([2]))"
     },
     "execution_count": 166,
     "metadata": {},
     "output_type": "execute_result"
    }
   ],
   "source": [
    "stats.mode(q8[2])"
   ],
   "metadata": {
    "collapsed": false,
    "pycharm": {
     "name": "#%%\n"
    }
   }
  },
  {
   "cell_type": "code",
   "execution_count": 167,
   "outputs": [
    {
     "data": {
      "text/plain": "{'mean': 2.5789, 'mode': [1], 'median': 2}"
     },
     "execution_count": 167,
     "metadata": {},
     "output_type": "execute_result"
    }
   ],
   "source": [
    "q8a=np.array([range(1,8),antw])\n",
    "np_stats(q8a)"
   ],
   "metadata": {
    "collapsed": false,
    "pycharm": {
     "name": "#%%\n"
    }
   }
  },
  {
   "cell_type": "code",
   "execution_count": 168,
   "outputs": [
    {
     "data": {
      "text/plain": "{'mean': 2.425, 'mode': [1], 'median': [2, 2]}"
     },
     "execution_count": 168,
     "metadata": {},
     "output_type": "execute_result"
    }
   ],
   "source": [
    "q8b=np.array([range(1,8),limb])\n",
    "np_stats(q8b)"
   ],
   "metadata": {
    "collapsed": false,
    "pycharm": {
     "name": "#%%\n"
    }
   }
  },
  {
   "cell_type": "markdown",
   "source": [
    "## Q9"
   ],
   "metadata": {
    "collapsed": false
   }
  },
  {
   "cell_type": "code",
   "execution_count": 172,
   "outputs": [
    {
     "data": {
      "text/plain": "{'mean': 13.5, 'mode': [14], 'median': [14, 14]}"
     },
     "execution_count": 172,
     "metadata": {},
     "output_type": "execute_result"
    }
   ],
   "source": [
    "q9 = np.array([[4,9,14,19,24],[6,7,15,9,3]])\n",
    "np_stats(q9)"
   ],
   "metadata": {
    "collapsed": false,
    "pycharm": {
     "name": "#%%\n"
    }
   }
  },
  {
   "cell_type": "markdown",
   "source": [
    "## Q10"
   ],
   "metadata": {
    "collapsed": false
   }
  },
  {
   "cell_type": "code",
   "execution_count": 173,
   "outputs": [
    {
     "data": {
      "text/plain": "35.999"
     },
     "execution_count": 173,
     "metadata": {},
     "output_type": "execute_result"
    }
   ],
   "source": [
    "37.7*0.73 + 31.4*0.27"
   ],
   "metadata": {
    "collapsed": false,
    "pycharm": {
     "name": "#%%\n"
    }
   }
  },
  {
   "cell_type": "markdown",
   "source": [
    "## Q11"
   ],
   "metadata": {
    "collapsed": false
   }
  },
  {
   "cell_type": "code",
   "execution_count": 174,
   "outputs": [
    {
     "data": {
      "text/plain": "2.25"
     },
     "execution_count": 174,
     "metadata": {},
     "output_type": "execute_result"
    }
   ],
   "source": [
    "3*0.25+2*0.75"
   ],
   "metadata": {
    "collapsed": false,
    "pycharm": {
     "name": "#%%\n"
    }
   }
  },
  {
   "cell_type": "markdown",
   "source": [
    "## Q12"
   ],
   "metadata": {
    "collapsed": false
   }
  },
  {
   "cell_type": "code",
   "execution_count": 175,
   "outputs": [
    {
     "data": {
      "text/plain": "37.77777777777778"
     },
     "execution_count": 175,
     "metadata": {},
     "output_type": "execute_result"
    }
   ],
   "source": [
    "25*300/810+60*10/810+45*500/810"
   ],
   "metadata": {
    "collapsed": false,
    "pycharm": {
     "name": "#%%\n"
    }
   }
  }
 ],
 "metadata": {
  "kernelspec": {
   "display_name": "Python 3",
   "language": "python",
   "name": "python3"
  },
  "language_info": {
   "codemirror_mode": {
    "name": "ipython",
    "version": 2
   },
   "file_extension": ".py",
   "mimetype": "text/x-python",
   "name": "python",
   "nbconvert_exporter": "python",
   "pygments_lexer": "ipython2",
   "version": "2.7.6"
  }
 },
 "nbformat": 4,
 "nbformat_minor": 0
}