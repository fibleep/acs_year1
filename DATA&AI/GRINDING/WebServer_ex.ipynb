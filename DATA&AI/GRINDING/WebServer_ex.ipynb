{
 "cells": [
  {
   "cell_type": "code",
   "execution_count": 24,
   "metadata": {
    "collapsed": true
   },
   "outputs": [
    {
     "name": "stderr",
     "output_type": "stream",
     "text": [
      "C:\\Users\\filip\\AppData\\Local\\Temp\\ipykernel_7056\\1530966283.py:2: FutureWarning: The error_bad_lines argument has been deprecated and will be removed in a future version. Use on_bad_lines in the future.\n",
      "\n",
      "\n",
      "  web = pd.read_csv('UofS_access_log', header=None, sep=\" \", error_bad_lines=False,encoding_errors='ignore', engine='python')\n",
      "Skipping line 990900: ' ' expected after '\"'\n",
      "Skipping line 993113: ' ' expected after '\"'\n"
     ]
    },
    {
     "data": {
      "text/plain": "                                   0  1  2                      3       4  \\\n0                       202.32.92.47  -  -  [01/Jun/1995:00:00:59  -0600]   \n1            ix-or7-27.ix.netcom.com  -  -  [01/Jun/1995:00:02:51  -0600]   \n2                    ram0.huji.ac.il  -  -  [01/Jun/1995:00:05:44  -0600]   \n3              eagle40.sasknet.sk.ca  -  -  [01/Jun/1995:00:08:06  -0600]   \n4              eagle40.sasknet.sk.ca  -  -  [01/Jun/1995:00:08:19  -0600]   \n...                              ... .. ..                    ...     ...   \n2408618  ix-oly-wa2-11.ix.netcom.com  -  -  [31/Dec/1995:23:57:00  -0600]   \n2408619          freenet.npiec.on.ca  -  -  [31/Dec/1995:23:58:06  -0600]   \n2408620             moondog.usask.ca  -  -  [31/Dec/1995:23:58:29  -0600]   \n2408621             moondog.usask.ca  -  -  [31/Dec/1995:23:58:37  -0600]   \n2408622         ns1.maf.mobile.al.us  -  -  [31/Dec/1995:23:59:28  -0600]   \n\n                                 5    6       7  \n0        GET /~scottp/publish.html  200     271  \n1        GET /~ladd/ostriches.html  200  205908  \n2        GET /~scottp/publish.html  200     271  \n3                     GET /~lowey/  200    1116  \n4            GET /~lowey/kevin.gif  200   49649  \n...                            ...  ...     ...  \n2408618  GET /~scottp/publish.html  200     271  \n2408619     GET /~scottp/free.html  200   23067  \n2408620              GET /HTTP/1.0  200    3890  \n2408621   GET /search.htmlHTTP/1.0  200    1838  \n2408622     GET /~scottp/free.html  200   23067  \n\n[2408623 rows x 8 columns]",
      "text/html": "<div>\n<style scoped>\n    .dataframe tbody tr th:only-of-type {\n        vertical-align: middle;\n    }\n\n    .dataframe tbody tr th {\n        vertical-align: top;\n    }\n\n    .dataframe thead th {\n        text-align: right;\n    }\n</style>\n<table border=\"1\" class=\"dataframe\">\n  <thead>\n    <tr style=\"text-align: right;\">\n      <th></th>\n      <th>0</th>\n      <th>1</th>\n      <th>2</th>\n      <th>3</th>\n      <th>4</th>\n      <th>5</th>\n      <th>6</th>\n      <th>7</th>\n    </tr>\n  </thead>\n  <tbody>\n    <tr>\n      <th>0</th>\n      <td>202.32.92.47</td>\n      <td>-</td>\n      <td>-</td>\n      <td>[01/Jun/1995:00:00:59</td>\n      <td>-0600]</td>\n      <td>GET /~scottp/publish.html</td>\n      <td>200</td>\n      <td>271</td>\n    </tr>\n    <tr>\n      <th>1</th>\n      <td>ix-or7-27.ix.netcom.com</td>\n      <td>-</td>\n      <td>-</td>\n      <td>[01/Jun/1995:00:02:51</td>\n      <td>-0600]</td>\n      <td>GET /~ladd/ostriches.html</td>\n      <td>200</td>\n      <td>205908</td>\n    </tr>\n    <tr>\n      <th>2</th>\n      <td>ram0.huji.ac.il</td>\n      <td>-</td>\n      <td>-</td>\n      <td>[01/Jun/1995:00:05:44</td>\n      <td>-0600]</td>\n      <td>GET /~scottp/publish.html</td>\n      <td>200</td>\n      <td>271</td>\n    </tr>\n    <tr>\n      <th>3</th>\n      <td>eagle40.sasknet.sk.ca</td>\n      <td>-</td>\n      <td>-</td>\n      <td>[01/Jun/1995:00:08:06</td>\n      <td>-0600]</td>\n      <td>GET /~lowey/</td>\n      <td>200</td>\n      <td>1116</td>\n    </tr>\n    <tr>\n      <th>4</th>\n      <td>eagle40.sasknet.sk.ca</td>\n      <td>-</td>\n      <td>-</td>\n      <td>[01/Jun/1995:00:08:19</td>\n      <td>-0600]</td>\n      <td>GET /~lowey/kevin.gif</td>\n      <td>200</td>\n      <td>49649</td>\n    </tr>\n    <tr>\n      <th>...</th>\n      <td>...</td>\n      <td>...</td>\n      <td>...</td>\n      <td>...</td>\n      <td>...</td>\n      <td>...</td>\n      <td>...</td>\n      <td>...</td>\n    </tr>\n    <tr>\n      <th>2408618</th>\n      <td>ix-oly-wa2-11.ix.netcom.com</td>\n      <td>-</td>\n      <td>-</td>\n      <td>[31/Dec/1995:23:57:00</td>\n      <td>-0600]</td>\n      <td>GET /~scottp/publish.html</td>\n      <td>200</td>\n      <td>271</td>\n    </tr>\n    <tr>\n      <th>2408619</th>\n      <td>freenet.npiec.on.ca</td>\n      <td>-</td>\n      <td>-</td>\n      <td>[31/Dec/1995:23:58:06</td>\n      <td>-0600]</td>\n      <td>GET /~scottp/free.html</td>\n      <td>200</td>\n      <td>23067</td>\n    </tr>\n    <tr>\n      <th>2408620</th>\n      <td>moondog.usask.ca</td>\n      <td>-</td>\n      <td>-</td>\n      <td>[31/Dec/1995:23:58:29</td>\n      <td>-0600]</td>\n      <td>GET /HTTP/1.0</td>\n      <td>200</td>\n      <td>3890</td>\n    </tr>\n    <tr>\n      <th>2408621</th>\n      <td>moondog.usask.ca</td>\n      <td>-</td>\n      <td>-</td>\n      <td>[31/Dec/1995:23:58:37</td>\n      <td>-0600]</td>\n      <td>GET /search.htmlHTTP/1.0</td>\n      <td>200</td>\n      <td>1838</td>\n    </tr>\n    <tr>\n      <th>2408622</th>\n      <td>ns1.maf.mobile.al.us</td>\n      <td>-</td>\n      <td>-</td>\n      <td>[31/Dec/1995:23:59:28</td>\n      <td>-0600]</td>\n      <td>GET /~scottp/free.html</td>\n      <td>200</td>\n      <td>23067</td>\n    </tr>\n  </tbody>\n</table>\n<p>2408623 rows × 8 columns</p>\n</div>"
     },
     "execution_count": 24,
     "metadata": {},
     "output_type": "execute_result"
    }
   ],
   "source": [
    "import pandas as pd\n",
    "web = pd.read_csv('UofS_access_log.csv', header=None, sep=\" \", error_bad_lines=False,encoding_errors='ignore', engine='python')\n",
    "web"
   ]
  },
  {
   "cell_type": "code",
   "execution_count": 25,
   "outputs": [
    {
     "data": {
      "text/plain": "                              domain              timestamp  \\\n0                       202.32.92.47  [01/Jun/1995:00:00:59   \n1            ix-or7-27.ix.netcom.com  [01/Jun/1995:00:02:51   \n2                    ram0.huji.ac.il  [01/Jun/1995:00:05:44   \n3              eagle40.sasknet.sk.ca  [01/Jun/1995:00:08:06   \n4              eagle40.sasknet.sk.ca  [01/Jun/1995:00:08:19   \n...                              ...                    ...   \n2408618  ix-oly-wa2-11.ix.netcom.com  [31/Dec/1995:23:57:00   \n2408619          freenet.npiec.on.ca  [31/Dec/1995:23:58:06   \n2408620             moondog.usask.ca  [31/Dec/1995:23:58:29   \n2408621             moondog.usask.ca  [31/Dec/1995:23:58:37   \n2408622         ns1.maf.mobile.al.us  [31/Dec/1995:23:59:28   \n\n                           request  response code response length  \n0        GET /~scottp/publish.html            200             271  \n1        GET /~ladd/ostriches.html            200          205908  \n2        GET /~scottp/publish.html            200             271  \n3                     GET /~lowey/            200            1116  \n4            GET /~lowey/kevin.gif            200           49649  \n...                            ...            ...             ...  \n2408618  GET /~scottp/publish.html            200             271  \n2408619     GET /~scottp/free.html            200           23067  \n2408620              GET /HTTP/1.0            200            3890  \n2408621   GET /search.htmlHTTP/1.0            200            1838  \n2408622     GET /~scottp/free.html            200           23067  \n\n[2408623 rows x 5 columns]",
      "text/html": "<div>\n<style scoped>\n    .dataframe tbody tr th:only-of-type {\n        vertical-align: middle;\n    }\n\n    .dataframe tbody tr th {\n        vertical-align: top;\n    }\n\n    .dataframe thead th {\n        text-align: right;\n    }\n</style>\n<table border=\"1\" class=\"dataframe\">\n  <thead>\n    <tr style=\"text-align: right;\">\n      <th></th>\n      <th>domain</th>\n      <th>timestamp</th>\n      <th>request</th>\n      <th>response code</th>\n      <th>response length</th>\n    </tr>\n  </thead>\n  <tbody>\n    <tr>\n      <th>0</th>\n      <td>202.32.92.47</td>\n      <td>[01/Jun/1995:00:00:59</td>\n      <td>GET /~scottp/publish.html</td>\n      <td>200</td>\n      <td>271</td>\n    </tr>\n    <tr>\n      <th>1</th>\n      <td>ix-or7-27.ix.netcom.com</td>\n      <td>[01/Jun/1995:00:02:51</td>\n      <td>GET /~ladd/ostriches.html</td>\n      <td>200</td>\n      <td>205908</td>\n    </tr>\n    <tr>\n      <th>2</th>\n      <td>ram0.huji.ac.il</td>\n      <td>[01/Jun/1995:00:05:44</td>\n      <td>GET /~scottp/publish.html</td>\n      <td>200</td>\n      <td>271</td>\n    </tr>\n    <tr>\n      <th>3</th>\n      <td>eagle40.sasknet.sk.ca</td>\n      <td>[01/Jun/1995:00:08:06</td>\n      <td>GET /~lowey/</td>\n      <td>200</td>\n      <td>1116</td>\n    </tr>\n    <tr>\n      <th>4</th>\n      <td>eagle40.sasknet.sk.ca</td>\n      <td>[01/Jun/1995:00:08:19</td>\n      <td>GET /~lowey/kevin.gif</td>\n      <td>200</td>\n      <td>49649</td>\n    </tr>\n    <tr>\n      <th>...</th>\n      <td>...</td>\n      <td>...</td>\n      <td>...</td>\n      <td>...</td>\n      <td>...</td>\n    </tr>\n    <tr>\n      <th>2408618</th>\n      <td>ix-oly-wa2-11.ix.netcom.com</td>\n      <td>[31/Dec/1995:23:57:00</td>\n      <td>GET /~scottp/publish.html</td>\n      <td>200</td>\n      <td>271</td>\n    </tr>\n    <tr>\n      <th>2408619</th>\n      <td>freenet.npiec.on.ca</td>\n      <td>[31/Dec/1995:23:58:06</td>\n      <td>GET /~scottp/free.html</td>\n      <td>200</td>\n      <td>23067</td>\n    </tr>\n    <tr>\n      <th>2408620</th>\n      <td>moondog.usask.ca</td>\n      <td>[31/Dec/1995:23:58:29</td>\n      <td>GET /HTTP/1.0</td>\n      <td>200</td>\n      <td>3890</td>\n    </tr>\n    <tr>\n      <th>2408621</th>\n      <td>moondog.usask.ca</td>\n      <td>[31/Dec/1995:23:58:37</td>\n      <td>GET /search.htmlHTTP/1.0</td>\n      <td>200</td>\n      <td>1838</td>\n    </tr>\n    <tr>\n      <th>2408622</th>\n      <td>ns1.maf.mobile.al.us</td>\n      <td>[31/Dec/1995:23:59:28</td>\n      <td>GET /~scottp/free.html</td>\n      <td>200</td>\n      <td>23067</td>\n    </tr>\n  </tbody>\n</table>\n<p>2408623 rows × 5 columns</p>\n</div>"
     },
     "execution_count": 25,
     "metadata": {},
     "output_type": "execute_result"
    }
   ],
   "source": [
    "ws = pd.DataFrame({'domain':web[0],'timestamp':web[3],'request':web[5],'response code':web[6],'response length':web[7]})\n",
    "ws"
   ],
   "metadata": {
    "collapsed": false,
    "pycharm": {
     "name": "#%%\n"
    }
   }
  },
  {
   "cell_type": "code",
   "execution_count": null,
   "outputs": [
    {
     "data": {
      "text/plain": "array([200, 304, 302, 404, 400, 500, 403, 501, 401], dtype=int64)"
     },
     "execution_count": 27,
     "metadata": {},
     "output_type": "execute_result"
    }
   ],
   "source": [
    "ws['response code'].unique()"
   ],
   "metadata": {
    "collapsed": false,
    "pycharm": {
     "name": "#%%\n",
     "is_executing": true
    }
   }
  },
  {
   "cell_type": "code",
   "execution_count": null,
   "outputs": [],
   "source": [],
   "metadata": {
    "collapsed": false,
    "pycharm": {
     "name": "#%%\n"
    }
   }
  }
 ],
 "metadata": {
  "kernelspec": {
   "display_name": "Python 3",
   "language": "python",
   "name": "python3"
  },
  "language_info": {
   "codemirror_mode": {
    "name": "ipython",
    "version": 2
   },
   "file_extension": ".py",
   "mimetype": "text/x-python",
   "name": "python",
   "nbconvert_exporter": "python",
   "pygments_lexer": "ipython2",
   "version": "2.7.6"
  }
 },
 "nbformat": 4,
 "nbformat_minor": 0
}