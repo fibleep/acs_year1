{
 "cells": [
  {
   "cell_type": "markdown",
   "metadata": {
    "pycharm": {
     "name": "#%% md\n"
    }
   },
   "source": [
    "# <font color='red'>Exam Function Finder:</font>\n",
    "\n",
    "## <font color='yellow'>This Document has:</font>\n",
    "+ Statistical Functions\n",
    "+ Date Manipulation Fucntions\n",
    "+ and more"
   ]
  },
  {
   "cell_type": "code",
   "execution_count": 23,
   "metadata": {},
   "outputs": [],
   "source": [
    "import matplotlib.pyplot as plt\n",
    "import numpy as np\n",
    "import pandas as pd\n",
    "from scipy import stats\n",
    "import math\n",
    "\n",
    "# for testing purposes\n",
    "students = pd.read_csv('resources/Questionnaire 21-22.csv', sep=';')"
   ]
  },
  {
   "cell_type": "markdown",
   "metadata": {},
   "source": [
    "### <font color='red'>Frequencies function, returns:</font>\n",
    "<ol>\n",
    "    <li>Absolute Frequency</li>\n",
    "    <li>Relative Frequency</li>\n",
    "    <li>Absolute Cumulative Frequency</li>\n",
    "    <li>Absolute Relative Frequency</li>\n",
    "                    </ul>\n"
   ]
  },
  {
   "cell_type": "code",
   "execution_count": 2,
   "metadata": {
    "pycharm": {
     "name": "#%%\n"
    }
   },
   "outputs": [],
   "source": [
    "def all_frequencies(series: pd.Series | list) -> pd.DataFrame:\n",
    "    if type(series) == list:\n",
    "        series = pd.Series(series)\n",
    "    t_abs = series.value_counts(dropna=False).sort_index()\n",
    "    t_rel = (series.value_counts(dropna=False, normalize=True).sort_index() * 100).round(1)\n",
    "    t_abs_cum = series.value_counts(dropna=False).sort_index().cumsum()\n",
    "    t_rel_cum = (series.value_counts(dropna=False, normalize=True).sort_index().cumsum() * 100).round(1)\n",
    "    return pd.DataFrame({'absolute freq': t_abs, 'relative freq': t_rel, 'absolute cumulative freq': t_abs_cum,\n",
    "                         'relative cumulative freq': t_rel_cum})"
   ]
  },
  {
   "cell_type": "code",
   "execution_count": 3,
   "outputs": [
    {
     "data": {
      "text/plain": "         absolute freq  relative freq  absolute cumulative freq  \\\nOther                2            5.1                         2   \nWindows             30           76.9                        32   \niOS                  7           17.9                        39   \n\n         relative cumulative freq  \nOther                         5.1  \nWindows                      82.1  \niOS                         100.0  ",
      "text/html": "<div>\n<style scoped>\n    .dataframe tbody tr th:only-of-type {\n        vertical-align: middle;\n    }\n\n    .dataframe tbody tr th {\n        vertical-align: top;\n    }\n\n    .dataframe thead th {\n        text-align: right;\n    }\n</style>\n<table border=\"1\" class=\"dataframe\">\n  <thead>\n    <tr style=\"text-align: right;\">\n      <th></th>\n      <th>absolute freq</th>\n      <th>relative freq</th>\n      <th>absolute cumulative freq</th>\n      <th>relative cumulative freq</th>\n    </tr>\n  </thead>\n  <tbody>\n    <tr>\n      <th>Other</th>\n      <td>2</td>\n      <td>5.1</td>\n      <td>2</td>\n      <td>5.1</td>\n    </tr>\n    <tr>\n      <th>Windows</th>\n      <td>30</td>\n      <td>76.9</td>\n      <td>32</td>\n      <td>82.1</td>\n    </tr>\n    <tr>\n      <th>iOS</th>\n      <td>7</td>\n      <td>17.9</td>\n      <td>39</td>\n      <td>100.0</td>\n    </tr>\n  </tbody>\n</table>\n</div>"
     },
     "execution_count": 3,
     "metadata": {},
     "output_type": "execute_result"
    }
   ],
   "source": [
    "all_frequencies(students.OS)"
   ],
   "metadata": {
    "collapsed": false,
    "pycharm": {
     "name": "#%%\n"
    }
   }
  },
  {
   "cell_type": "markdown",
   "metadata": {},
   "source": [
    "#### <font color='red'>Merge Method:</font>\n",
    "##### Example\n",
    "```python\n",
    "airports = pd.merge(airports,right,on='airport',how='inner')\n",
    "```"
   ]
  },
  {
   "cell_type": "code",
   "execution_count": 4,
   "metadata": {},
   "outputs": [],
   "source": [
    "def merge(left: pd.DataFrame(), right: pd.DataFrame(), on: str, how: str) -> pd.DataFrame:\n",
    "    return pd.merge(left, right, on, how)\n"
   ]
  },
  {
   "cell_type": "markdown",
   "metadata": {},
   "source": [
    "#### <font color='red'>List of outliers</font>\n",
    "##### Example\n",
    "```python\n",
    "outlier(mylist, \"high\") # for upper boundaries only\n",
    "outlier(mylist, \"low\") # for lower boundaries only\n",
    "outlier(mylist, \"both\") # for all boundaries\n",
    "```"
   ]
  },
  {
   "cell_type": "code",
   "execution_count": 5,
   "outputs": [],
   "source": [
    "def outlier_boundaries(series: pd.Series, extreme: bool = False) -> list:\n",
    "    q1 = series.quantile(0.25)\n",
    "    q3 = series.quantile(0.75)\n",
    "    iqr = q3 - q1\n",
    "    if extreme:\n",
    "        iqr *= 3\n",
    "    else:\n",
    "        iqr *= 1.5\n",
    "    return [q1 - iqr, q3 + iqr]"
   ],
   "metadata": {
    "collapsed": false,
    "pycharm": {
     "name": "#%%\n"
    }
   }
  },
  {
   "cell_type": "code",
   "execution_count": 6,
   "outputs": [],
   "source": [
    "def get_outliers(series: pd.Series, extreme: bool = False, inner: bool = True) -> pd.Series:\n",
    "    \"\"\"\n",
    "    Used to get a new series of either outliers or the opposite, depending on inner(True by default).\n",
    "    Get extreme outliers with the boolean extreme (False by default).\n",
    "\n",
    "    :return: A new Series including or excluding outliers depending on inner.\n",
    "    :rtype: Series\n",
    "    :type inner: bool = True\n",
    "    :type extreme: bool = False\n",
    "    :type series: Series\n",
    "    \"\"\"\n",
    "    l, h = outlier_boundaries(series, extreme)\n",
    "    if inner:\n",
    "        return series[series.between(l, h)]\n",
    "    return series[~series.between(l, h)]"
   ],
   "metadata": {
    "collapsed": false,
    "pycharm": {
     "name": "#%%\n"
    }
   }
  },
  {
   "cell_type": "code",
   "execution_count": 7,
   "metadata": {},
   "outputs": [],
   "source": [
    "def get_outliers2(data: pd.Series, boundary=\"both\") -> list:\n",
    "    data = pd.Series(data)\n",
    "    list_to_return = []\n",
    "    for value in data:\n",
    "        assert boundary in ['low', 'high', 'both']\n",
    "        if \"low\" in boundary:\n",
    "\n",
    "            if value < (data.quantile(q=0.25) - stats.iqr(data) * 1.5):\n",
    "                list_to_return.append(value)\n",
    "\n",
    "        elif \"high\" in boundary:\n",
    "\n",
    "            if value > (data.quantile(q=0.75) + stats.iqr(data) * 1.5):\n",
    "                list_to_return.append(value)\n",
    "        else:\n",
    "            if value < (data.quantile(q=0.25) - stats.iqr(data) * 1.5) or value > (\n",
    "                    data.quantile(q=0.75) + stats.iqr(data) * 1.5):\n",
    "                list_to_return.append(value)\n",
    "    return list_to_return"
   ]
  },
  {
   "cell_type": "markdown",
   "source": [
    "Variance Calculator"
   ],
   "metadata": {
    "collapsed": false,
    "pycharm": {
     "name": "#%% md\n"
    }
   }
  },
  {
   "cell_type": "code",
   "execution_count": 8,
   "outputs": [],
   "source": [
    "def variance_calculator(data):\n",
    "    data = np.array(data)\n",
    "    total = 0\n",
    "    for d in data:\n",
    "        total = total + ((d - np.mean(data)) ** 2)\n",
    "    return total / len(data)"
   ],
   "metadata": {
    "collapsed": false,
    "pycharm": {
     "name": "#%%\n"
    }
   }
  },
  {
   "cell_type": "markdown",
   "source": [
    "Range calculator"
   ],
   "metadata": {
    "collapsed": false,
    "pycharm": {
     "name": "#%% md\n"
    }
   }
  },
  {
   "cell_type": "code",
   "execution_count": 9,
   "outputs": [],
   "source": [
    "def get_range(data: list | pd.Series(dtype=float) | np.array) -> float:\n",
    "    data = np.array(data)\n",
    "    return data.max() - data.min()"
   ],
   "metadata": {
    "collapsed": false,
    "pycharm": {
     "name": "#%%\n"
    }
   }
  },
  {
   "cell_type": "markdown",
   "source": [
    "sample standard deviation calculator"
   ],
   "metadata": {
    "collapsed": false,
    "pycharm": {
     "name": "#%% md\n"
    }
   }
  },
  {
   "cell_type": "code",
   "execution_count": 10,
   "outputs": [],
   "source": [
    "#sample standard deviation with delta degree of freedom------\n",
    "def sample_standard_deviation(data):\n",
    "    data = np.array(data)\n",
    "    total = 0\n",
    "    for d in data:\n",
    "        total = total + ((d - np.mean(data)) ** 2)\n",
    "    return np.sqrt(total / (len(data) - 1))"
   ],
   "metadata": {
    "collapsed": false,
    "pycharm": {
     "name": "#%%\n"
    }
   }
  },
  {
   "cell_type": "markdown",
   "source": [
    "population_standard deviation"
   ],
   "metadata": {
    "collapsed": false,
    "pycharm": {
     "name": "#%% md\n"
    }
   }
  },
  {
   "cell_type": "code",
   "execution_count": 11,
   "outputs": [],
   "source": [
    "#population standard deviation\n",
    "def population_standard_deviation(data):\n",
    "    data = np.array(data)\n",
    "    total = 0\n",
    "    for d in data:\n",
    "        total = total + ((d - np.mean(data)) ** 2)\n",
    "    return np.sqrt(total / len(data))"
   ],
   "metadata": {
    "collapsed": false,
    "pycharm": {
     "name": "#%%\n"
    }
   }
  },
  {
   "cell_type": "markdown",
   "source": [
    "Harmonic mean"
   ],
   "metadata": {
    "collapsed": false,
    "pycharm": {
     "name": "#%% md\n"
    }
   }
  },
  {
   "cell_type": "code",
   "execution_count": 12,
   "outputs": [],
   "source": [
    "def h_mean(series: pd.Series(dtype=float)):\n",
    "    return stats.hmean(series)"
   ],
   "metadata": {
    "collapsed": false,
    "pycharm": {
     "name": "#%%\n"
    }
   }
  },
  {
   "cell_type": "code",
   "execution_count": 13,
   "outputs": [],
   "source": [
    "def harmonic_mean_calc(data, from_this_point, to_this_point):\n",
    "    if from_this_point >= 0 and to_this_point <= len(data):\n",
    "        return np.mean(data[from_this_point:to_this_point])\n",
    "    else:\n",
    "        return \"YOUR INDEX OR DATA-TYPE IS INVALID\""
   ],
   "metadata": {
    "collapsed": false,
    "pycharm": {
     "name": "#%%\n"
    }
   }
  },
  {
   "cell_type": "markdown",
   "source": [
    "Geometric mean"
   ],
   "metadata": {
    "collapsed": false,
    "pycharm": {
     "name": "#%% md\n"
    }
   }
  },
  {
   "cell_type": "code",
   "execution_count": 14,
   "outputs": [],
   "source": [
    "def g_mean(series: pd.Series(dtype=float)):\n",
    "    return stats.gmean(series)"
   ],
   "metadata": {
    "collapsed": false,
    "pycharm": {
     "name": "#%%\n"
    }
   }
  },
  {
   "cell_type": "code",
   "execution_count": 15,
   "outputs": [],
   "source": [
    "def geometric_mean_calc(nums):\n",
    "    length = len(nums)\n",
    "    nums = nums / 100\n",
    "    nums = np.product(nums)\n",
    "    gm = nums ** (1 / length)\n",
    "    return gm * 100"
   ],
   "metadata": {
    "collapsed": false,
    "pycharm": {
     "name": "#%%\n"
    }
   }
  },
  {
   "cell_type": "markdown",
   "source": [
    "Percentile finder"
   ],
   "metadata": {
    "collapsed": false,
    "pycharm": {
     "name": "#%% md\n"
    }
   }
  },
  {
   "cell_type": "code",
   "execution_count": 16,
   "outputs": [],
   "source": [
    "def quant_perc_quart_finder(array: list, percentile: int):\n",
    "    array = pd.Series(array).dropna()\n",
    "    array = array.sort_values()\n",
    "    tempo_position: float = (percentile / 100) * (len(array) + 1)\n",
    "    floor_value = np.floor(tempo_position)\n",
    "    ceiling_val = np.ceil(tempo_position)\n",
    "    value = ((array[floor_value - 1]) + (array[ceiling_val - 1])) / 2\n",
    "    return value"
   ],
   "metadata": {
    "collapsed": false,
    "pycharm": {
     "name": "#%%\n"
    }
   }
  },
  {
   "cell_type": "markdown",
   "source": [
    "Create a list of values with amount of frequencies"
   ],
   "metadata": {
    "collapsed": false
   }
  },
  {
   "cell_type": "code",
   "execution_count": 17,
   "outputs": [],
   "source": [
    "def create_vector(x: list, f: list) -> pd.Series:\n",
    "    l = []\n",
    "    for index, s in enumerate(x):\n",
    "        for x in range(f[index]):\n",
    "            l.append(s)\n",
    "    return pd.Series(l)"
   ],
   "metadata": {
    "collapsed": false,
    "pycharm": {
     "name": "#%%\n"
    }
   }
  },
  {
   "cell_type": "code",
   "execution_count": 18,
   "outputs": [],
   "source": [
    "def all_tendencies_series(series: pd.Series) -> pd.DataFrame:\n",
    "    return pd.DataFrame(\n",
    "        {'mean': series.mean(), 'mode': series.mode(),\n",
    "         'median': series.median(), 'harmonic mean': stats.hmean(series), 'geometric mean': stats.gmean(series)})"
   ],
   "metadata": {
    "collapsed": false,
    "pycharm": {
     "name": "#%%\n"
    }
   }
  },
  {
   "cell_type": "code",
   "execution_count": 19,
   "outputs": [],
   "source": [
    "def all_tendencies(list1: list, list2: list) -> pd.DataFrame:\n",
    "    vec = create_vector(list1, list2)\n",
    "    return all_tendencies_series(vec)"
   ],
   "metadata": {
    "collapsed": false,
    "pycharm": {
     "name": "#%%\n"
    }
   }
  },
  {
   "cell_type": "markdown",
   "source": [
    "All dispersion factors"
   ],
   "metadata": {
    "collapsed": false
   }
  },
  {
   "cell_type": "code",
   "execution_count": 20,
   "outputs": [],
   "source": [
    "def all_dispersion(series: pd.Series) -> pd.DataFrame:\n",
    "    series.dropna(inplace=True)\n",
    "    return pd.DataFrame({'min': series.min(), 'max': series.max(), 'interquartile range': stats.iqr(series),\n",
    "                         'range': np.ptp(series), 'variance': series.var(),\n",
    "                         'mean absolute deviation': series.mad(), '1st quantile': series.quantile(0.25),\n",
    "                         '3rd quantile': series.quantile(.75)}, index=[0])"
   ],
   "metadata": {
    "collapsed": false,
    "pycharm": {
     "name": "#%%\n"
    }
   }
  },
  {
   "cell_type": "code",
   "execution_count": 30,
   "outputs": [],
   "source": [
    "def draw_boxplot(df: pd.DataFrame) -> plt.boxplot:\n",
    "    \"\"\"\n",
    "    Normalizes the data in the DataFrame so the columns can be better compared in the boxplot. DataFrame columns passed into this function need to be numerical dtypes.\n",
    "    :rtype: plt.boxplot\n",
    "    :param df: DataFrame or part of one to be displayed in a boxplot.\n",
    "    :return: boxplot instance\n",
    "    \"\"\"\n",
    "    new_df: pd.DataFrame = pd.DataFrame()\n",
    "    plt.figure()\n",
    "    for column in df.columns.tolist():\n",
    "        new_df[column] = stats.zscore(df[column])\n",
    "    new_df.boxplot(new_df.columns.tolist())\n",
    "    return plt.show()\n"
   ],
   "metadata": {
    "collapsed": false,
    "pycharm": {
     "name": "#%%\n"
    }
   }
  },
  {
   "cell_type": "markdown",
   "source": [
    "#### Converting jupyter notebooks to python scripts\n",
    "\n",
    "jupyter nbconvert --to script EXAM_ANALYTICAL_FUNCTIONS.ipynb"
   ],
   "metadata": {
    "collapsed": false,
    "pycharm": {
     "name": "#%% md\n"
    }
   }
  },
  {
   "cell_type": "code",
   "execution_count": 22,
   "outputs": [],
   "source": [
    "def general_regression(x: pd.Series, y: pd.Series, degree: int = 1, exp: bool = False) -> pd.Series:\n",
    "    data = pd.DataFrame({'x': x, 'y': y})\n",
    "    data.reset_index(drop=True, inplace=True)\n",
    "    func = lambda x: x  # def func(x): return[x]\n",
    "    inv_func = lambda x: x\n",
    "    if exp:\n",
    "        func = np.exp\n",
    "        inv_func = np.log\n",
    "    sy = data.y.std()\n",
    "    model = np.polyfit(x, inv_func(y), degree)\n",
    "    line = np.poly1d(model)\n",
    "    predict = lambda x: func(line(x))\n",
    "    data['y_pred'] = pd.Series(predict(x))\n",
    "    se = math.sqrt(((data.y_pred - data.y) ** 2).mean())\n",
    "    r2 = 1 - (se ** 2) / (sy ** 2)\n",
    "    result = [se, r2, predict]\n",
    "    index = ['se', 'R2', 'predict']\n",
    "    for i in range(1, len(model) + 1):\n",
    "        result = np.append(result, model[-i])\n",
    "        index += chr(i + 96)  # to obtain the characters a,b,...\n",
    "    result = pd.Series(result)\n",
    "    result.index = index\n",
    "    return result"
   ],
   "metadata": {
    "collapsed": false,
    "pycharm": {
     "name": "#%%\n"
    }
   }
  },
  {
   "cell_type": "code",
   "execution_count": 27,
   "outputs": [
    {
     "data": {
      "text/plain": "se                                                  1.148856\nR2                                                  0.089363\npredict    <function general_regression.<locals>.<lambda>...\na                                                   7.557949\nb                                                  -0.032205\ndtype: object"
     },
     "execution_count": 27,
     "metadata": {},
     "output_type": "execute_result"
    }
   ],
   "source": [
    "general_regression(students['Length'], students.Siblings)"
   ],
   "metadata": {
    "collapsed": false,
    "pycharm": {
     "name": "#%%\n"
    }
   }
  },
  {
   "cell_type": "code",
   "execution_count": 28,
   "outputs": [],
   "source": [
    "def linear_regression(x: pd.Series, y: pd.Series) -> list:\n",
    "    model = np.polyfit(x, y, 1)\n",
    "    predict = np.poly1d(model)\n",
    "    xx = np.arange(x.min(), x.max(), (x.max() - x.min()) / 100)\n",
    "    yy = predict(xx)\n",
    "    y_pred = predict(x)\n",
    "    se = math.sqrt(((y_pred - y) ** 2).mean())\n",
    "    return [xx, yy, se]"
   ],
   "metadata": {
    "collapsed": false,
    "pycharm": {
     "name": "#%%\n"
    }
   }
  },
  {
   "cell_type": "code",
   "execution_count": 29,
   "outputs": [],
   "source": [
    "def draw_linear_regression_scatter_plot(x: pd.Series, y: pd.Series, x_label: str, y_label: str, title: str) -> None:\n",
    "    xx, yy, se = linear_regression(x, y)\n",
    "    plt.scatter(x, y, alpha=0.2)\n",
    "    plt.plot(xx, yy, color='red')\n",
    "    plt.xlabel(x_label)\n",
    "    plt.ylabel(y_label)\n",
    "    plt.title(title)\n",
    "    plt.fill_between(xx, yy - 2 * se, yy + 2 * se, color='#FFFF0020')\n",
    "    plt.show()"
   ],
   "metadata": {
    "collapsed": false,
    "pycharm": {
     "name": "#%%\n"
    }
   }
  }
 ],
 "metadata": {
  "kernelspec": {
   "display_name": "Python 3 (ipykernel)",
   "language": "python",
   "name": "python3"
  },
  "language_info": {
   "codemirror_mode": {
    "name": "ipython",
    "version": 3
   },
   "file_extension": ".py",
   "mimetype": "text/x-python",
   "name": "python",
   "nbconvert_exporter": "python",
   "pygments_lexer": "ipython3",
   "version": "3.8.10"
  }
 },
 "nbformat": 4,
 "nbformat_minor": 1
}