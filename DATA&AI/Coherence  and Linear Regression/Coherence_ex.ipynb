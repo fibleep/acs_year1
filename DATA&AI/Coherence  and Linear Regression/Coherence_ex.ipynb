{
 "cells": [
  {
   "cell_type": "markdown",
   "source": [
    "## Question 1.  Social Media and Study Results\n",
    "\n",
    "We  want  to  investigate  whether  there  is  a  link  between  the  use  of  social  media  and  the  performance  of\n",
    "students.  We  ask  1064  students  how  many  hours  they  spend  on  average  per  day  using  social  media.    By\n",
    "social media we  mean Facebook, YouTube, blogs, Twitter,  MySpace and LinkedIn.  We also check the final\n",
    "score  of  these  students  at  the  end  of  the  year.  The  result  of  this  survey  can  be  found  in  the  file\n",
    "\"socialMediaVsPoints.csv\".\n",
    "\n",
    "a. Load the file.  Ensure that the number of hours is read as numbers.  Remove the rows with an\n",
    "unknown value.  Now remove the rows with outliers. How many rows are left?\n",
    "b. Make a histogram of the hours and the points separately.\n",
    "c. What is the average number of hours a student spends on social media?\n",
    "d. What is the standard deviation of the number of hours?  What does this mean?\n",
    "e. What is the average score of the students?\n",
    "f. What is the standard deviation of the score?\n",
    "g. Make a scatterplot of the 2 variables.  What correlation do you expect?\n",
    "h. Calculate the correlation between the 2 variables.  Do this also via the Z-scores (Pearson).  What did\n",
    "you decide?\n",
    "i. Which rank correlation coefficient do you find according to Kendall?  What does this value mean?\n",
    "j. Does it make sense to determine a regression line here?  Why yes/no?  Determine the regression\n",
    "line if it makes sense."
   ],
   "metadata": {
    "collapsed": false
   }
  },
  {
   "cell_type": "code",
   "execution_count": null,
   "outputs": [],
   "source": [
    "import pandas as pd\n",
    "sm = pd.read_csv('socialMediaVsPoints.csv',delimiter=',',decimal='.',na_values=\"unknown\")\n",
    "sm"
   ],
   "metadata": {
    "collapsed": false,
    "pycharm": {
     "name": "#%%\n",
     "is_executing": true
    }
   }
  },
  {
   "cell_type": "code",
   "execution_count": null,
   "outputs": [],
   "source": [
    "sm=sm.dropna()\n",
    "sm['hours']=pd.to_numeric(sm['hours'])\n",
    "sm"
   ],
   "metadata": {
    "collapsed": false,
    "pycharm": {
     "name": "#%%\n",
     "is_executing": true
    }
   }
  },
  {
   "cell_type": "code",
   "execution_count": null,
   "metadata": {
    "collapsed": true,
    "pycharm": {
     "is_executing": true
    }
   },
   "outputs": [],
   "source": [
    "import numpy as np\n",
    "def remove_outliers(data):\n",
    "    Q1 = data.quantile(0.25)\n",
    "    Q3 = data.quantile(0.75)\n",
    "    I = Q3 - Q1\n",
    "    low = Q1 - 1.5 * I\n",
    "    high = Q3 + 1.5 * I\n",
    "    return data[data.between(low,high)]\n",
    "sm['hours'],sm['points']=remove_outliers(sm['hours']),remove_outliers(sm['points'])\n",
    "sm"
   ]
  },
  {
   "cell_type": "code",
   "execution_count": null,
   "outputs": [],
   "source": [
    "import matplotlib.pyplot as plt\n",
    "plt.figure()\n",
    "sm['hours'].plot.hist()\n",
    "plt.show()"
   ],
   "metadata": {
    "collapsed": false,
    "pycharm": {
     "name": "#%%\n",
     "is_executing": true
    }
   }
  },
  {
   "cell_type": "code",
   "execution_count": null,
   "outputs": [],
   "source": [
    "plt.figure()\n",
    "sm['points'].plot.hist()\n",
    "plt.show()"
   ],
   "metadata": {
    "collapsed": false,
    "pycharm": {
     "name": "#%%\n",
     "is_executing": true
    }
   }
  },
  {
   "cell_type": "code",
   "execution_count": null,
   "outputs": [],
   "source": [
    "sm['hours'].mean()"
   ],
   "metadata": {
    "collapsed": false,
    "pycharm": {
     "name": "#%%\n",
     "is_executing": true
    }
   }
  },
  {
   "cell_type": "code",
   "execution_count": null,
   "outputs": [],
   "source": [
    "sm['hours'].std()"
   ],
   "metadata": {
    "collapsed": false,
    "pycharm": {
     "name": "#%%\n",
     "is_executing": true
    }
   }
  },
  {
   "cell_type": "code",
   "execution_count": null,
   "outputs": [],
   "source": [
    "sm['points'].mean()"
   ],
   "metadata": {
    "collapsed": false,
    "pycharm": {
     "name": "#%%\n",
     "is_executing": true
    }
   }
  },
  {
   "cell_type": "code",
   "execution_count": null,
   "outputs": [],
   "source": [
    "sm['points'].std()"
   ],
   "metadata": {
    "collapsed": false,
    "pycharm": {
     "name": "#%%\n",
     "is_executing": true
    }
   }
  },
  {
   "cell_type": "code",
   "execution_count": null,
   "outputs": [],
   "source": [
    "plt.figure()\n",
    "plt.scatter(sm['hours'],sm['points'])\n",
    "plt.show()"
   ],
   "metadata": {
    "collapsed": false,
    "pycharm": {
     "name": "#%%\n",
     "is_executing": true
    }
   }
  },
  {
   "cell_type": "code",
   "execution_count": null,
   "outputs": [],
   "source": [
    "sm.corr(method='pearson')"
   ],
   "metadata": {
    "collapsed": false,
    "pycharm": {
     "name": "#%%\n",
     "is_executing": true
    }
   }
  },
  {
   "cell_type": "code",
   "execution_count": null,
   "outputs": [],
   "source": [
    "sm['hours'].corr(sm['points'])"
   ],
   "metadata": {
    "collapsed": false,
    "pycharm": {
     "name": "#%%\n",
     "is_executing": true
    }
   }
  },
  {
   "cell_type": "code",
   "execution_count": null,
   "outputs": [],
   "source": [
    "sm.corr(method='kendall')"
   ],
   "metadata": {
    "collapsed": false,
    "pycharm": {
     "name": "#%%\n",
     "is_executing": true
    }
   }
  },
  {
   "cell_type": "markdown",
   "source": [
    "no correlation\n",
    "## QUESTION 2\n",
    "Batteries for smartphones are manufactured in a factory.  The demand for these batteries varies considerably.\n",
    "One suspects that if demand (and therefore production) increases, the percentage of exploding batteries also\n",
    "increases (and thus: the quality drops due to the working pressure).  One wants to verify this.\n",
    "\n",
    "A  measurement  is  made.    Every  day  the  number  of  batteries  produced  is  tracked.    If  a  defective  battery  is\n",
    "returned  (or  one  explodes),  it  is  verified  on  which  day  it  was  produced.    The  data  can  be  found  in  the  file\n",
    "\"batteries.csv\". The first column shows how many batteries were produced and the second column shows how\n",
    "many batteries were defective.\n",
    "\n",
    "a. Load the file.  There are lines with more than 2 values.  See what Python does with them when you\n",
    "load the values.  Remove this line from the data.  There are outliers in the column Defect and\n",
    "remove these.  How many rows do you have left now?\n",
    "b. Make a scatterplot of the two variables.  Is there a linear correlation?\n",
    "c. What correlation do you find with Kendall's method?\n",
    "d. We are actually not interested in the absolute number of defective batteries, but we are interested in\n",
    "the percentage.  So divide the number of defective batteries by the number of batteries produced.\n",
    "What is the average percentage of defective batteries?\n",
    "e. Make a scatterplot with the percentage of defective batteries.  Can you see the difference with the\n",
    "previous graph?\n",
    "f. Now calculate the correlation between the number of batteries produced and the percentage of\n",
    "defective batteries.  What do you decide?\n",
    "g. What is the value of R²?  What does it mean?\n",
    "h. Draw the regression line on the scatterplot.  What are the values for the slope and intercept?\n",
    "i. What is the standard estimated error?  What does this mean?\n",
    "j. If production would be increased to 8000 batteries/day, how many defective batteries would you\n",
    "expect then?\n",
    "k. How many batteries can the factory produce per day so that there is no more than 1 percent defect?"
   ],
   "metadata": {
    "collapsed": false
   }
  },
  {
   "cell_type": "code",
   "execution_count": null,
   "outputs": [],
   "source": [
    "import numpy as np\n",
    "bt = pd.read_csv('batteries.csv',delimiter=',',na_values=np.nan)\n",
    "bt"
   ],
   "metadata": {
    "collapsed": false,
    "pycharm": {
     "name": "#%%\n",
     "is_executing": true
    }
   }
  },
  {
   "cell_type": "code",
   "execution_count": null,
   "outputs": [],
   "source": [
    "bt['#Defects']=remove_outliers(bt['#Defects'])\n",
    "bt['#Defects']=pd.to_numeric(bt['#Defects'])\n",
    "bt=bt.dropna()\n",
    "bt"
   ],
   "metadata": {
    "collapsed": false,
    "pycharm": {
     "name": "#%%\n",
     "is_executing": true
    }
   }
  },
  {
   "cell_type": "code",
   "execution_count": null,
   "outputs": [],
   "source": [
    "plt.figure()\n",
    "plt.scatter(bt['#Produced'],bt['#Defects'])\n",
    "plt.show()"
   ],
   "metadata": {
    "collapsed": false,
    "pycharm": {
     "name": "#%%\n",
     "is_executing": true
    }
   }
  },
  {
   "cell_type": "code",
   "execution_count": null,
   "outputs": [],
   "source": [
    "bt.corr(method='kendall')"
   ],
   "metadata": {
    "collapsed": false,
    "pycharm": {
     "name": "#%%\n",
     "is_executing": true
    }
   }
  },
  {
   "cell_type": "code",
   "execution_count": null,
   "outputs": [],
   "source": [
    "bt['#Produced'].sum()/bt['#Defects'].sum()"
   ],
   "metadata": {
    "collapsed": false,
    "pycharm": {
     "name": "#%%\n",
     "is_executing": true
    }
   }
  },
  {
   "cell_type": "code",
   "execution_count": null,
   "outputs": [],
   "source": [
    "btp=bt\n",
    "btp['percentage']=(btp['#Defects']/btp['#Produced']) *100\n",
    "plt.figure()\n",
    "plt.scatter(btp['#Produced'],btp['percentage'])\n",
    "plt.show()\n",
    "btp"
   ],
   "metadata": {
    "collapsed": false,
    "pycharm": {
     "name": "#%%\n",
     "is_executing": true
    }
   }
  },
  {
   "cell_type": "code",
   "execution_count": null,
   "outputs": [],
   "source": [
    "btp['#Produced'].corr(btp['percentage'])"
   ],
   "metadata": {
    "collapsed": false,
    "pycharm": {
     "name": "#%%\n",
     "is_executing": true
    }
   }
  },
  {
   "cell_type": "code",
   "execution_count": null,
   "outputs": [],
   "source": [
    "import math\n",
    "def general_regression(x, y, degree=1, exp=False):\n",
    "    data = pd.DataFrame({'x':x,'y':y})\n",
    "    data.reset_index(drop=True, inplace=True)\n",
    "    func=lambda x:x # def func(x): return[x]\n",
    "    inv_func=lambda x:x\n",
    "    if (exp):\n",
    "        func=np.exp\n",
    "        inv_func=np.log\n",
    "    sy = data.y.std()\n",
    "    model = np.polyfit(x, inv_func(y), degree)\n",
    "    line = np.poly1d(model)\n",
    "    predict = lambda x:func(line(x))\n",
    "    data['y_pred'] = pd.Series(predict(x))\n",
    "    se = math.sqrt(((data.y_pred-data.y)**2).mean())\n",
    "    R2 = 1-(se**2)/(sy**2)\n",
    "    result = [se, R2, predict]\n",
    "    index = ['se', 'R2', 'predict']\n",
    "    for i in range(1,len(model)+1):\n",
    "        result = np.append(result, model[-i])\n",
    "        index += chr(i+96) # to obtain the characters a,b,...\n",
    "    result = pd.Series(result)\n",
    "    result.index = index\n",
    "    return result\n",
    "general_regression(btp['#Produced'],btp['percentage'],1)"
   ],
   "metadata": {
    "collapsed": false,
    "pycharm": {
     "name": "#%%\n",
     "is_executing": true
    }
   }
  },
  {
   "cell_type": "code",
   "execution_count": null,
   "outputs": [],
   "source": [
    "def draw_linear_regression_scatter_plot(x: pd.Series, y: pd.Series, x_label: str, y_label: str, title: str) -> None:\n",
    "    xx, yy, se = linear_regression(x, y)\n",
    "    plt.scatter(x, y, alpha=0.2)\n",
    "    plt.plot(xx, yy, color='red')\n",
    "    plt.xlabel(x_label)\n",
    "    plt.ylabel(y_label)\n",
    "    plt.title(title)\n",
    "    plt.fill_between(xx, yy - 2 * se, yy + 2 * se, color='#FFFF0020')\n",
    "    plt.show()\n",
    "draw_linear_regression_scatter_plot(btp['#Produced'],btp['percentage'],\"produced\",\"percentage\",\"QH\")"
   ],
   "metadata": {
    "collapsed": false,
    "pycharm": {
     "name": "#%%\n",
     "is_executing": true
    }
   }
  }
 ],
 "metadata": {
  "kernelspec": {
   "display_name": "Python 3",
   "language": "python",
   "name": "python3"
  },
  "language_info": {
   "codemirror_mode": {
    "name": "ipython",
    "version": 2
   },
   "file_extension": ".py",
   "mimetype": "text/x-python",
   "name": "python",
   "nbconvert_exporter": "python",
   "pygments_lexer": "ipython2",
   "version": "2.7.6"
  }
 },
 "nbformat": 4,
 "nbformat_minor": 0
}