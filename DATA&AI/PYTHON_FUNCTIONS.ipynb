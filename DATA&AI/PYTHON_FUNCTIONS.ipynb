{
 "cells": [
  {
   "cell_type": "code",
   "execution_count": null,
   "metadata": {
    "collapsed": true
   },
   "outputs": [],
   "source": []
  },
  {
   "cell_type": "code",
   "execution_count": 1,
   "outputs": [],
   "source": [
    "# Amount of classes according to sturges formula\n",
    "import pandas as pd\n",
    "\n",
    "\n",
    "def sturges_formula(series: pd.Series(dtype=object)):\n",
    "    return round(1 + math.log2(len(series)))"
   ],
   "metadata": {
    "collapsed": false,
    "pycharm": {
     "name": "#%%\n"
    }
   }
  },
  {
   "cell_type": "code",
   "execution_count": null,
   "outputs": [],
   "source": [
    "def all_freq(x):\n",
    "    t_abs=x.value_counts(dropna=False).sort_index()\n",
    "    t_rel=(x.value_counts(dropna=False,normalize=True).sort_index()*100).round(1)\n",
    "    t_abs_cum = x.value_counts(dropna=False).sort_index().cumsum()\n",
    "    t_rel_cum = (x.value_counts(dropna=False,normalize=True).sort_index().cumsum()*100).round(1)\n",
    "    return pd.DataFrame({'abs freq':t_abs,'rel freq:':t_rel , 'abs cum freq':t_abs_cum , 'rel cum freq':t_rel_cum})"
   ],
   "metadata": {
    "collapsed": false,
    "pycharm": {
     "name": "#%%\n"
    }
   }
  },
  {
   "cell_type": "code",
   "execution_count": null,
   "outputs": [],
   "source": [
    "def stats(x):\n",
    "    result = pd.DataFrame()\n",
    "    result['mode']=x.mode()\n",
    "    result['mean']=x.mean()\n",
    "    result['median']=x.median()\n",
    "    return result"
   ],
   "metadata": {
    "collapsed": false,
    "pycharm": {
     "name": "#%%\n"
    }
   }
  },
  {
   "cell_type": "code",
   "execution_count": null,
   "outputs": [],
   "source": [
    "def get_outliers(data):\n",
    "    Q1 = data.quantile(0.25)\n",
    "    Q3 = data.quantile(0.75)\n",
    "    I = Q3 - Q1\n",
    "    low = Q1 - 1.5 * I\n",
    "    high = Q3 + 1.5 * I\n",
    "    return data[~data.between(low,high)]\n",
    "\n",
    "def remove_outliers(data):\n",
    "    Q1 = data.quantile(0.25)\n",
    "    Q3 = data.quantile(0.75)\n",
    "    I = Q3 - Q1\n",
    "    low = Q1 - 1.5 * I\n",
    "    high = Q3 + 1.5 * I\n",
    "    return data[data.between(low,high)]\n",
    "\n",
    "def get_extreme_outliers(data):\n",
    "    Q1 = data.quantile(0.25)\n",
    "    Q3 = data.quantile(0.75)\n",
    "    I = Q3 - Q1\n",
    "    low = Q1 - 3 * I\n",
    "    high = Q3 + 3 * I\n",
    "    return data[~data.between(low,high)]"
   ],
   "metadata": {
    "collapsed": false,
    "pycharm": {
     "name": "#%%\n"
    }
   }
  },
  {
   "cell_type": "code",
   "execution_count": null,
   "outputs": [],
   "source": [
    "def calc_vector_avg(array: np.array) -> float:\n",
    "    total_frequencies = array[0] * array[1]\n",
    "    return (total_frequencies.sum() / array[1].sum()).round(4)"
   ],
   "metadata": {
    "collapsed": false,
    "pycharm": {
     "name": "#%%\n"
    }
   }
  },
  {
   "cell_type": "code",
   "execution_count": null,
   "outputs": [],
   "source": [
    "def np_stats(array: np.array):\n",
    "    total_frequencies = array[0] * array[1]\n",
    "    mean = (total_frequencies.sum() / array[1].sum()).round(4)\n",
    "    mode = array[0][array[1]==array[1].max()]\n",
    "    median_pos = array[1].sum()/2\n",
    "    pos_ceil=np.ceil(median_pos)\n",
    "    pos_floor=np.floor(median_pos)\n",
    "    all_nums=[]\n",
    "    for x,f in zip(array[0],array[1]):\n",
    "        i=0\n",
    "        while i<f:\n",
    "            all_nums.append(x)\n",
    "            i=i+1\n",
    "    if median_pos%2!=0:\n",
    "        median = all_nums[int(median_pos)]\n",
    "    else:\n",
    "         median = [all_nums[int(pos_floor)],all_nums[int(pos_ceil)]]\n",
    "    result={'mean':mean,'mode':mode.tolist(),'median':median}\n",
    "    return result"
   ],
   "metadata": {
    "collapsed": false,
    "pycharm": {
     "name": "#%%\n"
    }
   }
  },
  {
   "cell_type": "code",
   "execution_count": null,
   "outputs": [],
   "source": [
    "def outlier_boundaries(series: pd.Series(dtype=float), extreme: bool = False) -> list:\n",
    "    q1 = series.quantile(0.25)\n",
    "    q3 = series.quantile(0.75)\n",
    "    iqr = q3 - q1\n",
    "    if extreme:\n",
    "        iqr *= 3\n",
    "    else:\n",
    "        iqr *= 1.5\n",
    "    return [q1 - iqr, q3 + iqr]"
   ],
   "metadata": {
    "collapsed": false,
    "pycharm": {
     "name": "#%%\n"
    }
   }
  },
  {
   "cell_type": "code",
   "execution_count": null,
   "outputs": [],
   "source": [
    "def extend_array(array: np.array):\n",
    "    long_boy=[]\n",
    "    for x,f in zip(array[0],array[1]):\n",
    "        i=0\n",
    "        while i<f:\n",
    "            long_boy.append(x)\n",
    "            i=i+1\n",
    "    return long_boy"
   ],
   "metadata": {
    "collapsed": false,
    "pycharm": {
     "name": "#%%\n"
    }
   }
  },
  {
   "cell_type": "code",
   "execution_count": null,
   "outputs": [],
   "source": [
    "def get_z_score(df: pd.DataFrame):\n",
    "    return (df - df.mean())/df.std()"
   ],
   "metadata": {
    "collapsed": false,
    "pycharm": {
     "name": "#%%\n"
    }
   }
  },
  {
   "cell_type": "code",
   "execution_count": null,
   "outputs": [],
   "source": [
    "def mean_absolute_deviation(x):\n",
    "    # or just use .mad(), whatever\n",
    "    return abs(x-x.mean()).mean()"
   ],
   "metadata": {
    "collapsed": false,
    "pycharm": {
     "name": "#%%\n"
    }
   }
  },
  {
   "cell_type": "code",
   "execution_count": null,
   "outputs": [],
   "source": [
    "def plot_regressionline(reg_result, min, max, linecol=\"red\", errorcol=\"#FFFF0080\"):\n",
    "    se = reg_result.se\n",
    "    predict = reg_result.predict\n",
    "    x = np.arange(min, max, (max-min)/100)\n",
    "    y = predict(x)\n",
    "    plt.fill_between(x, y-se, y+se, color=errorcol)\n",
    "    plt.plot(x, y, color=linecol)"
   ],
   "metadata": {
    "collapsed": false,
    "pycharm": {
     "name": "#%%\n"
    }
   }
  },
  {
   "cell_type": "code",
   "execution_count": null,
   "outputs": [],
   "source": [
    "def general_regression(x, y, degree=1, exp=False):\n",
    "    data = pd.DataFrame({'x':x,'y':y})\n",
    "    data.reset_index(drop=True, inplace=True)\n",
    "    func=lambda x:x # def func(x): return[x]\n",
    "    inv_func=lambda x:x\n",
    "    if (exp):\n",
    "        func=np.exp\n",
    "        inv_func=np.log\n",
    "    sy = data.y.std()\n",
    "    model = np.polyfit(x, inv_func(y), degree)\n",
    "    line = np.poly1d(model)\n",
    "    predict = lambda x:func(line(x))\n",
    "    data['y_pred'] = pd.Series(predict(x))\n",
    "    se = math.sqrt(((data.y_pred-data.y)**2).mean())\n",
    "    R2 = 1-(se**2)/(sy**2)\n",
    "    result = [se, R2, predict]\n",
    "    index = ['se', 'R2', 'predict']\n",
    "    for i in range(1,len(model)+1):\n",
    "        result = np.append(result, model[-i])\n",
    "        index += chr(i+96) # to obtain the characters a,b,...\n",
    "    result = pd.Series(result)\n",
    "    result.index = index\n",
    "    return result"
   ],
   "metadata": {
    "collapsed": false,
    "pycharm": {
     "name": "#%%\n"
    }
   }
  },
  {
   "cell_type": "markdown",
   "source": [
    "## REGRESSIONS"
   ],
   "metadata": {
    "collapsed": false
   }
  },
  {
   "cell_type": "code",
   "execution_count": null,
   "outputs": [],
   "source": [
    "def linear_regression(x: pd.Series, y: pd.Series) -> list:\n",
    "    model = np.polyfit(x, y, 1)\n",
    "    predict = np.poly1d(model)\n",
    "    xx = np.arange(x.min(), x.max(), (x.max() - x.min()) / 100)\n",
    "    yy = predict(xx)\n",
    "    y_pred = predict(x)\n",
    "    se = math.sqrt(((y_pred - y) ** 2).mean())\n",
    "    return [xx, yy, se]"
   ],
   "metadata": {
    "collapsed": false,
    "pycharm": {
     "name": "#%%\n",
     "is_executing": true
    }
   }
  },
  {
   "cell_type": "code",
   "execution_count": null,
   "outputs": [],
   "source": [
    "def draw_linear_regression_scatter_plot(x: pd.Series, y: pd.Series, x_label: str, y_label: str, title: str) -> None:\n",
    "    xx, yy, se = linear_regression(x, y)\n",
    "    plt.scatter(x, y, alpha=0.2)\n",
    "    plt.plot(xx, yy, color='red')\n",
    "    plt.xlabel(x_label)\n",
    "    plt.ylabel(y_label)\n",
    "    plt.title(title)\n",
    "    plt.fill_between(xx, yy - 2 * se, yy + 2 * se, color='#FFFF0020')\n",
    "    plt.show()"
   ],
   "metadata": {
    "collapsed": false,
    "pycharm": {
     "name": "#%%\n"
    }
   }
  },
  {
   "cell_type": "code",
   "execution_count": null,
   "outputs": [],
   "source": [
    "def draw_boxplot(df: pd.DataFrame) -> plt.boxplot:\n",
    "    \"\"\"\n",
    "    Normalizes the data in the DataFrame so the columns can be better compared in the boxplot. DataFrame columns passed into this function need to be numerical dtypes.\n",
    "    :rtype: plt.boxplot\n",
    "    :param df: DataFrame or part of one to be displayed in a boxplot.\n",
    "    :return: boxplot instance\n",
    "    \"\"\"\n",
    "    new_df: pd.DataFrame = pd.DataFrame()\n",
    "    plt.figure()\n",
    "    for column in df.columns.tolist():\n",
    "        new_df[column] = stats.zscore(df[column])\n",
    "    new_df.boxplot(new_df.columns.tolist())\n",
    "    return plt.show()"
   ],
   "metadata": {
    "collapsed": false,
    "pycharm": {
     "name": "#%%\n"
    }
   }
  }
 ],
 "metadata": {
  "kernelspec": {
   "display_name": "Python 3",
   "language": "python",
   "name": "python3"
  },
  "language_info": {
   "codemirror_mode": {
    "name": "ipython",
    "version": 2
   },
   "file_extension": ".py",
   "mimetype": "text/x-python",
   "name": "python",
   "nbconvert_exporter": "python",
   "pygments_lexer": "ipython2",
   "version": "2.7.6"
  }
 },
 "nbformat": 4,
 "nbformat_minor": 0
}