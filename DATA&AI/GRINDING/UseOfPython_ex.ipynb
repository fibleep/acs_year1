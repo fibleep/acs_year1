{
 "cells": [
  {
   "cell_type": "markdown",
   "source": [
    "##Q1"
   ],
   "metadata": {
    "collapsed": false
   }
  },
  {
   "cell_type": "code",
   "execution_count": 1,
   "metadata": {
    "collapsed": true
   },
   "outputs": [
    {
     "data": {
      "text/plain": "   id  age  weight  temp\n0   1   15      54  36.5\n1   2   18      68  37.1\n2   3   11      41  36.4\n3   4   17      59  37.2\n4   5   20      65  36.9",
      "text/html": "<div>\n<style scoped>\n    .dataframe tbody tr th:only-of-type {\n        vertical-align: middle;\n    }\n\n    .dataframe tbody tr th {\n        vertical-align: top;\n    }\n\n    .dataframe thead th {\n        text-align: right;\n    }\n</style>\n<table border=\"1\" class=\"dataframe\">\n  <thead>\n    <tr style=\"text-align: right;\">\n      <th></th>\n      <th>id</th>\n      <th>age</th>\n      <th>weight</th>\n      <th>temp</th>\n    </tr>\n  </thead>\n  <tbody>\n    <tr>\n      <th>0</th>\n      <td>1</td>\n      <td>15</td>\n      <td>54</td>\n      <td>36.5</td>\n    </tr>\n    <tr>\n      <th>1</th>\n      <td>2</td>\n      <td>18</td>\n      <td>68</td>\n      <td>37.1</td>\n    </tr>\n    <tr>\n      <th>2</th>\n      <td>3</td>\n      <td>11</td>\n      <td>41</td>\n      <td>36.4</td>\n    </tr>\n    <tr>\n      <th>3</th>\n      <td>4</td>\n      <td>17</td>\n      <td>59</td>\n      <td>37.2</td>\n    </tr>\n    <tr>\n      <th>4</th>\n      <td>5</td>\n      <td>20</td>\n      <td>65</td>\n      <td>36.9</td>\n    </tr>\n  </tbody>\n</table>\n</div>"
     },
     "execution_count": 1,
     "metadata": {},
     "output_type": "execute_result"
    }
   ],
   "source": [
    "import pandas as pd\n",
    "import numpy as np\n",
    "data = [[1,15,54,36.5],[2,18,68,37.1],[3,11,41,36.4],[4,17,59,37.2],[5,20,65,36.9]]\n",
    "labs = ['id','age','weight','temp']\n",
    "frame = pd.DataFrame(data,columns=labs)\n",
    "frame"
   ]
  },
  {
   "cell_type": "markdown",
   "source": [
    "##Q2"
   ],
   "metadata": {
    "collapsed": false
   }
  },
  {
   "cell_type": "code",
   "execution_count": 2,
   "outputs": [
    {
     "data": {
      "text/plain": "0    15\n1    18\n2    11\n3    17\n4    20\nName: age, dtype: int64"
     },
     "execution_count": 2,
     "metadata": {},
     "output_type": "execute_result"
    }
   ],
   "source": [
    "q2a = frame.iloc[:,1]\n",
    "q2a"
   ],
   "metadata": {
    "collapsed": false,
    "pycharm": {
     "name": "#%%\n"
    }
   }
  },
  {
   "cell_type": "code",
   "execution_count": 3,
   "outputs": [
    {
     "data": {
      "text/plain": "id         3.0\nage       11.0\nweight    41.0\ntemp      36.4\nName: 2, dtype: float64"
     },
     "execution_count": 3,
     "metadata": {},
     "output_type": "execute_result"
    }
   ],
   "source": [
    "q2b = frame.loc[2]\n",
    "q2b"
   ],
   "metadata": {
    "collapsed": false,
    "pycharm": {
     "name": "#%%\n"
    }
   }
  },
  {
   "cell_type": "code",
   "execution_count": 4,
   "outputs": [
    {
     "name": "stdout",
     "output_type": "stream",
     "text": [
      "11 20\n"
     ]
    }
   ],
   "source": [
    "#q2c\n",
    "print(frame.iloc[:,1].min(),frame.iloc[:,1].max())"
   ],
   "metadata": {
    "collapsed": false,
    "pycharm": {
     "name": "#%%\n"
    }
   }
  },
  {
   "cell_type": "code",
   "execution_count": 5,
   "outputs": [
    {
     "data": {
      "text/plain": "57.4"
     },
     "execution_count": 5,
     "metadata": {},
     "output_type": "execute_result"
    }
   ],
   "source": [
    "#q2d\n",
    "frame.iloc[:,2].sum()/frame.iloc[:,2].count()"
   ],
   "metadata": {
    "collapsed": false,
    "pycharm": {
     "name": "#%%\n"
    }
   }
  },
  {
   "cell_type": "code",
   "execution_count": 6,
   "outputs": [
    {
     "data": {
      "text/plain": "0    0.054\n1    0.068\n2    0.041\n3    0.059\n4    0.065\nName: weight, dtype: float64"
     },
     "execution_count": 6,
     "metadata": {},
     "output_type": "execute_result"
    }
   ],
   "source": [
    "#q2e\n",
    "frame.iloc[:,2]/1000"
   ],
   "metadata": {
    "collapsed": false,
    "pycharm": {
     "name": "#%%\n"
    }
   }
  },
  {
   "cell_type": "code",
   "execution_count": 7,
   "outputs": [
    {
     "data": {
      "text/plain": "0    97.70\n1    98.78\n2    97.52\n3    98.96\n4    98.42\nName: temp, dtype: float64"
     },
     "execution_count": 7,
     "metadata": {},
     "output_type": "execute_result"
    }
   ],
   "source": [
    "frame.iloc[:,3]*1.8+32"
   ],
   "metadata": {
    "collapsed": false,
    "pycharm": {
     "name": "#%%\n"
    }
   }
  },
  {
   "cell_type": "markdown",
   "source": [
    "##Q3"
   ],
   "metadata": {
    "collapsed": false
   }
  },
  {
   "cell_type": "code",
   "execution_count": 8,
   "outputs": [],
   "source": [
    "#frame.to_csv('use_of_python1.csv')"
   ],
   "metadata": {
    "collapsed": false,
    "pycharm": {
     "name": "#%%\n"
    }
   }
  },
  {
   "cell_type": "markdown",
   "source": [
    "##Q4"
   ],
   "metadata": {
    "collapsed": false
   }
  },
  {
   "cell_type": "code",
   "execution_count": 9,
   "outputs": [
    {
     "data": {
      "text/plain": "   age  weight  temp\n0   15      54  36.5\n1   18      68  37.1\n2   11      41  36.4\n3   17      59  37.2\n4   20      65  36.9",
      "text/html": "<div>\n<style scoped>\n    .dataframe tbody tr th:only-of-type {\n        vertical-align: middle;\n    }\n\n    .dataframe tbody tr th {\n        vertical-align: top;\n    }\n\n    .dataframe thead th {\n        text-align: right;\n    }\n</style>\n<table border=\"1\" class=\"dataframe\">\n  <thead>\n    <tr style=\"text-align: right;\">\n      <th></th>\n      <th>age</th>\n      <th>weight</th>\n      <th>temp</th>\n    </tr>\n  </thead>\n  <tbody>\n    <tr>\n      <th>0</th>\n      <td>15</td>\n      <td>54</td>\n      <td>36.5</td>\n    </tr>\n    <tr>\n      <th>1</th>\n      <td>18</td>\n      <td>68</td>\n      <td>37.1</td>\n    </tr>\n    <tr>\n      <th>2</th>\n      <td>11</td>\n      <td>41</td>\n      <td>36.4</td>\n    </tr>\n    <tr>\n      <th>3</th>\n      <td>17</td>\n      <td>59</td>\n      <td>37.2</td>\n    </tr>\n    <tr>\n      <th>4</th>\n      <td>20</td>\n      <td>65</td>\n      <td>36.9</td>\n    </tr>\n  </tbody>\n</table>\n</div>"
     },
     "execution_count": 9,
     "metadata": {},
     "output_type": "execute_result"
    }
   ],
   "source": [
    "#q4a\n",
    "frame2=frame\n",
    "frame2=frame2.drop('id',axis=1)\n",
    "frame2"
   ],
   "metadata": {
    "collapsed": false,
    "pycharm": {
     "name": "#%%\n"
    }
   }
  },
  {
   "cell_type": "code",
   "execution_count": 10,
   "outputs": [
    {
     "data": {
      "text/plain": "   age  weight  temp  length\n0   15      54  36.5     160\n1   18      68  37.1     175\n2   11      41  36.4     162\n3   17      59  37.2     169\n4   20      65  36.9     179",
      "text/html": "<div>\n<style scoped>\n    .dataframe tbody tr th:only-of-type {\n        vertical-align: middle;\n    }\n\n    .dataframe tbody tr th {\n        vertical-align: top;\n    }\n\n    .dataframe thead th {\n        text-align: right;\n    }\n</style>\n<table border=\"1\" class=\"dataframe\">\n  <thead>\n    <tr style=\"text-align: right;\">\n      <th></th>\n      <th>age</th>\n      <th>weight</th>\n      <th>temp</th>\n      <th>length</th>\n    </tr>\n  </thead>\n  <tbody>\n    <tr>\n      <th>0</th>\n      <td>15</td>\n      <td>54</td>\n      <td>36.5</td>\n      <td>160</td>\n    </tr>\n    <tr>\n      <th>1</th>\n      <td>18</td>\n      <td>68</td>\n      <td>37.1</td>\n      <td>175</td>\n    </tr>\n    <tr>\n      <th>2</th>\n      <td>11</td>\n      <td>41</td>\n      <td>36.4</td>\n      <td>162</td>\n    </tr>\n    <tr>\n      <th>3</th>\n      <td>17</td>\n      <td>59</td>\n      <td>37.2</td>\n      <td>169</td>\n    </tr>\n    <tr>\n      <th>4</th>\n      <td>20</td>\n      <td>65</td>\n      <td>36.9</td>\n      <td>179</td>\n    </tr>\n  </tbody>\n</table>\n</div>"
     },
     "execution_count": 10,
     "metadata": {},
     "output_type": "execute_result"
    }
   ],
   "source": [
    "#q4b\n",
    "temp = [160,175,162,169,179]\n",
    "frame2['length']=temp\n",
    "frame2"
   ],
   "metadata": {
    "collapsed": false,
    "pycharm": {
     "name": "#%%\n"
    }
   }
  },
  {
   "cell_type": "code",
   "execution_count": 11,
   "outputs": [
    {
     "data": {
      "text/plain": "   age  weight  temp  length        BMI\n0   15      54  36.5     160  21.093750\n1   18      68  37.1     175  22.204082\n2   11      41  36.4     162  15.622619\n3   17      59  37.2     169  20.657540\n4   20      65  36.9     179  20.286508",
      "text/html": "<div>\n<style scoped>\n    .dataframe tbody tr th:only-of-type {\n        vertical-align: middle;\n    }\n\n    .dataframe tbody tr th {\n        vertical-align: top;\n    }\n\n    .dataframe thead th {\n        text-align: right;\n    }\n</style>\n<table border=\"1\" class=\"dataframe\">\n  <thead>\n    <tr style=\"text-align: right;\">\n      <th></th>\n      <th>age</th>\n      <th>weight</th>\n      <th>temp</th>\n      <th>length</th>\n      <th>BMI</th>\n    </tr>\n  </thead>\n  <tbody>\n    <tr>\n      <th>0</th>\n      <td>15</td>\n      <td>54</td>\n      <td>36.5</td>\n      <td>160</td>\n      <td>21.093750</td>\n    </tr>\n    <tr>\n      <th>1</th>\n      <td>18</td>\n      <td>68</td>\n      <td>37.1</td>\n      <td>175</td>\n      <td>22.204082</td>\n    </tr>\n    <tr>\n      <th>2</th>\n      <td>11</td>\n      <td>41</td>\n      <td>36.4</td>\n      <td>162</td>\n      <td>15.622619</td>\n    </tr>\n    <tr>\n      <th>3</th>\n      <td>17</td>\n      <td>59</td>\n      <td>37.2</td>\n      <td>169</td>\n      <td>20.657540</td>\n    </tr>\n    <tr>\n      <th>4</th>\n      <td>20</td>\n      <td>65</td>\n      <td>36.9</td>\n      <td>179</td>\n      <td>20.286508</td>\n    </tr>\n  </tbody>\n</table>\n</div>"
     },
     "execution_count": 11,
     "metadata": {},
     "output_type": "execute_result"
    }
   ],
   "source": [
    "#q4cd\n",
    "import math\n",
    "BMI=frame2.loc[:,'weight']/((frame2.loc[:,'length']/100)**2)\n",
    "frame2['BMI']=BMI\n",
    "frame2"
   ],
   "metadata": {
    "collapsed": false,
    "pycharm": {
     "name": "#%%\n"
    }
   }
  },
  {
   "cell_type": "code",
   "execution_count": 12,
   "outputs": [
    {
     "data": {
      "text/plain": "   age  weight  temp  length        BMI\n1   18      68  37.1     175  22.204082\n4   20      65  36.9     179  20.286508",
      "text/html": "<div>\n<style scoped>\n    .dataframe tbody tr th:only-of-type {\n        vertical-align: middle;\n    }\n\n    .dataframe tbody tr th {\n        vertical-align: top;\n    }\n\n    .dataframe thead th {\n        text-align: right;\n    }\n</style>\n<table border=\"1\" class=\"dataframe\">\n  <thead>\n    <tr style=\"text-align: right;\">\n      <th></th>\n      <th>age</th>\n      <th>weight</th>\n      <th>temp</th>\n      <th>length</th>\n      <th>BMI</th>\n    </tr>\n  </thead>\n  <tbody>\n    <tr>\n      <th>1</th>\n      <td>18</td>\n      <td>68</td>\n      <td>37.1</td>\n      <td>175</td>\n      <td>22.204082</td>\n    </tr>\n    <tr>\n      <th>4</th>\n      <td>20</td>\n      <td>65</td>\n      <td>36.9</td>\n      <td>179</td>\n      <td>20.286508</td>\n    </tr>\n  </tbody>\n</table>\n</div>"
     },
     "execution_count": 12,
     "metadata": {},
     "output_type": "execute_result"
    }
   ],
   "source": [
    "#q4e\n",
    "frame2[frame2['weight']>=60]"
   ],
   "metadata": {
    "collapsed": false,
    "pycharm": {
     "name": "#%%\n"
    }
   }
  },
  {
   "cell_type": "code",
   "execution_count": 13,
   "outputs": [
    {
     "data": {
      "text/plain": "   age  weight  temp  length        BMI\n0   15      54  36.5     160  21.093750\n1   19      68  37.1     175  22.204082\n2   11      41  36.4     162  15.622619\n3   17      59  37.2     169  20.657540\n4   19      65  36.9     179  20.286508",
      "text/html": "<div>\n<style scoped>\n    .dataframe tbody tr th:only-of-type {\n        vertical-align: middle;\n    }\n\n    .dataframe tbody tr th {\n        vertical-align: top;\n    }\n\n    .dataframe thead th {\n        text-align: right;\n    }\n</style>\n<table border=\"1\" class=\"dataframe\">\n  <thead>\n    <tr style=\"text-align: right;\">\n      <th></th>\n      <th>age</th>\n      <th>weight</th>\n      <th>temp</th>\n      <th>length</th>\n      <th>BMI</th>\n    </tr>\n  </thead>\n  <tbody>\n    <tr>\n      <th>0</th>\n      <td>15</td>\n      <td>54</td>\n      <td>36.5</td>\n      <td>160</td>\n      <td>21.093750</td>\n    </tr>\n    <tr>\n      <th>1</th>\n      <td>19</td>\n      <td>68</td>\n      <td>37.1</td>\n      <td>175</td>\n      <td>22.204082</td>\n    </tr>\n    <tr>\n      <th>2</th>\n      <td>11</td>\n      <td>41</td>\n      <td>36.4</td>\n      <td>162</td>\n      <td>15.622619</td>\n    </tr>\n    <tr>\n      <th>3</th>\n      <td>17</td>\n      <td>59</td>\n      <td>37.2</td>\n      <td>169</td>\n      <td>20.657540</td>\n    </tr>\n    <tr>\n      <th>4</th>\n      <td>19</td>\n      <td>65</td>\n      <td>36.9</td>\n      <td>179</td>\n      <td>20.286508</td>\n    </tr>\n  </tbody>\n</table>\n</div>"
     },
     "execution_count": 13,
     "metadata": {},
     "output_type": "execute_result"
    }
   ],
   "source": [
    "q4f = [19 if x>=18 else x for x in frame2['age']]\n",
    "frame2['age']=q4f\n",
    "frame2"
   ],
   "metadata": {
    "collapsed": false,
    "pycharm": {
     "name": "#%%\n"
    }
   }
  },
  {
   "cell_type": "code",
   "execution_count": 14,
   "outputs": [
    {
     "data": {
      "text/plain": "   id  age  weight  temp\n0   1   15      54  36.5\n1   2   19      68  37.1\n2   3   11      41  36.4\n3   4   17      59  37.2\n4   5   19      65  36.9",
      "text/html": "<div>\n<style scoped>\n    .dataframe tbody tr th:only-of-type {\n        vertical-align: middle;\n    }\n\n    .dataframe tbody tr th {\n        vertical-align: top;\n    }\n\n    .dataframe thead th {\n        text-align: right;\n    }\n</style>\n<table border=\"1\" class=\"dataframe\">\n  <thead>\n    <tr style=\"text-align: right;\">\n      <th></th>\n      <th>id</th>\n      <th>age</th>\n      <th>weight</th>\n      <th>temp</th>\n    </tr>\n  </thead>\n  <tbody>\n    <tr>\n      <th>0</th>\n      <td>1</td>\n      <td>15</td>\n      <td>54</td>\n      <td>36.5</td>\n    </tr>\n    <tr>\n      <th>1</th>\n      <td>2</td>\n      <td>19</td>\n      <td>68</td>\n      <td>37.1</td>\n    </tr>\n    <tr>\n      <th>2</th>\n      <td>3</td>\n      <td>11</td>\n      <td>41</td>\n      <td>36.4</td>\n    </tr>\n    <tr>\n      <th>3</th>\n      <td>4</td>\n      <td>17</td>\n      <td>59</td>\n      <td>37.2</td>\n    </tr>\n    <tr>\n      <th>4</th>\n      <td>5</td>\n      <td>19</td>\n      <td>65</td>\n      <td>36.9</td>\n    </tr>\n  </tbody>\n</table>\n</div>"
     },
     "execution_count": 14,
     "metadata": {},
     "output_type": "execute_result"
    }
   ],
   "source": [
    "q4f2 = frame.replace(to_replace=[18,20],value=19)\n",
    "q4f2"
   ],
   "metadata": {
    "collapsed": false,
    "pycharm": {
     "name": "#%%\n"
    }
   }
  },
  {
   "cell_type": "code",
   "execution_count": 15,
   "outputs": [
    {
     "data": {
      "text/plain": "1    37.1\n3    37.2\n4    36.9\nName: temp, dtype: float64"
     },
     "execution_count": 15,
     "metadata": {},
     "output_type": "execute_result"
    }
   ],
   "source": [
    "frame2[frame2['age']>16].loc[:,'temp']"
   ],
   "metadata": {
    "collapsed": false,
    "pycharm": {
     "name": "#%%\n"
    }
   }
  },
  {
   "cell_type": "markdown",
   "source": [
    "##Q5"
   ],
   "metadata": {
    "collapsed": false
   }
  },
  {
   "cell_type": "code",
   "execution_count": 16,
   "outputs": [
    {
     "name": "stdout",
     "output_type": "stream",
     "text": [
      "<class 'pandas.core.frame.DataFrame'>\n",
      "RangeIndex: 75 entries, 0 to 74\n",
      "Data columns (total 5 columns):\n",
      " #   Column          Non-Null Count  Dtype  \n",
      "---  ------          --------------  -----  \n",
      " 0   Age             75 non-null     int64  \n",
      " 1   Gender          75 non-null     object \n",
      " 2   Sport           57 non-null     object \n",
      " 3   Times per week  75 non-null     int64  \n",
      " 4   Hours per week  57 non-null     float64\n",
      "dtypes: float64(1), int64(2), object(2)\n",
      "memory usage: 3.1+ KB\n"
     ]
    }
   ],
   "source": [
    "#q5a\n",
    "#sd = pd.read_csv('sportData.csv',delimiter=';',decimal='.')\n",
    "sd = pd.read_csv('sportData.csv',delimiter=';',decimal='.',na_values='none')\n",
    "sd.info()"
   ],
   "metadata": {
    "collapsed": false,
    "pycharm": {
     "name": "#%%\n"
    }
   }
  },
  {
   "cell_type": "code",
   "execution_count": 17,
   "outputs": [
    {
     "data": {
      "text/plain": "array([nan, 'basketball', 'soccer', 'climbing', 'gymnastics', 'other',\n       'swimming', 'judo', 'fitness'], dtype=object)"
     },
     "execution_count": 17,
     "metadata": {},
     "output_type": "execute_result"
    }
   ],
   "source": [
    "#q5b\n",
    "sd.Sport.unique()"
   ],
   "metadata": {
    "collapsed": false,
    "pycharm": {
     "name": "#%%\n"
    }
   }
  },
  {
   "cell_type": "code",
   "execution_count": 18,
   "outputs": [
    {
     "data": {
      "text/plain": "array([nan, 'basketball', 'soccer', 'climbing', 'gymnastics', 'other',\n       'swimming', 'judo', 'fitness'], dtype=object)"
     },
     "execution_count": 18,
     "metadata": {},
     "output_type": "execute_result"
    }
   ],
   "source": [
    "#q5d\n",
    "sd[sd['Sport']=='none']=np.NaN\n",
    "sd.Sport.unique()"
   ],
   "metadata": {
    "collapsed": false,
    "pycharm": {
     "name": "#%%\n"
    }
   }
  },
  {
   "cell_type": "code",
   "execution_count": 19,
   "outputs": [
    {
     "data": {
      "text/plain": "Age               False\nGender            False\nSport              True\nTimes per week    False\nHours per week     True\ndtype: bool"
     },
     "execution_count": 19,
     "metadata": {},
     "output_type": "execute_result"
    }
   ],
   "source": [
    "#q5e\n",
    "sd.isna().any()"
   ],
   "metadata": {
    "collapsed": false,
    "pycharm": {
     "name": "#%%\n"
    }
   }
  },
  {
   "cell_type": "code",
   "execution_count": 34,
   "outputs": [
    {
     "data": {
      "text/plain": "     Age Gender Sport  Times per week  Hours per week\n0   12.0      m   NaN             0.0             NaN\n4   13.0      f   NaN             0.0             NaN\n9   13.0      m   NaN             0.0             NaN\n10  13.0      f   NaN             0.0             NaN\n15  14.0      f   NaN             0.0             NaN\n17  11.0      f   NaN             0.0             NaN\n18  12.0      m   NaN             0.0             NaN\n19  13.0      m   NaN             0.0             NaN\n24  12.0      m   NaN             0.0             NaN\n27  12.0      m   NaN             0.0             NaN\n30  12.0      f   NaN             0.0             NaN\n33  11.0      m   NaN             0.0             NaN\n36  12.0      m   NaN             0.0             NaN\n39  12.0      m   NaN             0.0             NaN\n43  11.0      f   NaN             0.0             NaN\n58  12.0      f   NaN             0.0             NaN\n64  13.0      f   NaN             0.0             NaN\n73  12.0      f   NaN             0.0             NaN",
      "text/html": "<div>\n<style scoped>\n    .dataframe tbody tr th:only-of-type {\n        vertical-align: middle;\n    }\n\n    .dataframe tbody tr th {\n        vertical-align: top;\n    }\n\n    .dataframe thead th {\n        text-align: right;\n    }\n</style>\n<table border=\"1\" class=\"dataframe\">\n  <thead>\n    <tr style=\"text-align: right;\">\n      <th></th>\n      <th>Age</th>\n      <th>Gender</th>\n      <th>Sport</th>\n      <th>Times per week</th>\n      <th>Hours per week</th>\n    </tr>\n  </thead>\n  <tbody>\n    <tr>\n      <th>0</th>\n      <td>12.0</td>\n      <td>m</td>\n      <td>NaN</td>\n      <td>0.0</td>\n      <td>NaN</td>\n    </tr>\n    <tr>\n      <th>4</th>\n      <td>13.0</td>\n      <td>f</td>\n      <td>NaN</td>\n      <td>0.0</td>\n      <td>NaN</td>\n    </tr>\n    <tr>\n      <th>9</th>\n      <td>13.0</td>\n      <td>m</td>\n      <td>NaN</td>\n      <td>0.0</td>\n      <td>NaN</td>\n    </tr>\n    <tr>\n      <th>10</th>\n      <td>13.0</td>\n      <td>f</td>\n      <td>NaN</td>\n      <td>0.0</td>\n      <td>NaN</td>\n    </tr>\n    <tr>\n      <th>15</th>\n      <td>14.0</td>\n      <td>f</td>\n      <td>NaN</td>\n      <td>0.0</td>\n      <td>NaN</td>\n    </tr>\n    <tr>\n      <th>17</th>\n      <td>11.0</td>\n      <td>f</td>\n      <td>NaN</td>\n      <td>0.0</td>\n      <td>NaN</td>\n    </tr>\n    <tr>\n      <th>18</th>\n      <td>12.0</td>\n      <td>m</td>\n      <td>NaN</td>\n      <td>0.0</td>\n      <td>NaN</td>\n    </tr>\n    <tr>\n      <th>19</th>\n      <td>13.0</td>\n      <td>m</td>\n      <td>NaN</td>\n      <td>0.0</td>\n      <td>NaN</td>\n    </tr>\n    <tr>\n      <th>24</th>\n      <td>12.0</td>\n      <td>m</td>\n      <td>NaN</td>\n      <td>0.0</td>\n      <td>NaN</td>\n    </tr>\n    <tr>\n      <th>27</th>\n      <td>12.0</td>\n      <td>m</td>\n      <td>NaN</td>\n      <td>0.0</td>\n      <td>NaN</td>\n    </tr>\n    <tr>\n      <th>30</th>\n      <td>12.0</td>\n      <td>f</td>\n      <td>NaN</td>\n      <td>0.0</td>\n      <td>NaN</td>\n    </tr>\n    <tr>\n      <th>33</th>\n      <td>11.0</td>\n      <td>m</td>\n      <td>NaN</td>\n      <td>0.0</td>\n      <td>NaN</td>\n    </tr>\n    <tr>\n      <th>36</th>\n      <td>12.0</td>\n      <td>m</td>\n      <td>NaN</td>\n      <td>0.0</td>\n      <td>NaN</td>\n    </tr>\n    <tr>\n      <th>39</th>\n      <td>12.0</td>\n      <td>m</td>\n      <td>NaN</td>\n      <td>0.0</td>\n      <td>NaN</td>\n    </tr>\n    <tr>\n      <th>43</th>\n      <td>11.0</td>\n      <td>f</td>\n      <td>NaN</td>\n      <td>0.0</td>\n      <td>NaN</td>\n    </tr>\n    <tr>\n      <th>58</th>\n      <td>12.0</td>\n      <td>f</td>\n      <td>NaN</td>\n      <td>0.0</td>\n      <td>NaN</td>\n    </tr>\n    <tr>\n      <th>64</th>\n      <td>13.0</td>\n      <td>f</td>\n      <td>NaN</td>\n      <td>0.0</td>\n      <td>NaN</td>\n    </tr>\n    <tr>\n      <th>73</th>\n      <td>12.0</td>\n      <td>f</td>\n      <td>NaN</td>\n      <td>0.0</td>\n      <td>NaN</td>\n    </tr>\n  </tbody>\n</table>\n</div>"
     },
     "execution_count": 34,
     "metadata": {},
     "output_type": "execute_result"
    }
   ],
   "source": [
    "sd[sd['Sport'].isna() | sd['Hours per week'].isna()]\n",
    "# sd[sd.isnull().any(axis=1)]"
   ],
   "metadata": {
    "collapsed": false,
    "pycharm": {
     "name": "#%%\n"
    }
   }
  },
  {
   "cell_type": "code",
   "execution_count": 36,
   "outputs": [
    {
     "data": {
      "text/plain": "     Age Gender       Sport  Times per week  Hours per week\n1   12.0      m  basketball             1.0             2.0\n2   13.0      m      soccer             2.0             4.0\n3   11.0      f      soccer             2.0             4.0\n5   12.0      f    climbing             1.0             2.0\n6   12.0      m  gymnastics             1.0             2.0\n7   11.0      m      soccer             1.0             2.0\n8   12.0      f       other             1.0             2.0\n11  11.0      m  gymnastics             2.0             4.0\n12  12.0      f       other             2.0             4.0\n13  12.0      m      soccer             1.0             2.0\n14  13.0      f    swimming             2.0             4.0\n16  11.0      m    climbing             2.0             4.0\n20  13.0      m  basketball             2.0             4.0\n21  11.0      f      soccer             2.0             4.0\n22  12.0      m  gymnastics             1.0             2.0\n23  13.0      m      soccer             3.0             6.0\n25  11.0      f       other             1.0             2.0\n26  13.0      m      soccer             1.0             2.0\n28  13.0      m      soccer             2.0             4.0\n29  11.0      m      soccer             4.0             8.0\n31  11.0      m    climbing             4.0             8.0\n32  14.0      f        judo             3.0             6.0\n34  12.0      m      soccer             2.0             4.0\n35  13.0      m        judo             3.0             6.0\n37  12.0      m  basketball             4.0             8.0\n38  13.0      m      soccer             3.0             6.0\n40  12.0      f     fitness             2.0             4.0\n41  13.0      m       other             2.0             4.0\n42  11.0      f     fitness             3.0             6.0\n44  13.0      f     fitness             1.0             2.0\n45  12.0      m      soccer             1.0             2.0\n46  12.0      f      soccer             1.0             2.0\n47  14.0      f    swimming             2.0             4.0\n48  11.0      m      soccer             2.0             4.0\n49  11.0      f  gymnastics             1.0             2.0\n50  11.0      f     fitness             3.0             6.0\n51  11.0      m  basketball             2.0             4.0\n52  13.0      f  basketball             3.0             6.0\n53  12.0      m      soccer             1.0             2.0\n54  12.0      f      soccer             3.0             6.0\n55  12.0      f    swimming             2.0             4.0\n56  11.0      m      soccer             2.0             4.0\n57  13.0      f        judo             3.0             6.0\n59  13.0      f        judo             6.0            12.0\n60  11.0      m  basketball             1.0             2.0\n61  13.0      f  basketball             5.0            10.0\n62  12.0      f       other             2.0             4.0\n63  14.0      f        judo             2.0             4.0\n65  11.0      f       other             3.0             6.0\n66  12.0      f    climbing             2.0             4.0\n67  13.0      f    climbing             1.0             2.0\n68  12.0      m      soccer             1.0             2.0\n69  13.0      f  gymnastics             1.0             2.0\n70  12.0      f  gymnastics             2.0             4.0\n71  11.0      f        judo             2.0             4.0\n72  11.0      f      soccer             1.0             2.0\n74  11.0      f       other             1.0             2.0",
      "text/html": "<div>\n<style scoped>\n    .dataframe tbody tr th:only-of-type {\n        vertical-align: middle;\n    }\n\n    .dataframe tbody tr th {\n        vertical-align: top;\n    }\n\n    .dataframe thead th {\n        text-align: right;\n    }\n</style>\n<table border=\"1\" class=\"dataframe\">\n  <thead>\n    <tr style=\"text-align: right;\">\n      <th></th>\n      <th>Age</th>\n      <th>Gender</th>\n      <th>Sport</th>\n      <th>Times per week</th>\n      <th>Hours per week</th>\n    </tr>\n  </thead>\n  <tbody>\n    <tr>\n      <th>1</th>\n      <td>12.0</td>\n      <td>m</td>\n      <td>basketball</td>\n      <td>1.0</td>\n      <td>2.0</td>\n    </tr>\n    <tr>\n      <th>2</th>\n      <td>13.0</td>\n      <td>m</td>\n      <td>soccer</td>\n      <td>2.0</td>\n      <td>4.0</td>\n    </tr>\n    <tr>\n      <th>3</th>\n      <td>11.0</td>\n      <td>f</td>\n      <td>soccer</td>\n      <td>2.0</td>\n      <td>4.0</td>\n    </tr>\n    <tr>\n      <th>5</th>\n      <td>12.0</td>\n      <td>f</td>\n      <td>climbing</td>\n      <td>1.0</td>\n      <td>2.0</td>\n    </tr>\n    <tr>\n      <th>6</th>\n      <td>12.0</td>\n      <td>m</td>\n      <td>gymnastics</td>\n      <td>1.0</td>\n      <td>2.0</td>\n    </tr>\n    <tr>\n      <th>7</th>\n      <td>11.0</td>\n      <td>m</td>\n      <td>soccer</td>\n      <td>1.0</td>\n      <td>2.0</td>\n    </tr>\n    <tr>\n      <th>8</th>\n      <td>12.0</td>\n      <td>f</td>\n      <td>other</td>\n      <td>1.0</td>\n      <td>2.0</td>\n    </tr>\n    <tr>\n      <th>11</th>\n      <td>11.0</td>\n      <td>m</td>\n      <td>gymnastics</td>\n      <td>2.0</td>\n      <td>4.0</td>\n    </tr>\n    <tr>\n      <th>12</th>\n      <td>12.0</td>\n      <td>f</td>\n      <td>other</td>\n      <td>2.0</td>\n      <td>4.0</td>\n    </tr>\n    <tr>\n      <th>13</th>\n      <td>12.0</td>\n      <td>m</td>\n      <td>soccer</td>\n      <td>1.0</td>\n      <td>2.0</td>\n    </tr>\n    <tr>\n      <th>14</th>\n      <td>13.0</td>\n      <td>f</td>\n      <td>swimming</td>\n      <td>2.0</td>\n      <td>4.0</td>\n    </tr>\n    <tr>\n      <th>16</th>\n      <td>11.0</td>\n      <td>m</td>\n      <td>climbing</td>\n      <td>2.0</td>\n      <td>4.0</td>\n    </tr>\n    <tr>\n      <th>20</th>\n      <td>13.0</td>\n      <td>m</td>\n      <td>basketball</td>\n      <td>2.0</td>\n      <td>4.0</td>\n    </tr>\n    <tr>\n      <th>21</th>\n      <td>11.0</td>\n      <td>f</td>\n      <td>soccer</td>\n      <td>2.0</td>\n      <td>4.0</td>\n    </tr>\n    <tr>\n      <th>22</th>\n      <td>12.0</td>\n      <td>m</td>\n      <td>gymnastics</td>\n      <td>1.0</td>\n      <td>2.0</td>\n    </tr>\n    <tr>\n      <th>23</th>\n      <td>13.0</td>\n      <td>m</td>\n      <td>soccer</td>\n      <td>3.0</td>\n      <td>6.0</td>\n    </tr>\n    <tr>\n      <th>25</th>\n      <td>11.0</td>\n      <td>f</td>\n      <td>other</td>\n      <td>1.0</td>\n      <td>2.0</td>\n    </tr>\n    <tr>\n      <th>26</th>\n      <td>13.0</td>\n      <td>m</td>\n      <td>soccer</td>\n      <td>1.0</td>\n      <td>2.0</td>\n    </tr>\n    <tr>\n      <th>28</th>\n      <td>13.0</td>\n      <td>m</td>\n      <td>soccer</td>\n      <td>2.0</td>\n      <td>4.0</td>\n    </tr>\n    <tr>\n      <th>29</th>\n      <td>11.0</td>\n      <td>m</td>\n      <td>soccer</td>\n      <td>4.0</td>\n      <td>8.0</td>\n    </tr>\n    <tr>\n      <th>31</th>\n      <td>11.0</td>\n      <td>m</td>\n      <td>climbing</td>\n      <td>4.0</td>\n      <td>8.0</td>\n    </tr>\n    <tr>\n      <th>32</th>\n      <td>14.0</td>\n      <td>f</td>\n      <td>judo</td>\n      <td>3.0</td>\n      <td>6.0</td>\n    </tr>\n    <tr>\n      <th>34</th>\n      <td>12.0</td>\n      <td>m</td>\n      <td>soccer</td>\n      <td>2.0</td>\n      <td>4.0</td>\n    </tr>\n    <tr>\n      <th>35</th>\n      <td>13.0</td>\n      <td>m</td>\n      <td>judo</td>\n      <td>3.0</td>\n      <td>6.0</td>\n    </tr>\n    <tr>\n      <th>37</th>\n      <td>12.0</td>\n      <td>m</td>\n      <td>basketball</td>\n      <td>4.0</td>\n      <td>8.0</td>\n    </tr>\n    <tr>\n      <th>38</th>\n      <td>13.0</td>\n      <td>m</td>\n      <td>soccer</td>\n      <td>3.0</td>\n      <td>6.0</td>\n    </tr>\n    <tr>\n      <th>40</th>\n      <td>12.0</td>\n      <td>f</td>\n      <td>fitness</td>\n      <td>2.0</td>\n      <td>4.0</td>\n    </tr>\n    <tr>\n      <th>41</th>\n      <td>13.0</td>\n      <td>m</td>\n      <td>other</td>\n      <td>2.0</td>\n      <td>4.0</td>\n    </tr>\n    <tr>\n      <th>42</th>\n      <td>11.0</td>\n      <td>f</td>\n      <td>fitness</td>\n      <td>3.0</td>\n      <td>6.0</td>\n    </tr>\n    <tr>\n      <th>44</th>\n      <td>13.0</td>\n      <td>f</td>\n      <td>fitness</td>\n      <td>1.0</td>\n      <td>2.0</td>\n    </tr>\n    <tr>\n      <th>45</th>\n      <td>12.0</td>\n      <td>m</td>\n      <td>soccer</td>\n      <td>1.0</td>\n      <td>2.0</td>\n    </tr>\n    <tr>\n      <th>46</th>\n      <td>12.0</td>\n      <td>f</td>\n      <td>soccer</td>\n      <td>1.0</td>\n      <td>2.0</td>\n    </tr>\n    <tr>\n      <th>47</th>\n      <td>14.0</td>\n      <td>f</td>\n      <td>swimming</td>\n      <td>2.0</td>\n      <td>4.0</td>\n    </tr>\n    <tr>\n      <th>48</th>\n      <td>11.0</td>\n      <td>m</td>\n      <td>soccer</td>\n      <td>2.0</td>\n      <td>4.0</td>\n    </tr>\n    <tr>\n      <th>49</th>\n      <td>11.0</td>\n      <td>f</td>\n      <td>gymnastics</td>\n      <td>1.0</td>\n      <td>2.0</td>\n    </tr>\n    <tr>\n      <th>50</th>\n      <td>11.0</td>\n      <td>f</td>\n      <td>fitness</td>\n      <td>3.0</td>\n      <td>6.0</td>\n    </tr>\n    <tr>\n      <th>51</th>\n      <td>11.0</td>\n      <td>m</td>\n      <td>basketball</td>\n      <td>2.0</td>\n      <td>4.0</td>\n    </tr>\n    <tr>\n      <th>52</th>\n      <td>13.0</td>\n      <td>f</td>\n      <td>basketball</td>\n      <td>3.0</td>\n      <td>6.0</td>\n    </tr>\n    <tr>\n      <th>53</th>\n      <td>12.0</td>\n      <td>m</td>\n      <td>soccer</td>\n      <td>1.0</td>\n      <td>2.0</td>\n    </tr>\n    <tr>\n      <th>54</th>\n      <td>12.0</td>\n      <td>f</td>\n      <td>soccer</td>\n      <td>3.0</td>\n      <td>6.0</td>\n    </tr>\n    <tr>\n      <th>55</th>\n      <td>12.0</td>\n      <td>f</td>\n      <td>swimming</td>\n      <td>2.0</td>\n      <td>4.0</td>\n    </tr>\n    <tr>\n      <th>56</th>\n      <td>11.0</td>\n      <td>m</td>\n      <td>soccer</td>\n      <td>2.0</td>\n      <td>4.0</td>\n    </tr>\n    <tr>\n      <th>57</th>\n      <td>13.0</td>\n      <td>f</td>\n      <td>judo</td>\n      <td>3.0</td>\n      <td>6.0</td>\n    </tr>\n    <tr>\n      <th>59</th>\n      <td>13.0</td>\n      <td>f</td>\n      <td>judo</td>\n      <td>6.0</td>\n      <td>12.0</td>\n    </tr>\n    <tr>\n      <th>60</th>\n      <td>11.0</td>\n      <td>m</td>\n      <td>basketball</td>\n      <td>1.0</td>\n      <td>2.0</td>\n    </tr>\n    <tr>\n      <th>61</th>\n      <td>13.0</td>\n      <td>f</td>\n      <td>basketball</td>\n      <td>5.0</td>\n      <td>10.0</td>\n    </tr>\n    <tr>\n      <th>62</th>\n      <td>12.0</td>\n      <td>f</td>\n      <td>other</td>\n      <td>2.0</td>\n      <td>4.0</td>\n    </tr>\n    <tr>\n      <th>63</th>\n      <td>14.0</td>\n      <td>f</td>\n      <td>judo</td>\n      <td>2.0</td>\n      <td>4.0</td>\n    </tr>\n    <tr>\n      <th>65</th>\n      <td>11.0</td>\n      <td>f</td>\n      <td>other</td>\n      <td>3.0</td>\n      <td>6.0</td>\n    </tr>\n    <tr>\n      <th>66</th>\n      <td>12.0</td>\n      <td>f</td>\n      <td>climbing</td>\n      <td>2.0</td>\n      <td>4.0</td>\n    </tr>\n    <tr>\n      <th>67</th>\n      <td>13.0</td>\n      <td>f</td>\n      <td>climbing</td>\n      <td>1.0</td>\n      <td>2.0</td>\n    </tr>\n    <tr>\n      <th>68</th>\n      <td>12.0</td>\n      <td>m</td>\n      <td>soccer</td>\n      <td>1.0</td>\n      <td>2.0</td>\n    </tr>\n    <tr>\n      <th>69</th>\n      <td>13.0</td>\n      <td>f</td>\n      <td>gymnastics</td>\n      <td>1.0</td>\n      <td>2.0</td>\n    </tr>\n    <tr>\n      <th>70</th>\n      <td>12.0</td>\n      <td>f</td>\n      <td>gymnastics</td>\n      <td>2.0</td>\n      <td>4.0</td>\n    </tr>\n    <tr>\n      <th>71</th>\n      <td>11.0</td>\n      <td>f</td>\n      <td>judo</td>\n      <td>2.0</td>\n      <td>4.0</td>\n    </tr>\n    <tr>\n      <th>72</th>\n      <td>11.0</td>\n      <td>f</td>\n      <td>soccer</td>\n      <td>1.0</td>\n      <td>2.0</td>\n    </tr>\n    <tr>\n      <th>74</th>\n      <td>11.0</td>\n      <td>f</td>\n      <td>other</td>\n      <td>1.0</td>\n      <td>2.0</td>\n    </tr>\n  </tbody>\n</table>\n</div>"
     },
     "execution_count": 36,
     "metadata": {},
     "output_type": "execute_result"
    }
   ],
   "source": [
    "#q5f\n",
    "q5f=sd\n",
    "q5f=sd.dropna()\n",
    "q5f"
   ],
   "metadata": {
    "collapsed": false,
    "pycharm": {
     "name": "#%%\n"
    }
   }
  },
  {
   "cell_type": "code",
   "execution_count": 37,
   "outputs": [
    {
     "data": {
      "text/plain": "14.0"
     },
     "execution_count": 37,
     "metadata": {},
     "output_type": "execute_result"
    }
   ],
   "source": [
    "#q5g\n",
    "sd.Age.max()"
   ],
   "metadata": {
    "collapsed": false,
    "pycharm": {
     "name": "#%%\n"
    }
   }
  },
  {
   "cell_type": "code",
   "execution_count": null,
   "outputs": [],
   "source": [
    "q5f[q5f['Times per week']>1].loc[:,'Times per week'].sum()"
   ],
   "metadata": {
    "collapsed": false,
    "pycharm": {
     "name": "#%%\n",
     "is_executing": true
    }
   }
  },
  {
   "cell_type": "code",
   "execution_count": null,
   "outputs": [],
   "source": [],
   "metadata": {
    "collapsed": false,
    "pycharm": {
     "name": "#%%\n"
    }
   }
  }
 ],
 "metadata": {
  "kernelspec": {
   "display_name": "Python 3",
   "language": "python",
   "name": "python3"
  },
  "language_info": {
   "codemirror_mode": {
    "name": "ipython",
    "version": 2
   },
   "file_extension": ".py",
   "mimetype": "text/x-python",
   "name": "python",
   "nbconvert_exporter": "python",
   "pygments_lexer": "ipython2",
   "version": "2.7.6"
  }
 },
 "nbformat": 4,
 "nbformat_minor": 0
}