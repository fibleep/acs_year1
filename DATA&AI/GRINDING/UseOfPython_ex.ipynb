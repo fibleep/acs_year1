{
 "cells": [
  {
   "cell_type": "markdown",
   "source": [
    "##Q1"
   ],
   "metadata": {
    "collapsed": false
   }
  },
  {
   "cell_type": "code",
   "execution_count": 1,
   "metadata": {
    "collapsed": true
   },
   "outputs": [
    {
     "data": {
      "text/plain": "   id  age  weight  temp\n0   1   15      54  36.5\n1   2   18      68  37.1\n2   3   11      41  36.4\n3   4   17      59  37.2\n4   5   20      65  36.9",
      "text/html": "<div>\n<style scoped>\n    .dataframe tbody tr th:only-of-type {\n        vertical-align: middle;\n    }\n\n    .dataframe tbody tr th {\n        vertical-align: top;\n    }\n\n    .dataframe thead th {\n        text-align: right;\n    }\n</style>\n<table border=\"1\" class=\"dataframe\">\n  <thead>\n    <tr style=\"text-align: right;\">\n      <th></th>\n      <th>id</th>\n      <th>age</th>\n      <th>weight</th>\n      <th>temp</th>\n    </tr>\n  </thead>\n  <tbody>\n    <tr>\n      <th>0</th>\n      <td>1</td>\n      <td>15</td>\n      <td>54</td>\n      <td>36.5</td>\n    </tr>\n    <tr>\n      <th>1</th>\n      <td>2</td>\n      <td>18</td>\n      <td>68</td>\n      <td>37.1</td>\n    </tr>\n    <tr>\n      <th>2</th>\n      <td>3</td>\n      <td>11</td>\n      <td>41</td>\n      <td>36.4</td>\n    </tr>\n    <tr>\n      <th>3</th>\n      <td>4</td>\n      <td>17</td>\n      <td>59</td>\n      <td>37.2</td>\n    </tr>\n    <tr>\n      <th>4</th>\n      <td>5</td>\n      <td>20</td>\n      <td>65</td>\n      <td>36.9</td>\n    </tr>\n  </tbody>\n</table>\n</div>"
     },
     "execution_count": 1,
     "metadata": {},
     "output_type": "execute_result"
    }
   ],
   "source": [
    "import pandas as pd\n",
    "import numpy as np\n",
    "data = [[1,15,54,36.5],[2,18,68,37.1],[3,11,41,36.4],[4,17,59,37.2],[5,20,65,36.9]]\n",
    "labs = ['id','age','weight','temp']\n",
    "frame = pd.DataFrame(data,columns=labs)\n",
    "frame"
   ]
  },
  {
   "cell_type": "markdown",
   "source": [
    "##Q2"
   ],
   "metadata": {
    "collapsed": false
   }
  },
  {
   "cell_type": "code",
   "execution_count": 2,
   "outputs": [
    {
     "data": {
      "text/plain": "0    15\n1    18\n2    11\n3    17\n4    20\nName: age, dtype: int64"
     },
     "execution_count": 2,
     "metadata": {},
     "output_type": "execute_result"
    }
   ],
   "source": [
    "q2a = frame.iloc[:,1]\n",
    "q2a"
   ],
   "metadata": {
    "collapsed": false,
    "pycharm": {
     "name": "#%%\n"
    }
   }
  },
  {
   "cell_type": "code",
   "execution_count": 3,
   "outputs": [
    {
     "data": {
      "text/plain": "id         3.0\nage       11.0\nweight    41.0\ntemp      36.4\nName: 2, dtype: float64"
     },
     "execution_count": 3,
     "metadata": {},
     "output_type": "execute_result"
    }
   ],
   "source": [
    "q2b = frame.loc[2]\n",
    "q2b"
   ],
   "metadata": {
    "collapsed": false,
    "pycharm": {
     "name": "#%%\n"
    }
   }
  },
  {
   "cell_type": "code",
   "execution_count": 4,
   "outputs": [
    {
     "name": "stdout",
     "output_type": "stream",
     "text": [
      "11 20\n"
     ]
    }
   ],
   "source": [
    "#q2c\n",
    "print(frame.iloc[:,1].min(),frame.iloc[:,1].max())"
   ],
   "metadata": {
    "collapsed": false,
    "pycharm": {
     "name": "#%%\n"
    }
   }
  },
  {
   "cell_type": "code",
   "execution_count": 5,
   "outputs": [
    {
     "data": {
      "text/plain": "57.4"
     },
     "execution_count": 5,
     "metadata": {},
     "output_type": "execute_result"
    }
   ],
   "source": [
    "#q2d\n",
    "frame.iloc[:,2].sum()/frame.iloc[:,2].count()"
   ],
   "metadata": {
    "collapsed": false,
    "pycharm": {
     "name": "#%%\n"
    }
   }
  },
  {
   "cell_type": "code",
   "execution_count": 6,
   "outputs": [
    {
     "data": {
      "text/plain": "0    0.054\n1    0.068\n2    0.041\n3    0.059\n4    0.065\nName: weight, dtype: float64"
     },
     "execution_count": 6,
     "metadata": {},
     "output_type": "execute_result"
    }
   ],
   "source": [
    "#q2e\n",
    "frame.iloc[:,2]/1000"
   ],
   "metadata": {
    "collapsed": false,
    "pycharm": {
     "name": "#%%\n"
    }
   }
  },
  {
   "cell_type": "code",
   "execution_count": 7,
   "outputs": [
    {
     "data": {
      "text/plain": "0    97.70\n1    98.78\n2    97.52\n3    98.96\n4    98.42\nName: temp, dtype: float64"
     },
     "execution_count": 7,
     "metadata": {},
     "output_type": "execute_result"
    }
   ],
   "source": [
    "frame.iloc[:,3]*1.8+32"
   ],
   "metadata": {
    "collapsed": false,
    "pycharm": {
     "name": "#%%\n"
    }
   }
  },
  {
   "cell_type": "markdown",
   "source": [
    "##Q3"
   ],
   "metadata": {
    "collapsed": false
   }
  },
  {
   "cell_type": "code",
   "execution_count": 8,
   "outputs": [],
   "source": [
    "#frame.to_csv('use_of_python1.csv')"
   ],
   "metadata": {
    "collapsed": false,
    "pycharm": {
     "name": "#%%\n"
    }
   }
  },
  {
   "cell_type": "markdown",
   "source": [
    "##Q4"
   ],
   "metadata": {
    "collapsed": false
   }
  },
  {
   "cell_type": "code",
   "execution_count": 9,
   "outputs": [
    {
     "data": {
      "text/plain": "   age  weight  temp\n0   15      54  36.5\n1   18      68  37.1\n2   11      41  36.4\n3   17      59  37.2\n4   20      65  36.9",
      "text/html": "<div>\n<style scoped>\n    .dataframe tbody tr th:only-of-type {\n        vertical-align: middle;\n    }\n\n    .dataframe tbody tr th {\n        vertical-align: top;\n    }\n\n    .dataframe thead th {\n        text-align: right;\n    }\n</style>\n<table border=\"1\" class=\"dataframe\">\n  <thead>\n    <tr style=\"text-align: right;\">\n      <th></th>\n      <th>age</th>\n      <th>weight</th>\n      <th>temp</th>\n    </tr>\n  </thead>\n  <tbody>\n    <tr>\n      <th>0</th>\n      <td>15</td>\n      <td>54</td>\n      <td>36.5</td>\n    </tr>\n    <tr>\n      <th>1</th>\n      <td>18</td>\n      <td>68</td>\n      <td>37.1</td>\n    </tr>\n    <tr>\n      <th>2</th>\n      <td>11</td>\n      <td>41</td>\n      <td>36.4</td>\n    </tr>\n    <tr>\n      <th>3</th>\n      <td>17</td>\n      <td>59</td>\n      <td>37.2</td>\n    </tr>\n    <tr>\n      <th>4</th>\n      <td>20</td>\n      <td>65</td>\n      <td>36.9</td>\n    </tr>\n  </tbody>\n</table>\n</div>"
     },
     "execution_count": 9,
     "metadata": {},
     "output_type": "execute_result"
    }
   ],
   "source": [
    "#q4a\n",
    "frame2=frame\n",
    "frame2=frame2.drop('id',axis=1)\n",
    "frame2"
   ],
   "metadata": {
    "collapsed": false,
    "pycharm": {
     "name": "#%%\n"
    }
   }
  },
  {
   "cell_type": "code",
   "execution_count": 10,
   "outputs": [
    {
     "data": {
      "text/plain": "   age  weight  temp  length\n0   15      54  36.5     160\n1   18      68  37.1     175\n2   11      41  36.4     162\n3   17      59  37.2     169\n4   20      65  36.9     179",
      "text/html": "<div>\n<style scoped>\n    .dataframe tbody tr th:only-of-type {\n        vertical-align: middle;\n    }\n\n    .dataframe tbody tr th {\n        vertical-align: top;\n    }\n\n    .dataframe thead th {\n        text-align: right;\n    }\n</style>\n<table border=\"1\" class=\"dataframe\">\n  <thead>\n    <tr style=\"text-align: right;\">\n      <th></th>\n      <th>age</th>\n      <th>weight</th>\n      <th>temp</th>\n      <th>length</th>\n    </tr>\n  </thead>\n  <tbody>\n    <tr>\n      <th>0</th>\n      <td>15</td>\n      <td>54</td>\n      <td>36.5</td>\n      <td>160</td>\n    </tr>\n    <tr>\n      <th>1</th>\n      <td>18</td>\n      <td>68</td>\n      <td>37.1</td>\n      <td>175</td>\n    </tr>\n    <tr>\n      <th>2</th>\n      <td>11</td>\n      <td>41</td>\n      <td>36.4</td>\n      <td>162</td>\n    </tr>\n    <tr>\n      <th>3</th>\n      <td>17</td>\n      <td>59</td>\n      <td>37.2</td>\n      <td>169</td>\n    </tr>\n    <tr>\n      <th>4</th>\n      <td>20</td>\n      <td>65</td>\n      <td>36.9</td>\n      <td>179</td>\n    </tr>\n  </tbody>\n</table>\n</div>"
     },
     "execution_count": 10,
     "metadata": {},
     "output_type": "execute_result"
    }
   ],
   "source": [
    "#q4b\n",
    "temp = [160,175,162,169,179]\n",
    "frame2['length']=temp\n",
    "frame2"
   ],
   "metadata": {
    "collapsed": false,
    "pycharm": {
     "name": "#%%\n"
    }
   }
  },
  {
   "cell_type": "code",
   "execution_count": 11,
   "outputs": [
    {
     "data": {
      "text/plain": "   age  weight  temp  length        BMI\n0   15      54  36.5     160  21.093750\n1   18      68  37.1     175  22.204082\n2   11      41  36.4     162  15.622619\n3   17      59  37.2     169  20.657540\n4   20      65  36.9     179  20.286508",
      "text/html": "<div>\n<style scoped>\n    .dataframe tbody tr th:only-of-type {\n        vertical-align: middle;\n    }\n\n    .dataframe tbody tr th {\n        vertical-align: top;\n    }\n\n    .dataframe thead th {\n        text-align: right;\n    }\n</style>\n<table border=\"1\" class=\"dataframe\">\n  <thead>\n    <tr style=\"text-align: right;\">\n      <th></th>\n      <th>age</th>\n      <th>weight</th>\n      <th>temp</th>\n      <th>length</th>\n      <th>BMI</th>\n    </tr>\n  </thead>\n  <tbody>\n    <tr>\n      <th>0</th>\n      <td>15</td>\n      <td>54</td>\n      <td>36.5</td>\n      <td>160</td>\n      <td>21.093750</td>\n    </tr>\n    <tr>\n      <th>1</th>\n      <td>18</td>\n      <td>68</td>\n      <td>37.1</td>\n      <td>175</td>\n      <td>22.204082</td>\n    </tr>\n    <tr>\n      <th>2</th>\n      <td>11</td>\n      <td>41</td>\n      <td>36.4</td>\n      <td>162</td>\n      <td>15.622619</td>\n    </tr>\n    <tr>\n      <th>3</th>\n      <td>17</td>\n      <td>59</td>\n      <td>37.2</td>\n      <td>169</td>\n      <td>20.657540</td>\n    </tr>\n    <tr>\n      <th>4</th>\n      <td>20</td>\n      <td>65</td>\n      <td>36.9</td>\n      <td>179</td>\n      <td>20.286508</td>\n    </tr>\n  </tbody>\n</table>\n</div>"
     },
     "execution_count": 11,
     "metadata": {},
     "output_type": "execute_result"
    }
   ],
   "source": [
    "#q4cd\n",
    "import math\n",
    "BMI=frame2.loc[:,'weight']/((frame2.loc[:,'length']/100)**2)\n",
    "frame2['BMI']=BMI\n",
    "frame2"
   ],
   "metadata": {
    "collapsed": false,
    "pycharm": {
     "name": "#%%\n"
    }
   }
  },
  {
   "cell_type": "code",
   "execution_count": 12,
   "outputs": [
    {
     "data": {
      "text/plain": "   age  weight  temp  length        BMI\n1   18      68  37.1     175  22.204082\n4   20      65  36.9     179  20.286508",
      "text/html": "<div>\n<style scoped>\n    .dataframe tbody tr th:only-of-type {\n        vertical-align: middle;\n    }\n\n    .dataframe tbody tr th {\n        vertical-align: top;\n    }\n\n    .dataframe thead th {\n        text-align: right;\n    }\n</style>\n<table border=\"1\" class=\"dataframe\">\n  <thead>\n    <tr style=\"text-align: right;\">\n      <th></th>\n      <th>age</th>\n      <th>weight</th>\n      <th>temp</th>\n      <th>length</th>\n      <th>BMI</th>\n    </tr>\n  </thead>\n  <tbody>\n    <tr>\n      <th>1</th>\n      <td>18</td>\n      <td>68</td>\n      <td>37.1</td>\n      <td>175</td>\n      <td>22.204082</td>\n    </tr>\n    <tr>\n      <th>4</th>\n      <td>20</td>\n      <td>65</td>\n      <td>36.9</td>\n      <td>179</td>\n      <td>20.286508</td>\n    </tr>\n  </tbody>\n</table>\n</div>"
     },
     "execution_count": 12,
     "metadata": {},
     "output_type": "execute_result"
    }
   ],
   "source": [
    "#q4e\n",
    "frame2[frame2['weight']>=60]"
   ],
   "metadata": {
    "collapsed": false,
    "pycharm": {
     "name": "#%%\n"
    }
   }
  },
  {
   "cell_type": "code",
   "execution_count": 22,
   "outputs": [
    {
     "data": {
      "text/plain": "   age  weight  temp  length        BMI\n0   15      54  36.5     160  21.093750\n1   19      68  37.1     175  22.204082\n2   11      41  36.4     162  15.622619\n3   17      59  37.2     169  20.657540\n4   19      65  36.9     179  20.286508",
      "text/html": "<div>\n<style scoped>\n    .dataframe tbody tr th:only-of-type {\n        vertical-align: middle;\n    }\n\n    .dataframe tbody tr th {\n        vertical-align: top;\n    }\n\n    .dataframe thead th {\n        text-align: right;\n    }\n</style>\n<table border=\"1\" class=\"dataframe\">\n  <thead>\n    <tr style=\"text-align: right;\">\n      <th></th>\n      <th>age</th>\n      <th>weight</th>\n      <th>temp</th>\n      <th>length</th>\n      <th>BMI</th>\n    </tr>\n  </thead>\n  <tbody>\n    <tr>\n      <th>0</th>\n      <td>15</td>\n      <td>54</td>\n      <td>36.5</td>\n      <td>160</td>\n      <td>21.093750</td>\n    </tr>\n    <tr>\n      <th>1</th>\n      <td>19</td>\n      <td>68</td>\n      <td>37.1</td>\n      <td>175</td>\n      <td>22.204082</td>\n    </tr>\n    <tr>\n      <th>2</th>\n      <td>11</td>\n      <td>41</td>\n      <td>36.4</td>\n      <td>162</td>\n      <td>15.622619</td>\n    </tr>\n    <tr>\n      <th>3</th>\n      <td>17</td>\n      <td>59</td>\n      <td>37.2</td>\n      <td>169</td>\n      <td>20.657540</td>\n    </tr>\n    <tr>\n      <th>4</th>\n      <td>19</td>\n      <td>65</td>\n      <td>36.9</td>\n      <td>179</td>\n      <td>20.286508</td>\n    </tr>\n  </tbody>\n</table>\n</div>"
     },
     "execution_count": 22,
     "metadata": {},
     "output_type": "execute_result"
    }
   ],
   "source": [
    "q4f = [19 if x>=18 else x for x in frame2['age']]\n",
    "frame2['age']=q4f\n",
    "frame2"
   ],
   "metadata": {
    "collapsed": false,
    "pycharm": {
     "name": "#%%\n"
    }
   }
  },
  {
   "cell_type": "code",
   "execution_count": null,
   "outputs": [],
   "source": [
    "to_change = frame[frame['age']>=18].loc['age']\n",
    "q4f2 = frame.replace(to_replace=to_change,value=19)\n",
    "q4f2"
   ],
   "metadata": {
    "collapsed": false,
    "pycharm": {
     "name": "#%%\n",
     "is_executing": true
    }
   }
  },
  {
   "cell_type": "code",
   "execution_count": null,
   "outputs": [],
   "source": [],
   "metadata": {
    "collapsed": false,
    "pycharm": {
     "name": "#%%\n"
    }
   }
  }
 ],
 "metadata": {
  "kernelspec": {
   "display_name": "Python 3",
   "language": "python",
   "name": "python3"
  },
  "language_info": {
   "codemirror_mode": {
    "name": "ipython",
    "version": 2
   },
   "file_extension": ".py",
   "mimetype": "text/x-python",
   "name": "python",
   "nbconvert_exporter": "python",
   "pygments_lexer": "ipython2",
   "version": "2.7.6"
  }
 },
 "nbformat": 4,
 "nbformat_minor": 0
}